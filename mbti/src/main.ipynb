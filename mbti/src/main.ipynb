{
 "cells": [
  {
   "cell_type": "code",
   "execution_count": 1,
   "metadata": {},
   "outputs": [],
   "source": [
    "import pandas as pd\n",
    "import gensim\n",
    "import gensim.corpora as corpora\n",
    "from gensim.utils import simple_preprocess\n",
    "import numpy as np\n",
    "import re\n",
    "import neattext as nt\n",
    "import neattext.functions as nfx\n",
    "from neattext.explainer import emoji_explainer\n",
    "import nltk\n",
    "from nltk.corpus import stopwords\n",
    "from nltk.tokenize import word_tokenize\n",
    "from nltk.stem import PorterStemmer\n",
    "from string import punctuation\n",
    "# I guess i need to plot for presentation in case.\n",
    "import plotly.express as px\n",
    "from pprint import pprint\n",
    "import pyLDAvis.gensim\n",
    "import pyLDAvis\n",
    "import os\n",
    "from scipy.cluster.hierarchy import dendrogram\n",
    "from sklearn.cluster import AgglomerativeClustering\n",
    "from sklearn.decomposition import PCA\n",
    "from sklearn.decomposition import TruncatedSVD\n",
    "import matplotlib.pyplot as mplt\n"
   ]
  },
  {
   "cell_type": "code",
   "execution_count": 2,
   "metadata": {},
   "outputs": [
    {
     "data": {
      "text/html": [
       "<div>\n",
       "<style scoped>\n",
       "    .dataframe tbody tr th:only-of-type {\n",
       "        vertical-align: middle;\n",
       "    }\n",
       "\n",
       "    .dataframe tbody tr th {\n",
       "        vertical-align: top;\n",
       "    }\n",
       "\n",
       "    .dataframe thead th {\n",
       "        text-align: right;\n",
       "    }\n",
       "</style>\n",
       "<table border=\"1\" class=\"dataframe\">\n",
       "  <thead>\n",
       "    <tr style=\"text-align: right;\">\n",
       "      <th></th>\n",
       "      <th>type</th>\n",
       "      <th>posts</th>\n",
       "    </tr>\n",
       "  </thead>\n",
       "  <tbody>\n",
       "    <tr>\n",
       "      <th>0</th>\n",
       "      <td>INFJ</td>\n",
       "      <td>'😂😂😂😂 http://www.youtube.com/watch?v=qsXHcwe3k...</td>\n",
       "    </tr>\n",
       "    <tr>\n",
       "      <th>1</th>\n",
       "      <td>ENTP</td>\n",
       "      <td>'I'm finding the lack of me in these posts ver...</td>\n",
       "    </tr>\n",
       "    <tr>\n",
       "      <th>2</th>\n",
       "      <td>INTP</td>\n",
       "      <td>'Good one  _____   https://www.youtube.com/wat...</td>\n",
       "    </tr>\n",
       "    <tr>\n",
       "      <th>3</th>\n",
       "      <td>INTJ</td>\n",
       "      <td>'Dear INTP,   I enjoyed our conversation the o...</td>\n",
       "    </tr>\n",
       "    <tr>\n",
       "      <th>4</th>\n",
       "      <td>ENTJ</td>\n",
       "      <td>'You're fired.|||That's another silly misconce...</td>\n",
       "    </tr>\n",
       "  </tbody>\n",
       "</table>\n",
       "</div>"
      ],
      "text/plain": [
       "   type                                              posts\n",
       "0  INFJ  '😂😂😂😂 http://www.youtube.com/watch?v=qsXHcwe3k...\n",
       "1  ENTP  'I'm finding the lack of me in these posts ver...\n",
       "2  INTP  'Good one  _____   https://www.youtube.com/wat...\n",
       "3  INTJ  'Dear INTP,   I enjoyed our conversation the o...\n",
       "4  ENTJ  'You're fired.|||That's another silly misconce..."
      ]
     },
     "execution_count": 2,
     "metadata": {},
     "output_type": "execute_result"
    }
   ],
   "source": [
    "# Downloaded dataset from Kaggle https://www.kaggle.com/datasets/datasnaek/mbti-type\n",
    "df = pd.read_csv('..\\\\data\\\\data\\\\mbti_1.csv')\n",
    "df.head()"
   ]
  },
  {
   "cell_type": "code",
   "execution_count": 3,
   "metadata": {},
   "outputs": [
    {
     "name": "stdout",
     "output_type": "stream",
     "text": [
      "<class 'pandas.core.frame.DataFrame'>\n",
      "RangeIndex: 8675 entries, 0 to 8674\n",
      "Data columns (total 2 columns):\n",
      " #   Column  Non-Null Count  Dtype \n",
      "---  ------  --------------  ----- \n",
      " 0   type    8675 non-null   object\n",
      " 1   posts   8675 non-null   object\n",
      "dtypes: object(2)\n",
      "memory usage: 135.7+ KB\n"
     ]
    }
   ],
   "source": [
    "#drop all the na data. not gonna bother check.\n",
    "df.dropna(inplace=True)\n",
    "df.info()"
   ]
  },
  {
   "cell_type": "code",
   "execution_count": 4,
   "metadata": {},
   "outputs": [
    {
     "name": "stdout",
     "output_type": "stream",
     "text": [
      "['INFJ' 'ENTP' 'INTP' 'INTJ' 'ENTJ' 'ENFJ' 'INFP' 'ENFP' 'ISFP' 'ISTP'\n",
      " 'ISFJ' 'ISTJ' 'ESTP' 'ESFP' 'ESTJ' 'ESFJ']\n",
      "16\n"
     ]
    }
   ],
   "source": [
    "# Check if all MBTI types are present . 4 *4 so must be total of 16\n",
    "types = df['type'].unique()\n",
    "print(types)\n",
    "print(len(types))"
   ]
  },
  {
   "cell_type": "code",
   "execution_count": 5,
   "metadata": {},
   "outputs": [
    {
     "name": "stdout",
     "output_type": "stream",
     "text": [
      "type\n",
      "INFP    1832\n",
      "INFJ    1470\n",
      "INTP    1304\n",
      "INTJ    1091\n",
      "ENTP     685\n",
      "ENFP     675\n",
      "ISTP     337\n",
      "ISFP     271\n",
      "ENTJ     231\n",
      "ISTJ     205\n",
      "ENFJ     190\n",
      "ISFJ     166\n",
      "ESTP      89\n",
      "ESFP      48\n",
      "ESFJ      42\n",
      "ESTJ      39\n",
      "Name: count, dtype: int64\n"
     ]
    }
   ],
   "source": [
    "# Check the distribution of the MBTI types in the dataset\n",
    "print(df['type'].value_counts())\n",
    "#plot the distribution of the MBTI types in the dataset\n",
    "fig = px.bar(df['type'].value_counts(), title='Distribution of MBTI types in the dataset')"
   ]
  },
  {
   "cell_type": "code",
   "execution_count": 6,
   "metadata": {},
   "outputs": [
    {
     "data": {
      "application/vnd.plotly.v1+json": {
       "config": {
        "plotlyServerURL": "https://plot.ly"
       },
       "data": [
        {
         "alignmentgroup": "True",
         "hovertemplate": "variable=count<br>type=%{x}<br>value=%{y}<extra></extra>",
         "legendgroup": "count",
         "marker": {
          "color": "#636efa",
          "pattern": {
           "shape": ""
          }
         },
         "name": "count",
         "offsetgroup": "count",
         "orientation": "v",
         "showlegend": true,
         "textposition": "auto",
         "type": "bar",
         "x": [
          "INFP",
          "INFJ",
          "INTP",
          "INTJ",
          "ENTP",
          "ENFP",
          "ISTP",
          "ISFP",
          "ENTJ",
          "ISTJ",
          "ENFJ",
          "ISFJ",
          "ESTP",
          "ESFP",
          "ESFJ",
          "ESTJ"
         ],
         "xaxis": "x",
         "y": [
          1832,
          1470,
          1304,
          1091,
          685,
          675,
          337,
          271,
          231,
          205,
          190,
          166,
          89,
          48,
          42,
          39
         ],
         "yaxis": "y"
        }
       ],
       "layout": {
        "barmode": "relative",
        "legend": {
         "title": {
          "text": "variable"
         },
         "tracegroupgap": 0
        },
        "template": {
         "data": {
          "bar": [
           {
            "error_x": {
             "color": "#2a3f5f"
            },
            "error_y": {
             "color": "#2a3f5f"
            },
            "marker": {
             "line": {
              "color": "#E5ECF6",
              "width": 0.5
             },
             "pattern": {
              "fillmode": "overlay",
              "size": 10,
              "solidity": 0.2
             }
            },
            "type": "bar"
           }
          ],
          "barpolar": [
           {
            "marker": {
             "line": {
              "color": "#E5ECF6",
              "width": 0.5
             },
             "pattern": {
              "fillmode": "overlay",
              "size": 10,
              "solidity": 0.2
             }
            },
            "type": "barpolar"
           }
          ],
          "carpet": [
           {
            "aaxis": {
             "endlinecolor": "#2a3f5f",
             "gridcolor": "white",
             "linecolor": "white",
             "minorgridcolor": "white",
             "startlinecolor": "#2a3f5f"
            },
            "baxis": {
             "endlinecolor": "#2a3f5f",
             "gridcolor": "white",
             "linecolor": "white",
             "minorgridcolor": "white",
             "startlinecolor": "#2a3f5f"
            },
            "type": "carpet"
           }
          ],
          "choropleth": [
           {
            "colorbar": {
             "outlinewidth": 0,
             "ticks": ""
            },
            "type": "choropleth"
           }
          ],
          "contour": [
           {
            "colorbar": {
             "outlinewidth": 0,
             "ticks": ""
            },
            "colorscale": [
             [
              0,
              "#0d0887"
             ],
             [
              0.1111111111111111,
              "#46039f"
             ],
             [
              0.2222222222222222,
              "#7201a8"
             ],
             [
              0.3333333333333333,
              "#9c179e"
             ],
             [
              0.4444444444444444,
              "#bd3786"
             ],
             [
              0.5555555555555556,
              "#d8576b"
             ],
             [
              0.6666666666666666,
              "#ed7953"
             ],
             [
              0.7777777777777778,
              "#fb9f3a"
             ],
             [
              0.8888888888888888,
              "#fdca26"
             ],
             [
              1,
              "#f0f921"
             ]
            ],
            "type": "contour"
           }
          ],
          "contourcarpet": [
           {
            "colorbar": {
             "outlinewidth": 0,
             "ticks": ""
            },
            "type": "contourcarpet"
           }
          ],
          "heatmap": [
           {
            "colorbar": {
             "outlinewidth": 0,
             "ticks": ""
            },
            "colorscale": [
             [
              0,
              "#0d0887"
             ],
             [
              0.1111111111111111,
              "#46039f"
             ],
             [
              0.2222222222222222,
              "#7201a8"
             ],
             [
              0.3333333333333333,
              "#9c179e"
             ],
             [
              0.4444444444444444,
              "#bd3786"
             ],
             [
              0.5555555555555556,
              "#d8576b"
             ],
             [
              0.6666666666666666,
              "#ed7953"
             ],
             [
              0.7777777777777778,
              "#fb9f3a"
             ],
             [
              0.8888888888888888,
              "#fdca26"
             ],
             [
              1,
              "#f0f921"
             ]
            ],
            "type": "heatmap"
           }
          ],
          "heatmapgl": [
           {
            "colorbar": {
             "outlinewidth": 0,
             "ticks": ""
            },
            "colorscale": [
             [
              0,
              "#0d0887"
             ],
             [
              0.1111111111111111,
              "#46039f"
             ],
             [
              0.2222222222222222,
              "#7201a8"
             ],
             [
              0.3333333333333333,
              "#9c179e"
             ],
             [
              0.4444444444444444,
              "#bd3786"
             ],
             [
              0.5555555555555556,
              "#d8576b"
             ],
             [
              0.6666666666666666,
              "#ed7953"
             ],
             [
              0.7777777777777778,
              "#fb9f3a"
             ],
             [
              0.8888888888888888,
              "#fdca26"
             ],
             [
              1,
              "#f0f921"
             ]
            ],
            "type": "heatmapgl"
           }
          ],
          "histogram": [
           {
            "marker": {
             "pattern": {
              "fillmode": "overlay",
              "size": 10,
              "solidity": 0.2
             }
            },
            "type": "histogram"
           }
          ],
          "histogram2d": [
           {
            "colorbar": {
             "outlinewidth": 0,
             "ticks": ""
            },
            "colorscale": [
             [
              0,
              "#0d0887"
             ],
             [
              0.1111111111111111,
              "#46039f"
             ],
             [
              0.2222222222222222,
              "#7201a8"
             ],
             [
              0.3333333333333333,
              "#9c179e"
             ],
             [
              0.4444444444444444,
              "#bd3786"
             ],
             [
              0.5555555555555556,
              "#d8576b"
             ],
             [
              0.6666666666666666,
              "#ed7953"
             ],
             [
              0.7777777777777778,
              "#fb9f3a"
             ],
             [
              0.8888888888888888,
              "#fdca26"
             ],
             [
              1,
              "#f0f921"
             ]
            ],
            "type": "histogram2d"
           }
          ],
          "histogram2dcontour": [
           {
            "colorbar": {
             "outlinewidth": 0,
             "ticks": ""
            },
            "colorscale": [
             [
              0,
              "#0d0887"
             ],
             [
              0.1111111111111111,
              "#46039f"
             ],
             [
              0.2222222222222222,
              "#7201a8"
             ],
             [
              0.3333333333333333,
              "#9c179e"
             ],
             [
              0.4444444444444444,
              "#bd3786"
             ],
             [
              0.5555555555555556,
              "#d8576b"
             ],
             [
              0.6666666666666666,
              "#ed7953"
             ],
             [
              0.7777777777777778,
              "#fb9f3a"
             ],
             [
              0.8888888888888888,
              "#fdca26"
             ],
             [
              1,
              "#f0f921"
             ]
            ],
            "type": "histogram2dcontour"
           }
          ],
          "mesh3d": [
           {
            "colorbar": {
             "outlinewidth": 0,
             "ticks": ""
            },
            "type": "mesh3d"
           }
          ],
          "parcoords": [
           {
            "line": {
             "colorbar": {
              "outlinewidth": 0,
              "ticks": ""
             }
            },
            "type": "parcoords"
           }
          ],
          "pie": [
           {
            "automargin": true,
            "type": "pie"
           }
          ],
          "scatter": [
           {
            "fillpattern": {
             "fillmode": "overlay",
             "size": 10,
             "solidity": 0.2
            },
            "type": "scatter"
           }
          ],
          "scatter3d": [
           {
            "line": {
             "colorbar": {
              "outlinewidth": 0,
              "ticks": ""
             }
            },
            "marker": {
             "colorbar": {
              "outlinewidth": 0,
              "ticks": ""
             }
            },
            "type": "scatter3d"
           }
          ],
          "scattercarpet": [
           {
            "marker": {
             "colorbar": {
              "outlinewidth": 0,
              "ticks": ""
             }
            },
            "type": "scattercarpet"
           }
          ],
          "scattergeo": [
           {
            "marker": {
             "colorbar": {
              "outlinewidth": 0,
              "ticks": ""
             }
            },
            "type": "scattergeo"
           }
          ],
          "scattergl": [
           {
            "marker": {
             "colorbar": {
              "outlinewidth": 0,
              "ticks": ""
             }
            },
            "type": "scattergl"
           }
          ],
          "scattermapbox": [
           {
            "marker": {
             "colorbar": {
              "outlinewidth": 0,
              "ticks": ""
             }
            },
            "type": "scattermapbox"
           }
          ],
          "scatterpolar": [
           {
            "marker": {
             "colorbar": {
              "outlinewidth": 0,
              "ticks": ""
             }
            },
            "type": "scatterpolar"
           }
          ],
          "scatterpolargl": [
           {
            "marker": {
             "colorbar": {
              "outlinewidth": 0,
              "ticks": ""
             }
            },
            "type": "scatterpolargl"
           }
          ],
          "scatterternary": [
           {
            "marker": {
             "colorbar": {
              "outlinewidth": 0,
              "ticks": ""
             }
            },
            "type": "scatterternary"
           }
          ],
          "surface": [
           {
            "colorbar": {
             "outlinewidth": 0,
             "ticks": ""
            },
            "colorscale": [
             [
              0,
              "#0d0887"
             ],
             [
              0.1111111111111111,
              "#46039f"
             ],
             [
              0.2222222222222222,
              "#7201a8"
             ],
             [
              0.3333333333333333,
              "#9c179e"
             ],
             [
              0.4444444444444444,
              "#bd3786"
             ],
             [
              0.5555555555555556,
              "#d8576b"
             ],
             [
              0.6666666666666666,
              "#ed7953"
             ],
             [
              0.7777777777777778,
              "#fb9f3a"
             ],
             [
              0.8888888888888888,
              "#fdca26"
             ],
             [
              1,
              "#f0f921"
             ]
            ],
            "type": "surface"
           }
          ],
          "table": [
           {
            "cells": {
             "fill": {
              "color": "#EBF0F8"
             },
             "line": {
              "color": "white"
             }
            },
            "header": {
             "fill": {
              "color": "#C8D4E3"
             },
             "line": {
              "color": "white"
             }
            },
            "type": "table"
           }
          ]
         },
         "layout": {
          "annotationdefaults": {
           "arrowcolor": "#2a3f5f",
           "arrowhead": 0,
           "arrowwidth": 1
          },
          "autotypenumbers": "strict",
          "coloraxis": {
           "colorbar": {
            "outlinewidth": 0,
            "ticks": ""
           }
          },
          "colorscale": {
           "diverging": [
            [
             0,
             "#8e0152"
            ],
            [
             0.1,
             "#c51b7d"
            ],
            [
             0.2,
             "#de77ae"
            ],
            [
             0.3,
             "#f1b6da"
            ],
            [
             0.4,
             "#fde0ef"
            ],
            [
             0.5,
             "#f7f7f7"
            ],
            [
             0.6,
             "#e6f5d0"
            ],
            [
             0.7,
             "#b8e186"
            ],
            [
             0.8,
             "#7fbc41"
            ],
            [
             0.9,
             "#4d9221"
            ],
            [
             1,
             "#276419"
            ]
           ],
           "sequential": [
            [
             0,
             "#0d0887"
            ],
            [
             0.1111111111111111,
             "#46039f"
            ],
            [
             0.2222222222222222,
             "#7201a8"
            ],
            [
             0.3333333333333333,
             "#9c179e"
            ],
            [
             0.4444444444444444,
             "#bd3786"
            ],
            [
             0.5555555555555556,
             "#d8576b"
            ],
            [
             0.6666666666666666,
             "#ed7953"
            ],
            [
             0.7777777777777778,
             "#fb9f3a"
            ],
            [
             0.8888888888888888,
             "#fdca26"
            ],
            [
             1,
             "#f0f921"
            ]
           ],
           "sequentialminus": [
            [
             0,
             "#0d0887"
            ],
            [
             0.1111111111111111,
             "#46039f"
            ],
            [
             0.2222222222222222,
             "#7201a8"
            ],
            [
             0.3333333333333333,
             "#9c179e"
            ],
            [
             0.4444444444444444,
             "#bd3786"
            ],
            [
             0.5555555555555556,
             "#d8576b"
            ],
            [
             0.6666666666666666,
             "#ed7953"
            ],
            [
             0.7777777777777778,
             "#fb9f3a"
            ],
            [
             0.8888888888888888,
             "#fdca26"
            ],
            [
             1,
             "#f0f921"
            ]
           ]
          },
          "colorway": [
           "#636efa",
           "#EF553B",
           "#00cc96",
           "#ab63fa",
           "#FFA15A",
           "#19d3f3",
           "#FF6692",
           "#B6E880",
           "#FF97FF",
           "#FECB52"
          ],
          "font": {
           "color": "#2a3f5f"
          },
          "geo": {
           "bgcolor": "white",
           "lakecolor": "white",
           "landcolor": "#E5ECF6",
           "showlakes": true,
           "showland": true,
           "subunitcolor": "white"
          },
          "hoverlabel": {
           "align": "left"
          },
          "hovermode": "closest",
          "mapbox": {
           "style": "light"
          },
          "paper_bgcolor": "white",
          "plot_bgcolor": "#E5ECF6",
          "polar": {
           "angularaxis": {
            "gridcolor": "white",
            "linecolor": "white",
            "ticks": ""
           },
           "bgcolor": "#E5ECF6",
           "radialaxis": {
            "gridcolor": "white",
            "linecolor": "white",
            "ticks": ""
           }
          },
          "scene": {
           "xaxis": {
            "backgroundcolor": "#E5ECF6",
            "gridcolor": "white",
            "gridwidth": 2,
            "linecolor": "white",
            "showbackground": true,
            "ticks": "",
            "zerolinecolor": "white"
           },
           "yaxis": {
            "backgroundcolor": "#E5ECF6",
            "gridcolor": "white",
            "gridwidth": 2,
            "linecolor": "white",
            "showbackground": true,
            "ticks": "",
            "zerolinecolor": "white"
           },
           "zaxis": {
            "backgroundcolor": "#E5ECF6",
            "gridcolor": "white",
            "gridwidth": 2,
            "linecolor": "white",
            "showbackground": true,
            "ticks": "",
            "zerolinecolor": "white"
           }
          },
          "shapedefaults": {
           "line": {
            "color": "#2a3f5f"
           }
          },
          "ternary": {
           "aaxis": {
            "gridcolor": "white",
            "linecolor": "white",
            "ticks": ""
           },
           "baxis": {
            "gridcolor": "white",
            "linecolor": "white",
            "ticks": ""
           },
           "bgcolor": "#E5ECF6",
           "caxis": {
            "gridcolor": "white",
            "linecolor": "white",
            "ticks": ""
           }
          },
          "title": {
           "x": 0.05
          },
          "xaxis": {
           "automargin": true,
           "gridcolor": "white",
           "linecolor": "white",
           "ticks": "",
           "title": {
            "standoff": 15
           },
           "zerolinecolor": "white",
           "zerolinewidth": 2
          },
          "yaxis": {
           "automargin": true,
           "gridcolor": "white",
           "linecolor": "white",
           "ticks": "",
           "title": {
            "standoff": 15
           },
           "zerolinecolor": "white",
           "zerolinewidth": 2
          }
         }
        },
        "title": {
         "text": "Distribution of MBTI types in the dataset"
        },
        "xaxis": {
         "anchor": "y",
         "domain": [
          0,
          1
         ],
         "title": {
          "text": "type"
         }
        },
        "yaxis": {
         "anchor": "x",
         "domain": [
          0,
          1
         ],
         "title": {
          "text": "value"
         }
        }
       }
      }
     },
     "metadata": {},
     "output_type": "display_data"
    }
   ],
   "source": [
    "fig"
   ]
  },
  {
   "cell_type": "markdown",
   "metadata": {},
   "source": [
    "Looks like INFP is more prominent in dataset. Anyway, clean the dataset"
   ]
  },
  {
   "cell_type": "code",
   "execution_count": 7,
   "metadata": {},
   "outputs": [
    {
     "name": "stdout",
     "output_type": "stream",
     "text": [
      "['i', 'me', 'my', 'myself', 'we', 'our', 'ours', 'ourselves', 'you', \"you're\", \"you've\", \"you'll\", \"you'd\", 'your', 'yours', 'yourself', 'yourselves', 'he', 'him', 'his', 'himself', 'she', \"she's\", 'her', 'hers', 'herself', 'it', \"it's\", 'its', 'itself', 'they', 'them', 'their', 'theirs', 'themselves', 'what', 'which', 'who', 'whom', 'this', 'that', \"that'll\", 'these', 'those', 'am', 'is', 'are', 'was', 'were', 'be', 'been', 'being', 'have', 'has', 'had', 'having', 'do', 'does', 'did', 'doing', 'a', 'an', 'the', 'and', 'but', 'if', 'or', 'because', 'as', 'until', 'while', 'of', 'at', 'by', 'for', 'with', 'about', 'against', 'between', 'into', 'through', 'during', 'before', 'after', 'above', 'below', 'to', 'from', 'up', 'down', 'in', 'out', 'on', 'off', 'over', 'under', 'again', 'further', 'then', 'once', 'here', 'there', 'when', 'where', 'why', 'how', 'all', 'any', 'both', 'each', 'few', 'more', 'most', 'other', 'some', 'such', 'no', 'nor', 'not', 'only', 'own', 'same', 'so', 'than', 'too', 'very', 's', 't', 'can', 'will', 'just', 'don', \"don't\", 'should', \"should've\", 'now', 'd', 'll', 'm', 'o', 're', 've', 'y', 'ain', 'aren', \"aren't\", 'couldn', \"couldn't\", 'didn', \"didn't\", 'doesn', \"doesn't\", 'hadn', \"hadn't\", 'hasn', \"hasn't\", 'haven', \"haven't\", 'isn', \"isn't\", 'ma', 'mightn', \"mightn't\", 'mustn', \"mustn't\", 'needn', \"needn't\", 'shan', \"shan't\", 'shouldn', \"shouldn't\", 'wasn', \"wasn't\", 'weren', \"weren't\", 'won', \"won't\", 'wouldn', \"wouldn't\", 'https', 'http', 'www']\n"
     ]
    }
   ],
   "source": [
    "stop_words = stopwords.words('english')\n",
    "stop_words.extend(['https','http','www'])\n",
    "lemmatizer = nltk.WordNetLemmatizer()  \n",
    "#Print the list of stopwords from nltk\n",
    "print(stop_words)"
   ]
  },
  {
   "cell_type": "code",
   "execution_count": 8,
   "metadata": {},
   "outputs": [],
   "source": [
    "#tokenize function to apply to dataframe\n",
    "def cleantext (text):\n",
    "    post = re.sub(r'\\|\\|\\|',' ', text, flags=re.MULTILINE)\n",
    "    post = gensim.utils.simple_preprocess(post, deacc=True)\n",
    "    #remove links first\n",
    "    post = re.sub(r'''http[s]?://(?:[a-zA-Z]|[0-9]|[$-_@.&+]|[!*\\\\(\\\\),]|(?:%[0-9a-fA-F][0-9a-fA-F]))+''', ' ', text, flags=re.MULTILINE)\n",
    "    # removew all the numbers only too since it is useless.\n",
    "    post = re.sub(r'''[0-9]+''', ' ', post, flags=re.MULTILINE)\n",
    "    \n",
    "    # remove all the punctuations\n",
    "    post = re.sub(r'[^\\w\\s]',' ', post, flags=re.MULTILINE)\n",
    "    # remove all the extra spaces\n",
    "    post = re.sub(r'\\s+',' ', post, flags=re.MULTILINE)\n",
    "    # remove all the special characters \n",
    "    post = re.sub(r'[^\\x00-\\x7F]+',' ', post, flags=re.MULTILINE)\n",
    "    # kaggle datasource says (Each entry separated by \"|||\" (3 pipe characters)) so we just remove it and process full chunk of text.\n",
    "    # Maybe in advance, will have to consider processing each entry separately.\n",
    "    # check if text contains emoji, if yes replace the emoji with the description\n",
    "    \n",
    "    \n",
    "    #List of Emojis\n",
    "    emoji_list = dict(zip(nt.explainer.__EMOJI_TO_NAME_DICT.values(), nt.explainer.__EMOJI_TO_NAME_DICT.keys()))\n",
    "    for cr in post:\n",
    "        if cr in emoji_list.keys():\n",
    "            post = post.replace(cr, emoji_explainer(cr)+\" \")\n",
    "    # Lowercase the text\n",
    "    \n",
    "    post = post.lower()\n",
    "    \n",
    "    # Looking at Noise in the text Before cleaning\n",
    "    # nt_text = nt.TextFrame(post)\n",
    "    # print(\"Before - {}\".format(  nt_text.noise_scan()))\n",
    "    \n",
    "    #Whatever left, trust the library and clean it 😂😂😂 and hope for the best for nows.\n",
    "    #tokenize the text\n",
    "    \n",
    "    # Looking at Noise in the text After cleaning\n",
    "    # nt_text = nt.TextFrame(post)\n",
    "    # print(\"After - {}\".format(  nt_text.noise_scan()))\n",
    "    \n",
    "    return post \n",
    "    \n",
    "def tokenize_and_lemmatize_and_remove_stopwords(text):\n",
    "    post = word_tokenize(text)\n",
    "    #remove stopwords\n",
    "    return [lemmatizer.lemmatize(p) for p in post if p not in stop_words]"
   ]
  },
  {
   "cell_type": "code",
   "execution_count": 9,
   "metadata": {},
   "outputs": [
    {
     "name": "stdout",
     "output_type": "stream",
     "text": [
      "'😂😂😂😂 http://www.youtube.com/watch?v=qsXHcwe3krw|||http://41.media.tumblr.com/tumblr_lfouy03PMA1qa1rooo1_500.jpg|||enfp and intj moments  https://www.youtube.com/watch?v=iz7lE1g4XM4  sportscenter not top ten plays  https://www.youtube.com/watch?v=uCdfze1etec  pranks|||What has been the most life-changing experience in your life?|||http://www.youtube.com/watch?v=vXZeYwwRDw8   http://www.youtube.com/watch?v=u8ejam5DP3E  On repeat for most of today.|||May the PerC Experience immerse you.|||The last thing my INFJ friend posted on his facebook before committing suicide the next day. Rest in peace~   http://vimeo.com/22842206|||Hello ENFJ7. Sorry to hear of your distress. It's only natural for a relationship to not be perfection all the time in every moment of existence. Try to figure the hard times as times of growth, as...|||84389  84390  http://wallpaperpassion.com/upload/23700/friendship-boy-and-girl-wallpaper.jpg  http://assets.dornob.com/wp-content/uploads/2010/04/round-home-design.jpg ...|||Welcome and stuff.|||http://playeressence.com/wp-content/uploads/2013/08/RED-red-the-pokemon-master-32560474-450-338.jpg  Game. Set. Match.|||Prozac, wellbrutin, at least thirty minutes of moving your legs (and I don't mean moving them while sitting in your same desk chair), weed in moderation (maybe try edibles as a healthier alternative...|||Basically come up with three items you've determined that each type (or whichever types you want to do) would more than likely use, given each types' cognitive functions and whatnot, when left by...|||All things in moderation.  Sims is indeed a video game, and a good one at that. Note: a good one at that is somewhat subjective in that I am not completely promoting the death of any given Sim...|||Dear ENFP:  What were your favorite video games growing up and what are your now, current favorite video games? :cool:|||https://www.youtube.com/watch?v=QyPqT8umzmY|||It appears to be too late. :sad:|||There's someone out there for everyone.|||Wait... I thought confidence was a good thing.|||I just cherish the time of solitude b/c i revel within my inner world more whereas most other time i'd be workin... just enjoy the me time while you can. Don't worry, people will always be around to...|||Yo entp ladies... if you're into a complimentary personality,well, hey.|||... when your main social outlet is xbox live conversations and even then you verbally fatigue quickly.|||http://www.youtube.com/watch?v=gDhy7rdfm14  I really dig the part from 1:46 to 2:50|||http://www.youtube.com/watch?v=msqXffgh7b8|||Banned because this thread requires it of me.|||Get high in backyard, roast and eat marshmellows in backyard while conversing over something intellectual, followed by massages and kisses.|||http://www.youtube.com/watch?v=Mw7eoU3BMbE|||http://www.youtube.com/watch?v=4V2uYORhQOk|||http://www.youtube.com/watch?v=SlVmgFQQ0TI|||Banned for too many b's in that sentence. How could you! Think of the B!|||Banned for watching movies in the corner with the dunces.|||Banned because Health class clearly taught you nothing about peer pressure.|||Banned for a whole host of reasons!|||http://www.youtube.com/watch?v=IRcrv41hgz4|||1) Two baby deer on left and right munching on a beetle in the middle.  2) Using their own blood, two cavemen diary today's latest happenings on their designated cave diary wall.  3) I see it as...|||a pokemon world  an infj society  everyone becomes an optimist|||49142|||http://www.youtube.com/watch?v=ZRCEq_JFeFM|||http://discovermagazine.com/2012/jul-aug/20-things-you-didnt-know-about-deserts/desert.jpg|||http://oyster.ignimgs.com/mediawiki/apis.ign.com/pokemon-silver-version/d/dd/Ditto.gif|||http://www.serebii.net/potw-dp/Scizor.jpg|||Not all artists are artists because they draw. It's the idea that counts in forming something of your own... like a signature.|||Welcome to the robot ranks, person who downed my self-esteem cuz I'm not an avid signature artist like herself. :proud:|||Banned for taking all the room under my bed. Ya gotta learn to share with the roaches.|||http://www.youtube.com/watch?v=w8IgImn57aQ|||Banned for being too much of a thundering, grumbling kind of storm... yep.|||Ahh... old high school music I haven't heard in ages.   http://www.youtube.com/watch?v=dcCRUPCdB1w|||I failed a public speaking class a few years ago and I've sort of learned what I could do better were I to be in that position again. A big part of my failure was just overloading myself with too...|||I like this person's mentality. He's a confirmed INTJ by the way. http://www.youtube.com/watch?v=hGKLI-GEc6M|||Move to the Denver area and start a new life for myself.'\n",
      " enfp and intj moments sportscenter not top ten plays pranks what has been the most life changing experience in your life on repeat for most of today may the perc experience immerse you the last thing my infj friend posted on his facebook before committing suicide the next day rest in peace hello enfj sorry to hear of your distress it s only natural for a relationship to not be perfection all the time in every moment of existence try to figure the hard times as times of growth as welcome and stuff game set match prozac wellbrutin at least thirty minutes of moving your legs and i don t mean moving them while sitting in your same desk chair weed in moderation maybe try edibles as a healthier alternative basically come up with three items you ve determined that each type or whichever types you want to do would more than likely use given each types cognitive functions and whatnot when left by all things in moderation sims is indeed a video game and a good one at that note a good one at that is somewhat subjective in that i am not completely promoting the death of any given sim dear enfp what were your favorite video games growing up and what are your now current favorite video games cool it appears to be too late sad there s someone out there for everyone wait i thought confidence was a good thing i just cherish the time of solitude b c i revel within my inner world more whereas most other time i d be workin just enjoy the me time while you can don t worry people will always be around to yo entp ladies if you re into a complimentary personality well hey when your main social outlet is xbox live conversations and even then you verbally fatigue quickly i really dig the part from to banned because this thread requires it of me get high in backyard roast and eat marshmellows in backyard while conversing over something intellectual followed by massages and kisses banned for too many b s in that sentence how could you think of the b banned for watching movies in the corner with the dunces banned because health class clearly taught you nothing about peer pressure banned for a whole host of reasons two baby deer on left and right munching on a beetle in the middle using their own blood two cavemen diary today s latest happenings on their designated cave diary wall i see it as a pokemon world an infj society everyone becomes an optimist not all artists are artists because they draw it s the idea that counts in forming something of your own like a signature welcome to the robot ranks person who downed my self esteem cuz i m not an avid signature artist like herself proud banned for taking all the room under my bed ya gotta learn to share with the roaches banned for being too much of a thundering grumbling kind of storm yep ahh old high school music i haven t heard in ages i failed a public speaking class a few years ago and i ve sort of learned what i could do better were i to be in that position again a big part of my failure was just overloading myself with too i like this person s mentality he s a confirmed intj by the way move to the denver area and start a new life for myself \n",
      "['enfp', 'intj', 'moment', 'sportscenter', 'top', 'ten', 'play', 'prank', 'life', 'changing', 'experience', 'life', 'repeat', 'today', 'may', 'perc', 'experience', 'immerse', 'last', 'thing', 'infj', 'friend', 'posted', 'facebook', 'committing', 'suicide', 'next', 'day', 'rest', 'peace', 'hello', 'enfj', 'sorry', 'hear', 'distress', 'natural', 'relationship', 'perfection', 'time', 'every', 'moment', 'existence', 'try', 'figure', 'hard', 'time', 'time', 'growth', 'welcome', 'stuff', 'game', 'set', 'match', 'prozac', 'wellbrutin', 'least', 'thirty', 'minute', 'moving', 'leg', 'mean', 'moving', 'sitting', 'desk', 'chair', 'weed', 'moderation', 'maybe', 'try', 'edible', 'healthier', 'alternative', 'basically', 'come', 'three', 'item', 'determined', 'type', 'whichever', 'type', 'want', 'would', 'likely', 'use', 'given', 'type', 'cognitive', 'function', 'whatnot', 'left', 'thing', 'moderation', 'sims', 'indeed', 'video', 'game', 'good', 'one', 'note', 'good', 'one', 'somewhat', 'subjective', 'completely', 'promoting', 'death', 'given', 'sim', 'dear', 'enfp', 'favorite', 'video', 'game', 'growing', 'current', 'favorite', 'video', 'game', 'cool', 'appears', 'late', 'sad', 'someone', 'everyone', 'wait', 'thought', 'confidence', 'good', 'thing', 'cherish', 'time', 'solitude', 'b', 'c', 'revel', 'within', 'inner', 'world', 'whereas', 'time', 'workin', 'enjoy', 'time', 'worry', 'people', 'always', 'around', 'yo', 'entp', 'lady', 'complimentary', 'personality', 'well', 'hey', 'main', 'social', 'outlet', 'xbox', 'live', 'conversation', 'even', 'verbally', 'fatigue', 'quickly', 'really', 'dig', 'part', 'banned', 'thread', 'requires', 'get', 'high', 'backyard', 'roast', 'eat', 'marshmellows', 'backyard', 'conversing', 'something', 'intellectual', 'followed', 'massage', 'kiss', 'banned', 'many', 'b', 'sentence', 'could', 'think', 'b', 'banned', 'watching', 'movie', 'corner', 'dunce', 'banned', 'health', 'class', 'clearly', 'taught', 'nothing', 'peer', 'pressure', 'banned', 'whole', 'host', 'reason', 'two', 'baby', 'deer', 'left', 'right', 'munching', 'beetle', 'middle', 'using', 'blood', 'two', 'caveman', 'diary', 'today', 'latest', 'happening', 'designated', 'cave', 'diary', 'wall', 'see', 'pokemon', 'world', 'infj', 'society', 'everyone', 'becomes', 'optimist', 'artist', 'artist', 'draw', 'idea', 'count', 'forming', 'something', 'like', 'signature', 'welcome', 'robot', 'rank', 'person', 'downed', 'self', 'esteem', 'cuz', 'avid', 'signature', 'artist', 'like', 'proud', 'banned', 'taking', 'room', 'bed', 'ya', 'got', 'ta', 'learn', 'share', 'roach', 'banned', 'much', 'thundering', 'grumbling', 'kind', 'storm', 'yep', 'ahh', 'old', 'high', 'school', 'music', 'heard', 'age', 'failed', 'public', 'speaking', 'class', 'year', 'ago', 'sort', 'learned', 'could', 'better', 'position', 'big', 'part', 'failure', 'overloading', 'like', 'person', 'mentality', 'confirmed', 'intj', 'way', 'move', 'denver', 'area', 'start', 'new', 'life']\n"
     ]
    }
   ],
   "source": [
    "# testing tokenization re working or not.\n",
    "test = df['posts'][0]\n",
    "print(test)\n",
    "test = cleantext(test)\n",
    "print(test) \n",
    "test = tokenize_and_lemmatize_and_remove_stopwords(test)\n",
    "print(test)"
   ]
  },
  {
   "cell_type": "code",
   "execution_count": 10,
   "metadata": {},
   "outputs": [
    {
     "name": "stdout",
     "output_type": "stream",
     "text": [
      "0     enfp and intj moments sportscenter not top te...\n",
      "1     i m finding the lack of me in these posts ver...\n",
      "2     good one _____ of course to which i say i kno...\n",
      "3     dear intp i enjoyed our conversation the othe...\n",
      "4     you re fired that s another silly misconcepti...\n",
      "Name: clean_posts, dtype: object\n"
     ]
    }
   ],
   "source": [
    "df['clean_posts'] = df['posts'].apply(cleantext)\n",
    "print(df['clean_posts'].head())"
   ]
  },
  {
   "cell_type": "code",
   "execution_count": 11,
   "metadata": {},
   "outputs": [
    {
     "name": "stdout",
     "output_type": "stream",
     "text": [
      "0    [enfp, intj, moment, sportscenter, top, ten, p...\n",
      "1    [finding, lack, post, alarming, sex, boring, p...\n",
      "2    [good, one, _____, course, say, know, blessing...\n",
      "3    [dear, intp, enjoyed, conversation, day, esote...\n",
      "4    [fired, another, silly, misconception, approac...\n",
      "Name: tokens, dtype: object\n"
     ]
    }
   ],
   "source": [
    "df['tokens'] = df['clean_posts'].apply(tokenize_and_lemmatize_and_remove_stopwords)\n",
    "print(df['tokens'].head())"
   ]
  },
  {
   "cell_type": "code",
   "execution_count": 12,
   "metadata": {},
   "outputs": [
    {
     "data": {
      "text/plain": [
       "0    enfp intj moment sportscenter top ten play pra...\n",
       "1    finding lack post alarming sex boring position...\n",
       "2    good one _____ course say know blessing curse ...\n",
       "3    dear intp enjoyed conversation day esoteric ga...\n",
       "4    fired another silly misconception approaching ...\n",
       "Name: tokens, dtype: object"
      ]
     },
     "execution_count": 12,
     "metadata": {},
     "output_type": "execute_result"
    }
   ],
   "source": [
    "df_tokens = df['tokens'].apply(lambda x: ' '.join(x))\n",
    "df_tokens.head()"
   ]
  },
  {
   "cell_type": "code",
   "execution_count": 13,
   "metadata": {},
   "outputs": [],
   "source": [
    "#Sentiment analysis for the dataset using Vader\n",
    "# nltk.download('vader_lexicon')\n",
    "from nltk.sentiment.vader import SentimentIntensityAnalyzer\n",
    "sia = SentimentIntensityAnalyzer()\n",
    "\n",
    "def get_sentiment(text):\n",
    "    return sia.polarity_scores(text)\n",
    "\n",
    "df['sentiment'] = df_tokens.apply(get_sentiment)\n",
    "df = df.join(pd.DataFrame(df.pop('sentiment').values.tolist()))"
   ]
  },
  {
   "cell_type": "code",
   "execution_count": 14,
   "metadata": {},
   "outputs": [],
   "source": [
    "#Convert the MBTI types to binary\n",
    "# Extrovert Introvert\n",
    "# Sensing Intuition\n",
    "# Thinking Feeling\n",
    "# Judging Perceiving\n",
    "df['is_E'] = df['type'].apply(lambda x: 1 if x[0] == 'E' else 0)\n",
    "df['is_S'] = df['type'].apply(lambda x: 1 if x[1] == 'S' else 0)\n",
    "df['is_T'] = df['type'].apply(lambda x: 1 if x[2] == 'T' else 0)\n",
    "df['is_J'] = df['type'].apply(lambda x: 1 if x[3] == 'J' else 0)\n",
    "\n",
    "#Convert the MBTI types to binary individually in case needed.\n",
    "df['E'] = df['type'].apply(lambda x: 1 if x[0] == 'E' else 0)\n",
    "df['I'] = df['type'].apply(lambda x: 1 if x[0] == 'I' else 0)\n",
    "df['S'] = df['type'].apply(lambda x: 1 if x[1] == 'S' else 0)\n",
    "df['N'] = df['type'].apply(lambda x: 1 if x[1] == 'N' else 0)\n",
    "df['T'] = df['type'].apply(lambda x: 1 if x[2] == 'T' else 0)\n",
    "df['F'] = df['type'].apply(lambda x: 1 if x[2] == 'F' else 0)\n",
    "df['J'] = df['type'].apply(lambda x: 1 if x[3] == 'J' else 0)\n",
    "df['P'] = df['type'].apply(lambda x: 1 if x[3] == 'P' else 0)\n",
    "\n"
   ]
  },
  {
   "cell_type": "code",
   "execution_count": 15,
   "metadata": {},
   "outputs": [
    {
     "data": {
      "text/html": [
       "<div>\n",
       "<style scoped>\n",
       "    .dataframe tbody tr th:only-of-type {\n",
       "        vertical-align: middle;\n",
       "    }\n",
       "\n",
       "    .dataframe tbody tr th {\n",
       "        vertical-align: top;\n",
       "    }\n",
       "\n",
       "    .dataframe thead th {\n",
       "        text-align: right;\n",
       "    }\n",
       "</style>\n",
       "<table border=\"1\" class=\"dataframe\">\n",
       "  <thead>\n",
       "    <tr style=\"text-align: right;\">\n",
       "      <th></th>\n",
       "      <th>type</th>\n",
       "      <th>posts</th>\n",
       "      <th>clean_posts</th>\n",
       "      <th>tokens</th>\n",
       "      <th>neg</th>\n",
       "      <th>neu</th>\n",
       "      <th>pos</th>\n",
       "      <th>compound</th>\n",
       "      <th>is_E</th>\n",
       "      <th>is_S</th>\n",
       "      <th>is_T</th>\n",
       "      <th>is_J</th>\n",
       "      <th>E</th>\n",
       "      <th>I</th>\n",
       "      <th>S</th>\n",
       "      <th>N</th>\n",
       "      <th>T</th>\n",
       "      <th>F</th>\n",
       "      <th>J</th>\n",
       "      <th>P</th>\n",
       "    </tr>\n",
       "  </thead>\n",
       "  <tbody>\n",
       "    <tr>\n",
       "      <th>0</th>\n",
       "      <td>INFJ</td>\n",
       "      <td>'😂😂😂😂 http://www.youtube.com/watch?v=qsXHcwe3k...</td>\n",
       "      <td>enfp and intj moments sportscenter not top te...</td>\n",
       "      <td>[enfp, intj, moment, sportscenter, top, ten, p...</td>\n",
       "      <td>0.129</td>\n",
       "      <td>0.606</td>\n",
       "      <td>0.265</td>\n",
       "      <td>0.9924</td>\n",
       "      <td>0</td>\n",
       "      <td>0</td>\n",
       "      <td>0</td>\n",
       "      <td>1</td>\n",
       "      <td>0</td>\n",
       "      <td>1</td>\n",
       "      <td>0</td>\n",
       "      <td>1</td>\n",
       "      <td>0</td>\n",
       "      <td>1</td>\n",
       "      <td>1</td>\n",
       "      <td>0</td>\n",
       "    </tr>\n",
       "    <tr>\n",
       "      <th>1</th>\n",
       "      <td>ENTP</td>\n",
       "      <td>'I'm finding the lack of me in these posts ver...</td>\n",
       "      <td>i m finding the lack of me in these posts ver...</td>\n",
       "      <td>[finding, lack, post, alarming, sex, boring, p...</td>\n",
       "      <td>0.117</td>\n",
       "      <td>0.604</td>\n",
       "      <td>0.279</td>\n",
       "      <td>0.9987</td>\n",
       "      <td>1</td>\n",
       "      <td>0</td>\n",
       "      <td>1</td>\n",
       "      <td>0</td>\n",
       "      <td>1</td>\n",
       "      <td>0</td>\n",
       "      <td>0</td>\n",
       "      <td>1</td>\n",
       "      <td>1</td>\n",
       "      <td>0</td>\n",
       "      <td>0</td>\n",
       "      <td>1</td>\n",
       "    </tr>\n",
       "    <tr>\n",
       "      <th>2</th>\n",
       "      <td>INTP</td>\n",
       "      <td>'Good one  _____   https://www.youtube.com/wat...</td>\n",
       "      <td>good one _____ of course to which i say i kno...</td>\n",
       "      <td>[good, one, _____, course, say, know, blessing...</td>\n",
       "      <td>0.115</td>\n",
       "      <td>0.587</td>\n",
       "      <td>0.297</td>\n",
       "      <td>0.9985</td>\n",
       "      <td>0</td>\n",
       "      <td>0</td>\n",
       "      <td>1</td>\n",
       "      <td>0</td>\n",
       "      <td>0</td>\n",
       "      <td>1</td>\n",
       "      <td>0</td>\n",
       "      <td>1</td>\n",
       "      <td>1</td>\n",
       "      <td>0</td>\n",
       "      <td>0</td>\n",
       "      <td>1</td>\n",
       "    </tr>\n",
       "    <tr>\n",
       "      <th>3</th>\n",
       "      <td>INTJ</td>\n",
       "      <td>'Dear INTP,   I enjoyed our conversation the o...</td>\n",
       "      <td>dear intp i enjoyed our conversation the othe...</td>\n",
       "      <td>[dear, intp, enjoyed, conversation, day, esote...</td>\n",
       "      <td>0.086</td>\n",
       "      <td>0.666</td>\n",
       "      <td>0.248</td>\n",
       "      <td>0.9985</td>\n",
       "      <td>0</td>\n",
       "      <td>0</td>\n",
       "      <td>1</td>\n",
       "      <td>1</td>\n",
       "      <td>0</td>\n",
       "      <td>1</td>\n",
       "      <td>0</td>\n",
       "      <td>1</td>\n",
       "      <td>1</td>\n",
       "      <td>0</td>\n",
       "      <td>1</td>\n",
       "      <td>0</td>\n",
       "    </tr>\n",
       "    <tr>\n",
       "      <th>4</th>\n",
       "      <td>ENTJ</td>\n",
       "      <td>'You're fired.|||That's another silly misconce...</td>\n",
       "      <td>you re fired that s another silly misconcepti...</td>\n",
       "      <td>[fired, another, silly, misconception, approac...</td>\n",
       "      <td>0.185</td>\n",
       "      <td>0.541</td>\n",
       "      <td>0.274</td>\n",
       "      <td>0.9930</td>\n",
       "      <td>1</td>\n",
       "      <td>0</td>\n",
       "      <td>1</td>\n",
       "      <td>1</td>\n",
       "      <td>1</td>\n",
       "      <td>0</td>\n",
       "      <td>0</td>\n",
       "      <td>1</td>\n",
       "      <td>1</td>\n",
       "      <td>0</td>\n",
       "      <td>1</td>\n",
       "      <td>0</td>\n",
       "    </tr>\n",
       "  </tbody>\n",
       "</table>\n",
       "</div>"
      ],
      "text/plain": [
       "   type                                              posts  \\\n",
       "0  INFJ  '😂😂😂😂 http://www.youtube.com/watch?v=qsXHcwe3k...   \n",
       "1  ENTP  'I'm finding the lack of me in these posts ver...   \n",
       "2  INTP  'Good one  _____   https://www.youtube.com/wat...   \n",
       "3  INTJ  'Dear INTP,   I enjoyed our conversation the o...   \n",
       "4  ENTJ  'You're fired.|||That's another silly misconce...   \n",
       "\n",
       "                                         clean_posts  \\\n",
       "0   enfp and intj moments sportscenter not top te...   \n",
       "1   i m finding the lack of me in these posts ver...   \n",
       "2   good one _____ of course to which i say i kno...   \n",
       "3   dear intp i enjoyed our conversation the othe...   \n",
       "4   you re fired that s another silly misconcepti...   \n",
       "\n",
       "                                              tokens    neg    neu    pos  \\\n",
       "0  [enfp, intj, moment, sportscenter, top, ten, p...  0.129  0.606  0.265   \n",
       "1  [finding, lack, post, alarming, sex, boring, p...  0.117  0.604  0.279   \n",
       "2  [good, one, _____, course, say, know, blessing...  0.115  0.587  0.297   \n",
       "3  [dear, intp, enjoyed, conversation, day, esote...  0.086  0.666  0.248   \n",
       "4  [fired, another, silly, misconception, approac...  0.185  0.541  0.274   \n",
       "\n",
       "   compound  is_E  is_S  is_T  is_J  E  I  S  N  T  F  J  P  \n",
       "0    0.9924     0     0     0     1  0  1  0  1  0  1  1  0  \n",
       "1    0.9987     1     0     1     0  1  0  0  1  1  0  0  1  \n",
       "2    0.9985     0     0     1     0  0  1  0  1  1  0  0  1  \n",
       "3    0.9985     0     0     1     1  0  1  0  1  1  0  1  0  \n",
       "4    0.9930     1     0     1     1  1  0  0  1  1  0  1  0  "
      ]
     },
     "execution_count": 15,
     "metadata": {},
     "output_type": "execute_result"
    }
   ],
   "source": [
    "df.head()"
   ]
  },
  {
   "cell_type": "code",
   "execution_count": 16,
   "metadata": {},
   "outputs": [
    {
     "name": "stdout",
     "output_type": "stream",
     "text": [
      "  index     0\n",
      "0     E  1999\n",
      "1     I  6676\n",
      "2     S  1197\n",
      "3     N  7478\n",
      "4     T  3981\n",
      "5     F  4694\n",
      "6     J  3434\n",
      "7     P  5241\n"
     ]
    },
    {
     "data": {
      "application/vnd.plotly.v1+json": {
       "config": {
        "plotlyServerURL": "https://plot.ly"
       },
       "data": [
        {
         "alignmentgroup": "True",
         "hovertemplate": "index=%{x}<br>0=%{y}<extra></extra>",
         "legendgroup": "",
         "marker": {
          "color": "#636efa",
          "pattern": {
           "shape": ""
          }
         },
         "name": "",
         "offsetgroup": "",
         "orientation": "v",
         "showlegend": false,
         "textposition": "auto",
         "type": "bar",
         "x": [
          "E",
          "I",
          "S",
          "N",
          "T",
          "F",
          "J",
          "P"
         ],
         "xaxis": "x",
         "y": [
          1999,
          6676,
          1197,
          7478,
          3981,
          4694,
          3434,
          5241
         ],
         "yaxis": "y"
        }
       ],
       "layout": {
        "barmode": "relative",
        "legend": {
         "tracegroupgap": 0
        },
        "template": {
         "data": {
          "bar": [
           {
            "error_x": {
             "color": "#2a3f5f"
            },
            "error_y": {
             "color": "#2a3f5f"
            },
            "marker": {
             "line": {
              "color": "#E5ECF6",
              "width": 0.5
             },
             "pattern": {
              "fillmode": "overlay",
              "size": 10,
              "solidity": 0.2
             }
            },
            "type": "bar"
           }
          ],
          "barpolar": [
           {
            "marker": {
             "line": {
              "color": "#E5ECF6",
              "width": 0.5
             },
             "pattern": {
              "fillmode": "overlay",
              "size": 10,
              "solidity": 0.2
             }
            },
            "type": "barpolar"
           }
          ],
          "carpet": [
           {
            "aaxis": {
             "endlinecolor": "#2a3f5f",
             "gridcolor": "white",
             "linecolor": "white",
             "minorgridcolor": "white",
             "startlinecolor": "#2a3f5f"
            },
            "baxis": {
             "endlinecolor": "#2a3f5f",
             "gridcolor": "white",
             "linecolor": "white",
             "minorgridcolor": "white",
             "startlinecolor": "#2a3f5f"
            },
            "type": "carpet"
           }
          ],
          "choropleth": [
           {
            "colorbar": {
             "outlinewidth": 0,
             "ticks": ""
            },
            "type": "choropleth"
           }
          ],
          "contour": [
           {
            "colorbar": {
             "outlinewidth": 0,
             "ticks": ""
            },
            "colorscale": [
             [
              0,
              "#0d0887"
             ],
             [
              0.1111111111111111,
              "#46039f"
             ],
             [
              0.2222222222222222,
              "#7201a8"
             ],
             [
              0.3333333333333333,
              "#9c179e"
             ],
             [
              0.4444444444444444,
              "#bd3786"
             ],
             [
              0.5555555555555556,
              "#d8576b"
             ],
             [
              0.6666666666666666,
              "#ed7953"
             ],
             [
              0.7777777777777778,
              "#fb9f3a"
             ],
             [
              0.8888888888888888,
              "#fdca26"
             ],
             [
              1,
              "#f0f921"
             ]
            ],
            "type": "contour"
           }
          ],
          "contourcarpet": [
           {
            "colorbar": {
             "outlinewidth": 0,
             "ticks": ""
            },
            "type": "contourcarpet"
           }
          ],
          "heatmap": [
           {
            "colorbar": {
             "outlinewidth": 0,
             "ticks": ""
            },
            "colorscale": [
             [
              0,
              "#0d0887"
             ],
             [
              0.1111111111111111,
              "#46039f"
             ],
             [
              0.2222222222222222,
              "#7201a8"
             ],
             [
              0.3333333333333333,
              "#9c179e"
             ],
             [
              0.4444444444444444,
              "#bd3786"
             ],
             [
              0.5555555555555556,
              "#d8576b"
             ],
             [
              0.6666666666666666,
              "#ed7953"
             ],
             [
              0.7777777777777778,
              "#fb9f3a"
             ],
             [
              0.8888888888888888,
              "#fdca26"
             ],
             [
              1,
              "#f0f921"
             ]
            ],
            "type": "heatmap"
           }
          ],
          "heatmapgl": [
           {
            "colorbar": {
             "outlinewidth": 0,
             "ticks": ""
            },
            "colorscale": [
             [
              0,
              "#0d0887"
             ],
             [
              0.1111111111111111,
              "#46039f"
             ],
             [
              0.2222222222222222,
              "#7201a8"
             ],
             [
              0.3333333333333333,
              "#9c179e"
             ],
             [
              0.4444444444444444,
              "#bd3786"
             ],
             [
              0.5555555555555556,
              "#d8576b"
             ],
             [
              0.6666666666666666,
              "#ed7953"
             ],
             [
              0.7777777777777778,
              "#fb9f3a"
             ],
             [
              0.8888888888888888,
              "#fdca26"
             ],
             [
              1,
              "#f0f921"
             ]
            ],
            "type": "heatmapgl"
           }
          ],
          "histogram": [
           {
            "marker": {
             "pattern": {
              "fillmode": "overlay",
              "size": 10,
              "solidity": 0.2
             }
            },
            "type": "histogram"
           }
          ],
          "histogram2d": [
           {
            "colorbar": {
             "outlinewidth": 0,
             "ticks": ""
            },
            "colorscale": [
             [
              0,
              "#0d0887"
             ],
             [
              0.1111111111111111,
              "#46039f"
             ],
             [
              0.2222222222222222,
              "#7201a8"
             ],
             [
              0.3333333333333333,
              "#9c179e"
             ],
             [
              0.4444444444444444,
              "#bd3786"
             ],
             [
              0.5555555555555556,
              "#d8576b"
             ],
             [
              0.6666666666666666,
              "#ed7953"
             ],
             [
              0.7777777777777778,
              "#fb9f3a"
             ],
             [
              0.8888888888888888,
              "#fdca26"
             ],
             [
              1,
              "#f0f921"
             ]
            ],
            "type": "histogram2d"
           }
          ],
          "histogram2dcontour": [
           {
            "colorbar": {
             "outlinewidth": 0,
             "ticks": ""
            },
            "colorscale": [
             [
              0,
              "#0d0887"
             ],
             [
              0.1111111111111111,
              "#46039f"
             ],
             [
              0.2222222222222222,
              "#7201a8"
             ],
             [
              0.3333333333333333,
              "#9c179e"
             ],
             [
              0.4444444444444444,
              "#bd3786"
             ],
             [
              0.5555555555555556,
              "#d8576b"
             ],
             [
              0.6666666666666666,
              "#ed7953"
             ],
             [
              0.7777777777777778,
              "#fb9f3a"
             ],
             [
              0.8888888888888888,
              "#fdca26"
             ],
             [
              1,
              "#f0f921"
             ]
            ],
            "type": "histogram2dcontour"
           }
          ],
          "mesh3d": [
           {
            "colorbar": {
             "outlinewidth": 0,
             "ticks": ""
            },
            "type": "mesh3d"
           }
          ],
          "parcoords": [
           {
            "line": {
             "colorbar": {
              "outlinewidth": 0,
              "ticks": ""
             }
            },
            "type": "parcoords"
           }
          ],
          "pie": [
           {
            "automargin": true,
            "type": "pie"
           }
          ],
          "scatter": [
           {
            "fillpattern": {
             "fillmode": "overlay",
             "size": 10,
             "solidity": 0.2
            },
            "type": "scatter"
           }
          ],
          "scatter3d": [
           {
            "line": {
             "colorbar": {
              "outlinewidth": 0,
              "ticks": ""
             }
            },
            "marker": {
             "colorbar": {
              "outlinewidth": 0,
              "ticks": ""
             }
            },
            "type": "scatter3d"
           }
          ],
          "scattercarpet": [
           {
            "marker": {
             "colorbar": {
              "outlinewidth": 0,
              "ticks": ""
             }
            },
            "type": "scattercarpet"
           }
          ],
          "scattergeo": [
           {
            "marker": {
             "colorbar": {
              "outlinewidth": 0,
              "ticks": ""
             }
            },
            "type": "scattergeo"
           }
          ],
          "scattergl": [
           {
            "marker": {
             "colorbar": {
              "outlinewidth": 0,
              "ticks": ""
             }
            },
            "type": "scattergl"
           }
          ],
          "scattermapbox": [
           {
            "marker": {
             "colorbar": {
              "outlinewidth": 0,
              "ticks": ""
             }
            },
            "type": "scattermapbox"
           }
          ],
          "scatterpolar": [
           {
            "marker": {
             "colorbar": {
              "outlinewidth": 0,
              "ticks": ""
             }
            },
            "type": "scatterpolar"
           }
          ],
          "scatterpolargl": [
           {
            "marker": {
             "colorbar": {
              "outlinewidth": 0,
              "ticks": ""
             }
            },
            "type": "scatterpolargl"
           }
          ],
          "scatterternary": [
           {
            "marker": {
             "colorbar": {
              "outlinewidth": 0,
              "ticks": ""
             }
            },
            "type": "scatterternary"
           }
          ],
          "surface": [
           {
            "colorbar": {
             "outlinewidth": 0,
             "ticks": ""
            },
            "colorscale": [
             [
              0,
              "#0d0887"
             ],
             [
              0.1111111111111111,
              "#46039f"
             ],
             [
              0.2222222222222222,
              "#7201a8"
             ],
             [
              0.3333333333333333,
              "#9c179e"
             ],
             [
              0.4444444444444444,
              "#bd3786"
             ],
             [
              0.5555555555555556,
              "#d8576b"
             ],
             [
              0.6666666666666666,
              "#ed7953"
             ],
             [
              0.7777777777777778,
              "#fb9f3a"
             ],
             [
              0.8888888888888888,
              "#fdca26"
             ],
             [
              1,
              "#f0f921"
             ]
            ],
            "type": "surface"
           }
          ],
          "table": [
           {
            "cells": {
             "fill": {
              "color": "#EBF0F8"
             },
             "line": {
              "color": "white"
             }
            },
            "header": {
             "fill": {
              "color": "#C8D4E3"
             },
             "line": {
              "color": "white"
             }
            },
            "type": "table"
           }
          ]
         },
         "layout": {
          "annotationdefaults": {
           "arrowcolor": "#2a3f5f",
           "arrowhead": 0,
           "arrowwidth": 1
          },
          "autotypenumbers": "strict",
          "coloraxis": {
           "colorbar": {
            "outlinewidth": 0,
            "ticks": ""
           }
          },
          "colorscale": {
           "diverging": [
            [
             0,
             "#8e0152"
            ],
            [
             0.1,
             "#c51b7d"
            ],
            [
             0.2,
             "#de77ae"
            ],
            [
             0.3,
             "#f1b6da"
            ],
            [
             0.4,
             "#fde0ef"
            ],
            [
             0.5,
             "#f7f7f7"
            ],
            [
             0.6,
             "#e6f5d0"
            ],
            [
             0.7,
             "#b8e186"
            ],
            [
             0.8,
             "#7fbc41"
            ],
            [
             0.9,
             "#4d9221"
            ],
            [
             1,
             "#276419"
            ]
           ],
           "sequential": [
            [
             0,
             "#0d0887"
            ],
            [
             0.1111111111111111,
             "#46039f"
            ],
            [
             0.2222222222222222,
             "#7201a8"
            ],
            [
             0.3333333333333333,
             "#9c179e"
            ],
            [
             0.4444444444444444,
             "#bd3786"
            ],
            [
             0.5555555555555556,
             "#d8576b"
            ],
            [
             0.6666666666666666,
             "#ed7953"
            ],
            [
             0.7777777777777778,
             "#fb9f3a"
            ],
            [
             0.8888888888888888,
             "#fdca26"
            ],
            [
             1,
             "#f0f921"
            ]
           ],
           "sequentialminus": [
            [
             0,
             "#0d0887"
            ],
            [
             0.1111111111111111,
             "#46039f"
            ],
            [
             0.2222222222222222,
             "#7201a8"
            ],
            [
             0.3333333333333333,
             "#9c179e"
            ],
            [
             0.4444444444444444,
             "#bd3786"
            ],
            [
             0.5555555555555556,
             "#d8576b"
            ],
            [
             0.6666666666666666,
             "#ed7953"
            ],
            [
             0.7777777777777778,
             "#fb9f3a"
            ],
            [
             0.8888888888888888,
             "#fdca26"
            ],
            [
             1,
             "#f0f921"
            ]
           ]
          },
          "colorway": [
           "#636efa",
           "#EF553B",
           "#00cc96",
           "#ab63fa",
           "#FFA15A",
           "#19d3f3",
           "#FF6692",
           "#B6E880",
           "#FF97FF",
           "#FECB52"
          ],
          "font": {
           "color": "#2a3f5f"
          },
          "geo": {
           "bgcolor": "white",
           "lakecolor": "white",
           "landcolor": "#E5ECF6",
           "showlakes": true,
           "showland": true,
           "subunitcolor": "white"
          },
          "hoverlabel": {
           "align": "left"
          },
          "hovermode": "closest",
          "mapbox": {
           "style": "light"
          },
          "paper_bgcolor": "white",
          "plot_bgcolor": "#E5ECF6",
          "polar": {
           "angularaxis": {
            "gridcolor": "white",
            "linecolor": "white",
            "ticks": ""
           },
           "bgcolor": "#E5ECF6",
           "radialaxis": {
            "gridcolor": "white",
            "linecolor": "white",
            "ticks": ""
           }
          },
          "scene": {
           "xaxis": {
            "backgroundcolor": "#E5ECF6",
            "gridcolor": "white",
            "gridwidth": 2,
            "linecolor": "white",
            "showbackground": true,
            "ticks": "",
            "zerolinecolor": "white"
           },
           "yaxis": {
            "backgroundcolor": "#E5ECF6",
            "gridcolor": "white",
            "gridwidth": 2,
            "linecolor": "white",
            "showbackground": true,
            "ticks": "",
            "zerolinecolor": "white"
           },
           "zaxis": {
            "backgroundcolor": "#E5ECF6",
            "gridcolor": "white",
            "gridwidth": 2,
            "linecolor": "white",
            "showbackground": true,
            "ticks": "",
            "zerolinecolor": "white"
           }
          },
          "shapedefaults": {
           "line": {
            "color": "#2a3f5f"
           }
          },
          "ternary": {
           "aaxis": {
            "gridcolor": "white",
            "linecolor": "white",
            "ticks": ""
           },
           "baxis": {
            "gridcolor": "white",
            "linecolor": "white",
            "ticks": ""
           },
           "bgcolor": "#E5ECF6",
           "caxis": {
            "gridcolor": "white",
            "linecolor": "white",
            "ticks": ""
           }
          },
          "title": {
           "x": 0.05
          },
          "xaxis": {
           "automargin": true,
           "gridcolor": "white",
           "linecolor": "white",
           "ticks": "",
           "title": {
            "standoff": 15
           },
           "zerolinecolor": "white",
           "zerolinewidth": 2
          },
          "yaxis": {
           "automargin": true,
           "gridcolor": "white",
           "linecolor": "white",
           "ticks": "",
           "title": {
            "standoff": 15
           },
           "zerolinecolor": "white",
           "zerolinewidth": 2
          }
         }
        },
        "title": {
         "text": "Distribution of MBTI types in the dataset"
        },
        "xaxis": {
         "anchor": "y",
         "domain": [
          0,
          1
         ],
         "title": {
          "text": "index"
         }
        },
        "yaxis": {
         "anchor": "x",
         "domain": [
          0,
          1
         ],
         "title": {
          "text": "0"
         }
        }
       }
      }
     },
     "metadata": {},
     "output_type": "display_data"
    }
   ],
   "source": [
    "#plot the distribution of the MBTI types in the dataset\n",
    "# print(pd.melt(df[['is_E', 'is_S', 'is_T', 'is_J']]).value_counts())\n",
    "mbti_df = df[['E', 'I', 'S', 'N', 'T', 'F', 'J', 'P']]\n",
    "value_counts_df = mbti_df.sum().reset_index()\n",
    "print(value_counts_df)\n",
    "#plot the graph\n",
    "fig = px.bar(value_counts_df, x='index', y=0, title='Distribution of MBTI types in the dataset')\n",
    "fig.show()"
   ]
  },
  {
   "cell_type": "markdown",
   "metadata": {},
   "source": [
    "*This is the Section to start To see if Word Counts and type of the words (Nouns, Adjs, Advs) Matters*"
   ]
  },
  {
   "cell_type": "code",
   "execution_count": 17,
   "metadata": {},
   "outputs": [],
   "source": [
    "#Word Count\n",
    "df['word_per_comment'] = df['posts'].apply(lambda x: len(x.split())) ## Dont know should use the clean_posts or not.\n",
    "df['avg_word_per_comment'] = df['word_per_comment'] / 50 # Coz 50 Posts Per Data Row Seperated by |||\n",
    "\n",
    "#function to classify the count  of words type using nltk.post_tag\n",
    "nltk_tagset = ['LS', 'TO', 'VBN', \"''\", 'WP', 'UH', 'VBG', 'JJ', 'VBZ', '--', 'VBP', 'NN', 'DT', 'PRP', ':', 'WP$', 'NNPS', 'PRP$', 'WDT', '(', ')', '.', ',', '``', '$', 'RB', 'RBR', 'RBS', 'VBD', 'IN', 'FW', 'RP', 'JJR', 'JJS', 'PDT', 'MD', 'VB', 'WRB', 'NNP', 'EX', 'NNS', 'SYM', 'CC', 'CD', 'POS']\n",
    "def count_tags(text):\n",
    "    #Create Dictionary to store the count of each tag\n",
    "    nltk_tags_count = {tag:0 for tag in nltk_tagset}\n",
    "    tags = nltk.pos_tag(text)\n",
    "    for tag in tags:\n",
    "        # Later+\n",
    "        pass\n",
    "    return 1"
   ]
  },
  {
   "cell_type": "code",
   "execution_count": 18,
   "metadata": {},
   "outputs": [],
   "source": [
    "#TF_IDF \n",
    "from sklearn.feature_extraction.text import  TfidfVectorizer\n",
    "vectorizer =TfidfVectorizer(analyzer=\"word\", ngram_range=(1,2))\n",
    "X = vectorizer.fit_transform(df['clean_posts'].values)"
   ]
  },
  {
   "cell_type": "code",
   "execution_count": 19,
   "metadata": {},
   "outputs": [
    {
     "name": "stdout",
     "output_type": "stream",
     "text": [
      "[[(0, 1), (1, 1), (2, 1), (3, 1), (4, 1), (5, 1), (6, 1), (7, 1), (8, 3), (9, 1), (10, 3), (11, 1), (12, 2), (13, 7), (14, 1), (15, 1), (16, 1), (17, 1), (18, 1), (19, 1), (20, 1), (21, 1), (22, 1), (23, 1), (24, 1), (25, 1), (26, 1), (27, 2), (28, 1), (29, 1), (30, 1), (31, 1), (32, 1), (33, 1), (34, 1), (35, 1), (36, 1), (37, 1), (38, 1), (39, 1), (40, 2), (41, 1), (42, 1), (43, 1), (44, 1), (45, 1), (46, 1), (47, 1), (48, 1), (49, 1), (50, 1), (51, 1), (52, 2), (53, 1), (54, 1), (55, 1), (56, 1), (57, 1), (58, 1), (59, 1), (60, 1), (61, 2), (62, 1), (63, 1), (64, 1), (65, 1), (66, 1), (67, 2), (68, 1), (69, 2), (70, 1), (71, 1), (72, 1), (73, 1), (74, 2), (75, 1), (76, 1), (77, 1), (78, 1), (79, 1), (80, 4), (81, 1), (82, 2), (83, 3), (84, 1), (85, 1), (86, 1), (87, 1), (88, 1), (89, 1), (90, 1), (91, 1), (92, 1), (93, 1), (94, 1), (95, 1), (96, 2), (97, 1), (98, 1), (99, 1), (100, 1), (101, 2), (102, 1), (103, 1), (104, 2), (105, 1), (106, 1), (107, 1), (108, 1), (109, 1), (110, 1), (111, 1), (112, 1), (113, 1), (114, 1), (115, 2), (116, 1), (117, 3), (118, 3), (119, 1), (120, 1), (121, 1), (122, 1), (123, 1), (124, 1), (125, 1), (126, 1), (127, 1), (128, 1), (129, 1), (130, 1), (131, 1), (132, 2), (133, 2), (134, 1), (135, 1), (136, 2), (137, 1), (138, 1), (139, 1), (140, 1), (141, 1), (142, 1), (143, 1), (144, 1), (145, 1), (146, 2), (147, 1), (148, 1), (149, 1), (150, 2), (151, 1), (152, 1), (153, 1), (154, 1), (155, 1), (156, 2), (157, 1), (158, 1), (159, 1), (160, 1), (161, 1), (162, 1), (163, 1), (164, 1), (165, 1), (166, 1), (167, 1), (168, 1), (169, 1), (170, 1), (171, 1), (172, 1), (173, 1), (174, 1), (175, 1), (176, 1), (177, 1), (178, 1), (179, 1), (180, 1), (181, 1), (182, 1), (183, 1), (184, 1), (185, 1), (186, 1), (187, 1), (188, 1), (189, 2), (190, 1), (191, 1), (192, 1), (193, 1), (194, 1), (195, 1), (196, 1), (197, 2), (198, 1), (199, 1), (200, 1), (201, 1), (202, 1), (203, 1), (204, 1), (205, 1), (206, 1), (207, 1), (208, 1), (209, 1), (210, 1), (211, 1), (212, 3), (213, 1), (214, 1), (215, 1), (216, 1), (217, 1), (218, 1), (219, 6), (220, 2), (221, 1), (222, 2), (223, 2), (224, 3), (225, 1), (226, 1), (227, 1), (228, 3), (229, 1), (230, 1), (231, 1), (232, 1), (233, 1), (234, 1), (235, 2), (236, 1), (237, 1), (238, 1), (239, 1), (240, 1), (241, 1), (242, 1), (243, 1), (244, 2), (245, 1), (246, 1), (247, 1), (248, 1), (249, 1), (250, 1), (251, 1)]]\n"
     ]
    }
   ],
   "source": [
    "id2word = corpora.Dictionary(df['tokens'])\n",
    "texts = df['tokens']\n",
    "corpus = [id2word.doc2bow(text) for text in texts]\n",
    "print(corpus[:1])"
   ]
  },
  {
   "cell_type": "code",
   "execution_count": 20,
   "metadata": {},
   "outputs": [
    {
     "name": "stdout",
     "output_type": "stream",
     "text": [
      "[(0,\n",
      "  '0.015*\"like\" + 0.012*\"people\" + 0.009*\"think\" + 0.008*\"one\" + 0.008*\"know\" '\n",
      "  '+ 0.007*\"really\" + 0.007*\"get\" + 0.007*\"time\" + 0.006*\"would\" + '\n",
      "  '0.006*\"thing\"'),\n",
      " (1,\n",
      "  '0.014*\"like\" + 0.011*\"think\" + 0.009*\"people\" + 0.008*\"one\" + 0.008*\"get\" + '\n",
      "  '0.008*\"would\" + 0.007*\"thing\" + 0.006*\"time\" + 0.006*\"know\" + '\n",
      "  '0.005*\"really\"'),\n",
      " (2,\n",
      "  '0.010*\"like\" + 0.009*\"think\" + 0.008*\"really\" + 0.008*\"people\" + '\n",
      "  '0.007*\"one\" + 0.007*\"thing\" + 0.006*\"know\" + 0.006*\"time\" + 0.005*\"get\" + '\n",
      "  '0.005*\"would\"'),\n",
      " (3,\n",
      "  '0.013*\"like\" + 0.011*\"think\" + 0.009*\"know\" + 0.008*\"people\" + 0.008*\"time\" '\n",
      "  '+ 0.007*\"really\" + 0.006*\"one\" + 0.006*\"would\" + 0.006*\"get\" + '\n",
      "  '0.005*\"thing\"'),\n",
      " (4,\n",
      "  '0.014*\"like\" + 0.008*\"know\" + 0.008*\"people\" + 0.008*\"think\" + 0.008*\"one\" '\n",
      "  '+ 0.007*\"thing\" + 0.007*\"really\" + 0.007*\"time\" + 0.007*\"would\" + '\n",
      "  '0.006*\"feel\"'),\n",
      " (5,\n",
      "  '0.013*\"like\" + 0.009*\"think\" + 0.008*\"people\" + 0.007*\"one\" + 0.007*\"know\" '\n",
      "  '+ 0.007*\"thing\" + 0.006*\"would\" + 0.006*\"really\" + 0.006*\"time\" + '\n",
      "  '0.005*\"feel\"'),\n",
      " (6,\n",
      "  '0.011*\"like\" + 0.010*\"people\" + 0.008*\"think\" + 0.008*\"know\" + 0.007*\"one\" '\n",
      "  '+ 0.007*\"really\" + 0.006*\"thing\" + 0.006*\"would\" + 0.006*\"time\" + '\n",
      "  '0.005*\"get\"')]\n"
     ]
    }
   ],
   "source": [
    "lda_model = gensim.models.LdaMulticore(corpus=corpus, id2word=id2word, num_topics=7)\n",
    "pprint(lda_model.print_topics())\n",
    "doc_lda = lda_model[corpus]"
   ]
  },
  {
   "cell_type": "code",
   "execution_count": 21,
   "metadata": {},
   "outputs": [
    {
     "data": {
      "text/html": [
       "\n",
       "<link rel=\"stylesheet\" type=\"text/css\" href=\"https://cdn.jsdelivr.net/gh/bmabey/pyLDAvis@3.4.0/pyLDAvis/js/ldavis.v1.0.0.css\">\n",
       "\n",
       "\n",
       "<div id=\"ldavis_el1603222704074398242051185691\" style=\"background-color:white;\"></div>\n",
       "<script type=\"text/javascript\">\n",
       "\n",
       "var ldavis_el1603222704074398242051185691_data = {\"mdsDat\": {\"x\": [-0.0035966168953026835, -0.0017678639173131605, -0.0011110740306524642, 0.0001750588686013533, 0.000805834834604693, 0.0026681005780790166, 0.002826560561983249], \"y\": [-0.00015492252503582953, 0.0030376245095726103, -0.002412183331993268, -0.001367801171821981, 0.000168950805372885, -0.0011196588238268166, 0.0018479905377323982], \"topics\": [1, 2, 3, 4, 5, 6, 7], \"cluster\": [1, 1, 1, 1, 1, 1, 1], \"Freq\": [28.58244339620251, 24.01478686703464, 15.903855848970485, 10.938818307398892, 8.472495892146743, 8.191653930664101, 3.895945757582634]}, \"tinfo\": {\"Term\": [\"like\", \"people\", \"know\", \"think\", \"really\", \"thing\", \"one\", \"time\", \"would\", \"feel\", \"type\", \"lot\", \"good\", \"make\", \"get\", \"love\", \"way\", \"much\", \"well\", \"year\", \"want\", \"friend\", \"say\", \"also\", \"life\", \"going\", \"never\", \"see\", \"always\", \"even\", \"sfie\", \"maman\", \"dreamingangel\", \"bonnefoy\", \"montens\", \"trie\", \"littel\", \"tierd\", \"__fp\", \"inverter\", \"mountens\", \"digger\", \"feu\", \"whent\", \"broda\", \"yaaaaaaaaaaaaaa\", \"drow\", \"talkeing\", \"lurver\", \"youuuuuu\", \"ickyface\", \"calvinball\", \"macher\", \"solon\", \"littal\", \"esfplolitslieksooooobviouslerl\", \"pow\", \"jagsfan\", \"wonderbolts\", \"hospitle\", \"people\", \"around\", \"start\", \"military\", \"videogames\", \"say\", \"find\", \"type\", \"mean\", \"right\", \"stupid\", \"fun\", \"thank\", \"like\", \"love\", \"way\", \"really\", \"description\", \"kind\", \"friend\", \"idea\", \"know\", \"one\", \"something\", \"seems\", \"get\", \"actually\", \"every\", \"feel\", \"function\", \"yes\", \"time\", \"go\", \"think\", \"much\", \"even\", \"want\", \"never\", \"would\", \"good\", \"always\", \"thing\", \"life\", \"well\", \"make\", \"lot\", \"also\", \"someone\", \"darkwings\", \"intjer\", \"iphone\", \"concerened\", \"phenomenologist\", \"blop\", \"hahahahahhaahhaahahhahaa\", \"expierienced\", \"disobedience\", \"annette\", \"sexies\", \"physicaly\", \"punky\", \"cooooo\", \"backk\", \"commitophobes\", \"hppygirl\", \"concreteness\", \"penal\", \"anet\", \"somerhalder\", \"bora\", \"fone\", \"bola\", \"muggles\", \"socionis\", \"lamora\", \"crystalized\", \"kelsi\", \"json\", \"ogion\", \"oka\", \"going\", \"many\", \"get\", \"esfj\", \"live\", \"sure\", \"moral\", \"religious\", \"stuff\", \"employee\", \"would\", \"well\", \"see\", \"form\", \"think\", \"take\", \"last\", \"mbti\", \"boyfriend\", \"born\", \"thing\", \"post\", \"interesting\", \"much\", \"sent\", \"away\", \"like\", \"entj\", \"still\", \"understand\", \"mind\", \"entp\", \"one\", \"tell\", \"year\", \"believe\", \"sometimes\", \"someone\", \"people\", \"make\", \"look\", \"want\", \"also\", \"go\", \"find\", \"time\", \"lot\", \"need\", \"feel\", \"way\", \"even\", \"could\", \"never\", \"really\", \"know\", \"something\", \"say\", \"friend\", \"love\", \"type\", \"latoslapise\", \"corrs\", \"sorryy\", \"cevennes\", \"congroo\", \"rufugee\", \"devislanegel\", \"amethystium\", \"coxn\", \"florinstreet\", \"dexterm\", \"humbles\", \"wheelbarrow\", \"________________________\", \"gauntlet\", \"nise\", \"savin\", \"jovian\", \"schnauss\", \"manus\", \"mischievious\", \"exreamely\", \"zentangle\", \"intstincts\", \"murda\", \"leotardo\", \"polyanna\", \"jazzhead\", \"bertha\", \"ulrich\", \"miranda\", \"jetplane\", \"xoxo\", \"tickled_pink\", \"praimfaya\", \"enfp\", \"song\", \"infj\", \"always\", \"hey\", \"know\", \"hold\", \"personality\", \"good\", \"time\", \"thanks\", \"think\", \"make\", \"especially\", \"type\", \"sound\", \"oh\", \"getting\", \"either\", \"life\", \"two\", \"sure\", \"guess\", \"lol\", \"great\", \"though\", \"first\", \"see\", \"like\", \"really\", \"take\", \"well\", \"say\", \"could\", \"get\", \"people\", \"would\", \"something\", \"one\", \"infp\", \"want\", \"thing\", \"friend\", \"way\", \"feel\", \"love\", \"much\", \"lot\", \"also\", \"lgls\", \"gayest\", \"ohmanohmanohman\", \"kedi\", \"rashida\", \"brr\", \"utilisant\", \"parton\", \"nause\", \"gril\", \"applewood\", \"morisette\", \"drano\", \"wudang\", \"queenofthenile\", \"raikage\", \"cultist\", \"bwe\", \"ladykaizoku\", \"nariseba\", \"agn\", \"chefhedgehog\", \"bni\", \"mew\", \"opposum\", \"comine\", \"trapking\", \"meanigless\", \"soursop\", \"felid\", \"fraser\", \"envoy\", \"th_jtteglad\", \"spectre\", \"w\", \"gt\", \"thank\", \"change\", \"watch\", \"however\", \"friend\", \"great\", \"conversation\", \"intj\", \"said\", \"probably\", \"nothing\", \"remember\", \"recently\", \"isfp\", \"actually\", \"definitely\", \"feel\", \"age\", \"given\", \"although\", \"trying\", \"call\", \"like\", \"infp\", \"thing\", \"thought\", \"go\", \"bit\", \"would\", \"love\", \"person\", \"sometimes\", \"seems\", \"think\", \"know\", \"one\", \"always\", \"feeling\", \"something\", \"time\", \"good\", \"people\", \"really\", \"say\", \"see\", \"make\", \"want\", \"also\", \"well\", \"much\", \"get\", \"even\", \"way\", \"lot\", \"someone\", \"type\", \"expressionism\", \"stressssss\", \"chung\", \"planch\", \"artrage\", \"rhododendron\", \"sosodaydreamart\", \"vackert\", \"digigtal\", \"ord\", \"midaged\", \"possebly\", \"songbook\", \"porkchop\", \"sarto\", \"mayn\", \"justme\", \"vnen\", \"etymologiae\", \"yakarin\", \"efter\", \"spr\", \"phantasmagorian\", \"orcish\", \"qinzhou\", \"legendarium\", \"betyder\", \"hocking\", \"tiped\", \"kasvain\", \"naomi\", \"ago\", \"flickr\", \"w\", \"sent\", \"feel\", \"point\", \"know\", \"like\", \"life\", \"going\", \"thing\", \"come\", \"good\", \"time\", \"best\", \"others\", \"different\", \"really\", \"would\", \"also\", \"one\", \"ever\", \"could\", \"please\", \"game\", \"year\", \"even\", \"infp\", \"p\", \"day\", \"sometimes\", \"much\", \"type\", \"people\", \"friend\", \"something\", \"think\", \"make\", \"lot\", \"get\", \"want\", \"though\", \"go\", \"well\", \"love\", \"way\", \"say\", \"nucky\", \"expresso\", \"melhores\", \"daqui\", \"paried\", \"bwh\", \"durability\", \"augmentation\", \"fw\", \"wcp\", \"oppening\", \"asskicking\", \"ohp\", \"hydroponically\", \"avoidants\", \"madrugada\", \"robort\", \"femboys\", \"enerdtp\", \"jerdle\", \"navi\", \"underexpress\", \"nefetisi\", \"ponty\", \"chuggaaconroy\", \"lucahjin\", \"merleau\", \"pcull\", \"navimention\", \"mlt\", \"tmlt\", \"w\", \"tapatalk\", \"estp\", \"year\", \"fi\", \"really\", \"intj\", \"theory\", \"sx\", \"type\", \"music\", \"right\", \"love\", \"thing\", \"relationship\", \"little\", \"probably\", \"experience\", \"kid\", \"different\", \"part\", \"still\", \"one\", \"istp\", \"perhaps\", \"think\", \"person\", \"self\", \"good\", \"time\", \"enfp\", \"new\", \"way\", \"post\", \"see\", \"people\", \"like\", \"make\", \"lot\", \"know\", \"much\", \"say\", \"want\", \"also\", \"get\", \"would\", \"feel\", \"go\", \"even\", \"friend\", \"well\", \"could\", \"bef\", \"underbutt\", \"hhhhhhhhhhhhuh\", \"whaaaaale\", \"spambot\", \"undees\", \"reconmendationds\", \"ilike\", \"lvw\", \"ussaly\", \"guidline\", \"mercedeses\", \"cob\", \"kisse\", \"enagram\", \"scruffster\", \"coventry\", \"chung\", \"coachinfj\", \"hadent\", \"idees\", \"canjis\", \"mensiond\", \"ballanced\", \"plzz\", \"cabrio\", \"chanches\", \"millitary\", \"cannadian\", \"twiche\", \"usando\", \"htc\", \"eagle\", \"meu\", \"nexus\", \"tapatalk\", \"wel\", \"posh\", \"tmlt\", \"lol\", \"welcome\", \"lot\", \"great\", \"iphone\", \"forum\", \"people\", \"thread\", \"ever\", \"know\", \"going\", \"saying\", \"many\", \"sound\", \"thing\", \"find\", \"really\", \"tell\", \"guy\", \"give\", \"girl\", \"others\", \"think\", \"way\", \"would\", \"never\", \"one\", \"bit\", \"care\", \"like\", \"first\", \"time\", \"well\", \"type\", \"make\", \"right\", \"feel\", \"get\", \"want\", \"much\", \"love\", \"say\", \"good\", \"always\", \"life\", \"also\", \"something\", \"friend\", \"see\"], \"Freq\": [71641.0, 48536.0, 37640.0, 51116.0, 34623.0, 33908.0, 40169.0, 33376.0, 34869.0, 25406.0, 23973.0, 17709.0, 20342.0, 23416.0, 34037.0, 21666.0, 21765.0, 23139.0, 23182.0, 13875.0, 21122.0, 22181.0, 22888.0, 18082.0, 16338.0, 12424.0, 15133.0, 19554.0, 16801.0, 16821.0, 1.4279144783776911, 2.080017091309211, 24.558403368431716, 2.024972616851359, 1.8646743965658574, 1.811113702247286, 1.800533860433572, 3.652581716044048, 1.1254582348192235, 1.648889347417114, 1.6987768289785186, 15.956849581465846, 1.1005303533136568, 2.7351917140463944, 1.6048732082526111, 1.0876486144524675, 2.1910171811609205, 1.083722420677415, 1.0701562603027213, 1.579994439341012, 1.0700422611045706, 2.100804167235877, 1.061845659072091, 2.0848388225398935, 1.0433910902992103, 1.0370733007807553, 11.962807439966214, 1.5549488922457309, 1.033418334716486, 1.0350450188618256, 17588.1151896768, 3688.519777554061, 2062.8309262159596, 160.1965722226143, 33.043758122308745, 7973.921105839582, 5152.013261406341, 8211.613837064267, 4284.436364039244, 4473.282626072084, 835.607872867061, 1802.0344084309768, 2462.3978940453767, 22726.71220008034, 7231.902366659911, 7237.717297785686, 11063.376899953177, 972.6547109692444, 3153.592214337657, 7234.428805804888, 2806.880176480631, 11819.18663014153, 12540.544028456286, 6393.948788993675, 2685.950738393832, 10566.721711652637, 4325.800256692368, 2418.0214130504555, 7922.885219036476, 2368.452355720518, 4010.2003704514686, 9799.944287946333, 5474.006777924691, 14161.897700210951, 6955.641799154051, 5244.970436062375, 6383.527314831927, 4733.902949697731, 9497.826310789416, 6024.698217791191, 5132.6395872718, 8932.188227836443, 4974.737839201011, 6325.790112807117, 6180.653622849131, 5104.6266367854105, 5113.22784541998, 4817.43225253753, 1.9562709799811397, 1.8892616820516506, 361.8098009604831, 1.3736591580147821, 0.8988626625359286, 1.7537984132575188, 0.8577755940133889, 1.398064860526747, 1.2968364574596338, 0.8611227133665691, 0.8247873909074919, 1.7236710436829326, 1.714453964448735, 0.8274163288575722, 1.2815929586751555, 0.8068211070269921, 1.7341777689638733, 0.8256669750738022, 1.6817440073846974, 1.27588390008405, 0.823353248911616, 2.9329032679386677, 6.183198443119084, 1.619333362884414, 0.815074856053959, 0.8193707628887008, 1.7019732969851495, 1.2394117470534096, 1.2883867756508736, 1.69863520415135, 8.564616050199348, 2.9028736140183287, 3920.6303884300687, 3218.8474487611475, 10211.536928717538, 1080.206836432656, 1474.396182583758, 3989.7967769069915, 310.35737047407565, 317.39552014194953, 1648.9694662908819, 50.16172188938253, 10074.229995345811, 6725.659402509227, 5719.628451588367, 555.7522644591173, 13925.451032345298, 3336.536590792466, 1899.1819884686176, 1676.7108178856217, 516.4822766982071, 356.13200908628716, 9316.088159999937, 3150.2394642707154, 1983.4745814119567, 6330.912092521913, 582.0533709846553, 1344.8737470352582, 18123.04099506901, 1270.1864068999982, 3021.982314055766, 2159.7854317013207, 2260.721720554132, 2140.1974238630814, 10257.488617779223, 2175.8479825265867, 3766.0108774425084, 1954.479681824423, 2705.677119511715, 4337.517844286363, 11191.552063851623, 5864.843418294784, 2892.553483799799, 5231.475970727888, 4568.7683990384585, 4395.981832027993, 3731.359019760622, 7272.165833541743, 4342.548175101078, 3476.754678105324, 5730.775404104812, 5063.4893892197915, 4114.955562595745, 3802.3130052347587, 3785.411527978922, 6783.781540201324, 7018.4027657851675, 4475.2995530916905, 4770.384515848552, 4638.460326947754, 4567.040075612064, 4356.414962904323, 4.6302922729985365, 2.0597361567708794, 1.0202355069440987, 0.8363826939610547, 0.8507980088197623, 0.7918219575158172, 0.7914622435926898, 0.785496078373887, 0.78113553150122, 0.773044435274378, 0.7414757193468006, 0.7521617183730955, 1.4754739246571846, 0.7269685545599508, 1.5040255886837544, 0.7422571079400356, 0.7230742314702661, 0.7281655925439163, 0.7093409118166438, 0.7277595266684155, 0.7131536801405864, 0.727061211021553, 1.5429597104968185, 0.7105561205250301, 0.7070333721446482, 0.7098888326948024, 0.7243887386805128, 0.7106076912233207, 1.0640615862936322, 0.687545673470171, 14.654602898776005, 5.292814154682148, 11.918270566786923, 2.07650711865031, 2.0777267870142984, 2007.9143180040094, 973.6785645082973, 2751.8228269248175, 3578.9521196115284, 795.3024940224049, 7331.453126867258, 375.3648897557691, 1487.1462977845285, 4042.8945173787915, 6264.315071257739, 1605.4215565259647, 9144.866401400563, 4454.078656493601, 1030.6985140812126, 4460.00835425457, 1636.315390683801, 1504.7729335945323, 1173.3187830129732, 1093.553524107317, 3052.796865788506, 1609.9103186869604, 2432.7163187559495, 1433.7520064660303, 1654.198343966005, 1354.174467558968, 2674.7013884962535, 2326.104768125909, 3444.9359754393386, 10606.193134802912, 5614.130338322301, 2116.636649819068, 3828.6838456913247, 3692.4142842275246, 2617.1860019291194, 4977.3809938576605, 6605.622675657834, 5047.226436233062, 3141.505836097152, 5389.7318730051375, 2334.043031006409, 3242.43448440951, 4481.058256622784, 3324.553822055298, 3271.4278964904834, 3453.899119554398, 3084.4259366075016, 3159.7700591901653, 2614.606698056099, 2629.1617993963555, 1.3348088413759118, 0.6748900322426639, 0.6450258371550994, 4.82082782090583, 0.5566509413062383, 0.5652081821982347, 2.9649313173702803, 0.5649025524670214, 0.5614416857114144, 1.156363499727961, 0.549412613768521, 0.5333825856314864, 0.5348863583096308, 0.5329315810921849, 0.5315457398520722, 0.4987888960859471, 1.0644819220324593, 0.5204332634163374, 0.5337333451852779, 0.5257896479838935, 0.5290584437809354, 0.5144551772003643, 0.49591948127121566, 11.16349356277447, 0.5119200754964891, 0.47757308259497844, 0.5023089243515573, 0.5076346023659346, 0.5045281499292159, 0.5116154247202125, 1.0210492157323325, 2.981887600036515, 2.223491210635796, 1.4391857998824513, 1241.6926662790215, 25.197976360873117, 1123.9803261938002, 728.8528200676686, 423.06832312741477, 719.8981360020271, 2997.14382381661, 984.6943964369425, 546.0211034901545, 1593.7129573961035, 1424.5086443938108, 1291.5025283392345, 744.511688274251, 629.3267247637091, 437.5666885517426, 612.6628003324029, 1720.4476134971903, 934.4854256744188, 3120.725307313474, 419.08709352788327, 288.8271554363597, 530.8136384533237, 980.4732805870854, 465.1592544733638, 7436.445156855969, 1654.6287609110036, 3762.867685174739, 1708.415141056429, 2083.8085529950336, 977.8187933707793, 3690.3828083720955, 2454.6535157910953, 1562.5839488756587, 1233.711026872731, 1021.9197703361855, 4911.760494187554, 3798.2830356156123, 3956.7468335503977, 1924.6519953803838, 1415.6675713117472, 2165.656846084238, 3306.2833199319143, 2223.0529813278904, 4366.3128254295125, 3350.2149497017986, 2410.0813873937923, 2129.2872970412895, 2421.4414164717523, 2237.644908738694, 1987.5829904239972, 2344.9454036488996, 2216.588382702318, 2622.5617279607336, 1799.373564768806, 2024.4395964365438, 1808.805682285437, 1743.6298678663018, 1881.6329959585828, 3.2631556613604915, 0.6683565460041675, 9.08057111624754, 0.5244442054655746, 0.9971641667628861, 0.48676378231885253, 0.6990919436392687, 0.7033355305417126, 0.46870076131875027, 0.9668534816608918, 0.4539700302028994, 0.4617555336112079, 0.4537348257972166, 0.4420418356569746, 0.4346550120568801, 0.4400446454423759, 0.4675379831231944, 0.440812029513442, 0.4424403132692672, 0.4381312654372383, 0.4354184027584967, 0.434490070733918, 0.4297110690313468, 0.4294347683046195, 0.4175409217908592, 0.42855824898492473, 0.42411565074674623, 0.6318064991565812, 0.4285918640568738, 0.8564641128291355, 10.552553380836144, 556.3145987678342, 12.443784035949191, 882.2376015222945, 241.0263638734586, 2554.937156333847, 955.6319905724241, 3559.268121947755, 6295.091444864514, 1662.1618151127086, 1292.307960069975, 3140.1414566031904, 1140.338411309642, 1973.8324188120635, 3052.661342639965, 966.8291801374788, 787.2107205148, 809.7632330311945, 3084.326737989646, 3052.4640253016605, 1707.9828142859556, 3446.0967936206116, 788.7289563096068, 1427.3182595943827, 354.47575850211587, 491.5147463217732, 1298.0121496505456, 1531.520759168119, 1239.2832216596316, 636.7281949692639, 1096.6929755490207, 938.7106312346202, 1935.0323349412613, 1984.1960306184474, 3484.5173573643287, 1838.9681920916155, 1654.4615732761856, 3468.100264949337, 1853.352067022716, 1488.729502504218, 2361.31563596105, 1650.6252728535503, 1279.8481879981211, 1418.565900176964, 1641.7421622303195, 1574.2172910867164, 1566.2962318931088, 1533.1799433134513, 11.374589117214894, 0.6214062811127222, 0.6084353273381283, 0.5997796023043134, 0.5966618209481566, 0.8277622750296093, 0.578702798216299, 0.575058063768391, 2.299098587487192, 0.8112097801244542, 0.5661435540359281, 0.7700719079997949, 0.4951542437862645, 0.5258709856109027, 0.5166044407161431, 0.5246262287667355, 0.8155898150050646, 0.48507454311886933, 0.4902293681463477, 0.48789585837833144, 3.091205365004198, 0.477147764974636, 0.4754394927231076, 0.7446240617383564, 0.4770354050082164, 0.47572877442873507, 0.7214656903037666, 0.46958387188941325, 0.7122624853465798, 1.4230782200511618, 131.20878390261714, 965.6989676711404, 204.80966624624145, 410.5180652126264, 1541.7342927796853, 605.3892729874509, 3393.241205153153, 1276.05963211745, 318.43854900433007, 203.31053973166743, 2232.071524235833, 560.984179480588, 1272.5545845181643, 2010.2578028947983, 2961.4933695122863, 920.5125001827872, 875.593180219778, 935.3317309301815, 676.6497993759792, 396.4610156636634, 786.6933101102454, 675.0952089713786, 1043.7814149054316, 3185.8214205036165, 470.0407158810041, 291.00242808659016, 3774.5901437328635, 1173.7933773940442, 551.1298990042307, 1724.8329426996524, 2535.6638174527375, 821.9117917686292, 708.7687591746543, 1746.2499866460334, 995.050062906932, 1591.2662866122896, 3257.3903326267214, 4286.815545803957, 1810.9020900050443, 1460.7930967738139, 2567.715114558594, 1758.72074141473, 1742.734929772662, 1629.7604533542883, 1455.1426613670264, 2251.702513314384, 2248.201069053769, 1766.8302552788605, 1389.737560318558, 1322.299375517828, 1519.2587680987551, 1466.812774301618, 1203.7313163694728, 0.4996184795487291, 0.32933924053688524, 0.3189002166653801, 0.3117022893164345, 0.44363872213315814, 0.4323302967883475, 0.2700111845134972, 0.2750387112750988, 1.872508771694353, 0.6445338028141473, 0.25234296989220706, 0.2521706376588812, 0.5236208218892299, 0.24980022103865773, 0.3700043246881856, 0.2551434035499984, 0.3772206614151719, 3.4853448982249082, 0.2524580517491259, 0.24447853937919548, 0.24335377751806725, 0.24163675435330503, 0.24061245376981835, 0.24198497517707823, 0.24116389832112972, 0.24048182156705447, 0.24075373179978254, 0.35862172721543556, 0.2381313716838727, 0.23441321193541892, 0.8278865592671149, 2.3127355759422983, 9.82208526149078, 0.8029075436355587, 6.996652598086671, 100.69602212929607, 1.5407698268903613, 4.625939010421471, 40.72243382677681, 485.95069343795177, 287.8426144490568, 889.2025869374555, 381.2602751236343, 56.393070638889974, 316.11384944599166, 2042.5954551202567, 526.5604217052035, 398.3485575178849, 1545.8592076745533, 586.0119274846198, 236.14845015700922, 486.30034517247265, 394.48301359051015, 1314.354818050277, 636.8436254321905, 1334.53217474062, 367.2359320879909, 499.99065060142675, 371.1549591635936, 289.33304959624746, 354.38124432029116, 1729.3427279852308, 855.8008256385476, 1258.6886433769057, 632.8670212602088, 1393.0857253575762, 351.04174892829053, 282.266181026967, 2167.259794224648, 527.5086467426333, 1145.5446743693149, 848.8351156718345, 847.1072791359364, 831.562653214839, 524.557386166274, 856.1086334146419, 1046.4419954385505, 747.493903975364, 782.8752320174058, 744.3867401409304, 766.1873472731287, 711.1960075879899, 623.2662368057256, 598.090502651399, 620.5468079444265, 631.1726979742907, 628.3605840310158, 603.0489879229351], \"Total\": [71641.0, 48536.0, 37640.0, 51116.0, 34623.0, 33908.0, 40169.0, 33376.0, 34869.0, 25406.0, 23973.0, 17709.0, 20342.0, 23416.0, 34037.0, 21666.0, 21765.0, 23139.0, 23182.0, 13875.0, 21122.0, 22181.0, 22888.0, 18082.0, 16338.0, 12424.0, 15133.0, 19554.0, 16801.0, 16821.0, 2.163185789695934, 3.2545547017204357, 38.487534348453146, 3.2496126365579903, 3.2277289176488573, 3.213323894735355, 3.1977483910611078, 6.509021363105511, 2.089947854018104, 3.069081926786109, 3.173464302966562, 30.07815896355804, 2.0827913026064424, 5.195490927835027, 3.070429188129121, 2.082408830475655, 4.2079243727271916, 2.081618996930491, 2.0641876948720914, 3.0480283280526046, 2.0722663863062523, 4.0980839479492115, 2.0727305789194164, 4.098476042638056, 2.0738041601578714, 2.061623683184398, 23.83038469807565, 3.1012139473785334, 2.0624217174143302, 2.0698552726405848, 48536.10589972708, 9539.178300223008, 5340.178445402962, 375.38264204128853, 73.92933499027153, 22888.90351366869, 14498.35606298066, 23973.044984171956, 12109.144235499443, 12796.451015473998, 2195.443322865589, 4952.665109876978, 6893.786749543563, 71641.55827170135, 21666.883728793015, 21765.421224110196, 34623.60384606202, 2608.7164398901814, 9163.453849389907, 22181.174322845938, 8130.07828735362, 37640.16800259047, 40169.51529227285, 19610.577266974105, 7773.680810108793, 34037.66150690256, 13071.263739650734, 6990.1030216437775, 25406.161095036507, 6839.973669844113, 12313.837834123602, 33376.578347139744, 17508.547343275193, 51116.0087648118, 23139.540641941847, 16821.863269634985, 21122.96230889122, 15133.901995464472, 34869.01928847272, 20342.933448180298, 16801.340036967187, 33908.19197379966, 16338.423936927458, 23182.468816860342, 23416.833924351868, 17709.312378443512, 18082.4133178762, 16257.638914890524, 4.120875325883171, 4.048098108249322, 780.176016452345, 2.983038284349098, 1.960459917118235, 3.8717355950229804, 1.9108172998305686, 3.1199424931356923, 2.974222821714535, 1.9787256681326848, 1.8980789782948781, 3.9932416650734543, 3.9815892334911682, 1.9330576047494092, 2.996725707249429, 1.888241572509031, 4.060480354729891, 1.936594110392432, 3.948730512240095, 3.0368199235526805, 1.9634223545706373, 7.04207406282616, 14.869363467391429, 3.901913614789885, 1.965595278985567, 1.978270608927317, 4.116296489785513, 3.0059804904649887, 3.1287913016487074, 4.125442571194599, 21.22776825361455, 7.15756766823251, 12424.05779959409, 10141.019434110902, 34037.66150690256, 3281.3050778973543, 4547.971231211967, 12884.668402189778, 907.0470790103469, 928.8314237914071, 5173.360216936777, 138.13484044332273, 34869.01928847272, 23182.468816860342, 19554.432207982652, 1719.319225715934, 51116.0087648118, 11389.459097896412, 6325.236110496771, 5551.046795457152, 1609.9932641994535, 1090.06571162247, 33908.19197379966, 10824.60651683634, 6699.97900595012, 23139.540641941847, 1842.2199141637686, 4492.369232636949, 71641.55827170135, 4238.057241969868, 10776.550557619748, 7515.029083888264, 7893.908472239969, 7446.548170428582, 40169.51529227285, 7601.550756163777, 13875.580357850158, 6764.8183483287685, 9677.568458958662, 16257.638914890524, 48536.10589972708, 23416.833924351868, 10548.87460829712, 21122.96230889122, 18082.4133178762, 17508.547343275193, 14498.35606298066, 33376.578347139744, 17709.312378443512, 13453.994484462522, 25406.161095036507, 21765.421224110196, 16821.863269634985, 15190.651684800276, 15133.901995464472, 34623.60384606202, 37640.16800259047, 19610.577266974105, 22888.90351366869, 22181.174322845938, 21666.883728793015, 23973.044984171956, 7.785108569510692, 3.84224785655258, 1.9360918509415896, 1.8675688315445333, 1.991732611294061, 1.894134677939266, 1.8938905685440681, 1.8984965801038522, 1.90409043971496, 1.8856657154651282, 1.8645380085441445, 1.8940317870927312, 3.718684851495749, 1.8809947470020727, 3.902231969644345, 1.9298248978204302, 1.897939913814924, 1.91478838365041, 1.8674397943452992, 1.9227059380586615, 1.8885403471577784, 1.9347688569436625, 4.107889935129198, 1.8923748272634058, 1.8947314665319586, 1.9056511215070127, 1.9453451953426668, 1.9146381858760662, 2.8744555620138272, 1.8657829056781925, 40.54903615666794, 14.772655856229058, 34.0881113401004, 5.719038582841121, 5.766860786243637, 8485.710305761626, 3999.8025663688995, 12472.653559110642, 16801.340036967187, 3364.991306837696, 37640.16800259047, 1553.8712841005615, 6864.665684753401, 20342.933448180298, 33376.578347139744, 7703.550004417812, 51116.0087648118, 23416.833924351868, 4823.789211447104, 23973.044984171956, 7994.540433680596, 7393.887967166982, 5656.662526480892, 5242.0093607912595, 16338.423936927458, 8128.481612830851, 12884.668402189778, 7202.213457553712, 8481.796648044217, 6794.980777492194, 14481.764178936905, 12400.680425781607, 19554.432207982652, 71641.55827170135, 34623.60384606202, 11389.459097896412, 23182.468816860342, 22888.90351366869, 15190.651684800276, 34037.66150690256, 48536.10589972708, 34869.01928847272, 19610.577266974105, 40169.51529227285, 13327.770087240271, 21122.96230889122, 33908.19197379966, 22181.174322845938, 21765.421224110196, 25406.161095036507, 21666.883728793015, 23139.540641941847, 17709.312378443512, 18082.4133178762, 2.5912955835781726, 1.872193249550454, 1.8757096349343465, 14.729933510416073, 1.7562292702089024, 1.8185404487338088, 9.605632416351073, 1.848042881262569, 1.860325302317787, 3.8925494661008653, 1.8661066416145808, 1.8130831960798215, 1.820138705030734, 1.818765754191559, 1.8214303608323048, 1.72196650318872, 3.7070691261844164, 1.8177433789075983, 1.8656137443940266, 1.8410596571514557, 1.8539746537478976, 1.8096122032019535, 1.7501748608808991, 39.82291714365429, 1.827827898945518, 1.7172258785937842, 1.8125408274946633, 1.8422205392417763, 1.832941154137625, 1.8659644678065361, 3.728100686848128, 11.416714988414281, 8.456770648465172, 5.443886831901969, 7010.501145626145, 111.63887357511389, 6893.786749543563, 4534.590783477135, 2591.3427182379455, 4640.573353133317, 22181.174322845938, 6794.980777492194, 3563.3727552760233, 11628.690488956136, 10291.231514859117, 9253.132409871434, 5059.2025242017935, 4231.1242738039155, 2847.9960261831097, 4131.833548298347, 13071.263739650734, 6646.17659747723, 25406.161095036507, 2733.2517035502274, 1816.8640596371508, 3583.958108186329, 7265.914310119582, 3160.522591312259, 71641.55827170135, 13327.770087240271, 33908.19197379966, 13879.451105295651, 17508.547343275193, 7356.063385916236, 34869.01928847272, 21666.883728793015, 12759.79610414525, 9677.568458958662, 7773.680810108793, 51116.0087648118, 37640.16800259047, 40169.51529227285, 16801.340036967187, 11509.904739128342, 19610.577266974105, 33376.578347139744, 20342.933448180298, 48536.10589972708, 34623.60384606202, 22888.90351366869, 19554.432207982652, 23416.833924351868, 21122.96230889122, 18082.4133178762, 23182.468816860342, 23139.540641941847, 34037.66150690256, 16821.863269634985, 21765.421224110196, 17709.312378443512, 16257.638914890524, 23973.044984171956, 8.190305094377853, 1.739655885321771, 23.935141503419192, 1.7178589363849754, 3.2935763243953016, 1.7107471975666773, 2.5319568531137735, 2.581060513904404, 1.7211860418542644, 3.554040611514781, 1.7135732085126814, 1.7652621303965792, 1.7602099492187655, 1.7332695429866405, 1.7058360271099942, 1.736698074740652, 1.8457365101422893, 1.7408377006759221, 1.7480393864054116, 1.7479314742569845, 1.7375434093723943, 1.7518365652590229, 1.7486129328226754, 1.7504790660395564, 1.7107574368308807, 1.758111360688503, 1.7442504950737705, 2.607745223864602, 1.774825223149511, 3.5769918118916815, 44.55215972027146, 4079.6359507397347, 67.5920642293553, 7010.501145626145, 1842.2199141637686, 25406.161095036507, 8568.163877376239, 37640.16800259047, 71641.55827170135, 16338.423936927458, 12424.05779959409, 33908.19197379966, 10973.160821396112, 20342.933448180298, 33376.578347139744, 9201.721048350131, 7436.2415332634755, 7701.221692878572, 34623.60384606202, 34869.01928847272, 18082.4133178762, 40169.51529227285, 7626.277279836399, 15190.651684800276, 3080.086588807529, 4522.874256976522, 13875.580357850158, 16821.863269634985, 13327.770087240271, 6099.337174057066, 11608.304317078393, 9677.568458958662, 23139.540641941847, 23973.044984171956, 48536.10589972708, 22181.174322845938, 19610.577266974105, 51116.0087648118, 23416.833924351868, 17709.312378443512, 34037.66150690256, 21122.96230889122, 14481.764178936905, 17508.547343275193, 23182.468816860342, 21666.883728793015, 21765.421224110196, 22888.90351366869, 28.537406594816666, 1.7795872350573625, 1.7928921036428467, 1.7761983698191575, 1.778469399426368, 2.488528416898755, 1.776205558733784, 1.7940483093360187, 7.217036301509831, 2.5590907428052287, 1.8048479006465192, 2.552876943750785, 1.686099560531223, 1.7954731691085328, 1.7753510451150527, 1.8201657404541385, 2.8416435082958826, 1.6956209590709403, 1.723085782128035, 1.730670093069548, 11.145917589777513, 1.7323330071424545, 1.7303158535127359, 2.77885358723333, 1.8016940825681846, 1.8067613848311852, 2.748678901898711, 1.8118714153957813, 2.749427508397069, 5.5048546638911064, 518.727706326066, 7010.501145626145, 1304.2699464460866, 3106.5882761015505, 13875.580357850158, 4944.138879455669, 34623.60384606202, 11628.690488956136, 2533.9330155285625, 1532.0592700310171, 23973.044984171956, 5013.042436490408, 12796.451015473998, 21666.883728793015, 33908.19197379966, 8895.818281980224, 8409.409510591246, 9253.132409871434, 6388.780426806526, 3448.0514855556003, 7701.221692878572, 6448.83604963992, 10776.550557619748, 40169.51529227285, 4298.798850711389, 2446.6330976439262, 51116.0087648118, 12759.79610414525, 5227.46197575082, 20342.933448180298, 33376.578347139744, 8485.710305761626, 7097.068511826387, 21765.421224110196, 10824.60651683634, 19554.432207982652, 48536.10589972708, 71641.55827170135, 23416.833924351868, 17709.312378443512, 37640.16800259047, 23139.540641941847, 22888.90351366869, 21122.96230889122, 18082.4133178762, 34037.66150690256, 34869.01928847272, 25406.161095036507, 17508.547343275193, 16821.863269634985, 22181.174322845938, 23182.468816860342, 15190.651684800276, 2.4080125412479347, 1.593266031886463, 1.6077389690549777, 1.6188182990033166, 2.458301045224898, 2.435744031060539, 1.6535143795388698, 1.7124288798036242, 11.965324622582143, 4.125040683762017, 1.6580425161534456, 1.6776738778306024, 3.507262303069215, 1.674348992465596, 2.4888639651607587, 1.7441011408199165, 2.5797985433971244, 23.935141503419192, 1.7387003244549382, 1.6840432817048625, 1.6821416168195127, 1.6790547141452852, 1.6815307460421454, 1.6925030235404162, 1.6885227138824759, 1.68481154965876, 1.689859854142331, 2.521101080021648, 1.6850484961257708, 1.6846137115824098, 6.096708380655683, 18.490708511701722, 89.67148602277031, 6.095832145536724, 65.3250982882996, 1304.2699464460866, 13.070625070340354, 44.89090070953944, 518.727706326066, 8481.796648044217, 4839.68203123883, 17709.312378443512, 6794.980777492194, 780.176016452345, 5652.848859980669, 48536.10589972708, 10263.956061242594, 7626.277279836399, 37640.16800259047, 12424.05779959409, 4363.956258033892, 10141.019434110902, 7994.540433680596, 33908.19197379966, 14498.35606298066, 34623.60384606202, 7601.550756163777, 11087.181652134705, 7745.196392187981, 5799.826314157952, 7436.2415332634755, 51116.0087648118, 21765.421224110196, 34869.01928847272, 15133.901995464472, 40169.51529227285, 7356.063385916236, 5653.806654539859, 71641.55827170135, 12400.680425781607, 33376.578347139744, 23182.468816860342, 23973.044984171956, 23416.833924351868, 12796.451015473998, 25406.161095036507, 34037.66150690256, 21122.96230889122, 23139.540641941847, 21666.883728793015, 22888.90351366869, 20342.933448180298, 16801.340036967187, 16338.423936927458, 18082.4133178762, 19610.577266974105, 22181.174322845938, 19554.432207982652], \"Category\": [\"Default\", \"Default\", \"Default\", \"Default\", \"Default\", \"Default\", \"Default\", \"Default\", \"Default\", \"Default\", \"Default\", \"Default\", \"Default\", \"Default\", \"Default\", \"Default\", \"Default\", \"Default\", \"Default\", \"Default\", \"Default\", \"Default\", \"Default\", \"Default\", \"Default\", \"Default\", \"Default\", \"Default\", \"Default\", \"Default\", \"Topic1\", \"Topic1\", \"Topic1\", \"Topic1\", \"Topic1\", \"Topic1\", \"Topic1\", \"Topic1\", \"Topic1\", \"Topic1\", \"Topic1\", \"Topic1\", \"Topic1\", \"Topic1\", \"Topic1\", \"Topic1\", \"Topic1\", \"Topic1\", \"Topic1\", \"Topic1\", \"Topic1\", \"Topic1\", \"Topic1\", \"Topic1\", \"Topic1\", \"Topic1\", \"Topic1\", \"Topic1\", \"Topic1\", \"Topic1\", \"Topic1\", \"Topic1\", \"Topic1\", \"Topic1\", \"Topic1\", \"Topic1\", \"Topic1\", \"Topic1\", \"Topic1\", \"Topic1\", \"Topic1\", \"Topic1\", \"Topic1\", \"Topic1\", \"Topic1\", \"Topic1\", \"Topic1\", \"Topic1\", \"Topic1\", \"Topic1\", \"Topic1\", \"Topic1\", \"Topic1\", \"Topic1\", \"Topic1\", \"Topic1\", \"Topic1\", \"Topic1\", \"Topic1\", \"Topic1\", \"Topic1\", \"Topic1\", \"Topic1\", \"Topic1\", \"Topic1\", \"Topic1\", \"Topic1\", \"Topic1\", \"Topic1\", \"Topic1\", \"Topic1\", \"Topic1\", \"Topic1\", \"Topic1\", \"Topic1\", \"Topic1\", \"Topic1\", \"Topic1\", \"Topic2\", \"Topic2\", \"Topic2\", \"Topic2\", \"Topic2\", \"Topic2\", \"Topic2\", \"Topic2\", \"Topic2\", \"Topic2\", \"Topic2\", \"Topic2\", \"Topic2\", \"Topic2\", \"Topic2\", \"Topic2\", \"Topic2\", \"Topic2\", \"Topic2\", \"Topic2\", \"Topic2\", \"Topic2\", \"Topic2\", \"Topic2\", \"Topic2\", \"Topic2\", \"Topic2\", \"Topic2\", \"Topic2\", \"Topic2\", \"Topic2\", \"Topic2\", \"Topic2\", \"Topic2\", \"Topic2\", \"Topic2\", \"Topic2\", \"Topic2\", \"Topic2\", \"Topic2\", \"Topic2\", \"Topic2\", \"Topic2\", \"Topic2\", \"Topic2\", \"Topic2\", \"Topic2\", \"Topic2\", \"Topic2\", \"Topic2\", \"Topic2\", \"Topic2\", \"Topic2\", \"Topic2\", \"Topic2\", \"Topic2\", \"Topic2\", \"Topic2\", \"Topic2\", \"Topic2\", \"Topic2\", \"Topic2\", \"Topic2\", \"Topic2\", \"Topic2\", \"Topic2\", \"Topic2\", \"Topic2\", \"Topic2\", \"Topic2\", \"Topic2\", \"Topic2\", \"Topic2\", \"Topic2\", \"Topic2\", \"Topic2\", \"Topic2\", \"Topic2\", \"Topic2\", \"Topic2\", \"Topic2\", \"Topic2\", \"Topic2\", \"Topic2\", \"Topic2\", \"Topic2\", \"Topic2\", \"Topic2\", \"Topic2\", \"Topic2\", \"Topic2\", \"Topic2\", \"Topic3\", \"Topic3\", \"Topic3\", \"Topic3\", \"Topic3\", \"Topic3\", \"Topic3\", \"Topic3\", \"Topic3\", \"Topic3\", \"Topic3\", \"Topic3\", \"Topic3\", \"Topic3\", \"Topic3\", \"Topic3\", \"Topic3\", \"Topic3\", \"Topic3\", \"Topic3\", \"Topic3\", \"Topic3\", \"Topic3\", \"Topic3\", \"Topic3\", \"Topic3\", \"Topic3\", \"Topic3\", \"Topic3\", \"Topic3\", \"Topic3\", \"Topic3\", \"Topic3\", \"Topic3\", \"Topic3\", \"Topic3\", \"Topic3\", \"Topic3\", \"Topic3\", \"Topic3\", \"Topic3\", \"Topic3\", \"Topic3\", \"Topic3\", \"Topic3\", \"Topic3\", \"Topic3\", \"Topic3\", \"Topic3\", \"Topic3\", \"Topic3\", \"Topic3\", \"Topic3\", \"Topic3\", \"Topic3\", \"Topic3\", \"Topic3\", \"Topic3\", \"Topic3\", \"Topic3\", \"Topic3\", \"Topic3\", \"Topic3\", \"Topic3\", \"Topic3\", \"Topic3\", \"Topic3\", \"Topic3\", \"Topic3\", \"Topic3\", \"Topic3\", \"Topic3\", \"Topic3\", \"Topic3\", \"Topic3\", \"Topic3\", \"Topic3\", \"Topic3\", \"Topic3\", \"Topic3\", \"Topic3\", \"Topic3\", \"Topic3\", \"Topic3\", \"Topic4\", \"Topic4\", \"Topic4\", \"Topic4\", \"Topic4\", \"Topic4\", \"Topic4\", \"Topic4\", \"Topic4\", \"Topic4\", \"Topic4\", \"Topic4\", \"Topic4\", \"Topic4\", \"Topic4\", \"Topic4\", \"Topic4\", \"Topic4\", \"Topic4\", \"Topic4\", \"Topic4\", \"Topic4\", \"Topic4\", \"Topic4\", \"Topic4\", \"Topic4\", \"Topic4\", \"Topic4\", \"Topic4\", \"Topic4\", \"Topic4\", \"Topic4\", \"Topic4\", \"Topic4\", \"Topic4\", \"Topic4\", \"Topic4\", \"Topic4\", \"Topic4\", \"Topic4\", \"Topic4\", \"Topic4\", \"Topic4\", \"Topic4\", \"Topic4\", \"Topic4\", \"Topic4\", \"Topic4\", \"Topic4\", \"Topic4\", \"Topic4\", \"Topic4\", \"Topic4\", \"Topic4\", \"Topic4\", \"Topic4\", \"Topic4\", \"Topic4\", \"Topic4\", \"Topic4\", \"Topic4\", \"Topic4\", \"Topic4\", \"Topic4\", \"Topic4\", \"Topic4\", \"Topic4\", \"Topic4\", \"Topic4\", \"Topic4\", \"Topic4\", \"Topic4\", \"Topic4\", \"Topic4\", \"Topic4\", \"Topic4\", \"Topic4\", \"Topic4\", \"Topic4\", \"Topic4\", \"Topic4\", \"Topic4\", \"Topic4\", \"Topic4\", \"Topic4\", \"Topic4\", \"Topic4\", \"Topic4\", \"Topic4\", \"Topic4\", \"Topic4\", \"Topic4\", \"Topic5\", \"Topic5\", \"Topic5\", \"Topic5\", \"Topic5\", \"Topic5\", \"Topic5\", \"Topic5\", \"Topic5\", \"Topic5\", \"Topic5\", \"Topic5\", \"Topic5\", \"Topic5\", \"Topic5\", \"Topic5\", \"Topic5\", \"Topic5\", \"Topic5\", \"Topic5\", \"Topic5\", \"Topic5\", \"Topic5\", \"Topic5\", \"Topic5\", \"Topic5\", \"Topic5\", \"Topic5\", \"Topic5\", \"Topic5\", \"Topic5\", \"Topic5\", \"Topic5\", \"Topic5\", \"Topic5\", \"Topic5\", \"Topic5\", \"Topic5\", \"Topic5\", \"Topic5\", \"Topic5\", \"Topic5\", \"Topic5\", \"Topic5\", \"Topic5\", \"Topic5\", \"Topic5\", \"Topic5\", \"Topic5\", \"Topic5\", \"Topic5\", \"Topic5\", \"Topic5\", \"Topic5\", \"Topic5\", \"Topic5\", \"Topic5\", \"Topic5\", \"Topic5\", \"Topic5\", \"Topic5\", \"Topic5\", \"Topic5\", \"Topic5\", \"Topic5\", \"Topic5\", \"Topic5\", \"Topic5\", \"Topic5\", \"Topic5\", \"Topic5\", \"Topic5\", \"Topic5\", \"Topic5\", \"Topic5\", \"Topic5\", \"Topic5\", \"Topic5\", \"Topic6\", \"Topic6\", \"Topic6\", \"Topic6\", \"Topic6\", \"Topic6\", \"Topic6\", \"Topic6\", \"Topic6\", \"Topic6\", \"Topic6\", \"Topic6\", \"Topic6\", \"Topic6\", \"Topic6\", \"Topic6\", \"Topic6\", \"Topic6\", \"Topic6\", \"Topic6\", \"Topic6\", \"Topic6\", \"Topic6\", \"Topic6\", \"Topic6\", \"Topic6\", \"Topic6\", \"Topic6\", \"Topic6\", \"Topic6\", \"Topic6\", \"Topic6\", \"Topic6\", \"Topic6\", \"Topic6\", \"Topic6\", \"Topic6\", \"Topic6\", \"Topic6\", \"Topic6\", \"Topic6\", \"Topic6\", \"Topic6\", \"Topic6\", \"Topic6\", \"Topic6\", \"Topic6\", \"Topic6\", \"Topic6\", \"Topic6\", \"Topic6\", \"Topic6\", \"Topic6\", \"Topic6\", \"Topic6\", \"Topic6\", \"Topic6\", \"Topic6\", \"Topic6\", \"Topic6\", \"Topic6\", \"Topic6\", \"Topic6\", \"Topic6\", \"Topic6\", \"Topic6\", \"Topic6\", \"Topic6\", \"Topic6\", \"Topic6\", \"Topic6\", \"Topic6\", \"Topic6\", \"Topic6\", \"Topic6\", \"Topic6\", \"Topic6\", \"Topic6\", \"Topic6\", \"Topic6\", \"Topic6\", \"Topic6\", \"Topic6\", \"Topic7\", \"Topic7\", \"Topic7\", \"Topic7\", \"Topic7\", \"Topic7\", \"Topic7\", \"Topic7\", \"Topic7\", \"Topic7\", \"Topic7\", \"Topic7\", \"Topic7\", \"Topic7\", \"Topic7\", \"Topic7\", \"Topic7\", \"Topic7\", \"Topic7\", \"Topic7\", \"Topic7\", \"Topic7\", \"Topic7\", \"Topic7\", \"Topic7\", \"Topic7\", \"Topic7\", \"Topic7\", \"Topic7\", \"Topic7\", \"Topic7\", \"Topic7\", \"Topic7\", \"Topic7\", \"Topic7\", \"Topic7\", \"Topic7\", \"Topic7\", \"Topic7\", \"Topic7\", \"Topic7\", \"Topic7\", \"Topic7\", \"Topic7\", \"Topic7\", \"Topic7\", \"Topic7\", \"Topic7\", \"Topic7\", \"Topic7\", \"Topic7\", \"Topic7\", \"Topic7\", \"Topic7\", \"Topic7\", \"Topic7\", \"Topic7\", \"Topic7\", \"Topic7\", \"Topic7\", \"Topic7\", \"Topic7\", \"Topic7\", \"Topic7\", \"Topic7\", \"Topic7\", \"Topic7\", \"Topic7\", \"Topic7\", \"Topic7\", \"Topic7\", \"Topic7\", \"Topic7\", \"Topic7\", \"Topic7\", \"Topic7\", \"Topic7\", \"Topic7\", \"Topic7\", \"Topic7\", \"Topic7\", \"Topic7\", \"Topic7\", \"Topic7\", \"Topic7\", \"Topic7\", \"Topic7\", \"Topic7\"], \"logprob\": [30.0, 29.0, 28.0, 27.0, 26.0, 25.0, 24.0, 23.0, 22.0, 21.0, 20.0, 19.0, 18.0, 17.0, 16.0, 15.0, 14.0, 13.0, 12.0, 11.0, 10.0, 9.0, 8.0, 7.0, 6.0, 5.0, 4.0, 3.0, 2.0, 1.0, -13.8648, -13.4886, -11.0199, -13.5154, -13.5979, -13.627, -13.6329, -12.9255, -14.1028, -13.7209, -13.6911, -11.4511, -14.1252, -13.2148, -13.7479, -14.137, -13.4366, -14.1406, -14.1532, -13.7636, -14.1533, -13.4787, -14.161, -13.4863, -14.1785, -14.1846, -11.7392, -13.7795, -14.1881, -14.1865, -4.446, -6.008, -6.5891, -9.1446, -10.7231, -5.237, -5.6738, -5.2077, -5.8582, -5.8151, -7.4928, -6.7243, -6.4121, -4.1897, -5.3347, -5.3339, -4.9096, -7.3409, -6.1647, -5.3344, -6.2811, -4.8435, -4.7843, -5.4579, -6.3252, -4.9555, -5.8486, -6.4303, -5.2435, -6.451, -5.9244, -5.0308, -5.6132, -4.6627, -5.3737, -5.6559, -5.4595, -5.7585, -5.0622, -5.5174, -5.6776, -5.1236, -5.7088, -5.4686, -5.4918, -5.6831, -5.6814, -5.741, -13.3758, -13.4107, -8.1557, -13.7294, -14.1535, -13.4851, -14.2003, -13.7118, -13.7869, -14.1964, -14.2395, -13.5024, -13.5078, -14.2363, -13.7987, -14.2615, -13.4963, -14.2384, -13.527, -13.8032, -14.2412, -12.9709, -12.225, -13.5648, -14.2513, -14.2461, -13.5151, -13.8322, -13.7935, -13.517, -11.8992, -12.9811, -5.7728, -5.9701, -4.8156, -7.0619, -6.7508, -5.7554, -8.3091, -8.2867, -6.6389, -10.1316, -4.8291, -5.2332, -5.3952, -7.7265, -4.5054, -5.9342, -6.4977, -6.6223, -7.7998, -8.1715, -4.9074, -5.9916, -6.4542, -5.2937, -7.6803, -6.8428, -4.2419, -6.8999, -6.0332, -6.3691, -6.3234, -6.3782, -4.8111, -6.3617, -5.8131, -6.469, -6.1437, -5.6718, -4.7239, -5.3701, -6.077, -5.4844, -5.6199, -5.6584, -5.8223, -5.155, -5.6706, -5.893, -5.3932, -5.517, -5.7245, -5.8035, -5.8079, -5.2246, -5.1906, -5.6405, -5.5767, -5.6047, -5.6202, -5.6674, -12.1021, -12.9122, -13.6147, -13.8134, -13.7963, -13.8682, -13.8686, -13.8762, -13.8817, -13.8922, -13.9339, -13.9195, -13.2458, -13.9536, -13.2266, -13.9328, -13.959, -13.952, -13.9782, -13.9525, -13.9728, -13.9535, -13.201, -13.9764, -13.9814, -13.9774, -13.9572, -13.9764, -13.5726, -14.0094, -10.95, -11.9684, -11.1567, -12.9041, -12.9035, -6.0299, -6.7537, -5.7147, -5.4519, -6.956, -4.7348, -7.7068, -6.3301, -5.33, -4.8921, -6.2536, -4.5138, -5.2332, -6.6968, -5.2318, -6.2345, -6.3183, -6.5672, -6.6376, -5.6109, -6.2508, -5.838, -6.3667, -6.2237, -6.4238, -5.7431, -5.8828, -5.4901, -4.3655, -5.0017, -5.9772, -5.3845, -5.4207, -5.7649, -5.1221, -4.8391, -5.1081, -5.5823, -5.0425, -5.8794, -5.5507, -5.2271, -5.5257, -5.5418, -5.4875, -5.6006, -5.5765, -5.7659, -5.7603, -12.9717, -13.6537, -13.699, -11.6876, -13.8463, -13.8311, -12.1736, -13.8316, -13.8377, -13.1152, -13.8594, -13.889, -13.8862, -13.8899, -13.8925, -13.9561, -13.198, -13.9136, -13.8884, -13.9034, -13.8972, -13.9251, -13.9618, -10.8478, -13.9301, -13.9995, -13.949, -13.9385, -13.9446, -13.9307, -13.2397, -12.1679, -12.4614, -12.8964, -6.1363, -10.0337, -6.2359, -6.669, -7.213, -6.6814, -5.2551, -6.3682, -6.9578, -5.8867, -5.9989, -6.0969, -6.6478, -6.8158, -7.1793, -6.8427, -5.8102, -6.4205, -5.2147, -7.2224, -7.5947, -6.9861, -6.3725, -7.1181, -4.3464, -5.8492, -5.0276, -5.8172, -5.6185, -6.3752, -5.047, -5.4548, -5.9064, -6.1427, -6.3311, -4.7611, -5.0182, -4.9773, -5.698, -6.0051, -5.58, -5.1569, -5.5539, -4.8788, -5.1437, -5.4731, -5.597, -5.4684, -5.5473, -5.6658, -5.5005, -5.5568, -5.3886, -5.7653, -5.6475, -5.7601, -5.7968, -5.7206, -11.8223, -13.4079, -10.7989, -13.6504, -13.0078, -13.725, -13.363, -13.3569, -13.7628, -13.0387, -13.7947, -13.7777, -13.7952, -13.8214, -13.8382, -13.8259, -13.7653, -13.8241, -13.8205, -13.8302, -13.8365, -13.8386, -13.8496, -13.8503, -13.8784, -13.8523, -13.8628, -13.4642, -13.8523, -13.1599, -10.6486, -6.6837, -10.4838, -6.2225, -7.5201, -5.1592, -6.1426, -4.8277, -4.2575, -5.5891, -5.8408, -4.953, -5.9659, -5.4173, -4.9812, -6.131, -6.3365, -6.3083, -4.9709, -4.9813, -5.5619, -4.86, -6.3346, -5.7415, -7.1344, -6.8075, -5.8364, -5.671, -5.8827, -6.5487, -6.005, -6.1605, -5.4371, -5.412, -4.8489, -5.488, -5.5938, -4.8536, -5.4803, -5.6993, -5.238, -5.5961, -5.8505, -5.7476, -5.6015, -5.6435, -5.6485, -5.6699, -10.5399, -13.4471, -13.4682, -13.4825, -13.4877, -13.1603, -13.5183, -13.5246, -12.1388, -13.1805, -13.5402, -13.2326, -13.6742, -13.614, -13.6318, -13.6164, -13.1751, -13.6947, -13.6842, -13.6889, -11.8427, -13.7112, -13.7148, -13.2662, -13.7115, -13.7142, -13.2978, -13.7272, -13.3106, -12.6185, -8.0945, -6.0984, -7.6492, -6.9539, -5.6306, -6.5654, -4.8418, -5.8198, -7.2079, -7.6566, -5.2606, -6.6416, -5.8225, -5.3653, -4.9778, -6.1464, -6.1964, -6.1304, -6.4541, -6.9887, -6.3035, -6.4564, -6.0207, -4.9048, -6.8185, -7.298, -4.7352, -5.9033, -6.6593, -5.5184, -5.1331, -6.2597, -6.4078, -5.5061, -6.0685, -5.599, -4.8826, -4.608, -5.4697, -5.6846, -5.1205, -5.499, -5.5081, -5.5751, -5.6884, -5.2519, -5.2534, -5.4944, -5.7344, -5.7842, -5.6453, -5.6804, -5.8781, -12.922, -13.3388, -13.371, -13.3938, -13.0409, -13.0667, -13.5374, -13.519, -11.6008, -12.6673, -13.6051, -13.6058, -12.8751, -13.6152, -13.2224, -13.594, -13.203, -10.9796, -13.6046, -13.6367, -13.6414, -13.6484, -13.6527, -13.647, -13.6504, -13.6532, -13.6521, -13.2536, -13.663, -13.6788, -12.417, -11.3897, -9.9435, -12.4476, -10.2827, -7.616, -11.7958, -10.6964, -8.5213, -6.042, -6.5657, -5.4378, -6.2846, -8.1958, -6.472, -4.6061, -5.9618, -6.2408, -4.8848, -5.8548, -6.7637, -6.0413, -6.2505, -5.047, -5.7716, -5.0318, -6.3221, -6.0135, -6.3115, -6.5605, -6.3577, -4.7726, -5.4761, -5.0903, -5.7779, -4.9888, -6.3672, -6.5853, -4.5469, -5.96, -5.1845, -5.4843, -5.4863, -5.5048, -5.9656, -5.4757, -5.275, -5.6114, -5.5651, -5.6156, -5.5867, -5.6612, -5.7931, -5.8344, -5.7975, -5.7805, -5.785, -5.8261], \"loglift\": [30.0, 29.0, 28.0, 27.0, 26.0, 25.0, 24.0, 23.0, 22.0, 21.0, 20.0, 19.0, 18.0, 17.0, 16.0, 15.0, 14.0, 13.0, 12.0, 11.0, 10.0, 9.0, 8.0, 7.0, 6.0, 5.0, 4.0, 3.0, 2.0, 1.0, 0.837, 0.8047, 0.8031, 0.7794, 0.7037, 0.679, 0.678, 0.6746, 0.6334, 0.6311, 0.6275, 0.6185, 0.6145, 0.6108, 0.6036, 0.6029, 0.5998, 0.5996, 0.5954, 0.5953, 0.5914, 0.5842, 0.5835, 0.5765, 0.5655, 0.5653, 0.5632, 0.562, 0.5614, 0.5593, 0.2373, 0.3022, 0.3012, 0.4008, 0.4471, 0.1979, 0.2177, 0.181, 0.2134, 0.2013, 0.2864, 0.2414, 0.2229, 0.1042, 0.1551, 0.1514, 0.1115, 0.2658, 0.1857, 0.132, 0.1889, 0.094, 0.0882, 0.1317, 0.1897, 0.0826, 0.1466, 0.1908, 0.0871, 0.1918, 0.1305, 0.0269, 0.0897, -0.0312, 0.0504, 0.087, 0.0557, 0.0902, -0.0482, 0.0355, 0.0665, -0.0816, 0.0632, -0.0464, -0.0797, 0.0084, -0.0107, 0.0361, 0.6815, 0.6644, 0.6581, 0.651, 0.6467, 0.6346, 0.6256, 0.6238, 0.5964, 0.5945, 0.593, 0.5864, 0.5839, 0.578, 0.5771, 0.5762, 0.5757, 0.574, 0.5729, 0.5593, 0.5574, 0.5506, 0.549, 0.547, 0.5462, 0.5451, 0.5433, 0.5405, 0.5392, 0.5392, 0.5188, 0.524, 0.2731, 0.2789, 0.2226, 0.3154, 0.3001, 0.2542, 0.354, 0.3527, 0.2831, 0.4135, 0.1849, 0.189, 0.1972, 0.2971, 0.1261, 0.1987, 0.2234, 0.2293, 0.2896, 0.3078, 0.1346, 0.1922, 0.2092, 0.1304, 0.2743, 0.2204, 0.052, 0.2216, 0.155, 0.1796, 0.1761, 0.1796, 0.0614, 0.1756, 0.1224, 0.1849, 0.152, 0.1052, -0.0406, 0.042, 0.1326, 0.0308, 0.0508, 0.0445, 0.0692, -0.0973, 0.0209, 0.0733, -0.0626, -0.0318, 0.0184, 0.0414, 0.0407, -0.2035, -0.253, -0.051, -0.1417, -0.1384, -0.1304, -0.2788, 1.319, 1.2151, 1.198, 1.0353, 0.988, 0.9664, 0.9661, 0.9561, 0.9476, 0.9469, 0.9165, 0.9151, 0.9142, 0.8879, 0.8852, 0.8831, 0.8736, 0.8718, 0.8706, 0.8671, 0.8647, 0.8599, 0.8594, 0.8591, 0.8529, 0.8511, 0.8507, 0.8474, 0.8448, 0.8403, 0.8209, 0.8122, 0.7877, 0.8255, 0.8178, 0.3973, 0.4257, 0.3273, 0.2922, 0.3962, 0.2027, 0.418, 0.3091, 0.2228, 0.1656, 0.2703, 0.1177, 0.179, 0.2953, 0.1568, 0.2523, 0.2466, 0.2656, 0.2713, 0.1611, 0.2194, 0.1716, 0.2245, 0.204, 0.2256, 0.1496, 0.1651, 0.1023, -0.0716, 0.0194, 0.1557, 0.0377, 0.0142, 0.08, -0.084, -0.1558, -0.0942, 0.0072, -0.17, 0.0964, -0.0354, -0.1852, -0.0593, -0.0565, -0.1569, -0.1108, -0.1524, -0.0744, -0.0897, 1.5495, 1.1925, 1.1454, 1.0959, 1.0639, 1.0443, 1.0374, 1.0276, 1.0149, 0.9991, 0.9901, 0.9893, 0.9882, 0.9853, 0.9813, 0.9738, 0.9651, 0.9622, 0.9614, 0.9597, 0.9589, 0.9551, 0.9518, 0.9411, 0.9401, 0.9331, 0.9296, 0.9239, 0.9228, 0.9189, 0.9178, 0.8703, 0.877, 0.8824, 0.4819, 0.7243, 0.3991, 0.3848, 0.4005, 0.3494, 0.2113, 0.2812, 0.337, 0.2254, 0.2354, 0.2437, 0.2966, 0.3073, 0.3397, 0.3042, 0.185, 0.2511, 0.1159, 0.3377, 0.3738, 0.303, 0.2099, 0.2967, -0.0524, 0.1266, 0.0144, 0.118, 0.0844, 0.1949, -0.033, 0.0351, 0.1129, 0.1531, 0.1838, -0.1296, -0.0807, -0.1048, 0.0461, 0.1172, 0.0095, -0.0992, -0.001, -0.1955, -0.1227, -0.0381, -0.0046, -0.0562, -0.0321, 0.0048, -0.0783, -0.1327, -0.3505, -0.0224, -0.1622, -0.0686, -0.0197, -0.3319, 1.5481, 1.5117, 1.4991, 1.2819, 1.2735, 1.2114, 1.1814, 1.1682, 1.1675, 1.1666, 1.14, 1.1273, 1.1127, 1.102, 1.1011, 1.0955, 1.0952, 1.0948, 1.0944, 1.0847, 1.0844, 1.0741, 1.0649, 1.0632, 1.058, 1.0568, 1.0543, 1.0507, 1.0474, 1.0389, 1.0281, 0.4759, 0.7761, 0.3956, 0.4345, 0.1714, 0.2749, 0.1098, 0.0364, 0.1829, 0.2051, 0.089, 0.2042, 0.1356, 0.0765, 0.2152, 0.2227, 0.216, 0.0501, 0.0327, 0.1087, 0.0125, 0.1994, 0.1035, 0.3063, 0.2489, 0.099, 0.0719, 0.093, 0.2088, 0.1089, 0.1353, -0.0131, -0.0234, -0.1656, -0.0217, -0.0042, -0.2221, -0.0681, -0.0078, -0.1999, -0.0809, 0.0422, -0.0447, -0.1793, -0.1537, -0.1633, -0.235, 1.5822, 1.4499, 1.4214, 1.4164, 1.4099, 1.4013, 1.3806, 1.3643, 1.3581, 1.3532, 1.3427, 1.3036, 1.2768, 1.2741, 1.2676, 1.2581, 1.2538, 1.2506, 1.2451, 1.2359, 1.2195, 1.2127, 1.2102, 1.1851, 1.1732, 1.1676, 1.1645, 1.1518, 1.1514, 1.1492, 1.1275, 0.5197, 0.6507, 0.4782, 0.3048, 0.402, 0.1793, 0.2924, 0.428, 0.4824, 0.1281, 0.3119, 0.1939, 0.1245, 0.0641, 0.2336, 0.2398, 0.2102, 0.2569, 0.3391, 0.2208, 0.2453, 0.1675, -0.0323, 0.2888, 0.3729, -0.1038, 0.116, 0.2523, 0.0345, -0.0753, 0.1675, 0.1981, -0.0208, 0.1153, -0.0066, -0.1993, -0.3141, -0.0576, 0.0069, -0.183, -0.0749, -0.0731, -0.0599, -0.0178, -0.2137, -0.2394, -0.1638, -0.0315, -0.0413, -0.179, -0.2583, -0.0332, 1.6725, 1.6688, 1.6275, 1.5978, 1.533, 1.5164, 1.433, 1.4165, 1.3905, 1.3889, 1.3626, 1.3502, 1.3434, 1.3427, 1.3392, 1.3231, 1.3226, 1.3185, 1.3156, 1.3154, 1.3119, 1.3067, 1.301, 1.3001, 1.2991, 1.2985, 1.2966, 1.2951, 1.2885, 1.273, 1.2486, 1.1664, 1.0337, 1.2181, 1.0113, 0.6839, 1.1071, 0.9727, 0.7006, 0.3857, 0.423, 0.2537, 0.3648, 0.6181, 0.3614, 0.0771, 0.2752, 0.2932, 0.0527, 0.1912, 0.3286, 0.2077, 0.2363, -0.0051, 0.12, -0.0107, 0.2151, 0.1463, 0.207, 0.2472, 0.2015, -0.1411, 0.0092, -0.0763, 0.0708, -0.1164, 0.2029, 0.248, -0.253, 0.0879, -0.1267, -0.0621, -0.0976, -0.0927, 0.0509, -0.1451, -0.2368, -0.0962, -0.1411, -0.1257, -0.1517, -0.1083, -0.049, -0.0623, -0.1269, -0.191, -0.3187, -0.2337]}, \"token.table\": {\"Topic\": [3, 1, 1, 2, 3, 4, 5, 6, 7, 1, 2, 3, 4, 5, 6, 7, 4, 1, 2, 3, 4, 5, 6, 7, 1, 2, 3, 4, 5, 6, 7, 1, 2, 3, 4, 5, 6, 7, 1, 2, 3, 4, 5, 6, 7, 3, 1, 2, 2, 4, 1, 2, 3, 4, 5, 6, 7, 2, 3, 5, 4, 6, 6, 6, 1, 2, 3, 4, 5, 6, 7, 1, 2, 2, 1, 2, 3, 4, 5, 6, 7, 1, 3, 1, 2, 3, 4, 5, 6, 7, 1, 2, 3, 4, 5, 6, 7, 2, 1, 2, 3, 1, 1, 2, 3, 4, 5, 6, 1, 2, 3, 4, 5, 6, 7, 1, 2, 3, 4, 5, 6, 7, 1, 4, 4, 6, 1, 2, 3, 4, 5, 6, 7, 1, 2, 1, 2, 3, 4, 5, 6, 7, 3, 1, 2, 3, 4, 5, 6, 7, 4, 1, 2, 3, 5, 6, 7, 1, 2, 7, 1, 2, 3, 4, 5, 6, 7, 2, 2, 2, 1, 3, 1, 2, 3, 4, 5, 6, 7, 2, 1, 3, 1, 2, 3, 4, 5, 6, 7, 3, 3, 1, 2, 1, 2, 3, 4, 6, 1, 2, 4, 1, 2, 3, 4, 5, 6, 7, 1, 2, 3, 4, 5, 6, 7, 1, 2, 3, 4, 5, 6, 7, 3, 3, 1, 2, 3, 4, 5, 6, 7, 1, 2, 3, 4, 5, 6, 7, 2, 4, 1, 2, 3, 4, 5, 6, 7, 1, 2, 6, 1, 2, 3, 4, 5, 6, 7, 1, 2, 3, 4, 5, 6, 7, 1, 2, 3, 4, 5, 6, 7, 2, 1, 2, 3, 4, 5, 6, 7, 1, 2, 3, 4, 5, 6, 7, 1, 2, 3, 4, 5, 6, 7, 1, 2, 3, 4, 5, 6, 7, 1, 2, 3, 4, 5, 6, 7, 1, 1, 2, 3, 4, 5, 6, 7, 1, 2, 3, 4, 5, 6, 7, 1, 2, 3, 4, 5, 6, 7, 1, 2, 3, 4, 5, 6, 7, 1, 2, 3, 4, 5, 6, 7, 1, 2, 3, 4, 5, 6, 7, 1, 2, 1, 2, 3, 5, 7, 6, 3, 1, 2, 3, 4, 5, 6, 7, 1, 2, 3, 4, 5, 6, 7, 4, 1, 1, 2, 3, 4, 5, 6, 7, 1, 2, 3, 4, 5, 6, 7, 1, 2, 3, 4, 5, 6, 7, 1, 2, 3, 4, 5, 6, 7, 3, 1, 2, 3, 4, 5, 6, 7, 1, 2, 3, 4, 5, 6, 7, 1, 2, 3, 4, 5, 6, 7, 1, 2, 4, 1, 2, 3, 4, 5, 6, 7, 1, 2, 3, 4, 5, 6, 7, 1, 2, 3, 4, 5, 6, 7, 1, 2, 3, 5, 6, 1, 2, 3, 4, 5, 6, 7, 1, 2, 3, 2, 4, 1, 2, 3, 4, 5, 6, 7, 1, 2, 3, 4, 5, 6, 7, 1, 2, 3, 4, 5, 6, 7, 1, 2, 3, 4, 5, 6, 7, 1, 2, 3, 4, 5, 6, 7, 1, 2, 3, 4, 5, 6, 7, 1, 2, 3, 4, 5, 6, 7, 1, 2, 3, 4, 5, 6, 7, 1, 2, 3, 4, 5, 6, 7, 1, 2, 4, 1, 2, 3, 4, 5, 6, 7, 1, 2, 3, 4, 5, 6, 7, 1, 2, 3, 4, 5, 6, 7, 2, 1, 2, 3, 4, 5, 6, 7, 1, 5, 1, 2, 3, 4, 5, 6, 7, 1, 1, 2, 3, 4, 5, 6, 7, 1, 2, 1, 2, 3, 4, 5, 6, 7, 3, 6, 1, 1, 2, 3, 4, 5, 6, 7, 1, 2, 3, 4, 5, 6, 7, 1, 2, 3, 4, 5, 6, 7, 1, 2, 3, 4, 5, 6, 7, 1, 2, 3, 4, 5, 6, 7, 2, 3, 3, 1, 1, 2, 3, 4, 5, 6, 7, 1, 2, 3, 4, 5, 6, 7, 1, 2, 3, 4, 5, 6, 7, 1, 3, 3, 1, 2, 3, 4, 5, 6, 7, 3, 1, 2, 1, 2, 3, 5, 1, 2, 3, 4, 5, 1, 2, 1, 2, 3, 4, 5, 6, 7, 1, 2, 3, 4, 5, 6, 7, 1, 2, 3, 4, 5, 6, 7, 4, 1, 2, 1, 2, 3, 4, 5, 6, 7, 1, 2, 3, 3, 4, 1, 2, 3, 4, 5, 6, 7, 1, 2, 3, 4, 5, 6, 7, 1, 1, 1, 2, 3, 4, 5, 6, 7, 1, 2, 3, 4, 5, 6, 7, 1, 2, 3, 4, 5, 6, 7, 1, 2, 3, 4, 5, 6, 7, 1, 2, 3, 4, 5, 6, 7, 1, 2, 3, 4, 5, 6, 7, 1, 1, 2, 4, 5, 6, 7, 1, 6, 1, 2, 3, 4, 5, 6, 7, 1, 3, 1, 2, 3, 4, 5, 6, 7, 1, 2, 3, 4, 5, 6, 7, 1, 2, 3, 4, 5, 6, 7, 4, 6, 1, 6, 1, 2, 3, 5, 7, 1, 2, 3, 4, 5, 6, 7, 1, 2, 3, 4, 5, 6, 7, 2, 1, 2, 3, 4, 5, 6, 7, 1, 2, 3, 4, 5, 6, 7, 3, 1, 2, 3, 6, 1, 1, 2, 3, 4, 5, 6, 7, 4, 1, 2, 1, 2, 3, 4, 5, 6, 7, 2, 3, 1, 2, 3, 4, 5, 6, 7, 1, 2, 3, 4, 5, 6, 7, 4, 4, 1, 2, 3, 4, 5, 6, 1, 2, 6, 1, 2, 3, 4, 5, 6, 7, 1, 2, 3, 4, 5, 6, 7, 1, 2, 3, 4, 5, 6, 7, 1, 2, 3, 4, 5, 6, 7, 3, 1, 2, 3, 4, 5, 6, 7, 1, 2, 3, 4, 5, 6, 7, 1, 2, 3, 4, 5, 6, 7, 1, 2, 3, 4, 5, 6, 7, 2, 4, 1, 2, 3, 4, 1, 2, 3, 4, 5, 6, 7, 6, 4, 1, 2, 5, 1, 2, 3, 4, 5, 6, 7, 1, 2, 3, 4, 5, 6, 7, 6, 1, 2, 3, 4, 5, 6, 7, 4, 1, 2, 3, 1, 2, 3, 4, 5, 6, 7, 1, 2, 3, 4, 5, 6, 7, 1, 2, 3, 4, 5, 6, 7, 1, 2, 3, 4, 5, 6, 7, 2, 1, 2, 5, 1, 2, 3, 4, 5, 6, 7, 1, 2, 3, 4, 5, 6, 7, 3, 1, 2, 6, 1, 2, 3, 4, 5, 6, 7, 1, 2, 3, 4, 5, 6, 7, 1, 2, 3, 4, 5, 6, 1, 2, 3, 6, 1, 2, 3, 4, 5, 6, 7, 2, 3, 4, 4, 1, 2, 3, 4, 5, 6, 7, 1, 2, 3, 4, 5, 6, 7, 1, 2, 3, 4, 5, 6, 7, 1, 2, 3, 4, 5, 6, 7, 1, 2, 3, 4, 5, 6, 7, 1, 2, 3, 4, 5, 6, 7, 1, 3, 6, 3, 1, 2, 3, 4, 5, 6, 7, 3, 1, 2, 3, 4, 5, 6, 7, 1, 2, 3, 4, 5, 6, 7, 3, 1, 2, 3, 4, 5, 6, 7, 1, 2, 3, 4, 5, 6, 7, 1, 2, 3, 4, 5, 6, 7, 1, 2, 3, 4, 5, 6, 7, 2, 1, 2, 1, 1, 2, 3, 4, 5, 6, 7, 2, 1, 2, 3, 4, 5, 6, 7, 1, 2, 3, 4, 5, 6, 7, 1, 2, 3, 4, 5, 6, 7, 3, 5, 1, 2, 3, 4, 5, 6, 7, 4, 1, 2, 3, 4, 5, 1, 2, 3, 4, 5, 6, 7, 1, 2, 3, 4, 5, 6, 7, 5, 1, 2, 3, 4, 5, 6, 7, 1, 2, 3, 4, 5, 6, 7, 1, 2, 3, 4, 5, 6, 7, 1, 2, 3, 4, 5, 6, 7, 1, 2, 3, 4, 5, 6, 7, 1, 1, 2, 3, 4, 5, 6, 7, 1, 2, 3, 4, 5, 6, 7, 1, 2, 3, 4, 5, 1, 2, 3, 4, 5, 6, 7, 1, 2, 3, 4, 5, 6, 7, 1, 2, 3, 4, 5, 6, 7, 1, 2, 3, 4, 5, 6, 7, 1, 2, 3, 4, 5, 6, 7, 1, 2, 3, 4, 5, 6, 7, 1, 2, 3, 4, 5, 6, 7, 1, 2, 3, 4, 5, 6, 7, 1, 2, 3, 5, 1, 2, 3, 1, 2, 3, 4, 5, 6, 7, 1, 2, 3, 4, 5, 6, 7, 4, 1, 1, 2, 3, 4, 5, 6, 7, 1, 2, 3, 4, 5, 6, 7, 1, 2, 3, 4, 5, 6, 7, 3, 2, 1, 2, 3, 4, 5, 6, 7, 1, 2, 3, 4, 5, 6, 7, 2, 3, 6, 7, 1, 2, 3, 4, 5, 6, 7, 5, 1, 2, 3, 4, 5, 6, 7, 1, 2, 3, 4, 5, 6, 7, 1, 2, 3, 4, 5, 6, 7, 1, 2, 3, 4, 5, 6, 7, 1, 2, 3, 4, 5, 6, 7, 4, 6, 1, 2, 3, 4, 5, 6, 7, 1, 2, 3, 4, 5, 6, 7, 1, 2, 3, 4, 5, 6, 7, 2, 3, 1, 2, 1, 1, 2, 3, 4, 5, 6, 7, 4, 1, 2, 3, 4, 5, 6, 7, 1, 1, 2, 3, 4, 5, 6, 7, 1, 2, 3, 4, 5, 6, 7, 1, 1, 2, 3], \"Freq\": [0.5316335952526178, 0.4784808377287569, 0.33095499304152143, 0.21275678124097805, 0.1289852330716609, 0.13158635876824246, 0.07811027459440438, 0.0800228670183614, 0.037639818903474, 0.2590321261230267, 0.23268987600882057, 0.15219966732652415, 0.15329726108128272, 0.08341712536165266, 0.08963682330528465, 0.029269166793562337, 0.5393816997327621, 0.2603173451806243, 0.2392370328590295, 0.13628667035821762, 0.10074428330436591, 0.13628667035821762, 0.08407612937566304, 0.04265086446462207, 0.2827609296456745, 0.2526764497459587, 0.14538988539770747, 0.10994107728057911, 0.09445641850866655, 0.08046492326118843, 0.034342761061991765, 0.26423299921862975, 0.23214557059123542, 0.14955531951550743, 0.14816021392301204, 0.08175318772023074, 0.0943091380526894, 0.029855259679401672, 0.30551134544661945, 0.20492413060056705, 0.21301872303788252, 0.11457419442523717, 0.0577930092399508, 0.06713750198008703, 0.03708037565034948, 0.5267325790733306, 0.32929183329057304, 0.32929183329057304, 0.5053757658805204, 0.5358750554227631, 0.3867209400954124, 0.2212978868369248, 0.08774340657627006, 0.09371876401336371, 0.0811390641457981, 0.09403325651005284, 0.0354328212936431, 0.30362132269201303, 0.30362132269201303, 0.30362132269201303, 0.39171492478237574, 0.39171492478237574, 0.5573985911060011, 0.5632688829353152, 0.2815886082581563, 0.2993965834839685, 0.15225818818069478, 0.08213928572905903, 0.08614608015486679, 0.06166011421937493, 0.036728948903237774, 0.3336975411466199, 0.3336975411466199, 0.41528022918093166, 0.2830822501646472, 0.2888473717084703, 0.15018880739805826, 0.08632899952801774, 0.06652063319795888, 0.08085952524285223, 0.04419926516931045, 0.34789196716591636, 0.34789196716591636, 0.29124986357639304, 0.2010493461254952, 0.17018555461217594, 0.12638939975348698, 0.10508903659640749, 0.06987823219388833, 0.03618888230258913, 0.2763706473617858, 0.23096592713609151, 0.16041188582730312, 0.1329515460500868, 0.08360449981677238, 0.06797113806241657, 0.04771573891981643, 0.5165641999342492, 0.256284505174482, 0.512569010348964, 0.256284505174482, 0.6154579710517166, 0.14200361868938866, 0.42601085606816597, 0.14200361868938866, 0.14200361868938866, 0.14200361868938866, 0.14200361868938866, 0.21650070952945957, 0.3265858160698627, 0.11650673775526002, 0.12292836897011687, 0.09082021289583261, 0.09632446822285277, 0.029356028410774178, 0.19565299247176002, 0.32049823528707355, 0.17205040925294451, 0.1111805893728414, 0.08012455882176839, 0.07577671454461817, 0.04409956338252369, 0.6513747354058483, 0.5498915356522687, 0.550132659870265, 0.4018439143428454, 0.23983375473524965, 0.2562867299941322, 0.15598686158902123, 0.14712756721885367, 0.08289768303513906, 0.07656961562787654, 0.04144884151756953, 0.48803295037449207, 0.24401647518724603, 0.26070930437927453, 0.27202911135367996, 0.17528013611930873, 0.10966063006455239, 0.07057192160605871, 0.061905194391279575, 0.04987789948097383, 0.5354554986725556, 0.26970460145076214, 0.27036618264810663, 0.12084883204825647, 0.16076423095470613, 0.08269764966805872, 0.06792233626069889, 0.028006937354249216, 0.5526045846897948, 0.12533872003937988, 0.16711829338583983, 0.16711829338583983, 0.3760161601181396, 0.04177957334645996, 0.12533872003937988, 0.28512267221214027, 0.28512267221214027, 0.28512267221214027, 0.23038029252890904, 0.25990688065365847, 0.17041580183111546, 0.11610146071274925, 0.1038898471055998, 0.08028680289476617, 0.039095389831844136, 0.5295932546762193, 0.335228684541741, 0.5163704643289242, 0.5020754263546872, 0.5020754263546872, 0.2994354150629265, 0.1925142406121533, 0.14368409794959547, 0.1532256200790608, 0.09008319422230497, 0.08587369916518792, 0.035079125475975456, 0.5173151578840995, 0.26026431332236866, 0.5205286266447373, 0.2885327167619555, 0.25028550972597646, 0.17227700656309322, 0.0803125517795085, 0.09393935359783492, 0.07925927241190837, 0.035416518735553744, 0.3876271666868926, 0.5251851378181903, 0.3326701564338204, 0.3326701564338204, 0.2697548834297763, 0.2697548834297763, 0.2697548834297763, 0.2697548834297763, 0.5630001789168483, 0.24266689014322063, 0.48533378028644125, 0.24266689014322063, 0.32528437374308544, 0.22914630141859302, 0.15127101702671028, 0.10475259493421395, 0.09450131302864531, 0.06314445072925891, 0.031959878882066924, 0.25563569897388977, 0.24480240272543768, 0.15708279560255498, 0.14053192633408654, 0.08847191936235856, 0.07959463493654366, 0.03385405077641271, 0.37298036119286315, 0.19434845131015585, 0.1517987903724294, 0.08279934020314332, 0.09123260633494495, 0.07551606490749645, 0.031433082854897, 0.5280136120899276, 0.5363258863147622, 0.22957396508074746, 0.25073943810572585, 0.15270304464647003, 0.11296908915172527, 0.10517811748608905, 0.10219157834759515, 0.04661598046605675, 0.531947451284675, 0.16623357852646092, 0.06649343141058438, 0.09974014711587656, 0.06649343141058438, 0.03324671570529219, 0.03324671570529219, 0.3362222872809291, 0.549408678160665, 0.6495609662510058, 0.10392975460016093, 0.0779473159501207, 0.05196487730008047, 0.05196487730008047, 0.05196487730008047, 0.025982438650040234, 0.47529371320515984, 0.23764685660257992, 0.5629979002615424, 0.22303633949950816, 0.22303633949950816, 0.17842907159960653, 0.08921453579980326, 0.06691090184985245, 0.08921453579980326, 0.11151816974975408, 0.26287629516785077, 0.24151044244012998, 0.20869859717970157, 0.10053396774561493, 0.07268205258269314, 0.08126654698222383, 0.03262107871821661, 0.21717909763908635, 0.36196516273181056, 0.1303074585834518, 0.09411094231027074, 0.07963233580099832, 0.07963233580099832, 0.04343581952781727, 0.4017897378073087, 0.2157745119765387, 0.24264321144712903, 0.23663310761818118, 0.0796633370268379, 0.08367007291280311, 0.096868732301865, 0.04478116578431716, 0.26002480313073484, 0.2996656079637325, 0.15124854701161616, 0.08470862461337006, 0.09155138259049465, 0.07692203794974552, 0.03586549008699791, 0.27059517428516516, 0.2873814754194806, 0.14395931852788937, 0.10085209721496727, 0.08218573035360847, 0.08420008648972634, 0.03088679408714044, 0.17518174028427674, 0.17518174028427674, 0.08759087014213837, 0.2627726104264151, 0.08759087014213837, 0.08759087014213837, 0.08759087014213837, 0.28769040902618875, 0.32913733236047016, 0.13622628478252793, 0.09996022686503168, 0.06552270968287138, 0.06095135784453151, 0.020418704877918057, 0.4850545752634124, 0.21559814378539294, 0.24731594763074402, 0.21373239061801935, 0.09722647061091277, 0.09826300014834255, 0.08623925751415717, 0.04146118149719095, 0.279728088425836, 0.18927516224901217, 0.14903809544437524, 0.1297243033781495, 0.08047413360927388, 0.13229947565364628, 0.03959327373576275, 0.31179661348619503, 0.24462212859784413, 0.13387339820227095, 0.10694415780012675, 0.09107195650349871, 0.07858820267469015, 0.033052224422940785, 0.2988351873889497, 0.20862079119605922, 0.1688897417099461, 0.09860643304804308, 0.10345807935492818, 0.0694965552067325, 0.052187979192980245, 0.3459176484971731, 0.21816559717046694, 0.12961182363045445, 0.08826765472405121, 0.08912601117193501, 0.09699427861086989, 0.03175918857170076, 0.25732610767181496, 0.2894136089325948, 0.14509811545728252, 0.10017561369219075, 0.07356646630520258, 0.10596701635877052, 0.02864396454011079, 0.32051872821378574, 0.32051872821378574, 0.1220955737883854, 0.1220955737883854, 0.1220955737883854, 0.36628672136515616, 0.1220955737883854, 0.561928058540927, 0.5168576062257335, 0.31185348980361627, 0.22557520510722265, 0.13595127524696335, 0.12284421831087801, 0.10056615757266688, 0.0695500588770655, 0.03369261482669387, 0.2700282991425846, 0.26238271023507254, 0.15795091629382843, 0.12302447605723932, 0.07801975953347522, 0.07063481570235562, 0.0380541811532986, 0.5359158854592296, 0.48012491637956334, 0.32988555535470054, 0.18992184946539778, 0.1767749695769517, 0.08980330262261621, 0.05744175212797974, 0.12236711280784415, 0.03357510863818534, 0.35535063269378836, 0.2573395206872136, 0.12422098010122531, 0.08407849791415528, 0.07642245749703368, 0.0585583631904166, 0.04393601572708525, 0.24619616788548693, 0.26127598557123405, 0.18757035260453409, 0.09797849458921278, 0.08628558782753717, 0.07814087346250796, 0.04257830875975666, 0.22191954293778596, 0.23671417913363835, 0.16274099815437637, 0.05917854478340959, 0.17753563435022876, 0.07397318097926199, 0.07397318097926199, 0.5303166896436544, 0.20175712340202132, 0.40351424680404263, 0.13450474893468087, 0.06725237446734043, 0.06725237446734043, 0.06725237446734043, 0.06725237446734043, 0.21345657892424205, 0.32338380894244845, 0.14424313780166767, 0.09713146779386492, 0.10236609779473188, 0.07677457334604891, 0.043040291118239545, 0.23881763575129739, 0.24925485094339112, 0.16098077669161528, 0.12843081744847548, 0.09446564258606874, 0.07217599658261432, 0.05590101696104442, 0.2682330988344192, 0.2682330988344192, 0.2682330988344192, 0.3261324172791519, 0.20909623325141088, 0.14990189210024604, 0.13511457763140974, 0.08290814423228646, 0.06848149597000715, 0.028312297214723163, 0.36384450796124207, 0.1837394574055107, 0.15971198989863622, 0.08157224262838057, 0.0902544367695201, 0.08137033113672618, 0.03957465236426384, 0.34620016308541846, 0.2257318630928573, 0.12441568360882226, 0.11564372001713091, 0.0799710680775861, 0.07222250023825874, 0.0356726519395448, 0.2771220645767838, 0.1385610322883919, 0.1385610322883919, 0.1385610322883919, 0.2771220645767838, 0.3046735154917116, 0.2193295554192873, 0.1428295290331246, 0.100378647339069, 0.1087803843410175, 0.08468066504595469, 0.03913440656170752, 0.2562635967771904, 0.2562635967771904, 0.5125271935543808, 0.5341328947960459, 0.5341328947960459, 0.3104502345984344, 0.3000206109320727, 0.14622038588023167, 0.07706169824469514, 0.06936434218670423, 0.06616200703280727, 0.030730665788772822, 0.3238658822978643, 0.20595183017304142, 0.2073660916677919, 0.08220394938237276, 0.07407194578755738, 0.0685916824953992, 0.03800827767141966, 0.27828419552152206, 0.23190349626793502, 0.15552189861239957, 0.13552129967776724, 0.078795463044198, 0.07017451522754614, 0.04982907838024775, 0.320585802382548, 0.27539650281191097, 0.11684661746121867, 0.10044935733130181, 0.06119922284709133, 0.07746737069252067, 0.04790065754487528, 0.27024586533901634, 0.21025238403157687, 0.1651196733232279, 0.1590652853013762, 0.07155185844006542, 0.08311023557269137, 0.04127991833080698, 0.3126472969273772, 0.2510773688879704, 0.12810885769238345, 0.11902757888137633, 0.08104612976615787, 0.07938979589496789, 0.028785940382060303, 0.23510837176686614, 0.31559737271409866, 0.13932646063965945, 0.0901476810609004, 0.10399178922382439, 0.06865711780798932, 0.04716655455507825, 0.2961716418798462, 0.1790302273404813, 0.19874223205314825, 0.1092762755018918, 0.0970361528748243, 0.0847960302477568, 0.034950711597771064, 0.23458491674913812, 0.210007952447315, 0.19926472853094918, 0.14495993914548372, 0.07711574427637916, 0.07799874898183387, 0.056070798796374915, 0.2569010384347644, 0.2569010384347644, 0.2569010384347644, 0.2508086932743977, 0.19706397328702674, 0.06270217331859942, 0.22393633328071222, 0.12540434663719885, 0.0806170799810564, 0.06270217331859942, 0.27352702215925795, 0.23562200842855874, 0.1991054567392771, 0.1037181144938912, 0.08414079970990371, 0.06289733047621515, 0.04095963022181782, 0.3007978136046761, 0.23405407085581245, 0.16875343605827559, 0.1065194056573081, 0.07260636880112872, 0.0721553975663391, 0.045097123478961935, 0.5233362708662255, 0.26478523085319094, 0.2193170598986026, 0.2362561824110963, 0.09450247296443852, 0.07459157457255997, 0.07429439698462148, 0.03595848814055679, 0.3834730443942792, 0.3834730443942792, 0.24261983850111601, 0.23489719112177015, 0.24133273060455837, 0.08237490537968925, 0.08494912117280455, 0.07336515010378575, 0.03990034479328698, 0.48312556593595357, 0.25945069895017575, 0.23122142854945066, 0.15192088269092519, 0.15515324189711507, 0.08985958593207916, 0.07046543069493977, 0.04202066968046867, 0.2462762807940051, 0.4925525615880102, 0.27040607972570563, 0.2163248637805645, 0.05408121594514113, 0.10816243189028225, 0.10816243189028225, 0.10816243189028225, 0.10816243189028225, 0.5279742435236333, 0.5569562481941783, 0.482563441943614, 0.3452611279729377, 0.1868370692521882, 0.1334550494658487, 0.11463604249048019, 0.08757603246053851, 0.09323403455770814, 0.03899101445223414, 0.32086195459800465, 0.18432324678181228, 0.22064270341172135, 0.10519012604512297, 0.07255873785886911, 0.07167680844842983, 0.024694023492300207, 0.2717633914969487, 0.24340155770737207, 0.17512306895468754, 0.12417681196229986, 0.09296378853250123, 0.06197585902166749, 0.030612772979225586, 0.260448577294093, 0.29597107666142486, 0.1464183692409772, 0.10029882174305471, 0.09029879040855372, 0.06134347579820757, 0.045074768104765656, 0.26641004874471436, 0.25419887155886883, 0.13939660717081406, 0.13707476362139273, 0.06329173527311484, 0.10972860626154148, 0.029925983525874948, 0.4940591721145164, 0.2470295860572582, 0.5284365367753895, 0.6516606749870527, 0.14355734813445298, 0.46399785736314264, 0.03845286110744276, 0.07818748425180028, 0.12817620369147587, 0.07562396017797075, 0.07177867406722649, 0.30156103469200796, 0.21515871576339893, 0.14787623771815156, 0.14836028432279363, 0.07502722371952043, 0.07889959655665697, 0.03339921572030265, 0.24099755210192192, 0.21191966212823443, 0.19889276742002243, 0.08793153928043097, 0.10398253454590647, 0.10933286630106497, 0.04675724707768949, 0.6449087466830874, 0.3224543733415437, 0.5222918916883702, 0.27077053976813215, 0.13538526988406607, 0.3384631747101652, 0.06769263494203304, 0.06769263494203304, 0.06769263494203304, 0.06769263494203304, 0.5222509226286249, 0.24239823552080894, 0.4847964710416179, 0.2795645202976165, 0.2795645202976165, 0.2795645202976165, 0.2795645202976165, 0.27155587614645066, 0.20366690710983798, 0.06788896903661266, 0.3394448451830633, 0.06788896903661266, 0.319612241146622, 0.319612241146622, 0.28015822966876147, 0.19750285135033804, 0.1815518134292388, 0.10614690689313322, 0.08845575574427769, 0.11484747303191463, 0.030742000357027656, 0.34419336331464034, 0.21105579094816565, 0.13979445098479845, 0.09516062549472619, 0.09232326739511279, 0.08042818920827202, 0.03710391361032902, 0.3139996611913792, 0.18644975228370414, 0.19476533684694144, 0.1009028439973651, 0.09455324428294429, 0.06822498772649647, 0.04107314292257147, 0.5360166342067831, 0.2429368250031248, 0.4858736500062496, 0.23619671643888474, 0.30022594679882336, 0.16031022119747598, 0.11319735540176805, 0.0820522729797732, 0.07304075166985592, 0.035097504049151546, 0.12845036020645398, 0.12845036020645398, 0.6422518010322699, 0.5247550239989298, 0.385907345475099, 0.3044969342946049, 0.20301835800104612, 0.18686012872390528, 0.10153978170748734, 0.10172339794927303, 0.06579581997320608, 0.03660083752928115, 0.31723207239306017, 0.252967696923458, 0.14804256434200713, 0.10379450390789789, 0.08786799382735573, 0.059839569426191265, 0.03024780661221285, 0.482205609966504, 0.6254400770213008, 0.2930051149128498, 0.20132210208906443, 0.16778823747647365, 0.11344435049791345, 0.08407249035851656, 0.10416902624336706, 0.03626889612354675, 0.2717695291292826, 0.32410055496485646, 0.11807462551976113, 0.09410789520010757, 0.07365921703746738, 0.07717726919448074, 0.04089735632528039, 0.27234795832232706, 0.19689224692566504, 0.19500585414074847, 0.11754585041011259, 0.08017169335895342, 0.08076119110423985, 0.05729918084184024, 0.28533849455680443, 0.2742472640374868, 0.1650413020011284, 0.10057944941022243, 0.06247111890795153, 0.07100283469204204, 0.04133142313181619, 0.28826641548285137, 0.24523820615906433, 0.14766242438543709, 0.10214964654426603, 0.08408005732692765, 0.08249896827041055, 0.050199577544418186, 0.33378127147972975, 0.2107825037123791, 0.14233703557017235, 0.11330655717405096, 0.07264542606596994, 0.09276830139301116, 0.03433811753054742, 0.4844520692009869, 0.2507244972140667, 0.2507244972140667, 0.0835748324046889, 0.0835748324046889, 0.0835748324046889, 0.1671496648093778, 0.48245537078983675, 0.549400517642144, 0.263955410025443, 0.25046084449105693, 0.1902050471207447, 0.1033871618947739, 0.07913110738992814, 0.07733752589485152, 0.03552999533104167, 0.6145233936128811, 0.5201003337045346, 0.24346664711982832, 0.31742370882086973, 0.12030348703369402, 0.094665038977333, 0.08638184806681637, 0.08983317761286497, 0.04792417598227483, 0.25472673030917065, 0.30210518156186644, 0.17203962337005516, 0.10016128857984362, 0.061429855046271, 0.07349965061254712, 0.03602924049634663, 0.353782225786107, 0.22982631521072264, 0.12816760373950467, 0.09331790736188163, 0.07688404579992195, 0.08588550766049283, 0.03212448315378049, 0.5428231738267241, 0.5577580479986347, 0.36381113825599193, 0.36381113825599193, 0.3280930236020967, 0.16404651180104834, 0.16404651180104834, 0.16404651180104834, 0.16404651180104834, 0.2762228583184753, 0.17577818256630248, 0.15066701362825927, 0.2762228583184753, 0.07533350681412963, 0.025111168938043212, 0.025111168938043212, 0.42623174883616893, 0.16516480267401545, 0.1331974215113028, 0.08524634976723379, 0.07991845290678168, 0.0665987107556514, 0.04528712331384295, 0.3966520850450841, 0.318726776329858, 0.286423386836967, 0.1384611949636466, 0.07904829428848625, 0.08094849367042102, 0.05548582195249516, 0.040790946732199636, 0.1726304904746524, 0.14796899183541634, 0.36992247958854085, 0.12330749319618028, 0.07398449591770817, 0.07398449591770817, 0.049322997278472114, 0.5295094709016851, 0.18165783859099197, 0.18165783859099197, 0.18165783859099197, 0.18165783859099197, 0.6196307221043954, 0.2734146944947838, 0.3417683681184797, 0.11686273232438339, 0.10583794625604533, 0.0606363233758593, 0.06284128058952691, 0.03748427263234939, 0.5515466704242593, 0.6302260901849109, 0.31511304509245547, 0.3006109804700194, 0.2736009369401513, 0.13656278008701284, 0.09581002640914792, 0.08362309476847146, 0.07601706651046063, 0.033838182534218685, 0.5087517306798246, 0.5277792751446517, 0.257927200174515, 0.1926973514064822, 0.19628798528362162, 0.13006073821638345, 0.07899394529706724, 0.11190808917084526, 0.0321162252344137, 0.20201040884455607, 0.2244560098272845, 0.1346736058963707, 0.06733680294818535, 0.24690161081001297, 0.0448912019654569, 0.0897824039309138, 0.5431654515461117, 0.5375403961630236, 0.179437895883449, 0.179437895883449, 0.0897189479417245, 0.0897189479417245, 0.0897189479417245, 0.26915684382517346, 0.3637120807680452, 0.3637120807680452, 0.3637120807680452, 0.29686350805424444, 0.25843625876429843, 0.13847188670632382, 0.11713993207147952, 0.077077480684089, 0.07172591018336151, 0.0402854334915875, 0.31280762895245046, 0.25010073417512146, 0.13730761575056866, 0.0948863023184873, 0.08398362830556919, 0.07902786739060641, 0.041826622122285835, 0.2682797829592908, 0.2434808114252387, 0.19191022289419854, 0.09863227314679808, 0.058756654146021145, 0.0999004023729712, 0.03903019951666153, 0.2908529875630221, 0.24492883163201862, 0.07654025988500582, 0.07654025988500582, 0.07654025988500582, 0.13777246779301047, 0.10715636383900815, 0.51818172784972, 0.23916812861546902, 0.2524113225140115, 0.14369853677970743, 0.14725640976737556, 0.07906384417040298, 0.09803916677129969, 0.040520220137331524, 0.14016690643243426, 0.21025035964865138, 0.10512517982432569, 0.07008345321621713, 0.035041726608108566, 0.3854589926891942, 0.035041726608108566, 0.23554054012006784, 0.4239729722161221, 0.09421621604802713, 0.09421621604802713, 0.047108108024013565, 0.09421621604802713, 0.047108108024013565, 0.2805019509640565, 0.18217749660008875, 0.20354649768606797, 0.12483283545796728, 0.07709070012030482, 0.09575476435995756, 0.03611090689845857, 0.5331315579849873, 0.5331315579849873, 0.27942453256524785, 0.4191367988478718, 0.13971226628262393, 0.13971226628262393, 0.3122019249859465, 0.25534288689744467, 0.1341813552088551, 0.09850753665332831, 0.08578644713352776, 0.07931387712345311, 0.03467803855397684, 0.5540633089590471, 0.5470974595457836, 0.28136988552130987, 0.28136988552130987, 0.28136988552130987, 0.23963718661219305, 0.24999187986086804, 0.16002707747952286, 0.11551534416379003, 0.10583303359360041, 0.08135830409673221, 0.04760469363676562, 0.32970795721108714, 0.21395767486845782, 0.15985343524654896, 0.08033659822647075, 0.10443757769441198, 0.06394137409861958, 0.04803800669460394, 0.5622812516889762, 0.2566354590596871, 0.24764158798690047, 0.15754781051640007, 0.11319872212300398, 0.07644790411868625, 0.10467005127812012, 0.04388388816549332, 0.5411129850606105, 0.2532459475014174, 0.5064918950028348, 0.2532459475014174, 0.36236940879303003, 0.2305912226069816, 0.13610486209271982, 0.08995365242155841, 0.07180221683214179, 0.06710468299061285, 0.04209237560633161, 0.24319134755962254, 0.2591316207610096, 0.15122823293623586, 0.11076446250194573, 0.07275304179094591, 0.1189389615795801, 0.04373357006534389, 0.27390719816162157, 0.23315419586003552, 0.1558802338035666, 0.12249412037957497, 0.0884026665311328, 0.09200773981165772, 0.03424819616498673, 0.2610469442059033, 0.2578421268105183, 0.2166165212244298, 0.08871517244497494, 0.06671847123119626, 0.07181704436021781, 0.03714674708287128, 0.5100843895191406, 0.2504231108140572, 0.5008462216281144, 0.5821199743585338, 0.27856359724360186, 0.2178510183571758, 0.1642810958103293, 0.10129585354312794, 0.11493183382777977, 0.08408854508868634, 0.038635277473180206, 0.2804568206666761, 0.2588652635200531, 0.16222845639895123, 0.07796302796726577, 0.11157583044417077, 0.08064738372062971, 0.02824409097017712, 0.5140475851761892, 0.3598606290717229, 0.3598606290717229, 0.3598606290717229, 0.17820983481180136, 0.26731475221770207, 0.20048606416327655, 0.04455245870295034, 0.06682868805442552, 0.11138114675737586, 0.11138114675737586, 0.25174125228123523, 0.29100364942601503, 0.13598646728733146, 0.1079946876758767, 0.08046481861906638, 0.0919202003742492, 0.040740510919642106, 0.5035588032688798, 0.12588970081721995, 0.2098161680286999, 0.04196323360573998, 0.04196323360573998, 0.04196323360573998, 0.17340456741827653, 0.17340456741827653, 0.34680913483655307, 0.17340456741827653, 0.2203578107047028, 0.245106186698512, 0.16448483957457463, 0.13962839206987546, 0.08461999302686724, 0.1010468626821467, 0.04474160550845854, 0.5023119871776287, 0.25115599358881435, 0.549019068477067, 0.5694017386927224, 0.3195219090764369, 0.1959356983796934, 0.16214372209663896, 0.09675480388737807, 0.08907218363841014, 0.09799673122085786, 0.038557511399895446, 0.28054814425805974, 0.18118002808155048, 0.1910115024735726, 0.1537923494180603, 0.08707877318648162, 0.07022481708587228, 0.03616578079922422, 0.2931714562203776, 0.2241502621562243, 0.18480593329229325, 0.08138655456424593, 0.06913360643233597, 0.10353179109622998, 0.04384082359123745, 0.18517892008639342, 0.3412890562057367, 0.1195050007534283, 0.1561101361193433, 0.0721336491034207, 0.08182324375910408, 0.04306486513637056, 0.2777039680150159, 0.23681649017110293, 0.12951640380615212, 0.14866025181399575, 0.0945375210263884, 0.0749209854134128, 0.037578664607989386, 0.3495500427885094, 0.19606998823080035, 0.1415236144623274, 0.09502634742473225, 0.07744334728446518, 0.09948070746026658, 0.04102700032728983, 0.3519090262661745, 0.3519090262661745, 0.3519090262661745, 0.5279455635583186, 0.2877206674171818, 0.24389695211655735, 0.12253149666094773, 0.13846739313390208, 0.08512100798968296, 0.07977665246521656, 0.04246333389439664, 0.5268870698809247, 0.34837841818146176, 0.20839792509726265, 0.16130086781113076, 0.10529119486046185, 0.06697568536144731, 0.07615043678082366, 0.03346599803448704, 0.19615228691262288, 0.2898745828790513, 0.1610923571256704, 0.11549153341584338, 0.09922189279575433, 0.08409800151510817, 0.054079368821704436, 0.535492497818698, 0.2441901636014118, 0.29251680330891633, 0.17617489290196098, 0.10887557242039911, 0.06607197725089509, 0.08136262833295207, 0.030836998670502894, 0.3455248633963927, 0.1890996087835805, 0.14021671671707672, 0.1314692518209655, 0.07872718406500087, 0.08155724623727215, 0.033574828498309194, 0.20296656483046127, 0.2613122785658908, 0.18096736129087312, 0.1360124671012799, 0.07384080492418289, 0.10540487956793984, 0.039598566371258706, 0.17696041471138904, 0.31592319436205035, 0.06676727303527868, 0.13733430957663015, 0.13082042928050538, 0.11182161175014153, 0.05971056938114354, 0.5268484670212937, 0.46228114328569253, 0.5054920168592267, 0.4879862610378136, 0.2962914864339904, 0.2668284135666702, 0.14460894428198287, 0.10727264943759171, 0.07903976750418884, 0.07233522691433936, 0.033645722042639145, 0.5093147674885675, 0.32604853559145575, 0.22819318060240296, 0.16021965887212294, 0.11045059870051505, 0.08434223926622894, 0.05859083005858347, 0.03217651328717682, 0.25140612647877864, 0.2796156918419955, 0.14073783159231257, 0.12751136871139038, 0.09702850504051505, 0.06985225708987026, 0.03389281113236309, 0.284264030819949, 0.18175897133342386, 0.24351201936554998, 0.09075447949660641, 0.08000394886753183, 0.07875388716647663, 0.04100202379461006, 0.5165044207554847, 0.39495143796396476, 0.2570504229789606, 0.1998864116400871, 0.2046396554713282, 0.10732324229486528, 0.09644081562860272, 0.08518313287040007, 0.04928363340813161, 0.5455712518334976, 0.1836922828997573, 0.1836922828997573, 0.1836922828997573, 0.1836922828997573, 0.1836922828997573, 0.38631667857015384, 0.20636014531474045, 0.10861060279723181, 0.10861060279723181, 0.08407958733785705, 0.0638555440583725, 0.04213342349892613, 0.2310572373494227, 0.28042368324094596, 0.16415271199643727, 0.11061053289980396, 0.08026687160933761, 0.09687701035855315, 0.036653658133743765, 0.574826325388505, 0.25380022750038594, 0.31874834360101784, 0.12989623220126378, 0.10940664795523111, 0.07809237769242645, 0.06900737335692139, 0.040979168492065364, 0.3807886959745406, 0.1913053257288362, 0.1375576389764489, 0.10521792915085991, 0.06376844190961206, 0.0787995746454492, 0.042360464982813734, 0.26465562741377674, 0.3096703675604015, 0.1888290737529967, 0.09041753839796185, 0.06286541296338978, 0.05161172792673359, 0.031975987828292085, 0.1631790655167921, 0.2806679926888824, 0.20560562255115802, 0.09856015557214241, 0.07245150508945568, 0.13250140119963516, 0.04634285460676895, 0.21950120532604925, 0.29299020886921057, 0.18587362067009852, 0.10097055444998265, 0.0811276454885078, 0.08806388357681097, 0.031608173566951094, 0.4803953083991729, 0.2116126349089412, 0.2982511412303555, 0.056736720953846555, 0.08587179387609208, 0.11270672946237086, 0.15717605129106138, 0.07743795697754732, 0.23560981929216926, 0.2862573795531883, 0.14523352344977938, 0.11274015361998271, 0.09077095215611211, 0.08103609641763052, 0.048279622378685716, 0.2364968949894582, 0.1182484474947291, 0.1182484474947291, 0.2364968949894582, 0.1182484474947291, 0.35713318230550267, 0.17218403224883497, 0.12852152701977065, 0.16304536836368197, 0.07426977633648146, 0.06411570535297814, 0.0406162839340133, 0.24001921178413074, 0.2572839793164668, 0.20834550292781495, 0.0934634031825712, 0.07866503101199741, 0.07944389270518551, 0.042707582843147116, 0.23126104613217807, 0.2119235183839243, 0.2020574327980805, 0.10142335982247401, 0.08524297946169021, 0.12549660865193282, 0.042621489730845105, 0.26341717089786504, 0.2747418679001915, 0.13215095642558589, 0.11097613234311085, 0.09260299111277387, 0.08732403079137689, 0.03875169755483594, 0.27705606017011847, 0.2724195479359483, 0.17890676954213622, 0.09609513963816, 0.06784567269241426, 0.07385161891979926, 0.03382501963240607, 0.29651083576167026, 0.21703156888656955, 0.18471506419712808, 0.10661684453097785, 0.08838702137283137, 0.06953572697065719, 0.03728827464166324, 0.28214372242039637, 0.24475031283505785, 0.16492006655267807, 0.12305962152554571, 0.07039183268762188, 0.08242400879696973, 0.032349982473635845, 0.23226911590182547, 0.26792788117869965, 0.16212072519322046, 0.11223742513376801, 0.08661377686104146, 0.08768548838575625, 0.05134472486588172, 0.17485456436686897, 0.17485456436686897, 0.34970912873373794, 0.17485456436686897, 0.6145317055913864, 0.1536329263978466, 0.1536329263978466, 0.2936190731738032, 0.21787733674692825, 0.1876765177919085, 0.09905149550128504, 0.09147132963261441, 0.0759814254662005, 0.03433545488338556, 0.13301776473190238, 0.23519083039553754, 0.1407289394989692, 0.08867850982126825, 0.07132836659536794, 0.25254097362143785, 0.07903954136243475, 0.5517117103410154, 0.6224084672188694, 0.30512333415662213, 0.2186923671514987, 0.14905212940533233, 0.13487634978506527, 0.08436653307984185, 0.07019075345957479, 0.03771032636847743, 0.2583508335289999, 0.22845595136350136, 0.19806897237223328, 0.11109085841746996, 0.08771625919341759, 0.07516779013629474, 0.04133613336463999, 0.34255139492800846, 0.1817040765107653, 0.18604228219421795, 0.07850483746401753, 0.08275961611509605, 0.09310456812948306, 0.03533134821042659, 0.5359680362365151, 0.4105521710196261, 0.24550803189245943, 0.2874240373375135, 0.14397815203666184, 0.11097761441642881, 0.07305360948995133, 0.09687254591745824, 0.04231520549691171, 0.32804586920145684, 0.16402293460072842, 0.16402293460072842, 0.16402293460072842, 0.16402293460072842, 0.16402293460072842, 0.16402293460072842, 0.24242185148293008, 0.24242185148293008, 0.24242185148293008, 0.24242185148293008, 0.10410558687398468, 0.20821117374796935, 0.10410558687398468, 0.31231676062195407, 0.10410558687398468, 0.10410558687398468, 0.10410558687398468, 0.38743764224546867, 0.446372201296583, 0.20289645513481047, 0.10821144273856557, 0.06763215171160349, 0.06763215171160349, 0.08115858205392418, 0.027052860684641394, 0.1385065032912529, 0.20626200181169074, 0.178731872939176, 0.17716279823659745, 0.12581126251584457, 0.13779328751735356, 0.03594607500452702, 0.3022303361926089, 0.24764518932072951, 0.15348226032838944, 0.10595104830812324, 0.0781613855034457, 0.07716720676597001, 0.03536435794734945, 0.23462739826765416, 0.2820931383777224, 0.12734710761237808, 0.16323583793950283, 0.08181086913280047, 0.0775659655457212, 0.033187428044437924, 0.33254582695520063, 0.2326166788994447, 0.15028424978867935, 0.09299153823671263, 0.07194898660014426, 0.08021898505993096, 0.039328437119874514, 0.3907637909329539, 0.3907637909329539, 0.1530148703093295, 0.22952230546399424, 0.1530148703093295, 0.07650743515466475, 0.1530148703093295, 0.1530148703093295, 0.1530148703093295, 0.3157232210994805, 0.1969137628977781, 0.14133159897385122, 0.12583471312145525, 0.09814694373184113, 0.06281404398837832, 0.059508041673200514, 0.2728786157322111, 0.29013303341998925, 0.16516791331625613, 0.10115402369459928, 0.07082938460832922, 0.06328057686992629, 0.03662250154230908, 0.2689122740793092, 0.2689122740793092, 0.5774237779778219, 0.19247459265927394, 0.48486688806482586, 0.2723907983021457, 0.28890976017012165, 0.14474166761749097, 0.10582459946672115, 0.08752755489767831, 0.06446983729029516, 0.03610655033295445, 0.5498234160695971, 0.17601444504030797, 0.17601444504030797, 0.35202889008061594, 0.14667870420025664, 0.08800722252015399, 0.05867148168010265, 0.029335740840051326, 0.48021310002396805, 0.2044599164023404, 0.27141207090983926, 0.17123608085018005, 0.10976117472004386, 0.09354563676074651, 0.11113048681438453, 0.038484876756732386, 0.3256498951843959, 0.20172427422395, 0.16258131924168595, 0.11710402714610946, 0.06984012714677817, 0.08543234157954727, 0.03759997542902128, 0.6561618806468924, 0.24343398089816365, 0.24343398089816365, 0.4868679617963273], \"Term\": [\"________________________\", \"__fp\", \"actually\", \"actually\", \"actually\", \"actually\", \"actually\", \"actually\", \"actually\", \"age\", \"age\", \"age\", \"age\", \"age\", \"age\", \"age\", \"agn\", \"ago\", \"ago\", \"ago\", \"ago\", \"ago\", \"ago\", \"ago\", \"also\", \"also\", \"also\", \"also\", \"also\", \"also\", \"also\", \"although\", \"although\", \"although\", \"although\", \"although\", \"although\", \"although\", \"always\", \"always\", \"always\", \"always\", \"always\", \"always\", \"always\", \"amethystium\", \"anet\", \"anet\", \"annette\", \"applewood\", \"around\", \"around\", \"around\", \"around\", \"around\", \"around\", \"around\", \"artrage\", \"artrage\", \"artrage\", \"asskicking\", \"asskicking\", \"augmentation\", \"avoidants\", \"away\", \"away\", \"away\", \"away\", \"away\", \"away\", \"away\", \"backk\", \"backk\", \"bef\", \"believe\", \"believe\", \"believe\", \"believe\", \"believe\", \"believe\", \"believe\", \"bertha\", \"bertha\", \"best\", \"best\", \"best\", \"best\", \"best\", \"best\", \"best\", \"bit\", \"bit\", \"bit\", \"bit\", \"bit\", \"bit\", \"bit\", \"blop\", \"bola\", \"bola\", \"bola\", \"bonnefoy\", \"bora\", \"bora\", \"bora\", \"bora\", \"bora\", \"bora\", \"born\", \"born\", \"born\", \"born\", \"born\", \"born\", \"born\", \"boyfriend\", \"boyfriend\", \"boyfriend\", \"boyfriend\", \"boyfriend\", \"boyfriend\", \"boyfriend\", \"broda\", \"brr\", \"bwe\", \"bwh\", \"call\", \"call\", \"call\", \"call\", \"call\", \"call\", \"call\", \"calvinball\", \"calvinball\", \"care\", \"care\", \"care\", \"care\", \"care\", \"care\", \"care\", \"cevennes\", \"change\", \"change\", \"change\", \"change\", \"change\", \"change\", \"change\", \"chefhedgehog\", \"chung\", \"chung\", \"chung\", \"chung\", \"chung\", \"chung\", \"cob\", \"cob\", \"cob\", \"come\", \"come\", \"come\", \"come\", \"come\", \"come\", \"come\", \"commitophobes\", \"concerened\", \"concreteness\", \"congroo\", \"congroo\", \"conversation\", \"conversation\", \"conversation\", \"conversation\", \"conversation\", \"conversation\", \"conversation\", \"cooooo\", \"corrs\", \"corrs\", \"could\", \"could\", \"could\", \"could\", \"could\", \"could\", \"could\", \"coventry\", \"coxn\", \"crystalized\", \"crystalized\", \"cultist\", \"cultist\", \"cultist\", \"cultist\", \"daqui\", \"darkwings\", \"darkwings\", \"darkwings\", \"day\", \"day\", \"day\", \"day\", \"day\", \"day\", \"day\", \"definitely\", \"definitely\", \"definitely\", \"definitely\", \"definitely\", \"definitely\", \"definitely\", \"description\", \"description\", \"description\", \"description\", \"description\", \"description\", \"description\", \"devislanegel\", \"dexterm\", \"different\", \"different\", \"different\", \"different\", \"different\", \"different\", \"different\", \"digger\", \"digger\", \"digger\", \"digger\", \"digger\", \"digger\", \"digger\", \"disobedience\", \"drano\", \"dreamingangel\", \"dreamingangel\", \"dreamingangel\", \"dreamingangel\", \"dreamingangel\", \"dreamingangel\", \"dreamingangel\", \"drow\", \"drow\", \"durability\", \"eagle\", \"eagle\", \"eagle\", \"eagle\", \"eagle\", \"eagle\", \"eagle\", \"either\", \"either\", \"either\", \"either\", \"either\", \"either\", \"either\", \"employee\", \"employee\", \"employee\", \"employee\", \"employee\", \"employee\", \"employee\", \"enagram\", \"enfp\", \"enfp\", \"enfp\", \"enfp\", \"enfp\", \"enfp\", \"enfp\", \"entj\", \"entj\", \"entj\", \"entj\", \"entj\", \"entj\", \"entj\", \"entp\", \"entp\", \"entp\", \"entp\", \"entp\", \"entp\", \"entp\", \"envoy\", \"envoy\", \"envoy\", \"envoy\", \"envoy\", \"envoy\", \"envoy\", \"esfj\", \"esfj\", \"esfj\", \"esfj\", \"esfj\", \"esfj\", \"esfj\", \"esfplolitslieksooooobviouslerl\", \"especially\", \"especially\", \"especially\", \"especially\", \"especially\", \"especially\", \"especially\", \"estp\", \"estp\", \"estp\", \"estp\", \"estp\", \"estp\", \"estp\", \"even\", \"even\", \"even\", \"even\", \"even\", \"even\", \"even\", \"ever\", \"ever\", \"ever\", \"ever\", \"ever\", \"ever\", \"ever\", \"every\", \"every\", \"every\", \"every\", \"every\", \"every\", \"every\", \"experience\", \"experience\", \"experience\", \"experience\", \"experience\", \"experience\", \"experience\", \"expierienced\", \"expierienced\", \"expressionism\", \"expressionism\", \"expressionism\", \"expressionism\", \"expressionism\", \"expresso\", \"exreamely\", \"feel\", \"feel\", \"feel\", \"feel\", \"feel\", \"feel\", \"feel\", \"feeling\", \"feeling\", \"feeling\", \"feeling\", \"feeling\", \"feeling\", \"feeling\", \"felid\", \"feu\", \"fi\", \"fi\", \"fi\", \"fi\", \"fi\", \"fi\", \"fi\", \"find\", \"find\", \"find\", \"find\", \"find\", \"find\", \"find\", \"first\", \"first\", \"first\", \"first\", \"first\", \"first\", \"first\", \"flickr\", \"flickr\", \"flickr\", \"flickr\", \"flickr\", \"flickr\", \"flickr\", \"florinstreet\", \"fone\", \"fone\", \"fone\", \"fone\", \"fone\", \"fone\", \"fone\", \"form\", \"form\", \"form\", \"form\", \"form\", \"form\", \"form\", \"forum\", \"forum\", \"forum\", \"forum\", \"forum\", \"forum\", \"forum\", \"fraser\", \"fraser\", \"fraser\", \"friend\", \"friend\", \"friend\", \"friend\", \"friend\", \"friend\", \"friend\", \"fun\", \"fun\", \"fun\", \"fun\", \"fun\", \"fun\", \"fun\", \"function\", \"function\", \"function\", \"function\", \"function\", \"function\", \"function\", \"fw\", \"fw\", \"fw\", \"fw\", \"fw\", \"game\", \"game\", \"game\", \"game\", \"game\", \"game\", \"game\", \"gauntlet\", \"gauntlet\", \"gauntlet\", \"gayest\", \"gayest\", \"get\", \"get\", \"get\", \"get\", \"get\", \"get\", \"get\", \"getting\", \"getting\", \"getting\", \"getting\", \"getting\", \"getting\", \"getting\", \"girl\", \"girl\", \"girl\", \"girl\", \"girl\", \"girl\", \"girl\", \"give\", \"give\", \"give\", \"give\", \"give\", \"give\", \"give\", \"given\", \"given\", \"given\", \"given\", \"given\", \"given\", \"given\", \"go\", \"go\", \"go\", \"go\", \"go\", \"go\", \"go\", \"going\", \"going\", \"going\", \"going\", \"going\", \"going\", \"going\", \"good\", \"good\", \"good\", \"good\", \"good\", \"good\", \"good\", \"great\", \"great\", \"great\", \"great\", \"great\", \"great\", \"great\", \"gril\", \"gril\", \"gril\", \"gt\", \"gt\", \"gt\", \"gt\", \"gt\", \"gt\", \"gt\", \"guess\", \"guess\", \"guess\", \"guess\", \"guess\", \"guess\", \"guess\", \"guy\", \"guy\", \"guy\", \"guy\", \"guy\", \"guy\", \"guy\", \"hahahahahhaahhaahahhahaa\", \"hey\", \"hey\", \"hey\", \"hey\", \"hey\", \"hey\", \"hey\", \"hocking\", \"hocking\", \"hold\", \"hold\", \"hold\", \"hold\", \"hold\", \"hold\", \"hold\", \"hospitle\", \"however\", \"however\", \"however\", \"however\", \"however\", \"however\", \"however\", \"hppygirl\", \"hppygirl\", \"htc\", \"htc\", \"htc\", \"htc\", \"htc\", \"htc\", \"htc\", \"humbles\", \"hydroponically\", \"ickyface\", \"idea\", \"idea\", \"idea\", \"idea\", \"idea\", \"idea\", \"idea\", \"infj\", \"infj\", \"infj\", \"infj\", \"infj\", \"infj\", \"infj\", \"infp\", \"infp\", \"infp\", \"infp\", \"infp\", \"infp\", \"infp\", \"interesting\", \"interesting\", \"interesting\", \"interesting\", \"interesting\", \"interesting\", \"interesting\", \"intj\", \"intj\", \"intj\", \"intj\", \"intj\", \"intj\", \"intj\", \"intjer\", \"intjer\", \"intstincts\", \"inverter\", \"iphone\", \"iphone\", \"iphone\", \"iphone\", \"iphone\", \"iphone\", \"iphone\", \"isfp\", \"isfp\", \"isfp\", \"isfp\", \"isfp\", \"isfp\", \"isfp\", \"istp\", \"istp\", \"istp\", \"istp\", \"istp\", \"istp\", \"istp\", \"jagsfan\", \"jagsfan\", \"jazzhead\", \"jetplane\", \"jetplane\", \"jetplane\", \"jetplane\", \"jetplane\", \"jetplane\", \"jetplane\", \"jovian\", \"json\", \"json\", \"kasvain\", \"kasvain\", \"kasvain\", \"kasvain\", \"kedi\", \"kedi\", \"kedi\", \"kedi\", \"kedi\", \"kelsi\", \"kelsi\", \"kid\", \"kid\", \"kid\", \"kid\", \"kid\", \"kid\", \"kid\", \"kind\", \"kind\", \"kind\", \"kind\", \"kind\", \"kind\", \"kind\", \"know\", \"know\", \"know\", \"know\", \"know\", \"know\", \"know\", \"ladykaizoku\", \"lamora\", \"lamora\", \"last\", \"last\", \"last\", \"last\", \"last\", \"last\", \"last\", \"latoslapise\", \"latoslapise\", \"latoslapise\", \"leotardo\", \"lgls\", \"life\", \"life\", \"life\", \"life\", \"life\", \"life\", \"life\", \"like\", \"like\", \"like\", \"like\", \"like\", \"like\", \"like\", \"littal\", \"littel\", \"little\", \"little\", \"little\", \"little\", \"little\", \"little\", \"little\", \"live\", \"live\", \"live\", \"live\", \"live\", \"live\", \"live\", \"lol\", \"lol\", \"lol\", \"lol\", \"lol\", \"lol\", \"lol\", \"look\", \"look\", \"look\", \"look\", \"look\", \"look\", \"look\", \"lot\", \"lot\", \"lot\", \"lot\", \"lot\", \"lot\", \"lot\", \"love\", \"love\", \"love\", \"love\", \"love\", \"love\", \"love\", \"lurver\", \"lvw\", \"lvw\", \"lvw\", \"lvw\", \"lvw\", \"lvw\", \"macher\", \"madrugada\", \"make\", \"make\", \"make\", \"make\", \"make\", \"make\", \"make\", \"maman\", \"manus\", \"many\", \"many\", \"many\", \"many\", \"many\", \"many\", \"many\", \"mbti\", \"mbti\", \"mbti\", \"mbti\", \"mbti\", \"mbti\", \"mbti\", \"mean\", \"mean\", \"mean\", \"mean\", \"mean\", \"mean\", \"mean\", \"meanigless\", \"melhores\", \"merleau\", \"merleau\", \"meu\", \"meu\", \"meu\", \"meu\", \"meu\", \"mew\", \"mew\", \"mew\", \"mew\", \"mew\", \"mew\", \"mew\", \"military\", \"military\", \"military\", \"military\", \"military\", \"military\", \"military\", \"millitary\", \"mind\", \"mind\", \"mind\", \"mind\", \"mind\", \"mind\", \"mind\", \"miranda\", \"miranda\", \"miranda\", \"miranda\", \"miranda\", \"miranda\", \"miranda\", \"mischievious\", \"mlt\", \"mlt\", \"mlt\", \"mlt\", \"montens\", \"moral\", \"moral\", \"moral\", \"moral\", \"moral\", \"moral\", \"moral\", \"morisette\", \"mountens\", \"mountens\", \"much\", \"much\", \"much\", \"much\", \"much\", \"much\", \"much\", \"muggles\", \"murda\", \"music\", \"music\", \"music\", \"music\", \"music\", \"music\", \"music\", \"naomi\", \"naomi\", \"naomi\", \"naomi\", \"naomi\", \"naomi\", \"naomi\", \"nariseba\", \"nause\", \"navi\", \"navi\", \"navi\", \"navi\", \"navi\", \"navi\", \"navimention\", \"navimention\", \"navimention\", \"need\", \"need\", \"need\", \"need\", \"need\", \"need\", \"need\", \"never\", \"never\", \"never\", \"never\", \"never\", \"never\", \"never\", \"new\", \"new\", \"new\", \"new\", \"new\", \"new\", \"new\", \"nexus\", \"nexus\", \"nexus\", \"nexus\", \"nexus\", \"nexus\", \"nexus\", \"nise\", \"nothing\", \"nothing\", \"nothing\", \"nothing\", \"nothing\", \"nothing\", \"nothing\", \"nucky\", \"nucky\", \"nucky\", \"nucky\", \"nucky\", \"nucky\", \"nucky\", \"ogion\", \"ogion\", \"ogion\", \"ogion\", \"ogion\", \"ogion\", \"ogion\", \"oh\", \"oh\", \"oh\", \"oh\", \"oh\", \"oh\", \"oh\", \"ohmanohmanohman\", \"ohmanohmanohman\", \"oka\", \"oka\", \"oka\", \"oka\", \"one\", \"one\", \"one\", \"one\", \"one\", \"one\", \"one\", \"oppening\", \"opposum\", \"ord\", \"ord\", \"ord\", \"others\", \"others\", \"others\", \"others\", \"others\", \"others\", \"others\", \"p\", \"p\", \"p\", \"p\", \"p\", \"p\", \"p\", \"paried\", \"part\", \"part\", \"part\", \"part\", \"part\", \"part\", \"part\", \"parton\", \"penal\", \"penal\", \"penal\", \"people\", \"people\", \"people\", \"people\", \"people\", \"people\", \"people\", \"perhaps\", \"perhaps\", \"perhaps\", \"perhaps\", \"perhaps\", \"perhaps\", \"perhaps\", \"person\", \"person\", \"person\", \"person\", \"person\", \"person\", \"person\", \"personality\", \"personality\", \"personality\", \"personality\", \"personality\", \"personality\", \"personality\", \"phenomenologist\", \"physicaly\", \"physicaly\", \"planch\", \"please\", \"please\", \"please\", \"please\", \"please\", \"please\", \"please\", \"point\", \"point\", \"point\", \"point\", \"point\", \"point\", \"point\", \"polyanna\", \"ponty\", \"ponty\", \"ponty\", \"posh\", \"posh\", \"posh\", \"posh\", \"posh\", \"posh\", \"posh\", \"post\", \"post\", \"post\", \"post\", \"post\", \"post\", \"post\", \"pow\", \"pow\", \"pow\", \"pow\", \"pow\", \"pow\", \"praimfaya\", \"praimfaya\", \"praimfaya\", \"praimfaya\", \"probably\", \"probably\", \"probably\", \"probably\", \"probably\", \"probably\", \"probably\", \"punky\", \"punky\", \"queenofthenile\", \"rashida\", \"really\", \"really\", \"really\", \"really\", \"really\", \"really\", \"really\", \"recently\", \"recently\", \"recently\", \"recently\", \"recently\", \"recently\", \"recently\", \"relationship\", \"relationship\", \"relationship\", \"relationship\", \"relationship\", \"relationship\", \"relationship\", \"religious\", \"religious\", \"religious\", \"religious\", \"religious\", \"religious\", \"religious\", \"remember\", \"remember\", \"remember\", \"remember\", \"remember\", \"remember\", \"remember\", \"right\", \"right\", \"right\", \"right\", \"right\", \"right\", \"right\", \"robort\", \"robort\", \"robort\", \"rufugee\", \"said\", \"said\", \"said\", \"said\", \"said\", \"said\", \"said\", \"savin\", \"say\", \"say\", \"say\", \"say\", \"say\", \"say\", \"say\", \"saying\", \"saying\", \"saying\", \"saying\", \"saying\", \"saying\", \"saying\", \"schnauss\", \"see\", \"see\", \"see\", \"see\", \"see\", \"see\", \"see\", \"seems\", \"seems\", \"seems\", \"seems\", \"seems\", \"seems\", \"seems\", \"self\", \"self\", \"self\", \"self\", \"self\", \"self\", \"self\", \"sent\", \"sent\", \"sent\", \"sent\", \"sent\", \"sent\", \"sent\", \"sexies\", \"sfie\", \"socionis\", \"solon\", \"someone\", \"someone\", \"someone\", \"someone\", \"someone\", \"someone\", \"someone\", \"somerhalder\", \"something\", \"something\", \"something\", \"something\", \"something\", \"something\", \"something\", \"sometimes\", \"sometimes\", \"sometimes\", \"sometimes\", \"sometimes\", \"sometimes\", \"sometimes\", \"song\", \"song\", \"song\", \"song\", \"song\", \"song\", \"song\", \"sorryy\", \"sosodaydreamart\", \"sound\", \"sound\", \"sound\", \"sound\", \"sound\", \"sound\", \"sound\", \"soursop\", \"spectre\", \"spectre\", \"spectre\", \"spectre\", \"spectre\", \"start\", \"start\", \"start\", \"start\", \"start\", \"start\", \"start\", \"still\", \"still\", \"still\", \"still\", \"still\", \"still\", \"still\", \"stressssss\", \"stuff\", \"stuff\", \"stuff\", \"stuff\", \"stuff\", \"stuff\", \"stuff\", \"stupid\", \"stupid\", \"stupid\", \"stupid\", \"stupid\", \"stupid\", \"stupid\", \"sure\", \"sure\", \"sure\", \"sure\", \"sure\", \"sure\", \"sure\", \"sx\", \"sx\", \"sx\", \"sx\", \"sx\", \"sx\", \"sx\", \"take\", \"take\", \"take\", \"take\", \"take\", \"take\", \"take\", \"talkeing\", \"tapatalk\", \"tapatalk\", \"tapatalk\", \"tapatalk\", \"tapatalk\", \"tapatalk\", \"tapatalk\", \"tell\", \"tell\", \"tell\", \"tell\", \"tell\", \"tell\", \"tell\", \"th_jtteglad\", \"th_jtteglad\", \"th_jtteglad\", \"th_jtteglad\", \"th_jtteglad\", \"thank\", \"thank\", \"thank\", \"thank\", \"thank\", \"thank\", \"thank\", \"thanks\", \"thanks\", \"thanks\", \"thanks\", \"thanks\", \"thanks\", \"thanks\", \"theory\", \"theory\", \"theory\", \"theory\", \"theory\", \"theory\", \"theory\", \"thing\", \"thing\", \"thing\", \"thing\", \"thing\", \"thing\", \"thing\", \"think\", \"think\", \"think\", \"think\", \"think\", \"think\", \"think\", \"though\", \"though\", \"though\", \"though\", \"though\", \"though\", \"though\", \"thought\", \"thought\", \"thought\", \"thought\", \"thought\", \"thought\", \"thought\", \"thread\", \"thread\", \"thread\", \"thread\", \"thread\", \"thread\", \"thread\", \"tickled_pink\", \"tickled_pink\", \"tickled_pink\", \"tickled_pink\", \"tierd\", \"tierd\", \"tierd\", \"time\", \"time\", \"time\", \"time\", \"time\", \"time\", \"time\", \"tmlt\", \"tmlt\", \"tmlt\", \"tmlt\", \"tmlt\", \"tmlt\", \"tmlt\", \"trapking\", \"trie\", \"trying\", \"trying\", \"trying\", \"trying\", \"trying\", \"trying\", \"trying\", \"two\", \"two\", \"two\", \"two\", \"two\", \"two\", \"two\", \"type\", \"type\", \"type\", \"type\", \"type\", \"type\", \"type\", \"ulrich\", \"undees\", \"understand\", \"understand\", \"understand\", \"understand\", \"understand\", \"understand\", \"understand\", \"usando\", \"usando\", \"usando\", \"usando\", \"usando\", \"usando\", \"usando\", \"ussaly\", \"ussaly\", \"ussaly\", \"ussaly\", \"utilisant\", \"utilisant\", \"utilisant\", \"utilisant\", \"utilisant\", \"utilisant\", \"utilisant\", \"vackert\", \"videogames\", \"videogames\", \"videogames\", \"videogames\", \"videogames\", \"videogames\", \"videogames\", \"w\", \"w\", \"w\", \"w\", \"w\", \"w\", \"w\", \"want\", \"want\", \"want\", \"want\", \"want\", \"want\", \"want\", \"watch\", \"watch\", \"watch\", \"watch\", \"watch\", \"watch\", \"watch\", \"way\", \"way\", \"way\", \"way\", \"way\", \"way\", \"way\", \"wcp\", \"wcp\", \"wel\", \"wel\", \"wel\", \"wel\", \"wel\", \"wel\", \"wel\", \"welcome\", \"welcome\", \"welcome\", \"welcome\", \"welcome\", \"welcome\", \"welcome\", \"well\", \"well\", \"well\", \"well\", \"well\", \"well\", \"well\", \"wheelbarrow\", \"wheelbarrow\", \"whent\", \"whent\", \"wonderbolts\", \"would\", \"would\", \"would\", \"would\", \"would\", \"would\", \"would\", \"wudang\", \"xoxo\", \"xoxo\", \"xoxo\", \"xoxo\", \"xoxo\", \"xoxo\", \"xoxo\", \"yaaaaaaaaaaaaaa\", \"year\", \"year\", \"year\", \"year\", \"year\", \"year\", \"year\", \"yes\", \"yes\", \"yes\", \"yes\", \"yes\", \"yes\", \"yes\", \"youuuuuu\", \"zentangle\", \"zentangle\", \"zentangle\"]}, \"R\": 30, \"lambda.step\": 0.01, \"plot.opts\": {\"xlab\": \"PC1\", \"ylab\": \"PC2\"}, \"topic.order\": [1, 2, 4, 6, 5, 3, 7]};\n",
       "\n",
       "function LDAvis_load_lib(url, callback){\n",
       "  var s = document.createElement('script');\n",
       "  s.src = url;\n",
       "  s.async = true;\n",
       "  s.onreadystatechange = s.onload = callback;\n",
       "  s.onerror = function(){console.warn(\"failed to load library \" + url);};\n",
       "  document.getElementsByTagName(\"head\")[0].appendChild(s);\n",
       "}\n",
       "\n",
       "if(typeof(LDAvis) !== \"undefined\"){\n",
       "   // already loaded: just create the visualization\n",
       "   !function(LDAvis){\n",
       "       new LDAvis(\"#\" + \"ldavis_el1603222704074398242051185691\", ldavis_el1603222704074398242051185691_data);\n",
       "   }(LDAvis);\n",
       "}else if(typeof define === \"function\" && define.amd){\n",
       "   // require.js is available: use it to load d3/LDAvis\n",
       "   require.config({paths: {d3: \"https://d3js.org/d3.v5\"}});\n",
       "   require([\"d3\"], function(d3){\n",
       "      window.d3 = d3;\n",
       "      LDAvis_load_lib(\"https://cdn.jsdelivr.net/gh/bmabey/pyLDAvis@3.4.0/pyLDAvis/js/ldavis.v3.0.0.js\", function(){\n",
       "        new LDAvis(\"#\" + \"ldavis_el1603222704074398242051185691\", ldavis_el1603222704074398242051185691_data);\n",
       "      });\n",
       "    });\n",
       "}else{\n",
       "    // require.js not available: dynamically load d3 & LDAvis\n",
       "    LDAvis_load_lib(\"https://d3js.org/d3.v5.js\", function(){\n",
       "         LDAvis_load_lib(\"https://cdn.jsdelivr.net/gh/bmabey/pyLDAvis@3.4.0/pyLDAvis/js/ldavis.v3.0.0.js\", function(){\n",
       "                 new LDAvis(\"#\" + \"ldavis_el1603222704074398242051185691\", ldavis_el1603222704074398242051185691_data);\n",
       "            })\n",
       "         });\n",
       "}\n",
       "</script>"
      ],
      "text/plain": [
       "PreparedData(topic_coordinates=              x         y  topics  cluster       Freq\n",
       "topic                                                \n",
       "0     -0.003597 -0.000155       1        1  28.582443\n",
       "1     -0.001768  0.003038       2        1  24.014787\n",
       "3     -0.001111 -0.002412       3        1  15.903856\n",
       "5      0.000175 -0.001368       4        1  10.938818\n",
       "4      0.000806  0.000169       5        1   8.472496\n",
       "2      0.002668 -0.001120       6        1   8.191654\n",
       "6      0.002827  0.001848       7        1   3.895946, topic_info=          Term          Freq         Total Category  logprob  loglift\n",
       "118       like  71641.000000  71641.000000  Default  30.0000  30.0000\n",
       "153     people  48536.000000  48536.000000  Default  29.0000  29.0000\n",
       "409       know  37640.000000  37640.000000  Default  28.0000  28.0000\n",
       "213      think  51116.000000  51116.000000  Default  27.0000  27.0000\n",
       "170     really  34623.000000  34623.000000  Default  26.0000  26.0000\n",
       "..         ...           ...           ...      ...      ...      ...\n",
       "117       life    598.090503  16338.423937   Topic7  -5.8344  -0.0623\n",
       "260       also    620.546808  18082.413318   Topic7  -5.7975  -0.1269\n",
       "197  something    631.172698  19610.577267   Topic7  -5.7805  -0.1910\n",
       "78      friend    628.360584  22181.174323   Topic7  -5.7850  -0.3187\n",
       "184        see    603.048988  19554.432208   Topic7  -5.8261  -0.2337\n",
       "\n",
       "[625 rows x 6 columns], token_table=       Topic      Freq                      Term\n",
       "term                                            \n",
       "78882      3  0.531634  ________________________\n",
       "39296      1  0.478481                      __fp\n",
       "588        1  0.330955                  actually\n",
       "588        2  0.212757                  actually\n",
       "588        3  0.128985                  actually\n",
       "...      ...       ...                       ...\n",
       "801        7  0.037600                       yes\n",
       "29374      1  0.656162                  youuuuuu\n",
       "49736      1  0.243434                 zentangle\n",
       "49736      2  0.243434                 zentangle\n",
       "49736      3  0.486868                 zentangle\n",
       "\n",
       "[1521 rows x 3 columns], R=30, lambda_step=0.01, plot_opts={'xlab': 'PC1', 'ylab': 'PC2'}, topic_order=[1, 2, 4, 6, 5, 3, 7])"
      ]
     },
     "execution_count": 21,
     "metadata": {},
     "output_type": "execute_result"
    }
   ],
   "source": [
    "\n",
    "# Visualize the topics\n",
    "pyLDAvis.enable_notebook()\n",
    "LDAvis_data_filepath = os.path.join('./results/ldavis_prepared_'+str(7))\n",
    "LDAvis_prepared = pyLDAvis.gensim.prepare(lda_model, corpus, id2word)\n",
    "LDAvis_prepared"
   ]
  },
  {
   "cell_type": "code",
   "execution_count": 22,
   "metadata": {},
   "outputs": [],
   "source": [
    "# Doing Agglomerative Clustering \n",
    "\n",
    "\n",
    "pca = PCA(n_components=2)  # Reduce to 2 dimensions\n",
    "svd = TruncatedSVD(n_components=2)  # Reduce to 2 dimensions\n",
    "X_reduced_pca = pca.fit_transform(X)\n",
    "X_reduced_svd = svd.fit_transform(X)\n",
    "clustering = AgglomerativeClustering(n_clusters=3) "
   ]
  },
  {
   "cell_type": "code",
   "execution_count": 28,
   "metadata": {},
   "outputs": [],
   "source": [
    "# Step 4: Perform agglomerative clustering\n",
    "clustering_pca = clustering.fit(X_reduced_pca)\n",
    "clustering_svd = clustering.fit(X_reduced_svd)\n",
    "# Step 5: Visualize the clusters\n",
    "# This step is optional and can be complex with large datasets or high number of clusters\n",
    "# Here's a simple example with a dendrogram\n"
   ]
  },
  {
   "cell_type": "code",
   "execution_count": 26,
   "metadata": {},
   "outputs": [
    {
     "data": {
      "image/png": "[encoded data removed]",
      "text/plain": [
       "<Figure size 640x480 with 1 Axes>"
      ]
     },
     "metadata": {},
     "output_type": "display_data"
    }
   ],
   "source": [
    "#PCA\n",
    "children = clustering_pca.children_\n",
    "distance = np.arange(children.shape[0])\n",
    "no_of_observations = np.arange(2, children.shape[0]+2)\n",
    "linkage_matrix = np.column_stack([children, distance, no_of_observations]).astype(float)\n",
    "dendrogram(linkage_matrix, labels=clustering.labels_)\n",
    "mplt.show()"
   ]
  },
  {
   "cell_type": "code",
   "execution_count": 30,
   "metadata": {},
   "outputs": [
    {
     "data": {
      "image/png": "[encoded data removed]",
      "text/plain": [
       "<Figure size 640x480 with 1 Axes>"
      ]
     },
     "metadata": {},
     "output_type": "display_data"
    }
   ],
   "source": [
    "mplt.scatter(X_reduced_pca[:, 0], X_reduced_pca[:, 1], c=clustering_pca.labels_)\n",
    "mplt.show()"
   ]
  },
  {
   "cell_type": "code",
   "execution_count": 31,
   "metadata": {},
   "outputs": [
    {
     "data": {
      "image/png": "[encoded data removed]",
      "text/plain": [
       "<Figure size 640x480 with 1 Axes>"
      ]
     },
     "metadata": {},
     "output_type": "display_data"
    }
   ],
   "source": [
    "mplt.scatter(X_reduced_svd[:, 0], X_reduced_svd[:, 1], c=clustering_svd.labels_)\n",
    "mplt.show()"
   ]
  },
  {
   "cell_type": "code",
   "execution_count": 27,
   "metadata": {},
   "outputs": [
    {
     "data": {
      "image/png": "[encoded data removed]",
      "text/plain": [
       "<Figure size 640x480 with 1 Axes>"
      ]
     },
     "metadata": {},
     "output_type": "display_data"
    }
   ],
   "source": [
    "#SVD\n",
    "children = clustering_svd.children_\n",
    "distance = np.arange(children.shape[0])\n",
    "no_of_observations = np.arange(2, children.shape[0]+2)\n",
    "linkage_matrix = np.column_stack([children, distance, no_of_observations]).astype(float)\n",
    "dendrogram(linkage_matrix, labels=clustering.labels_)\n",
    "mplt.show()"
   ]
  }
 ],
 "metadata": {
  "kernelspec": {
   "display_name": ".venv",
   "language": "python",
   "name": "python3"
  },
  "language_info": {
   "codemirror_mode": {
    "name": "ipython",
    "version": 3
   },
   "file_extension": ".py",
   "mimetype": "text/x-python",
   "name": "python",
   "nbconvert_exporter": "python",
   "pygments_lexer": "ipython3",
   "version": "3.12.4"
  }
 },
 "nbformat": 4,
 "nbformat_minor": 2
}
