{
 "cells": [
  {
   "cell_type": "code",
   "execution_count": 1,
   "metadata": {},
   "outputs": [],
   "source": [
    "import pandas as pd\n",
    "import gensim\n",
    "import gensim.corpora as corpora\n",
    "from gensim.utils import simple_preprocess\n",
    "import numpy as np\n",
    "import re\n",
    "import neattext as nt\n",
    "import neattext.functions as nfx\n",
    "from neattext.explainer import emoji_explainer\n",
    "import nltk\n",
    "from nltk.corpus import stopwords\n",
    "from nltk.tokenize import word_tokenize\n",
    "from nltk.stem import PorterStemmer\n",
    "from string import punctuation\n",
    "# I guess i need to plot for presentation in case.\n",
    "import plotly.express as px\n",
    "from pprint import pprint\n",
    "import pyLDAvis.gensim\n",
    "import pyLDAvis\n",
    "import os\n",
    "from scipy.cluster.hierarchy import dendrogram\n",
    "from sklearn.cluster import AgglomerativeClustering\n",
    "from sklearn.decomposition import PCA\n",
    "from sklearn.decomposition import TruncatedSVD\n",
    "import matplotlib.pyplot as mplt\n"
   ]
  },
  {
   "cell_type": "code",
   "execution_count": 2,
   "metadata": {},
   "outputs": [
    {
     "data": {
      "text/html": [
       "<div>\n",
       "<style scoped>\n",
       "    .dataframe tbody tr th:only-of-type {\n",
       "        vertical-align: middle;\n",
       "    }\n",
       "\n",
       "    .dataframe tbody tr th {\n",
       "        vertical-align: top;\n",
       "    }\n",
       "\n",
       "    .dataframe thead th {\n",
       "        text-align: right;\n",
       "    }\n",
       "</style>\n",
       "<table border=\"1\" class=\"dataframe\">\n",
       "  <thead>\n",
       "    <tr style=\"text-align: right;\">\n",
       "      <th></th>\n",
       "      <th>type</th>\n",
       "      <th>posts</th>\n",
       "    </tr>\n",
       "  </thead>\n",
       "  <tbody>\n",
       "    <tr>\n",
       "      <th>0</th>\n",
       "      <td>INFJ</td>\n",
       "      <td>'😂😂😂😂 http://www.youtube.com/watch?v=qsXHcwe3k...</td>\n",
       "    </tr>\n",
       "    <tr>\n",
       "      <th>1</th>\n",
       "      <td>ENTP</td>\n",
       "      <td>'I'm finding the lack of me in these posts ver...</td>\n",
       "    </tr>\n",
       "    <tr>\n",
       "      <th>2</th>\n",
       "      <td>INTP</td>\n",
       "      <td>'Good one  _____   https://www.youtube.com/wat...</td>\n",
       "    </tr>\n",
       "    <tr>\n",
       "      <th>3</th>\n",
       "      <td>INTJ</td>\n",
       "      <td>'Dear INTP,   I enjoyed our conversation the o...</td>\n",
       "    </tr>\n",
       "    <tr>\n",
       "      <th>4</th>\n",
       "      <td>ENTJ</td>\n",
       "      <td>'You're fired.|||That's another silly misconce...</td>\n",
       "    </tr>\n",
       "  </tbody>\n",
       "</table>\n",
       "</div>"
      ],
      "text/plain": [
       "   type                                              posts\n",
       "0  INFJ  '😂😂😂😂 http://www.youtube.com/watch?v=qsXHcwe3k...\n",
       "1  ENTP  'I'm finding the lack of me in these posts ver...\n",
       "2  INTP  'Good one  _____   https://www.youtube.com/wat...\n",
       "3  INTJ  'Dear INTP,   I enjoyed our conversation the o...\n",
       "4  ENTJ  'You're fired.|||That's another silly misconce..."
      ]
     },
     "execution_count": 2,
     "metadata": {},
     "output_type": "execute_result"
    }
   ],
   "source": [
    "# Downloaded dataset from Kaggle https://www.kaggle.com/datasets/datasnaek/mbti-type\n",
    "df = pd.read_csv('..\\\\data\\\\data\\\\mbti_1.csv')\n",
    "df.head()"
   ]
  },
  {
   "cell_type": "code",
   "execution_count": 3,
   "metadata": {},
   "outputs": [
    {
     "name": "stdout",
     "output_type": "stream",
     "text": [
      "<class 'pandas.core.frame.DataFrame'>\n",
      "RangeIndex: 8675 entries, 0 to 8674\n",
      "Data columns (total 2 columns):\n",
      " #   Column  Non-Null Count  Dtype \n",
      "---  ------  --------------  ----- \n",
      " 0   type    8675 non-null   object\n",
      " 1   posts   8675 non-null   object\n",
      "dtypes: object(2)\n",
      "memory usage: 135.7+ KB\n"
     ]
    }
   ],
   "source": [
    "#drop all the na data. not gonna bother check.\n",
    "df.dropna(inplace=True)\n",
    "df.info()"
   ]
  },
  {
   "cell_type": "code",
   "execution_count": 4,
   "metadata": {},
   "outputs": [
    {
     "name": "stdout",
     "output_type": "stream",
     "text": [
      "['INFJ' 'ENTP' 'INTP' 'INTJ' 'ENTJ' 'ENFJ' 'INFP' 'ENFP' 'ISFP' 'ISTP'\n",
      " 'ISFJ' 'ISTJ' 'ESTP' 'ESFP' 'ESTJ' 'ESFJ']\n",
      "16\n"
     ]
    }
   ],
   "source": [
    "# Check if all MBTI types are present . 4 *4 so must be total of 16\n",
    "types = df['type'].unique()\n",
    "print(types)\n",
    "print(len(types))"
   ]
  },
  {
   "cell_type": "code",
   "execution_count": 5,
   "metadata": {},
   "outputs": [
    {
     "name": "stdout",
     "output_type": "stream",
     "text": [
      "type\n",
      "INFP    1832\n",
      "INFJ    1470\n",
      "INTP    1304\n",
      "INTJ    1091\n",
      "ENTP     685\n",
      "ENFP     675\n",
      "ISTP     337\n",
      "ISFP     271\n",
      "ENTJ     231\n",
      "ISTJ     205\n",
      "ENFJ     190\n",
      "ISFJ     166\n",
      "ESTP      89\n",
      "ESFP      48\n",
      "ESFJ      42\n",
      "ESTJ      39\n",
      "Name: count, dtype: int64\n"
     ]
    }
   ],
   "source": [
    "# Check the distribution of the MBTI types in the dataset\n",
    "print(df['type'].value_counts())\n",
    "#plot the distribution of the MBTI types in the dataset\n",
    "fig = px.bar(df['type'].value_counts(), title='Distribution of MBTI types in the dataset')"
   ]
  },
  {
   "cell_type": "code",
   "execution_count": 6,
   "metadata": {},
   "outputs": [
    {
     "data": {
      "application/vnd.plotly.v1+json": {
       "config": {
        "plotlyServerURL": "https://plot.ly"
       },
       "data": [
        {
         "alignmentgroup": "True",
         "hovertemplate": "variable=count<br>type=%{x}<br>value=%{y}<extra></extra>",
         "legendgroup": "count",
         "marker": {
          "color": "#636efa",
          "pattern": {
           "shape": ""
          }
         },
         "name": "count",
         "offsetgroup": "count",
         "orientation": "v",
         "showlegend": true,
         "textposition": "auto",
         "type": "bar",
         "x": [
          "INFP",
          "INFJ",
          "INTP",
          "INTJ",
          "ENTP",
          "ENFP",
          "ISTP",
          "ISFP",
          "ENTJ",
          "ISTJ",
          "ENFJ",
          "ISFJ",
          "ESTP",
          "ESFP",
          "ESFJ",
          "ESTJ"
         ],
         "xaxis": "x",
         "y": [
          1832,
          1470,
          1304,
          1091,
          685,
          675,
          337,
          271,
          231,
          205,
          190,
          166,
          89,
          48,
          42,
          39
         ],
         "yaxis": "y"
        }
       ],
       "layout": {
        "barmode": "relative",
        "legend": {
         "title": {
          "text": "variable"
         },
         "tracegroupgap": 0
        },
        "template": {
         "data": {
          "bar": [
           {
            "error_x": {
             "color": "#2a3f5f"
            },
            "error_y": {
             "color": "#2a3f5f"
            },
            "marker": {
             "line": {
              "color": "#E5ECF6",
              "width": 0.5
             },
             "pattern": {
              "fillmode": "overlay",
              "size": 10,
              "solidity": 0.2
             }
            },
            "type": "bar"
           }
          ],
          "barpolar": [
           {
            "marker": {
             "line": {
              "color": "#E5ECF6",
              "width": 0.5
             },
             "pattern": {
              "fillmode": "overlay",
              "size": 10,
              "solidity": 0.2
             }
            },
            "type": "barpolar"
           }
          ],
          "carpet": [
           {
            "aaxis": {
             "endlinecolor": "#2a3f5f",
             "gridcolor": "white",
             "linecolor": "white",
             "minorgridcolor": "white",
             "startlinecolor": "#2a3f5f"
            },
            "baxis": {
             "endlinecolor": "#2a3f5f",
             "gridcolor": "white",
             "linecolor": "white",
             "minorgridcolor": "white",
             "startlinecolor": "#2a3f5f"
            },
            "type": "carpet"
           }
          ],
          "choropleth": [
           {
            "colorbar": {
             "outlinewidth": 0,
             "ticks": ""
            },
            "type": "choropleth"
           }
          ],
          "contour": [
           {
            "colorbar": {
             "outlinewidth": 0,
             "ticks": ""
            },
            "colorscale": [
             [
              0,
              "#0d0887"
             ],
             [
              0.1111111111111111,
              "#46039f"
             ],
             [
              0.2222222222222222,
              "#7201a8"
             ],
             [
              0.3333333333333333,
              "#9c179e"
             ],
             [
              0.4444444444444444,
              "#bd3786"
             ],
             [
              0.5555555555555556,
              "#d8576b"
             ],
             [
              0.6666666666666666,
              "#ed7953"
             ],
             [
              0.7777777777777778,
              "#fb9f3a"
             ],
             [
              0.8888888888888888,
              "#fdca26"
             ],
             [
              1,
              "#f0f921"
             ]
            ],
            "type": "contour"
           }
          ],
          "contourcarpet": [
           {
            "colorbar": {
             "outlinewidth": 0,
             "ticks": ""
            },
            "type": "contourcarpet"
           }
          ],
          "heatmap": [
           {
            "colorbar": {
             "outlinewidth": 0,
             "ticks": ""
            },
            "colorscale": [
             [
              0,
              "#0d0887"
             ],
             [
              0.1111111111111111,
              "#46039f"
             ],
             [
              0.2222222222222222,
              "#7201a8"
             ],
             [
              0.3333333333333333,
              "#9c179e"
             ],
             [
              0.4444444444444444,
              "#bd3786"
             ],
             [
              0.5555555555555556,
              "#d8576b"
             ],
             [
              0.6666666666666666,
              "#ed7953"
             ],
             [
              0.7777777777777778,
              "#fb9f3a"
             ],
             [
              0.8888888888888888,
              "#fdca26"
             ],
             [
              1,
              "#f0f921"
             ]
            ],
            "type": "heatmap"
           }
          ],
          "heatmapgl": [
           {
            "colorbar": {
             "outlinewidth": 0,
             "ticks": ""
            },
            "colorscale": [
             [
              0,
              "#0d0887"
             ],
             [
              0.1111111111111111,
              "#46039f"
             ],
             [
              0.2222222222222222,
              "#7201a8"
             ],
             [
              0.3333333333333333,
              "#9c179e"
             ],
             [
              0.4444444444444444,
              "#bd3786"
             ],
             [
              0.5555555555555556,
              "#d8576b"
             ],
             [
              0.6666666666666666,
              "#ed7953"
             ],
             [
              0.7777777777777778,
              "#fb9f3a"
             ],
             [
              0.8888888888888888,
              "#fdca26"
             ],
             [
              1,
              "#f0f921"
             ]
            ],
            "type": "heatmapgl"
           }
          ],
          "histogram": [
           {
            "marker": {
             "pattern": {
              "fillmode": "overlay",
              "size": 10,
              "solidity": 0.2
             }
            },
            "type": "histogram"
           }
          ],
          "histogram2d": [
           {
            "colorbar": {
             "outlinewidth": 0,
             "ticks": ""
            },
            "colorscale": [
             [
              0,
              "#0d0887"
             ],
             [
              0.1111111111111111,
              "#46039f"
             ],
             [
              0.2222222222222222,
              "#7201a8"
             ],
             [
              0.3333333333333333,
              "#9c179e"
             ],
             [
              0.4444444444444444,
              "#bd3786"
             ],
             [
              0.5555555555555556,
              "#d8576b"
             ],
             [
              0.6666666666666666,
              "#ed7953"
             ],
             [
              0.7777777777777778,
              "#fb9f3a"
             ],
             [
              0.8888888888888888,
              "#fdca26"
             ],
             [
              1,
              "#f0f921"
             ]
            ],
            "type": "histogram2d"
           }
          ],
          "histogram2dcontour": [
           {
            "colorbar": {
             "outlinewidth": 0,
             "ticks": ""
            },
            "colorscale": [
             [
              0,
              "#0d0887"
             ],
             [
              0.1111111111111111,
              "#46039f"
             ],
             [
              0.2222222222222222,
              "#7201a8"
             ],
             [
              0.3333333333333333,
              "#9c179e"
             ],
             [
              0.4444444444444444,
              "#bd3786"
             ],
             [
              0.5555555555555556,
              "#d8576b"
             ],
             [
              0.6666666666666666,
              "#ed7953"
             ],
             [
              0.7777777777777778,
              "#fb9f3a"
             ],
             [
              0.8888888888888888,
              "#fdca26"
             ],
             [
              1,
              "#f0f921"
             ]
            ],
            "type": "histogram2dcontour"
           }
          ],
          "mesh3d": [
           {
            "colorbar": {
             "outlinewidth": 0,
             "ticks": ""
            },
            "type": "mesh3d"
           }
          ],
          "parcoords": [
           {
            "line": {
             "colorbar": {
              "outlinewidth": 0,
              "ticks": ""
             }
            },
            "type": "parcoords"
           }
          ],
          "pie": [
           {
            "automargin": true,
            "type": "pie"
           }
          ],
          "scatter": [
           {
            "fillpattern": {
             "fillmode": "overlay",
             "size": 10,
             "solidity": 0.2
            },
            "type": "scatter"
           }
          ],
          "scatter3d": [
           {
            "line": {
             "colorbar": {
              "outlinewidth": 0,
              "ticks": ""
             }
            },
            "marker": {
             "colorbar": {
              "outlinewidth": 0,
              "ticks": ""
             }
            },
            "type": "scatter3d"
           }
          ],
          "scattercarpet": [
           {
            "marker": {
             "colorbar": {
              "outlinewidth": 0,
              "ticks": ""
             }
            },
            "type": "scattercarpet"
           }
          ],
          "scattergeo": [
           {
            "marker": {
             "colorbar": {
              "outlinewidth": 0,
              "ticks": ""
             }
            },
            "type": "scattergeo"
           }
          ],
          "scattergl": [
           {
            "marker": {
             "colorbar": {
              "outlinewidth": 0,
              "ticks": ""
             }
            },
            "type": "scattergl"
           }
          ],
          "scattermapbox": [
           {
            "marker": {
             "colorbar": {
              "outlinewidth": 0,
              "ticks": ""
             }
            },
            "type": "scattermapbox"
           }
          ],
          "scatterpolar": [
           {
            "marker": {
             "colorbar": {
              "outlinewidth": 0,
              "ticks": ""
             }
            },
            "type": "scatterpolar"
           }
          ],
          "scatterpolargl": [
           {
            "marker": {
             "colorbar": {
              "outlinewidth": 0,
              "ticks": ""
             }
            },
            "type": "scatterpolargl"
           }
          ],
          "scatterternary": [
           {
            "marker": {
             "colorbar": {
              "outlinewidth": 0,
              "ticks": ""
             }
            },
            "type": "scatterternary"
           }
          ],
          "surface": [
           {
            "colorbar": {
             "outlinewidth": 0,
             "ticks": ""
            },
            "colorscale": [
             [
              0,
              "#0d0887"
             ],
             [
              0.1111111111111111,
              "#46039f"
             ],
             [
              0.2222222222222222,
              "#7201a8"
             ],
             [
              0.3333333333333333,
              "#9c179e"
             ],
             [
              0.4444444444444444,
              "#bd3786"
             ],
             [
              0.5555555555555556,
              "#d8576b"
             ],
             [
              0.6666666666666666,
              "#ed7953"
             ],
             [
              0.7777777777777778,
              "#fb9f3a"
             ],
             [
              0.8888888888888888,
              "#fdca26"
             ],
             [
              1,
              "#f0f921"
             ]
            ],
            "type": "surface"
           }
          ],
          "table": [
           {
            "cells": {
             "fill": {
              "color": "#EBF0F8"
             },
             "line": {
              "color": "white"
             }
            },
            "header": {
             "fill": {
              "color": "#C8D4E3"
             },
             "line": {
              "color": "white"
             }
            },
            "type": "table"
           }
          ]
         },
         "layout": {
          "annotationdefaults": {
           "arrowcolor": "#2a3f5f",
           "arrowhead": 0,
           "arrowwidth": 1
          },
          "autotypenumbers": "strict",
          "coloraxis": {
           "colorbar": {
            "outlinewidth": 0,
            "ticks": ""
           }
          },
          "colorscale": {
           "diverging": [
            [
             0,
             "#8e0152"
            ],
            [
             0.1,
             "#c51b7d"
            ],
            [
             0.2,
             "#de77ae"
            ],
            [
             0.3,
             "#f1b6da"
            ],
            [
             0.4,
             "#fde0ef"
            ],
            [
             0.5,
             "#f7f7f7"
            ],
            [
             0.6,
             "#e6f5d0"
            ],
            [
             0.7,
             "#b8e186"
            ],
            [
             0.8,
             "#7fbc41"
            ],
            [
             0.9,
             "#4d9221"
            ],
            [
             1,
             "#276419"
            ]
           ],
           "sequential": [
            [
             0,
             "#0d0887"
            ],
            [
             0.1111111111111111,
             "#46039f"
            ],
            [
             0.2222222222222222,
             "#7201a8"
            ],
            [
             0.3333333333333333,
             "#9c179e"
            ],
            [
             0.4444444444444444,
             "#bd3786"
            ],
            [
             0.5555555555555556,
             "#d8576b"
            ],
            [
             0.6666666666666666,
             "#ed7953"
            ],
            [
             0.7777777777777778,
             "#fb9f3a"
            ],
            [
             0.8888888888888888,
             "#fdca26"
            ],
            [
             1,
             "#f0f921"
            ]
           ],
           "sequentialminus": [
            [
             0,
             "#0d0887"
            ],
            [
             0.1111111111111111,
             "#46039f"
            ],
            [
             0.2222222222222222,
             "#7201a8"
            ],
            [
             0.3333333333333333,
             "#9c179e"
            ],
            [
             0.4444444444444444,
             "#bd3786"
            ],
            [
             0.5555555555555556,
             "#d8576b"
            ],
            [
             0.6666666666666666,
             "#ed7953"
            ],
            [
             0.7777777777777778,
             "#fb9f3a"
            ],
            [
             0.8888888888888888,
             "#fdca26"
            ],
            [
             1,
             "#f0f921"
            ]
           ]
          },
          "colorway": [
           "#636efa",
           "#EF553B",
           "#00cc96",
           "#ab63fa",
           "#FFA15A",
           "#19d3f3",
           "#FF6692",
           "#B6E880",
           "#FF97FF",
           "#FECB52"
          ],
          "font": {
           "color": "#2a3f5f"
          },
          "geo": {
           "bgcolor": "white",
           "lakecolor": "white",
           "landcolor": "#E5ECF6",
           "showlakes": true,
           "showland": true,
           "subunitcolor": "white"
          },
          "hoverlabel": {
           "align": "left"
          },
          "hovermode": "closest",
          "mapbox": {
           "style": "light"
          },
          "paper_bgcolor": "white",
          "plot_bgcolor": "#E5ECF6",
          "polar": {
           "angularaxis": {
            "gridcolor": "white",
            "linecolor": "white",
            "ticks": ""
           },
           "bgcolor": "#E5ECF6",
           "radialaxis": {
            "gridcolor": "white",
            "linecolor": "white",
            "ticks": ""
           }
          },
          "scene": {
           "xaxis": {
            "backgroundcolor": "#E5ECF6",
            "gridcolor": "white",
            "gridwidth": 2,
            "linecolor": "white",
            "showbackground": true,
            "ticks": "",
            "zerolinecolor": "white"
           },
           "yaxis": {
            "backgroundcolor": "#E5ECF6",
            "gridcolor": "white",
            "gridwidth": 2,
            "linecolor": "white",
            "showbackground": true,
            "ticks": "",
            "zerolinecolor": "white"
           },
           "zaxis": {
            "backgroundcolor": "#E5ECF6",
            "gridcolor": "white",
            "gridwidth": 2,
            "linecolor": "white",
            "showbackground": true,
            "ticks": "",
            "zerolinecolor": "white"
           }
          },
          "shapedefaults": {
           "line": {
            "color": "#2a3f5f"
           }
          },
          "ternary": {
           "aaxis": {
            "gridcolor": "white",
            "linecolor": "white",
            "ticks": ""
           },
           "baxis": {
            "gridcolor": "white",
            "linecolor": "white",
            "ticks": ""
           },
           "bgcolor": "#E5ECF6",
           "caxis": {
            "gridcolor": "white",
            "linecolor": "white",
            "ticks": ""
           }
          },
          "title": {
           "x": 0.05
          },
          "xaxis": {
           "automargin": true,
           "gridcolor": "white",
           "linecolor": "white",
           "ticks": "",
           "title": {
            "standoff": 15
           },
           "zerolinecolor": "white",
           "zerolinewidth": 2
          },
          "yaxis": {
           "automargin": true,
           "gridcolor": "white",
           "linecolor": "white",
           "ticks": "",
           "title": {
            "standoff": 15
           },
           "zerolinecolor": "white",
           "zerolinewidth": 2
          }
         }
        },
        "title": {
         "text": "Distribution of MBTI types in the dataset"
        },
        "xaxis": {
         "anchor": "y",
         "domain": [
          0,
          1
         ],
         "title": {
          "text": "type"
         }
        },
        "yaxis": {
         "anchor": "x",
         "domain": [
          0,
          1
         ],
         "title": {
          "text": "value"
         }
        }
       }
      }
     },
     "metadata": {},
     "output_type": "display_data"
    }
   ],
   "source": [
    "fig"
   ]
  },
  {
   "cell_type": "markdown",
   "metadata": {},
   "source": [
    "Looks like INFP is more prominent in dataset. Anyway, clean the dataset"
   ]
  },
  {
   "cell_type": "code",
   "execution_count": 7,
   "metadata": {},
   "outputs": [
    {
     "name": "stdout",
     "output_type": "stream",
     "text": [
      "['i', 'me', 'my', 'myself', 'we', 'our', 'ours', 'ourselves', 'you', \"you're\", \"you've\", \"you'll\", \"you'd\", 'your', 'yours', 'yourself', 'yourselves', 'he', 'him', 'his', 'himself', 'she', \"she's\", 'her', 'hers', 'herself', 'it', \"it's\", 'its', 'itself', 'they', 'them', 'their', 'theirs', 'themselves', 'what', 'which', 'who', 'whom', 'this', 'that', \"that'll\", 'these', 'those', 'am', 'is', 'are', 'was', 'were', 'be', 'been', 'being', 'have', 'has', 'had', 'having', 'do', 'does', 'did', 'doing', 'a', 'an', 'the', 'and', 'but', 'if', 'or', 'because', 'as', 'until', 'while', 'of', 'at', 'by', 'for', 'with', 'about', 'against', 'between', 'into', 'through', 'during', 'before', 'after', 'above', 'below', 'to', 'from', 'up', 'down', 'in', 'out', 'on', 'off', 'over', 'under', 'again', 'further', 'then', 'once', 'here', 'there', 'when', 'where', 'why', 'how', 'all', 'any', 'both', 'each', 'few', 'more', 'most', 'other', 'some', 'such', 'no', 'nor', 'not', 'only', 'own', 'same', 'so', 'than', 'too', 'very', 's', 't', 'can', 'will', 'just', 'don', \"don't\", 'should', \"should've\", 'now', 'd', 'll', 'm', 'o', 're', 've', 'y', 'ain', 'aren', \"aren't\", 'couldn', \"couldn't\", 'didn', \"didn't\", 'doesn', \"doesn't\", 'hadn', \"hadn't\", 'hasn', \"hasn't\", 'haven', \"haven't\", 'isn', \"isn't\", 'ma', 'mightn', \"mightn't\", 'mustn', \"mustn't\", 'needn', \"needn't\", 'shan', \"shan't\", 'shouldn', \"shouldn't\", 'wasn', \"wasn't\", 'weren', \"weren't\", 'won', \"won't\", 'wouldn', \"wouldn't\", 'https', 'http', 'www']\n"
     ]
    }
   ],
   "source": [
    "stop_words = stopwords.words('english')\n",
    "stop_words.extend(['https','http','www'])\n",
    "lemmatizer = nltk.WordNetLemmatizer()  \n",
    "#Print the list of stopwords from nltk\n",
    "print(stop_words)"
   ]
  },
  {
   "cell_type": "code",
   "execution_count": 8,
   "metadata": {},
   "outputs": [],
   "source": [
    "#tokenize function to apply to dataframe\n",
    "def cleantext (text):\n",
    "    post = re.sub(r'\\|\\|\\|',' ', text, flags=re.MULTILINE)\n",
    "    post = gensim.utils.simple_preprocess(post, deacc=True)\n",
    "    #remove links first\n",
    "    post = re.sub(r'''http[s]?://(?:[a-zA-Z]|[0-9]|[$-_@.&+]|[!*\\\\(\\\\),]|(?:%[0-9a-fA-F][0-9a-fA-F]))+''', ' ', text, flags=re.MULTILINE)\n",
    "    # removew all the numbers only too since it is useless.\n",
    "    post = re.sub(r'''[0-9]+''', ' ', post, flags=re.MULTILINE)\n",
    "    \n",
    "    # remove all the punctuations\n",
    "    post = re.sub(r'[^\\w\\s]',' ', post, flags=re.MULTILINE)\n",
    "    # remove all the extra spaces\n",
    "    post = re.sub(r'\\s+',' ', post, flags=re.MULTILINE)\n",
    "    # remove all the special characters \n",
    "    post = re.sub(r'[^\\x00-\\x7F]+',' ', post, flags=re.MULTILINE)\n",
    "    # kaggle datasource says (Each entry separated by \"|||\" (3 pipe characters)) so we just remove it and process full chunk of text.\n",
    "    # Maybe in advance, will have to consider processing each entry separately.\n",
    "    # check if text contains emoji, if yes replace the emoji with the description\n",
    "    \n",
    "    \n",
    "    #List of Emojis\n",
    "    emoji_list = dict(zip(nt.explainer.__EMOJI_TO_NAME_DICT.values(), nt.explainer.__EMOJI_TO_NAME_DICT.keys()))\n",
    "    for cr in post:\n",
    "        if cr in emoji_list.keys():\n",
    "            post = post.replace(cr, emoji_explainer(cr)+\" \")\n",
    "    # Lowercase the text\n",
    "    \n",
    "    post = post.lower()\n",
    "    \n",
    "    # Looking at Noise in the text Before cleaning\n",
    "    # nt_text = nt.TextFrame(post)\n",
    "    # print(\"Before - {}\".format(  nt_text.noise_scan()))\n",
    "    \n",
    "    #Whatever left, trust the library and clean it 😂😂😂 and hope for the best for nows.\n",
    "    #tokenize the text\n",
    "    \n",
    "    # Looking at Noise in the text After cleaning\n",
    "    # nt_text = nt.TextFrame(post)\n",
    "    # print(\"After - {}\".format(  nt_text.noise_scan()))\n",
    "    \n",
    "    return post \n",
    "    \n",
    "def tokenize_and_lemmatize_and_remove_stopwords(text):\n",
    "    post = word_tokenize(text)\n",
    "    #remove stopwords\n",
    "    return [lemmatizer.lemmatize(p) for p in post if p not in stop_words]"
   ]
  },
  {
   "cell_type": "code",
   "execution_count": 9,
   "metadata": {},
   "outputs": [
    {
     "name": "stdout",
     "output_type": "stream",
     "text": [
      "'😂😂😂😂 http://www.youtube.com/watch?v=qsXHcwe3krw|||http://41.media.tumblr.com/tumblr_lfouy03PMA1qa1rooo1_500.jpg|||enfp and intj moments  https://www.youtube.com/watch?v=iz7lE1g4XM4  sportscenter not top ten plays  https://www.youtube.com/watch?v=uCdfze1etec  pranks|||What has been the most life-changing experience in your life?|||http://www.youtube.com/watch?v=vXZeYwwRDw8   http://www.youtube.com/watch?v=u8ejam5DP3E  On repeat for most of today.|||May the PerC Experience immerse you.|||The last thing my INFJ friend posted on his facebook before committing suicide the next day. Rest in peace~   http://vimeo.com/22842206|||Hello ENFJ7. Sorry to hear of your distress. It's only natural for a relationship to not be perfection all the time in every moment of existence. Try to figure the hard times as times of growth, as...|||84389  84390  http://wallpaperpassion.com/upload/23700/friendship-boy-and-girl-wallpaper.jpg  http://assets.dornob.com/wp-content/uploads/2010/04/round-home-design.jpg ...|||Welcome and stuff.|||http://playeressence.com/wp-content/uploads/2013/08/RED-red-the-pokemon-master-32560474-450-338.jpg  Game. Set. Match.|||Prozac, wellbrutin, at least thirty minutes of moving your legs (and I don't mean moving them while sitting in your same desk chair), weed in moderation (maybe try edibles as a healthier alternative...|||Basically come up with three items you've determined that each type (or whichever types you want to do) would more than likely use, given each types' cognitive functions and whatnot, when left by...|||All things in moderation.  Sims is indeed a video game, and a good one at that. Note: a good one at that is somewhat subjective in that I am not completely promoting the death of any given Sim...|||Dear ENFP:  What were your favorite video games growing up and what are your now, current favorite video games? :cool:|||https://www.youtube.com/watch?v=QyPqT8umzmY|||It appears to be too late. :sad:|||There's someone out there for everyone.|||Wait... I thought confidence was a good thing.|||I just cherish the time of solitude b/c i revel within my inner world more whereas most other time i'd be workin... just enjoy the me time while you can. Don't worry, people will always be around to...|||Yo entp ladies... if you're into a complimentary personality,well, hey.|||... when your main social outlet is xbox live conversations and even then you verbally fatigue quickly.|||http://www.youtube.com/watch?v=gDhy7rdfm14  I really dig the part from 1:46 to 2:50|||http://www.youtube.com/watch?v=msqXffgh7b8|||Banned because this thread requires it of me.|||Get high in backyard, roast and eat marshmellows in backyard while conversing over something intellectual, followed by massages and kisses.|||http://www.youtube.com/watch?v=Mw7eoU3BMbE|||http://www.youtube.com/watch?v=4V2uYORhQOk|||http://www.youtube.com/watch?v=SlVmgFQQ0TI|||Banned for too many b's in that sentence. How could you! Think of the B!|||Banned for watching movies in the corner with the dunces.|||Banned because Health class clearly taught you nothing about peer pressure.|||Banned for a whole host of reasons!|||http://www.youtube.com/watch?v=IRcrv41hgz4|||1) Two baby deer on left and right munching on a beetle in the middle.  2) Using their own blood, two cavemen diary today's latest happenings on their designated cave diary wall.  3) I see it as...|||a pokemon world  an infj society  everyone becomes an optimist|||49142|||http://www.youtube.com/watch?v=ZRCEq_JFeFM|||http://discovermagazine.com/2012/jul-aug/20-things-you-didnt-know-about-deserts/desert.jpg|||http://oyster.ignimgs.com/mediawiki/apis.ign.com/pokemon-silver-version/d/dd/Ditto.gif|||http://www.serebii.net/potw-dp/Scizor.jpg|||Not all artists are artists because they draw. It's the idea that counts in forming something of your own... like a signature.|||Welcome to the robot ranks, person who downed my self-esteem cuz I'm not an avid signature artist like herself. :proud:|||Banned for taking all the room under my bed. Ya gotta learn to share with the roaches.|||http://www.youtube.com/watch?v=w8IgImn57aQ|||Banned for being too much of a thundering, grumbling kind of storm... yep.|||Ahh... old high school music I haven't heard in ages.   http://www.youtube.com/watch?v=dcCRUPCdB1w|||I failed a public speaking class a few years ago and I've sort of learned what I could do better were I to be in that position again. A big part of my failure was just overloading myself with too...|||I like this person's mentality. He's a confirmed INTJ by the way. http://www.youtube.com/watch?v=hGKLI-GEc6M|||Move to the Denver area and start a new life for myself.'\n",
      " enfp and intj moments sportscenter not top ten plays pranks what has been the most life changing experience in your life on repeat for most of today may the perc experience immerse you the last thing my infj friend posted on his facebook before committing suicide the next day rest in peace hello enfj sorry to hear of your distress it s only natural for a relationship to not be perfection all the time in every moment of existence try to figure the hard times as times of growth as welcome and stuff game set match prozac wellbrutin at least thirty minutes of moving your legs and i don t mean moving them while sitting in your same desk chair weed in moderation maybe try edibles as a healthier alternative basically come up with three items you ve determined that each type or whichever types you want to do would more than likely use given each types cognitive functions and whatnot when left by all things in moderation sims is indeed a video game and a good one at that note a good one at that is somewhat subjective in that i am not completely promoting the death of any given sim dear enfp what were your favorite video games growing up and what are your now current favorite video games cool it appears to be too late sad there s someone out there for everyone wait i thought confidence was a good thing i just cherish the time of solitude b c i revel within my inner world more whereas most other time i d be workin just enjoy the me time while you can don t worry people will always be around to yo entp ladies if you re into a complimentary personality well hey when your main social outlet is xbox live conversations and even then you verbally fatigue quickly i really dig the part from to banned because this thread requires it of me get high in backyard roast and eat marshmellows in backyard while conversing over something intellectual followed by massages and kisses banned for too many b s in that sentence how could you think of the b banned for watching movies in the corner with the dunces banned because health class clearly taught you nothing about peer pressure banned for a whole host of reasons two baby deer on left and right munching on a beetle in the middle using their own blood two cavemen diary today s latest happenings on their designated cave diary wall i see it as a pokemon world an infj society everyone becomes an optimist not all artists are artists because they draw it s the idea that counts in forming something of your own like a signature welcome to the robot ranks person who downed my self esteem cuz i m not an avid signature artist like herself proud banned for taking all the room under my bed ya gotta learn to share with the roaches banned for being too much of a thundering grumbling kind of storm yep ahh old high school music i haven t heard in ages i failed a public speaking class a few years ago and i ve sort of learned what i could do better were i to be in that position again a big part of my failure was just overloading myself with too i like this person s mentality he s a confirmed intj by the way move to the denver area and start a new life for myself \n",
      "['enfp', 'intj', 'moment', 'sportscenter', 'top', 'ten', 'play', 'prank', 'life', 'changing', 'experience', 'life', 'repeat', 'today', 'may', 'perc', 'experience', 'immerse', 'last', 'thing', 'infj', 'friend', 'posted', 'facebook', 'committing', 'suicide', 'next', 'day', 'rest', 'peace', 'hello', 'enfj', 'sorry', 'hear', 'distress', 'natural', 'relationship', 'perfection', 'time', 'every', 'moment', 'existence', 'try', 'figure', 'hard', 'time', 'time', 'growth', 'welcome', 'stuff', 'game', 'set', 'match', 'prozac', 'wellbrutin', 'least', 'thirty', 'minute', 'moving', 'leg', 'mean', 'moving', 'sitting', 'desk', 'chair', 'weed', 'moderation', 'maybe', 'try', 'edible', 'healthier', 'alternative', 'basically', 'come', 'three', 'item', 'determined', 'type', 'whichever', 'type', 'want', 'would', 'likely', 'use', 'given', 'type', 'cognitive', 'function', 'whatnot', 'left', 'thing', 'moderation', 'sims', 'indeed', 'video', 'game', 'good', 'one', 'note', 'good', 'one', 'somewhat', 'subjective', 'completely', 'promoting', 'death', 'given', 'sim', 'dear', 'enfp', 'favorite', 'video', 'game', 'growing', 'current', 'favorite', 'video', 'game', 'cool', 'appears', 'late', 'sad', 'someone', 'everyone', 'wait', 'thought', 'confidence', 'good', 'thing', 'cherish', 'time', 'solitude', 'b', 'c', 'revel', 'within', 'inner', 'world', 'whereas', 'time', 'workin', 'enjoy', 'time', 'worry', 'people', 'always', 'around', 'yo', 'entp', 'lady', 'complimentary', 'personality', 'well', 'hey', 'main', 'social', 'outlet', 'xbox', 'live', 'conversation', 'even', 'verbally', 'fatigue', 'quickly', 'really', 'dig', 'part', 'banned', 'thread', 'requires', 'get', 'high', 'backyard', 'roast', 'eat', 'marshmellows', 'backyard', 'conversing', 'something', 'intellectual', 'followed', 'massage', 'kiss', 'banned', 'many', 'b', 'sentence', 'could', 'think', 'b', 'banned', 'watching', 'movie', 'corner', 'dunce', 'banned', 'health', 'class', 'clearly', 'taught', 'nothing', 'peer', 'pressure', 'banned', 'whole', 'host', 'reason', 'two', 'baby', 'deer', 'left', 'right', 'munching', 'beetle', 'middle', 'using', 'blood', 'two', 'caveman', 'diary', 'today', 'latest', 'happening', 'designated', 'cave', 'diary', 'wall', 'see', 'pokemon', 'world', 'infj', 'society', 'everyone', 'becomes', 'optimist', 'artist', 'artist', 'draw', 'idea', 'count', 'forming', 'something', 'like', 'signature', 'welcome', 'robot', 'rank', 'person', 'downed', 'self', 'esteem', 'cuz', 'avid', 'signature', 'artist', 'like', 'proud', 'banned', 'taking', 'room', 'bed', 'ya', 'got', 'ta', 'learn', 'share', 'roach', 'banned', 'much', 'thundering', 'grumbling', 'kind', 'storm', 'yep', 'ahh', 'old', 'high', 'school', 'music', 'heard', 'age', 'failed', 'public', 'speaking', 'class', 'year', 'ago', 'sort', 'learned', 'could', 'better', 'position', 'big', 'part', 'failure', 'overloading', 'like', 'person', 'mentality', 'confirmed', 'intj', 'way', 'move', 'denver', 'area', 'start', 'new', 'life']\n"
     ]
    }
   ],
   "source": [
    "# testing tokenization re working or not.\n",
    "test = df['posts'][0]\n",
    "print(test)\n",
    "test = cleantext(test)\n",
    "print(test) \n",
    "test = tokenize_and_lemmatize_and_remove_stopwords(test)\n",
    "print(test)"
   ]
  },
  {
   "cell_type": "code",
   "execution_count": 10,
   "metadata": {},
   "outputs": [
    {
     "name": "stdout",
     "output_type": "stream",
     "text": [
      "0     enfp and intj moments sportscenter not top te...\n",
      "1     i m finding the lack of me in these posts ver...\n",
      "2     good one _____ of course to which i say i kno...\n",
      "3     dear intp i enjoyed our conversation the othe...\n",
      "4     you re fired that s another silly misconcepti...\n",
      "Name: clean_posts, dtype: object\n"
     ]
    }
   ],
   "source": [
    "df['clean_posts'] = df['posts'].apply(cleantext)\n",
    "print(df['clean_posts'].head())"
   ]
  },
  {
   "cell_type": "code",
   "execution_count": 11,
   "metadata": {},
   "outputs": [],
   "source": [
    "df['tokens'] = df['clean_posts'].apply(tokenize_and_lemmatize_and_remove_stopwords)\n",
    "print(df['tokens'].head())"
   ]
  },
  {
   "cell_type": "code",
   "execution_count": null,
   "metadata": {},
   "outputs": [
    {
     "data": {
      "text/plain": [
       "0    enfp intj moment sportscenter top ten play pra...\n",
       "1    finding lack post alarming sex boring position...\n",
       "2    good one _____ course say know blessing curse ...\n",
       "3    dear intp enjoyed conversation day esoteric ga...\n",
       "4    fired another silly misconception approaching ...\n",
       "Name: tokens, dtype: object"
      ]
     },
     "execution_count": 124,
     "metadata": {},
     "output_type": "execute_result"
    }
   ],
   "source": [
    "df_tokens = df['tokens'].apply(lambda x: ' '.join(x))\n",
    "df_tokens.head()"
   ]
  },
  {
   "cell_type": "code",
   "execution_count": null,
   "metadata": {},
   "outputs": [],
   "source": [
    "#Sentiment analysis for the dataset using Vader\n",
    "# nltk.download('vader_lexicon')\n",
    "from nltk.sentiment.vader import SentimentIntensityAnalyzer\n",
    "sia = SentimentIntensityAnalyzer()\n",
    "\n",
    "def get_sentiment(text):\n",
    "    return sia.polarity_scores(text)\n",
    "\n",
    "df['sentiment'] = df_tokens.apply(get_sentiment)\n",
    "df = df.join(pd.DataFrame(df.pop('sentiment').values.tolist()))"
   ]
  },
  {
   "cell_type": "code",
   "execution_count": null,
   "metadata": {},
   "outputs": [],
   "source": [
    "#Convert the MBTI types to binary\n",
    "# Extrovert Introvert\n",
    "# Sensing Intuition\n",
    "# Thinking Feeling\n",
    "# Judging Perceiving\n",
    "df['is_E'] = df['type'].apply(lambda x: 1 if x[0] == 'E' else 0)\n",
    "df['is_S'] = df['type'].apply(lambda x: 1 if x[1] == 'S' else 0)\n",
    "df['is_T'] = df['type'].apply(lambda x: 1 if x[2] == 'T' else 0)\n",
    "df['is_J'] = df['type'].apply(lambda x: 1 if x[3] == 'J' else 0)\n",
    "\n",
    "#Convert the MBTI types to binary individually in case needed.\n",
    "df['E'] = df['type'].apply(lambda x: 1 if x[0] == 'E' else 0)\n",
    "df['I'] = df['type'].apply(lambda x: 1 if x[0] == 'I' else 0)\n",
    "df['S'] = df['type'].apply(lambda x: 1 if x[1] == 'S' else 0)\n",
    "df['N'] = df['type'].apply(lambda x: 1 if x[1] == 'N' else 0)\n",
    "df['T'] = df['type'].apply(lambda x: 1 if x[2] == 'T' else 0)\n",
    "df['F'] = df['type'].apply(lambda x: 1 if x[2] == 'F' else 0)\n",
    "df['J'] = df['type'].apply(lambda x: 1 if x[3] == 'J' else 0)\n",
    "df['P'] = df['type'].apply(lambda x: 1 if x[3] == 'P' else 0)\n",
    "\n"
   ]
  },
  {
   "cell_type": "code",
   "execution_count": null,
   "metadata": {},
   "outputs": [
    {
     "data": {
      "text/html": [
       "<div>\n",
       "<style scoped>\n",
       "    .dataframe tbody tr th:only-of-type {\n",
       "        vertical-align: middle;\n",
       "    }\n",
       "\n",
       "    .dataframe tbody tr th {\n",
       "        vertical-align: top;\n",
       "    }\n",
       "\n",
       "    .dataframe thead th {\n",
       "        text-align: right;\n",
       "    }\n",
       "</style>\n",
       "<table border=\"1\" class=\"dataframe\">\n",
       "  <thead>\n",
       "    <tr style=\"text-align: right;\">\n",
       "      <th></th>\n",
       "      <th>type</th>\n",
       "      <th>posts</th>\n",
       "      <th>clean_posts</th>\n",
       "      <th>tokens</th>\n",
       "      <th>neg</th>\n",
       "      <th>neu</th>\n",
       "      <th>pos</th>\n",
       "      <th>compound</th>\n",
       "      <th>is_E</th>\n",
       "      <th>is_S</th>\n",
       "      <th>is_T</th>\n",
       "      <th>is_J</th>\n",
       "      <th>E</th>\n",
       "      <th>I</th>\n",
       "      <th>S</th>\n",
       "      <th>N</th>\n",
       "      <th>T</th>\n",
       "      <th>F</th>\n",
       "      <th>J</th>\n",
       "      <th>P</th>\n",
       "    </tr>\n",
       "  </thead>\n",
       "  <tbody>\n",
       "    <tr>\n",
       "      <th>0</th>\n",
       "      <td>INFJ</td>\n",
       "      <td>'😂😂😂😂 http://www.youtube.com/watch?v=qsXHcwe3k...</td>\n",
       "      <td>enfp and intj moments sportscenter not top te...</td>\n",
       "      <td>[enfp, intj, moment, sportscenter, top, ten, p...</td>\n",
       "      <td>0.129</td>\n",
       "      <td>0.606</td>\n",
       "      <td>0.265</td>\n",
       "      <td>0.9924</td>\n",
       "      <td>0</td>\n",
       "      <td>0</td>\n",
       "      <td>0</td>\n",
       "      <td>1</td>\n",
       "      <td>0</td>\n",
       "      <td>1</td>\n",
       "      <td>0</td>\n",
       "      <td>1</td>\n",
       "      <td>0</td>\n",
       "      <td>1</td>\n",
       "      <td>1</td>\n",
       "      <td>0</td>\n",
       "    </tr>\n",
       "    <tr>\n",
       "      <th>1</th>\n",
       "      <td>ENTP</td>\n",
       "      <td>'I'm finding the lack of me in these posts ver...</td>\n",
       "      <td>i m finding the lack of me in these posts ver...</td>\n",
       "      <td>[finding, lack, post, alarming, sex, boring, p...</td>\n",
       "      <td>0.117</td>\n",
       "      <td>0.604</td>\n",
       "      <td>0.279</td>\n",
       "      <td>0.9987</td>\n",
       "      <td>1</td>\n",
       "      <td>0</td>\n",
       "      <td>1</td>\n",
       "      <td>0</td>\n",
       "      <td>1</td>\n",
       "      <td>0</td>\n",
       "      <td>0</td>\n",
       "      <td>1</td>\n",
       "      <td>1</td>\n",
       "      <td>0</td>\n",
       "      <td>0</td>\n",
       "      <td>1</td>\n",
       "    </tr>\n",
       "    <tr>\n",
       "      <th>2</th>\n",
       "      <td>INTP</td>\n",
       "      <td>'Good one  _____   https://www.youtube.com/wat...</td>\n",
       "      <td>good one _____ of course to which i say i kno...</td>\n",
       "      <td>[good, one, _____, course, say, know, blessing...</td>\n",
       "      <td>0.115</td>\n",
       "      <td>0.587</td>\n",
       "      <td>0.297</td>\n",
       "      <td>0.9985</td>\n",
       "      <td>0</td>\n",
       "      <td>0</td>\n",
       "      <td>1</td>\n",
       "      <td>0</td>\n",
       "      <td>0</td>\n",
       "      <td>1</td>\n",
       "      <td>0</td>\n",
       "      <td>1</td>\n",
       "      <td>1</td>\n",
       "      <td>0</td>\n",
       "      <td>0</td>\n",
       "      <td>1</td>\n",
       "    </tr>\n",
       "    <tr>\n",
       "      <th>3</th>\n",
       "      <td>INTJ</td>\n",
       "      <td>'Dear INTP,   I enjoyed our conversation the o...</td>\n",
       "      <td>dear intp i enjoyed our conversation the othe...</td>\n",
       "      <td>[dear, intp, enjoyed, conversation, day, esote...</td>\n",
       "      <td>0.086</td>\n",
       "      <td>0.666</td>\n",
       "      <td>0.248</td>\n",
       "      <td>0.9985</td>\n",
       "      <td>0</td>\n",
       "      <td>0</td>\n",
       "      <td>1</td>\n",
       "      <td>1</td>\n",
       "      <td>0</td>\n",
       "      <td>1</td>\n",
       "      <td>0</td>\n",
       "      <td>1</td>\n",
       "      <td>1</td>\n",
       "      <td>0</td>\n",
       "      <td>1</td>\n",
       "      <td>0</td>\n",
       "    </tr>\n",
       "    <tr>\n",
       "      <th>4</th>\n",
       "      <td>ENTJ</td>\n",
       "      <td>'You're fired.|||That's another silly misconce...</td>\n",
       "      <td>you re fired that s another silly misconcepti...</td>\n",
       "      <td>[fired, another, silly, misconception, approac...</td>\n",
       "      <td>0.185</td>\n",
       "      <td>0.541</td>\n",
       "      <td>0.274</td>\n",
       "      <td>0.9930</td>\n",
       "      <td>1</td>\n",
       "      <td>0</td>\n",
       "      <td>1</td>\n",
       "      <td>1</td>\n",
       "      <td>1</td>\n",
       "      <td>0</td>\n",
       "      <td>0</td>\n",
       "      <td>1</td>\n",
       "      <td>1</td>\n",
       "      <td>0</td>\n",
       "      <td>1</td>\n",
       "      <td>0</td>\n",
       "    </tr>\n",
       "  </tbody>\n",
       "</table>\n",
       "</div>"
      ],
      "text/plain": [
       "   type                                              posts  \\\n",
       "0  INFJ  '😂😂😂😂 http://www.youtube.com/watch?v=qsXHcwe3k...   \n",
       "1  ENTP  'I'm finding the lack of me in these posts ver...   \n",
       "2  INTP  'Good one  _____   https://www.youtube.com/wat...   \n",
       "3  INTJ  'Dear INTP,   I enjoyed our conversation the o...   \n",
       "4  ENTJ  'You're fired.|||That's another silly misconce...   \n",
       "\n",
       "                                         clean_posts  \\\n",
       "0   enfp and intj moments sportscenter not top te...   \n",
       "1   i m finding the lack of me in these posts ver...   \n",
       "2   good one _____ of course to which i say i kno...   \n",
       "3   dear intp i enjoyed our conversation the othe...   \n",
       "4   you re fired that s another silly misconcepti...   \n",
       "\n",
       "                                              tokens    neg    neu    pos  \\\n",
       "0  [enfp, intj, moment, sportscenter, top, ten, p...  0.129  0.606  0.265   \n",
       "1  [finding, lack, post, alarming, sex, boring, p...  0.117  0.604  0.279   \n",
       "2  [good, one, _____, course, say, know, blessing...  0.115  0.587  0.297   \n",
       "3  [dear, intp, enjoyed, conversation, day, esote...  0.086  0.666  0.248   \n",
       "4  [fired, another, silly, misconception, approac...  0.185  0.541  0.274   \n",
       "\n",
       "   compound  is_E  is_S  is_T  is_J  E  I  S  N  T  F  J  P  \n",
       "0    0.9924     0     0     0     1  0  1  0  1  0  1  1  0  \n",
       "1    0.9987     1     0     1     0  1  0  0  1  1  0  0  1  \n",
       "2    0.9985     0     0     1     0  0  1  0  1  1  0  0  1  \n",
       "3    0.9985     0     0     1     1  0  1  0  1  1  0  1  0  \n",
       "4    0.9930     1     0     1     1  1  0  0  1  1  0  1  0  "
      ]
     },
     "execution_count": 127,
     "metadata": {},
     "output_type": "execute_result"
    }
   ],
   "source": [
    "df.head()"
   ]
  },
  {
   "cell_type": "code",
   "execution_count": null,
   "metadata": {},
   "outputs": [
    {
     "name": "stdout",
     "output_type": "stream",
     "text": [
      "  index     0\n",
      "0     E  1999\n",
      "1     I  6676\n",
      "2     S  1197\n",
      "3     N  7478\n",
      "4     T  3981\n",
      "5     F  4694\n",
      "6     J  3434\n",
      "7     P  5241\n"
     ]
    },
    {
     "data": {
      "application/vnd.plotly.v1+json": {
       "config": {
        "plotlyServerURL": "https://plot.ly"
       },
       "data": [
        {
         "alignmentgroup": "True",
         "hovertemplate": "index=%{x}<br>0=%{y}<extra></extra>",
         "legendgroup": "",
         "marker": {
          "color": "#636efa",
          "pattern": {
           "shape": ""
          }
         },
         "name": "",
         "offsetgroup": "",
         "orientation": "v",
         "showlegend": false,
         "textposition": "auto",
         "type": "bar",
         "x": [
          "E",
          "I",
          "S",
          "N",
          "T",
          "F",
          "J",
          "P"
         ],
         "xaxis": "x",
         "y": [
          1999,
          6676,
          1197,
          7478,
          3981,
          4694,
          3434,
          5241
         ],
         "yaxis": "y"
        }
       ],
       "layout": {
        "barmode": "relative",
        "legend": {
         "tracegroupgap": 0
        },
        "template": {
         "data": {
          "bar": [
           {
            "error_x": {
             "color": "#2a3f5f"
            },
            "error_y": {
             "color": "#2a3f5f"
            },
            "marker": {
             "line": {
              "color": "#E5ECF6",
              "width": 0.5
             },
             "pattern": {
              "fillmode": "overlay",
              "size": 10,
              "solidity": 0.2
             }
            },
            "type": "bar"
           }
          ],
          "barpolar": [
           {
            "marker": {
             "line": {
              "color": "#E5ECF6",
              "width": 0.5
             },
             "pattern": {
              "fillmode": "overlay",
              "size": 10,
              "solidity": 0.2
             }
            },
            "type": "barpolar"
           }
          ],
          "carpet": [
           {
            "aaxis": {
             "endlinecolor": "#2a3f5f",
             "gridcolor": "white",
             "linecolor": "white",
             "minorgridcolor": "white",
             "startlinecolor": "#2a3f5f"
            },
            "baxis": {
             "endlinecolor": "#2a3f5f",
             "gridcolor": "white",
             "linecolor": "white",
             "minorgridcolor": "white",
             "startlinecolor": "#2a3f5f"
            },
            "type": "carpet"
           }
          ],
          "choropleth": [
           {
            "colorbar": {
             "outlinewidth": 0,
             "ticks": ""
            },
            "type": "choropleth"
           }
          ],
          "contour": [
           {
            "colorbar": {
             "outlinewidth": 0,
             "ticks": ""
            },
            "colorscale": [
             [
              0,
              "#0d0887"
             ],
             [
              0.1111111111111111,
              "#46039f"
             ],
             [
              0.2222222222222222,
              "#7201a8"
             ],
             [
              0.3333333333333333,
              "#9c179e"
             ],
             [
              0.4444444444444444,
              "#bd3786"
             ],
             [
              0.5555555555555556,
              "#d8576b"
             ],
             [
              0.6666666666666666,
              "#ed7953"
             ],
             [
              0.7777777777777778,
              "#fb9f3a"
             ],
             [
              0.8888888888888888,
              "#fdca26"
             ],
             [
              1,
              "#f0f921"
             ]
            ],
            "type": "contour"
           }
          ],
          "contourcarpet": [
           {
            "colorbar": {
             "outlinewidth": 0,
             "ticks": ""
            },
            "type": "contourcarpet"
           }
          ],
          "heatmap": [
           {
            "colorbar": {
             "outlinewidth": 0,
             "ticks": ""
            },
            "colorscale": [
             [
              0,
              "#0d0887"
             ],
             [
              0.1111111111111111,
              "#46039f"
             ],
             [
              0.2222222222222222,
              "#7201a8"
             ],
             [
              0.3333333333333333,
              "#9c179e"
             ],
             [
              0.4444444444444444,
              "#bd3786"
             ],
             [
              0.5555555555555556,
              "#d8576b"
             ],
             [
              0.6666666666666666,
              "#ed7953"
             ],
             [
              0.7777777777777778,
              "#fb9f3a"
             ],
             [
              0.8888888888888888,
              "#fdca26"
             ],
             [
              1,
              "#f0f921"
             ]
            ],
            "type": "heatmap"
           }
          ],
          "heatmapgl": [
           {
            "colorbar": {
             "outlinewidth": 0,
             "ticks": ""
            },
            "colorscale": [
             [
              0,
              "#0d0887"
             ],
             [
              0.1111111111111111,
              "#46039f"
             ],
             [
              0.2222222222222222,
              "#7201a8"
             ],
             [
              0.3333333333333333,
              "#9c179e"
             ],
             [
              0.4444444444444444,
              "#bd3786"
             ],
             [
              0.5555555555555556,
              "#d8576b"
             ],
             [
              0.6666666666666666,
              "#ed7953"
             ],
             [
              0.7777777777777778,
              "#fb9f3a"
             ],
             [
              0.8888888888888888,
              "#fdca26"
             ],
             [
              1,
              "#f0f921"
             ]
            ],
            "type": "heatmapgl"
           }
          ],
          "histogram": [
           {
            "marker": {
             "pattern": {
              "fillmode": "overlay",
              "size": 10,
              "solidity": 0.2
             }
            },
            "type": "histogram"
           }
          ],
          "histogram2d": [
           {
            "colorbar": {
             "outlinewidth": 0,
             "ticks": ""
            },
            "colorscale": [
             [
              0,
              "#0d0887"
             ],
             [
              0.1111111111111111,
              "#46039f"
             ],
             [
              0.2222222222222222,
              "#7201a8"
             ],
             [
              0.3333333333333333,
              "#9c179e"
             ],
             [
              0.4444444444444444,
              "#bd3786"
             ],
             [
              0.5555555555555556,
              "#d8576b"
             ],
             [
              0.6666666666666666,
              "#ed7953"
             ],
             [
              0.7777777777777778,
              "#fb9f3a"
             ],
             [
              0.8888888888888888,
              "#fdca26"
             ],
             [
              1,
              "#f0f921"
             ]
            ],
            "type": "histogram2d"
           }
          ],
          "histogram2dcontour": [
           {
            "colorbar": {
             "outlinewidth": 0,
             "ticks": ""
            },
            "colorscale": [
             [
              0,
              "#0d0887"
             ],
             [
              0.1111111111111111,
              "#46039f"
             ],
             [
              0.2222222222222222,
              "#7201a8"
             ],
             [
              0.3333333333333333,
              "#9c179e"
             ],
             [
              0.4444444444444444,
              "#bd3786"
             ],
             [
              0.5555555555555556,
              "#d8576b"
             ],
             [
              0.6666666666666666,
              "#ed7953"
             ],
             [
              0.7777777777777778,
              "#fb9f3a"
             ],
             [
              0.8888888888888888,
              "#fdca26"
             ],
             [
              1,
              "#f0f921"
             ]
            ],
            "type": "histogram2dcontour"
           }
          ],
          "mesh3d": [
           {
            "colorbar": {
             "outlinewidth": 0,
             "ticks": ""
            },
            "type": "mesh3d"
           }
          ],
          "parcoords": [
           {
            "line": {
             "colorbar": {
              "outlinewidth": 0,
              "ticks": ""
             }
            },
            "type": "parcoords"
           }
          ],
          "pie": [
           {
            "automargin": true,
            "type": "pie"
           }
          ],
          "scatter": [
           {
            "fillpattern": {
             "fillmode": "overlay",
             "size": 10,
             "solidity": 0.2
            },
            "type": "scatter"
           }
          ],
          "scatter3d": [
           {
            "line": {
             "colorbar": {
              "outlinewidth": 0,
              "ticks": ""
             }
            },
            "marker": {
             "colorbar": {
              "outlinewidth": 0,
              "ticks": ""
             }
            },
            "type": "scatter3d"
           }
          ],
          "scattercarpet": [
           {
            "marker": {
             "colorbar": {
              "outlinewidth": 0,
              "ticks": ""
             }
            },
            "type": "scattercarpet"
           }
          ],
          "scattergeo": [
           {
            "marker": {
             "colorbar": {
              "outlinewidth": 0,
              "ticks": ""
             }
            },
            "type": "scattergeo"
           }
          ],
          "scattergl": [
           {
            "marker": {
             "colorbar": {
              "outlinewidth": 0,
              "ticks": ""
             }
            },
            "type": "scattergl"
           }
          ],
          "scattermapbox": [
           {
            "marker": {
             "colorbar": {
              "outlinewidth": 0,
              "ticks": ""
             }
            },
            "type": "scattermapbox"
           }
          ],
          "scatterpolar": [
           {
            "marker": {
             "colorbar": {
              "outlinewidth": 0,
              "ticks": ""
             }
            },
            "type": "scatterpolar"
           }
          ],
          "scatterpolargl": [
           {
            "marker": {
             "colorbar": {
              "outlinewidth": 0,
              "ticks": ""
             }
            },
            "type": "scatterpolargl"
           }
          ],
          "scatterternary": [
           {
            "marker": {
             "colorbar": {
              "outlinewidth": 0,
              "ticks": ""
             }
            },
            "type": "scatterternary"
           }
          ],
          "surface": [
           {
            "colorbar": {
             "outlinewidth": 0,
             "ticks": ""
            },
            "colorscale": [
             [
              0,
              "#0d0887"
             ],
             [
              0.1111111111111111,
              "#46039f"
             ],
             [
              0.2222222222222222,
              "#7201a8"
             ],
             [
              0.3333333333333333,
              "#9c179e"
             ],
             [
              0.4444444444444444,
              "#bd3786"
             ],
             [
              0.5555555555555556,
              "#d8576b"
             ],
             [
              0.6666666666666666,
              "#ed7953"
             ],
             [
              0.7777777777777778,
              "#fb9f3a"
             ],
             [
              0.8888888888888888,
              "#fdca26"
             ],
             [
              1,
              "#f0f921"
             ]
            ],
            "type": "surface"
           }
          ],
          "table": [
           {
            "cells": {
             "fill": {
              "color": "#EBF0F8"
             },
             "line": {
              "color": "white"
             }
            },
            "header": {
             "fill": {
              "color": "#C8D4E3"
             },
             "line": {
              "color": "white"
             }
            },
            "type": "table"
           }
          ]
         },
         "layout": {
          "annotationdefaults": {
           "arrowcolor": "#2a3f5f",
           "arrowhead": 0,
           "arrowwidth": 1
          },
          "autotypenumbers": "strict",
          "coloraxis": {
           "colorbar": {
            "outlinewidth": 0,
            "ticks": ""
           }
          },
          "colorscale": {
           "diverging": [
            [
             0,
             "#8e0152"
            ],
            [
             0.1,
             "#c51b7d"
            ],
            [
             0.2,
             "#de77ae"
            ],
            [
             0.3,
             "#f1b6da"
            ],
            [
             0.4,
             "#fde0ef"
            ],
            [
             0.5,
             "#f7f7f7"
            ],
            [
             0.6,
             "#e6f5d0"
            ],
            [
             0.7,
             "#b8e186"
            ],
            [
             0.8,
             "#7fbc41"
            ],
            [
             0.9,
             "#4d9221"
            ],
            [
             1,
             "#276419"
            ]
           ],
           "sequential": [
            [
             0,
             "#0d0887"
            ],
            [
             0.1111111111111111,
             "#46039f"
            ],
            [
             0.2222222222222222,
             "#7201a8"
            ],
            [
             0.3333333333333333,
             "#9c179e"
            ],
            [
             0.4444444444444444,
             "#bd3786"
            ],
            [
             0.5555555555555556,
             "#d8576b"
            ],
            [
             0.6666666666666666,
             "#ed7953"
            ],
            [
             0.7777777777777778,
             "#fb9f3a"
            ],
            [
             0.8888888888888888,
             "#fdca26"
            ],
            [
             1,
             "#f0f921"
            ]
           ],
           "sequentialminus": [
            [
             0,
             "#0d0887"
            ],
            [
             0.1111111111111111,
             "#46039f"
            ],
            [
             0.2222222222222222,
             "#7201a8"
            ],
            [
             0.3333333333333333,
             "#9c179e"
            ],
            [
             0.4444444444444444,
             "#bd3786"
            ],
            [
             0.5555555555555556,
             "#d8576b"
            ],
            [
             0.6666666666666666,
             "#ed7953"
            ],
            [
             0.7777777777777778,
             "#fb9f3a"
            ],
            [
             0.8888888888888888,
             "#fdca26"
            ],
            [
             1,
             "#f0f921"
            ]
           ]
          },
          "colorway": [
           "#636efa",
           "#EF553B",
           "#00cc96",
           "#ab63fa",
           "#FFA15A",
           "#19d3f3",
           "#FF6692",
           "#B6E880",
           "#FF97FF",
           "#FECB52"
          ],
          "font": {
           "color": "#2a3f5f"
          },
          "geo": {
           "bgcolor": "white",
           "lakecolor": "white",
           "landcolor": "#E5ECF6",
           "showlakes": true,
           "showland": true,
           "subunitcolor": "white"
          },
          "hoverlabel": {
           "align": "left"
          },
          "hovermode": "closest",
          "mapbox": {
           "style": "light"
          },
          "paper_bgcolor": "white",
          "plot_bgcolor": "#E5ECF6",
          "polar": {
           "angularaxis": {
            "gridcolor": "white",
            "linecolor": "white",
            "ticks": ""
           },
           "bgcolor": "#E5ECF6",
           "radialaxis": {
            "gridcolor": "white",
            "linecolor": "white",
            "ticks": ""
           }
          },
          "scene": {
           "xaxis": {
            "backgroundcolor": "#E5ECF6",
            "gridcolor": "white",
            "gridwidth": 2,
            "linecolor": "white",
            "showbackground": true,
            "ticks": "",
            "zerolinecolor": "white"
           },
           "yaxis": {
            "backgroundcolor": "#E5ECF6",
            "gridcolor": "white",
            "gridwidth": 2,
            "linecolor": "white",
            "showbackground": true,
            "ticks": "",
            "zerolinecolor": "white"
           },
           "zaxis": {
            "backgroundcolor": "#E5ECF6",
            "gridcolor": "white",
            "gridwidth": 2,
            "linecolor": "white",
            "showbackground": true,
            "ticks": "",
            "zerolinecolor": "white"
           }
          },
          "shapedefaults": {
           "line": {
            "color": "#2a3f5f"
           }
          },
          "ternary": {
           "aaxis": {
            "gridcolor": "white",
            "linecolor": "white",
            "ticks": ""
           },
           "baxis": {
            "gridcolor": "white",
            "linecolor": "white",
            "ticks": ""
           },
           "bgcolor": "#E5ECF6",
           "caxis": {
            "gridcolor": "white",
            "linecolor": "white",
            "ticks": ""
           }
          },
          "title": {
           "x": 0.05
          },
          "xaxis": {
           "automargin": true,
           "gridcolor": "white",
           "linecolor": "white",
           "ticks": "",
           "title": {
            "standoff": 15
           },
           "zerolinecolor": "white",
           "zerolinewidth": 2
          },
          "yaxis": {
           "automargin": true,
           "gridcolor": "white",
           "linecolor": "white",
           "ticks": "",
           "title": {
            "standoff": 15
           },
           "zerolinecolor": "white",
           "zerolinewidth": 2
          }
         }
        },
        "title": {
         "text": "Distribution of MBTI types in the dataset"
        },
        "xaxis": {
         "anchor": "y",
         "domain": [
          0,
          1
         ],
         "title": {
          "text": "index"
         }
        },
        "yaxis": {
         "anchor": "x",
         "domain": [
          0,
          1
         ],
         "title": {
          "text": "0"
         }
        }
       }
      }
     },
     "metadata": {},
     "output_type": "display_data"
    }
   ],
   "source": [
    "#plot the distribution of the MBTI types in the dataset\n",
    "# print(pd.melt(df[['is_E', 'is_S', 'is_T', 'is_J']]).value_counts())\n",
    "mbti_df = df[['E', 'I', 'S', 'N', 'T', 'F', 'J', 'P']]\n",
    "value_counts_df = mbti_df.sum().reset_index()\n",
    "print(value_counts_df)\n",
    "#plot the graph\n",
    "fig = px.bar(value_counts_df, x='index', y=0, title='Distribution of MBTI types in the dataset')\n",
    "fig.show()"
   ]
  },
  {
   "cell_type": "markdown",
   "metadata": {},
   "source": [
    "*This is the Section to start To see if Word Counts and type of the words (Nouns, Adjs, Advs) Matters*"
   ]
  },
  {
   "cell_type": "code",
   "execution_count": null,
   "metadata": {},
   "outputs": [],
   "source": [
    "#Word Count\n",
    "df['word_per_comment'] = df['posts'].apply(lambda x: len(x.split())) ## Dont know should use the clean_posts or not.\n",
    "df['avg_word_per_comment'] = df['word_per_comment'] / 50 # Coz 50 Posts Per Data Row Seperated by |||\n",
    "\n",
    "#function to classify the count  of words type using nltk.post_tag\n",
    "nltk_tagset = ['LS', 'TO', 'VBN', \"''\", 'WP', 'UH', 'VBG', 'JJ', 'VBZ', '--', 'VBP', 'NN', 'DT', 'PRP', ':', 'WP$', 'NNPS', 'PRP$', 'WDT', '(', ')', '.', ',', '``', '$', 'RB', 'RBR', 'RBS', 'VBD', 'IN', 'FW', 'RP', 'JJR', 'JJS', 'PDT', 'MD', 'VB', 'WRB', 'NNP', 'EX', 'NNS', 'SYM', 'CC', 'CD', 'POS']\n",
    "def count_tags(text):\n",
    "    #Create Dictionary to store the count of each tag\n",
    "    nltk_tags_count = {tag:0 for tag in nltk_tagset}\n",
    "    tags = nltk.pos_tag(text)\n",
    "    for tag in tags:\n",
    "        # Later+\n",
    "        pass\n",
    "    return 1"
   ]
  },
  {
   "cell_type": "code",
   "execution_count": null,
   "metadata": {},
   "outputs": [],
   "source": [
    "#TF_IDF \n",
    "from sklearn.feature_extraction.text import  TfidfVectorizer\n",
    "vectorizer =TfidfVectorizer(analyzer=\"word\", ngram_range=(1,2))\n",
    "X = vectorizer.fit_transform(df['clean_posts'].values)"
   ]
  },
  {
   "cell_type": "code",
   "execution_count": null,
   "metadata": {},
   "outputs": [
    {
     "name": "stdout",
     "output_type": "stream",
     "text": [
      "[[(0, 1), (1, 1), (2, 1), (3, 1), (4, 1), (5, 1), (6, 1), (7, 1), (8, 3), (9, 1), (10, 3), (11, 1), (12, 2), (13, 7), (14, 1), (15, 1), (16, 1), (17, 1), (18, 1), (19, 1), (20, 1), (21, 1), (22, 1), (23, 1), (24, 1), (25, 1), (26, 1), (27, 2), (28, 1), (29, 1), (30, 1), (31, 1), (32, 1), (33, 1), (34, 1), (35, 1), (36, 1), (37, 1), (38, 1), (39, 1), (40, 2), (41, 1), (42, 1), (43, 1), (44, 1), (45, 1), (46, 1), (47, 1), (48, 1), (49, 1), (50, 1), (51, 1), (52, 2), (53, 1), (54, 1), (55, 1), (56, 1), (57, 1), (58, 1), (59, 1), (60, 1), (61, 2), (62, 1), (63, 1), (64, 1), (65, 1), (66, 1), (67, 2), (68, 1), (69, 2), (70, 1), (71, 1), (72, 1), (73, 1), (74, 2), (75, 1), (76, 1), (77, 1), (78, 1), (79, 1), (80, 4), (81, 1), (82, 2), (83, 3), (84, 1), (85, 1), (86, 1), (87, 1), (88, 1), (89, 1), (90, 1), (91, 1), (92, 1), (93, 1), (94, 1), (95, 1), (96, 2), (97, 1), (98, 1), (99, 1), (100, 1), (101, 2), (102, 1), (103, 1), (104, 2), (105, 1), (106, 1), (107, 1), (108, 1), (109, 1), (110, 1), (111, 1), (112, 1), (113, 1), (114, 1), (115, 2), (116, 1), (117, 3), (118, 3), (119, 1), (120, 1), (121, 1), (122, 1), (123, 1), (124, 1), (125, 1), (126, 1), (127, 1), (128, 1), (129, 1), (130, 1), (131, 1), (132, 2), (133, 2), (134, 1), (135, 1), (136, 2), (137, 1), (138, 1), (139, 1), (140, 1), (141, 1), (142, 1), (143, 1), (144, 1), (145, 1), (146, 2), (147, 1), (148, 1), (149, 1), (150, 2), (151, 1), (152, 1), (153, 1), (154, 1), (155, 1), (156, 2), (157, 1), (158, 1), (159, 1), (160, 1), (161, 1), (162, 1), (163, 1), (164, 1), (165, 1), (166, 1), (167, 1), (168, 1), (169, 1), (170, 1), (171, 1), (172, 1), (173, 1), (174, 1), (175, 1), (176, 1), (177, 1), (178, 1), (179, 1), (180, 1), (181, 1), (182, 1), (183, 1), (184, 1), (185, 1), (186, 1), (187, 1), (188, 1), (189, 2), (190, 1), (191, 1), (192, 1), (193, 1), (194, 1), (195, 1), (196, 1), (197, 2), (198, 1), (199, 1), (200, 1), (201, 1), (202, 1), (203, 1), (204, 1), (205, 1), (206, 1), (207, 1), (208, 1), (209, 1), (210, 1), (211, 1), (212, 3), (213, 1), (214, 1), (215, 1), (216, 1), (217, 1), (218, 1), (219, 6), (220, 2), (221, 1), (222, 2), (223, 2), (224, 3), (225, 1), (226, 1), (227, 1), (228, 3), (229, 1), (230, 1), (231, 1), (232, 1), (233, 1), (234, 1), (235, 2), (236, 1), (237, 1), (238, 1), (239, 1), (240, 1), (241, 1), (242, 1), (243, 1), (244, 2), (245, 1), (246, 1), (247, 1), (248, 1), (249, 1), (250, 1), (251, 1)]]\n"
     ]
    }
   ],
   "source": [
    "id2word = corpora.Dictionary(df['tokens'])\n",
    "texts = df['tokens']\n",
    "corpus = [id2word.doc2bow(text) for text in texts]\n",
    "print(corpus[:1])"
   ]
  },
  {
   "cell_type": "code",
   "execution_count": null,
   "metadata": {},
   "outputs": [
    {
     "name": "stdout",
     "output_type": "stream",
     "text": [
      "[(0,\n",
      "  '0.012*\"like\" + 0.012*\"think\" + 0.008*\"one\" + 0.007*\"thing\" + 0.007*\"people\" '\n",
      "  '+ 0.006*\"would\" + 0.006*\"get\" + 0.006*\"feel\" + 0.006*\"know\" + '\n",
      "  '0.006*\"really\"'),\n",
      " (1,\n",
      "  '0.015*\"like\" + 0.010*\"people\" + 0.009*\"think\" + 0.008*\"would\" + '\n",
      "  '0.008*\"time\" + 0.008*\"one\" + 0.007*\"know\" + 0.007*\"really\" + 0.006*\"thing\" '\n",
      "  '+ 0.006*\"get\"'),\n",
      " (2,\n",
      "  '0.015*\"like\" + 0.010*\"think\" + 0.009*\"people\" + 0.008*\"one\" + 0.007*\"know\" '\n",
      "  '+ 0.007*\"really\" + 0.007*\"get\" + 0.006*\"time\" + 0.006*\"would\" + '\n",
      "  '0.006*\"type\"'),\n",
      " (3,\n",
      "  '0.013*\"like\" + 0.009*\"think\" + 0.009*\"people\" + 0.008*\"really\" + '\n",
      "  '0.007*\"get\" + 0.007*\"know\" + 0.007*\"thing\" + 0.007*\"one\" + 0.006*\"time\" + '\n",
      "  '0.006*\"would\"'),\n",
      " (4,\n",
      "  '0.012*\"like\" + 0.011*\"people\" + 0.010*\"think\" + 0.009*\"know\" + 0.007*\"one\" '\n",
      "  '+ 0.007*\"time\" + 0.006*\"thing\" + 0.006*\"really\" + 0.006*\"feel\" + '\n",
      "  '0.006*\"would\"'),\n",
      " (5,\n",
      "  '0.012*\"like\" + 0.008*\"think\" + 0.008*\"would\" + 0.008*\"get\" + 0.007*\"know\" + '\n",
      "  '0.007*\"really\" + 0.007*\"people\" + 0.007*\"one\" + 0.006*\"thing\" + '\n",
      "  '0.006*\"time\"'),\n",
      " (6,\n",
      "  '0.014*\"like\" + 0.011*\"people\" + 0.010*\"think\" + 0.008*\"one\" + 0.007*\"know\" '\n",
      "  '+ 0.007*\"thing\" + 0.006*\"really\" + 0.006*\"would\" + 0.006*\"time\" + '\n",
      "  '0.006*\"make\"')]\n"
     ]
    }
   ],
   "source": [
    "lda_model = gensim.models.LdaMulticore(corpus=corpus, id2word=id2word, num_topics=7)\n",
    "pprint(lda_model.print_topics())\n",
    "doc_lda = lda_model[corpus]"
   ]
  },
  {
   "cell_type": "code",
   "execution_count": null,
   "metadata": {},
   "outputs": [
    {
     "data": {
      "text/html": [
       "\n",
       "<link rel=\"stylesheet\" type=\"text/css\" href=\"https://cdn.jsdelivr.net/gh/bmabey/pyLDAvis@3.4.0/pyLDAvis/js/ldavis.v1.0.0.css\">\n",
       "\n",
       "\n",
       "<div id=\"ldavis_el1410424729349291047947719013\" style=\"background-color:white;\"></div>\n",
       "<script type=\"text/javascript\">\n",
       "\n",
       "var ldavis_el1410424729349291047947719013_data = {\"mdsDat\": {\"x\": [-0.0028412165194640626, -0.0006870546214887197, 0.0030018158577869588, -0.0018708809703498397, -1.4939864274454427e-05, 0.0010733809852174732, 0.00133889513257265], \"y\": [0.0003207762308198554, -0.002086301021802914, -0.002513687829267362, -0.0007178744224019243, 0.000310669250347423, 0.0022199128072727644, 0.002466504985032156], \"topics\": [1, 2, 3, 4, 5, 6, 7], \"cluster\": [1, 1, 1, 1, 1, 1, 1], \"Freq\": [20.387810109864716, 20.271491831536988, 16.436982418421774, 12.047568653037203, 11.95448526204269, 11.328726576491642, 7.57293514860499]}, \"tinfo\": {\"Term\": [\"like\", \"think\", \"get\", \"people\", \"really\", \"one\", \"know\", \"thing\", \"type\", \"feel\", \"go\", \"way\", \"also\", \"good\", \"make\", \"much\", \"find\", \"would\", \"want\", \"time\", \"something\", \"well\", \"lot\", \"right\", \"many\", \"still\", \"friend\", \"infj\", \"intj\", \"lol\", \"morethanyouknow\", \"fightstar\", \"elaphant\", \"samexd\", \"dreamingangel\", \"coachinfj\", \"profiel\", \"schiele\", \"scruffster\", \"foto\", \"omedetou\", \"overwieght\", \"ilike\", \"jordin\", \"mybrotherinlaw\", \"aaaarrrggghhh\", \"wembley\", \"silico\", \"drugmoney\", \"cdab\", \"selfkill\", \"whaaaaale\", \"loststalker\", \"feltbeats\", \"moooly\", \"andor\", \"underbutt\", \"oldhams\", \"vantablack\", \"fonda\", \"beuty\", \"davidh\", \"confusing\", \"moi\", \"sp\", \"first\", \"much\", \"interesting\", \"reality\", \"thanks\", \"feeling\", \"guess\", \"know\", \"though\", \"feel\", \"people\", \"already\", \"love\", \"every\", \"year\", \"make\", \"also\", \"stuff\", \"parent\", \"lie\", \"life\", \"welcome\", \"boyfriend\", \"think\", \"someone\", \"see\", \"entp\", \"find\", \"mind\", \"time\", \"say\", \"relationship\", \"like\", \"even\", \"good\", \"thing\", \"one\", \"type\", \"really\", \"want\", \"lot\", \"would\", \"friend\", \"well\", \"get\", \"something\", \"way\", \"rhubarb\", \"permafred\", \"exsist\", \"robothood\", \"aloofish\", \"djl\", \"brill\", \"babyz\", \"bob_toeback\", \"yeahp\", \"comine\", \"idealismics\", \"cellspacing\", \"madara\", \"disaffected\", \"orgonite\", \"brainstroming\", \"lanister\", \"socializiing\", \"coupy\", \"apropriate\", \"grsh\", \"nyappy\", \"elsword\", \"leeroy\", \"rgsh\", \"stish\", \"congroo\", \"sunyard\", \"syntactical\", \"mew\", \"garbanzo\", \"coolizmo\", \"harlan\", \"gt\", \"br\", \"xoxo\", \"w\", \"time\", \"salutation\", \"experience\", \"would\", \"believe\", \"say\", \"idea\", \"type\", \"opinion\", \"introvert\", \"called\", \"like\", \"hard\", \"going\", \"people\", \"intp\", \"thread\", \"oh\", \"come\", \"guy\", \"intj\", \"infp\", \"let\", \"one\", \"post\", \"u\", \"ti\", \"see\", \"look\", \"way\", \"never\", \"really\", \"want\", \"thing\", \"day\", \"think\", \"friend\", \"know\", \"get\", \"much\", \"well\", \"love\", \"something\", \"could\", \"even\", \"make\", \"good\", \"life\", \"always\", \"feel\", \"lot\", \"otou\", \"unshackled\", \"enfpoisonivy\", \"skele\", \"killin\", \"omnidexterity\", \"hatable\", \"dov\", \"sls\", \"lagsalot\", \"fiatrix\", \"friederich\", \"fiftyshoes\", \"astralis\", \"silverapples\", \"sinsandsecrets\", \"uae\", \"vanilla_dream\", \"dearlybeloved\", \"polylife\", \"workentp\", \"doha\", \"nadesico\", \"robort\", \"wincest\", \"tarry\", \"darkwings\", \"chii\", \"universe_inside_my_head\", \"unfettered\", \"chung\", \"posh\", \"always\", \"haha\", \"welcome\", \"thank\", \"woman\", \"intj\", \"kind\", \"ok\", \"get\", \"enfp\", \"would\", \"way\", \"pretty\", \"well\", \"happy\", \"girl\", \"hour\", \"world\", \"talk\", \"still\", \"want\", \"either\", \"answer\", \"two\", \"made\", \"really\", \"every\", \"long\", \"awesome\", \"mean\", \"actually\", \"like\", \"feel\", \"know\", \"see\", \"friend\", \"thing\", \"good\", \"think\", \"something\", \"one\", \"never\", \"time\", \"love\", \"make\", \"need\", \"people\", \"say\", \"type\", \"go\", \"thought\", \"lot\", \"also\", \"life\", \"much\", \"windsor\", \"caesarian\", \"kerik\", \"uniballer\", \"zenith\", \"dumbos\", \"reppears\", \"moustachioed\", \"nubile\", \"wwf\", \"probity\", \"bulging\", \"sexay\", \"asphyxiated\", \"narwhale\", \"manky\", \"newclassic\", \"evidentally\", \"disporting\", \"amongfirstslugs\", \"transferal\", \"fluidly\", \"hinnt\", \"sidonia\", \"coarsely\", \"coefficient\", \"lfabl\", \"chindraj\", \"fw\", \"handier\", \"gamera\", \"latoslapise\", \"yeah\", \"many\", \"make\", \"people\", \"troll\", \"ideal\", \"cognitive\", \"definitely\", \"tree\", \"day\", \"much\", \"like\", \"one\", \"little\", \"someone\", \"wanted\", \"able\", \"infjs\", \"thing\", \"also\", \"post\", \"two\", \"last\", \"lot\", \"sure\", \"think\", \"kind\", \"got\", \"know\", \"maybe\", \"mean\", \"though\", \"great\", \"really\", \"time\", \"always\", \"would\", \"even\", \"well\", \"get\", \"friend\", \"something\", \"good\", \"way\", \"feel\", \"say\", \"type\", \"see\", \"love\", \"go\", \"life\", \"sematary\", \"anythin\", \"ss\", \"sorryy\", \"ctk\", \"liis\", \"whap\", \"barbikyuchikin\", \"blackchimchar\", \"carin\", \"avera\", \"epigenetical\", \"lowen\", \"geocachers\", \"drano\", \"composin\", \"trayvon\", \"tou\", \"yermak\", \"burgundski\", \"antiaircraft\", \"meekers\", \"preconscious\", \"partum\", \"twcafe\", \"tearin\", \"hebbian\", \"unchallenging\", \"hokkien\", \"rhibecka\", \"ood\", \"lii\", \"problem\", \"think\", \"totally\", \"work\", \"passive\", \"tired\", \"cause\", \"due\", \"ap\", \"feel\", \"situation\", \"bad\", \"home\", \"function\", \"laughing\", \"talk\", \"thinking\", \"much\", \"find\", \"take\", \"esfp\", \"put\", \"might\", \"mental\", \"thing\", \"something\", \"lot\", \"one\", \"even\", \"last\", \"come\", \"friend\", \"type\", \"like\", \"right\", \"get\", \"make\", \"life\", \"still\", \"good\", \"would\", \"way\", \"well\", \"time\", \"really\", \"go\", \"want\", \"always\", \"know\", \"people\", \"also\", \"say\", \"love\", \"benforado\", \"sfie\", \"muertos\", \"ladykaizoku\", \"nucky\", \"pizzazz\", \"cassy\", \"uuuummmm\", \"nostalgie\", \"cassycook\", \"_______________________\", \"meaaaaaaaaaaaaaaaannnnnnnn\", \"rokubou\", \"anythng\", \"freeked\", \"franc\", \"lmmfao\", \"katsa\", \"suscribe\", \"____________________________________________\", \"symphonyinblue\", \"lacy\", \"schuester\", \"gainesborough\", \"morroco\", \"haku\", \"malouf\", \"longi\", \"thattttttt\", \"gob\", \"lol\", \"girl\", \"go\", \"person\", \"really\", \"usually\", \"get\", \"since\", \"w\", \"enfp\", \"iphone\", \"ever\", \"thing\", \"want\", \"completely\", \"intp\", \"love\", \"going\", \"feel\", \"could\", \"often\", \"question\", \"probably\", \"understand\", \"like\", \"think\", \"people\", \"know\", \"good\", \"lot\", \"try\", \"one\", \"friend\", \"also\", \"someone\", \"time\", \"would\", \"something\", \"well\", \"say\", \"find\", \"way\", \"need\", \"right\", \"make\", \"even\", \"type\", \"see\", \"much\", \"bwh\", \"lgls\", \"kmb\", \"beautician\", \"ohp\", \"femboys\", \"tmlt\", \"pulpy\", \"ninjaing\", \"pensioner\", \"avoidants\", \"retypes\", \"chav\", \"personology\", \"wesboro\", \"urinate\", \"inquirer\", \"athena_\", \"guppy\", \"pertained\", \"misperception\", \"completionist\", \"alolan\", \"poopy\", \"sosa\", \"aung\", \"consequentialism\", \"pref\", \"lightbody\", \"eilis\", \"contending\", \"tapatalk\", \"iphone\", \"sent\", \"dont\", \"entp\", \"like\", \"type\", \"im\", \"get\", \"really\", \"go\", \"give\", \"way\", \"intj\", \"think\", \"infj\", \"one\", \"know\", \"people\", \"right\", \"long\", \"also\", \"end\", \"find\", \"good\", \"often\", \"day\", \"time\", \"life\", \"still\", \"want\", \"well\", \"would\", \"something\", \"thing\", \"feel\", \"say\", \"see\", \"friend\", \"love\", \"make\", \"much\", \"lot\"], \"Freq\": [69664.0, 49868.0, 32538.0, 47677.0, 34481.0, 39503.0, 37823.0, 34098.0, 23795.0, 25294.0, 16953.0, 21445.0, 17923.0, 20387.0, 23380.0, 22907.0, 13999.0, 34901.0, 21012.0, 33633.0, 19215.0, 22776.0, 17837.0, 12662.0, 10053.0, 10704.0, 21909.0, 12068.0, 11705.0, 8653.0, 1.7636112628177947, 2.2558168542639057, 1.0303477780910442, 1.0087217630616956, 18.256878236894718, 0.9050578336316456, 1.3557851907216365, 2.233147544481188, 0.8833872380348365, 1.3184738709882036, 1.312553474318508, 0.8497734293502006, 0.8445819523271841, 1.285214821444083, 0.8258819551703191, 0.8133869283190952, 0.817996911746626, 0.8161790828505407, 1.1990048835971385, 0.8053089051674995, 7.659631424191985, 0.7866101852165236, 1.1846681866732336, 0.7867003802800218, 0.7799339259378235, 1.1613235390718495, 0.7664542341654706, 1.5291051924706651, 0.7570167165739743, 0.7507508661209552, 1.1199733294012746, 3.7160575379701624, 185.97825745909148, 17.201315495226098, 494.40666628286095, 3377.961951370684, 5891.925454863646, 1829.3610619877215, 491.71123151242665, 2111.5717123143713, 3038.061897151661, 1930.0161196179629, 9297.251051473593, 3744.4040663675187, 6243.14459130672, 11310.62423871514, 1140.167164081938, 5331.179362081717, 1830.231099504888, 3562.4263466638554, 5602.860752359886, 4368.346146949683, 1371.7347802203842, 714.3676892310436, 415.1950440591622, 3875.3613411919246, 1300.079686063194, 465.6658456952021, 10622.986443701548, 3767.0061090003037, 4484.949857947575, 1819.3762448866332, 3274.140131559134, 1905.7028994030973, 7052.029618955993, 4901.756744596701, 2152.965319738115, 13020.380863316128, 3723.082230692706, 4397.748308152574, 6862.1026087232585, 7752.687210905073, 4950.73543500475, 6418.851563871624, 4274.902747468176, 3739.3039151609473, 6104.450770989652, 4321.867584393398, 4385.4818379033895, 5243.446697043595, 3718.9688278341655, 3552.288074126668, 10.331048478238648, 1.3098455620366452, 1.701866674653289, 2.912335385473505, 0.8246619169107657, 2.0458780737206466, 1.1970916252814694, 1.2217559933570732, 8.077868574498618, 1.1800168982601846, 0.7854736054362716, 3.8734904409402104, 1.5178101688631551, 1.139374650401223, 0.763896168717733, 1.517905352320675, 0.752491207014209, 1.1434799963758826, 0.7459946639129588, 0.7591088157329655, 0.7517844063461702, 0.7474616623220924, 0.7595713686342171, 1.4760375720918917, 1.5120879135573848, 0.7392963850974222, 0.7375077948032244, 0.7572256467046119, 1.4673141956744313, 1.1298030889931816, 14.75450893672911, 4.413859870360941, 1.8466155570491785, 1.4930186879364031, 40.762375913364224, 11.87963761500185, 11.880730954844264, 2207.5620810559776, 8683.692330066624, 9.920684170872041, 1745.0859999902978, 8757.34682307401, 1804.1987092919935, 5701.379403788757, 2161.836898204745, 5929.181237811414, 946.5264315508059, 619.4431165078156, 684.9131577221007, 16156.925479753252, 1910.9024855444127, 3120.2714377465377, 10856.42952849257, 2537.6167415997634, 2596.0798715770316, 1881.4316474852747, 2733.137022068927, 2719.232432953166, 2810.0794143908815, 3151.75368053552, 1733.507635555324, 8502.49573812864, 2584.3106583834415, 2320.5747649090986, 927.2131192613414, 4348.773194732817, 2494.8227777095526, 4730.244814408494, 3406.9109161176857, 7052.781816651479, 4529.444178538701, 6792.482439305682, 2629.605347863518, 9171.43686108153, 4556.994268124521, 7145.977934528803, 6238.7882063093775, 4621.6019602757, 4596.904818128873, 4392.223797246119, 3849.4821280505967, 3176.513241744218, 3385.290142020199, 4046.823707575058, 3662.87935180948, 3198.0976047222803, 3202.290580433973, 3734.6327880714007, 3279.1950754683635, 2.0513215008514925, 0.9303962578037572, 0.9197966803955375, 0.8914663836963804, 0.8830013337606806, 0.8734967730646797, 0.8703743181016624, 0.8582769625951335, 0.8624095082025942, 0.8534185246624137, 0.8488153552682848, 0.8636460356720881, 0.8273270987800181, 0.8093388063747479, 0.8033823116511705, 3.2485613476291415, 2.6802294335156898, 0.7762092061757446, 1.1590135057074795, 0.7851505187536523, 1.93400898500352, 1.115952655065488, 1.1020428242880267, 1.1664464979788958, 0.759711091672187, 0.7531434430751949, 1.4764172309225116, 1.0942862107421771, 0.7394594116869405, 1.1139920004776862, 10.798269887211916, 15.633498094397615, 3967.8826594146517, 1282.1295403064705, 1233.5367852684217, 1601.8910210651034, 1084.5838213417858, 2571.944273885535, 2022.6115191205874, 721.8754862215499, 6490.875877339668, 1870.119329377941, 6678.412668910136, 4226.629750912751, 2483.4031752466694, 4396.758419862147, 1419.8090798613841, 1254.7039545349007, 696.7490817197131, 1679.156686919004, 1499.2880171085678, 2122.1695677601024, 3854.239006181205, 1096.3982118203874, 1111.963213608777, 1625.5065464949055, 1435.1650058312252, 5903.71988102584, 1404.9120763174644, 1611.3641038062094, 680.8819141589826, 2243.9362483530176, 2428.7837745917195, 10319.414424303986, 4281.094704589349, 5986.044338155059, 3382.0731033386246, 3735.781588088029, 5324.681087673076, 3463.5090384493433, 7158.05227911087, 3264.746221059677, 5760.240044026459, 2681.42549067381, 4871.826479840202, 3505.3816427778406, 3596.7242770487305, 2429.3553690005474, 5833.661606934132, 3413.908059963537, 3232.0353954196908, 2670.2862283066897, 2401.137363784132, 2652.8969847700973, 2599.907009778823, 2544.6864910403797, 2623.306831626376, 1.9243775369305707, 0.7176621178405624, 2.2256959378019463, 0.6382970655774554, 0.6293310555632585, 0.6251373624764021, 0.5881528047737384, 0.5723923851762392, 0.5623899556395656, 1.6458382269023952, 0.5514871370919825, 0.5495904009550024, 0.5489979045180945, 0.5301091425482397, 1.0535448474291442, 0.5280258092075458, 0.5267202038114526, 0.5209064358499791, 0.5253231327213203, 0.5253516685802857, 0.5112420160785075, 1.0213000455855303, 0.7758995651435698, 1.0261993003640875, 0.5182212977758129, 1.5098172033286195, 0.7670302320319135, 0.5058922253704904, 1.9294714393314918, 0.508082945545679, 1.0031717247238, 2.003042634043537, 1601.7977055396932, 1791.413383824859, 3712.7752086277446, 6762.644314996185, 85.93811788574159, 205.87467181027057, 314.9759510622365, 1051.120511580115, 117.35434764067952, 1702.2981383172564, 3252.2693278950214, 9068.000988887843, 5356.733481065866, 1255.2894330853435, 2280.545706833715, 630.5924026327623, 613.9950339109517, 454.1012068670552, 4435.473821908863, 2461.1421192851935, 1561.7419136970038, 1196.1629631000158, 926.9897171402614, 2396.499116020646, 1727.295911889797, 6014.081022260357, 1299.6090946643228, 1501.7989564514542, 4635.009971293574, 1343.0044393755597, 1632.134700770623, 1941.8286939523891, 1005.8831574778823, 3978.9764056304534, 3861.597437509422, 2125.605527797016, 3915.413906555941, 2112.5080210803944, 2719.8001016140897, 3626.59925837388, 2504.110856211318, 2259.193825260439, 2249.8589462137493, 2309.6710358537216, 2498.9468116627577, 2336.5068442105644, 2365.87241612405, 2109.4175435646453, 2205.7802635665257, 1882.0411879908554, 1858.3283900415868, 0.7540575164162645, 1.3541773544938092, 2.2546341672785566, 0.5926662952674565, 0.548633950931413, 0.5504161438815733, 0.5498348226753589, 0.5293915449997788, 0.5225267053657036, 0.5232005686570738, 0.5231456139930178, 0.7799819958215023, 0.5026314765397095, 0.5065287286530726, 0.5011116466417619, 0.5029837070503395, 1.980719437843492, 1.0033992018445759, 0.49006372645019064, 0.49404125302740187, 0.48946050896640947, 0.48988195881703467, 0.4841134665139604, 0.4913118142714955, 0.49244860195878437, 0.48627773880915365, 0.4873297586596735, 0.47971591655371787, 0.48983206811293717, 0.7222519964147918, 0.7231632952371709, 10.069014793458571, 1272.1552966669972, 7581.400521771678, 541.3727621410821, 1998.0572579083523, 93.3473089950592, 231.02565208741498, 426.4283777276835, 316.08498807982767, 25.391230442232217, 3705.0189393755118, 791.8424684721438, 1039.3324871284808, 483.43314503320545, 1030.0011523630226, 613.1213889447041, 1093.4751168184105, 1149.46400183285, 3178.53811548052, 1996.245256064882, 1641.3542144784599, 464.1207914072226, 871.3060163048398, 1153.156439446729, 225.36533738079365, 4348.216637516195, 2573.848341401648, 2400.16960799566, 4884.604824332206, 2252.469620245705, 915.4635006487891, 1559.1571073955656, 2806.1553037406306, 3003.2961379206563, 7702.808297041248, 1703.663122367663, 3830.400994867343, 2849.664382104478, 2084.263702081096, 1452.0816020880663, 2486.1053839365654, 3876.671385834896, 2556.3114355311614, 2645.325496586883, 3510.8369048199393, 3556.565082902126, 2069.032223465385, 2360.9138040919643, 2003.7050653471101, 3557.700341130861, 4102.53694089509, 2073.0789545473285, 2363.0481830469653, 2123.7597915980537, 0.9743008904543573, 0.9572368611918364, 0.9449692175865033, 0.8428906837675297, 10.870092687521673, 1.2986068003568128, 0.6237324997462103, 0.6155673633662528, 0.6170505572399805, 0.6051384367742667, 0.6082614980269762, 0.5981837688177776, 0.6021706972278016, 0.591272628789409, 0.5901630721620342, 0.5821172996346562, 0.5736710566505777, 0.5629445653015243, 0.573644088260329, 0.5692955536151407, 0.5441879484986331, 1.6747290588296304, 0.5441944709288561, 0.5438437804706974, 0.5534154299255424, 1.3819457500404206, 0.5454201470911864, 1.352619551958557, 0.547511008414866, 0.8144979704919936, 1551.6993620075034, 940.4167667642606, 2500.428641524105, 1913.7412614452378, 4678.574141379345, 1233.6569847002759, 4349.425158466935, 1126.9586280185622, 1109.9064945873288, 1233.635805794827, 135.83153300510412, 1107.0350225962786, 4203.540151311908, 2711.2384830899646, 565.0790134917614, 1410.6468827487142, 2746.35089353664, 1674.0348105456092, 3137.555730504768, 1962.8089094920733, 901.9290201707593, 1206.2046936635863, 1280.8165933176554, 1053.1572713766218, 7444.100111376081, 5539.574995982334, 5245.278462834031, 4238.816732881865, 2475.9865235455227, 2197.1663717357937, 1278.174905529514, 4156.068949778415, 2524.354437167235, 2130.5079124109657, 1914.7758440552027, 3366.629540323768, 3353.584441961033, 2138.0894068647754, 2413.635825904145, 2387.722535330071, 1688.5491435647752, 2219.2669056322025, 1628.0819842661576, 1576.401717517091, 2141.2047823290336, 1807.06837481975, 2110.2759670417067, 1913.3733298721463, 1928.2353845284856, 1.3295180223754903, 1.3163346431570708, 0.792346736319567, 0.791721598426927, 0.6979322543726785, 0.680768929971477, 177.33931979937302, 0.8718231064420475, 0.8630590671741122, 0.5733067502958769, 0.5294428177983456, 0.5322356064236606, 0.5235261018070997, 1.0470774151597395, 0.7672159761619316, 1.0021634534178492, 2.514882210646182, 1.2639989988103222, 0.9735026250647845, 0.7345260446304797, 0.6945016768999722, 0.7096561652326089, 0.46809743456959835, 0.9247840694093613, 0.6643364692990513, 0.4407789176976294, 1.0985459269222482, 0.8543283722083428, 0.4281172096347767, 0.6256059779657345, 1.8478355002015678, 232.83984192967088, 135.14634130945265, 268.13609243524127, 346.48077465354567, 805.4860287679574, 5952.981912131194, 2204.574679598036, 424.85717245395574, 2758.6712066773134, 2892.0441357039035, 1546.0702711614163, 757.0934636374778, 1850.7731343067567, 1093.712334711535, 3781.2865058439916, 1115.5280285653723, 3090.4866128857584, 2962.4583724730996, 3566.47369899723, 1132.6584218084445, 781.617219419558, 1500.7517347782257, 482.24266660067184, 1213.5833551664186, 1651.1688165737157, 623.9649134652748, 997.8919503558537, 2286.9831896967844, 1298.9476372249114, 930.4867843802249, 1559.811284223746, 1618.6961319361794, 2215.906418812704, 1411.6104530687037, 2131.759034260475, 1694.2788750630577, 1558.9542463784858, 1363.3586301712885, 1460.0366075684155, 1405.7312955933794, 1430.0818301655345, 1411.4580517157408, 1172.0457048075566], \"Total\": [69664.0, 49868.0, 32538.0, 47677.0, 34481.0, 39503.0, 37823.0, 34098.0, 23795.0, 25294.0, 16953.0, 21445.0, 17923.0, 20387.0, 23380.0, 22907.0, 13999.0, 34901.0, 21012.0, 33633.0, 19215.0, 22776.0, 17837.0, 12662.0, 10053.0, 10704.0, 21909.0, 12068.0, 11705.0, 8653.0, 3.1027466441744904, 4.147331346186844, 2.0534285938728023, 2.0483604256991033, 37.31636505803951, 2.018292751614887, 3.0294918175697876, 5.060100596483573, 2.009831921369883, 3.016273492377734, 3.055028458952157, 1.9978601977866377, 1.9951492926917869, 3.0440184906429644, 2.028070036012035, 2.009591299284923, 2.0324876957039826, 2.031616711065791, 3.018136205419434, 2.036565107464926, 19.440398027376062, 2.0120142542015347, 3.040086340718416, 2.031757242848437, 2.0256080134345402, 3.0346352989030723, 2.009627686853624, 4.041423641302267, 2.0105388735105767, 1.9999343453796021, 2.9881349958252725, 10.106920855548616, 564.4809543168689, 49.437727872425, 1655.165687561607, 12607.42263448483, 22907.335126385493, 6694.753055075542, 1684.0457232848405, 7822.126695319851, 11515.931747784294, 7180.982004214873, 37823.25874193685, 14542.846116584462, 25294.672440573566, 47677.64879186438, 4174.845726504254, 21710.40704640028, 7005.982677466129, 14236.025674528722, 23380.134940210464, 17923.91077610789, 5163.264223943771, 2606.3651028605464, 1458.9591655586016, 16360.137529364896, 5035.378874581519, 1652.5098024635076, 49868.81862975231, 16065.381634901649, 19478.509837221412, 7329.295900067303, 13999.374410581251, 7726.5040218455615, 33633.59550121273, 22663.276017315082, 8972.317680515742, 69664.61207680973, 16756.872497716635, 20387.256368680948, 34098.25578069946, 39503.31686112242, 23795.9712689203, 34481.51302716477, 21012.397554575542, 17837.276775959064, 34901.78641613838, 21909.300645293548, 22776.602631935704, 32538.20739907811, 19215.939203540005, 21445.185150771755, 22.96882196521375, 3.024078070978249, 4.0896348176326525, 7.114012393606988, 2.015344261238385, 5.021396211529667, 3.0034683594946574, 3.0855889101987355, 20.458498549628807, 3.0167701053373515, 2.010962910082595, 9.99176992966917, 3.9892115404725477, 2.9958111261558233, 2.0215735907303114, 4.023666343197144, 1.9998380318516258, 3.053664465705392, 1.9968496973810632, 2.0337745630514057, 2.017249525403141, 2.007152646780718, 2.0419649493566676, 3.980537727105235, 4.082669088678919, 2.0032378047356536, 2.000470476720896, 2.0555948232393497, 3.99054781683678, 3.076140621017094, 40.73843960180029, 12.084526627008378, 5.032960333846804, 4.082075430582765, 120.58465605607522, 34.54466115601786, 34.71732472013009, 7623.060790218262, 33633.59550121273, 29.084362549867198, 6358.588002000156, 34901.78641613838, 6711.07618205677, 22663.276017315082, 8213.439766844062, 23795.9712689203, 3471.123729160762, 2235.9185671787227, 2492.2725698304002, 69664.61207680973, 7367.192122867738, 12535.036351776824, 47677.64879186438, 10245.487890265022, 10521.265968780057, 7537.07813183808, 11236.310919727293, 11207.473337445937, 11705.483191276095, 13317.250843095233, 7019.825838388117, 39503.31686112242, 10876.1763129927, 9749.839493746877, 3606.4272710601217, 19478.509837221412, 10604.924032607656, 21445.185150771755, 15138.81935132228, 34481.51302716477, 21012.397554575542, 34098.25578069946, 11412.724164106683, 49868.81862975231, 21909.300645293548, 37823.25874193685, 32538.20739907811, 22907.335126385493, 22776.602631935704, 21710.40704640028, 19215.939203540005, 15115.753182302946, 16756.872497716635, 23380.134940210464, 20387.256368680948, 16360.137529364896, 16704.42715439217, 25294.672440573566, 17837.276775959064, 4.150870491799581, 2.016143696384433, 2.0017910811770583, 1.9939863667569178, 1.9807338509869825, 1.9820592814478315, 1.978972182086764, 1.986758655082518, 2.0016210349347583, 1.992287687194602, 1.9940709652346122, 2.0324499316347002, 2.003345607386416, 1.9862405726356127, 1.9769471435671917, 8.123117443274213, 6.838647433332412, 1.9905245775029323, 2.9949075743362266, 2.03161973928345, 5.074353616045402, 2.933691180358288, 2.9003082370959854, 3.111146499631576, 2.027552334670398, 2.0314997838413835, 3.9918946076458446, 2.9760230376152492, 2.015446847861073, 3.0385830994587364, 30.471042542153796, 49.14074971870615, 16704.42715439217, 5084.54312332656, 5035.378874581519, 7009.047643087971, 4611.236936464471, 11705.483191276095, 9117.93739741156, 3028.0868325655465, 32538.20739907811, 8563.77915614384, 34901.78641613838, 21445.185150771755, 12118.528400010555, 22776.602631935704, 6629.288003537435, 5803.519575638312, 3052.3782120467145, 8060.046964563791, 7144.886967390397, 10704.159374916588, 21012.397554575542, 5208.960038072502, 5311.4955659568095, 8122.547933401, 7090.498267251014, 34481.51302716477, 7005.982677466129, 8187.8158233672775, 3111.6340384747073, 11899.23528331972, 13088.357760654922, 69664.61207680973, 25294.672440573566, 37823.25874193685, 19478.509837221412, 21909.300645293548, 34098.25578069946, 20387.256368680948, 49868.81862975231, 19215.939203540005, 39503.31686112242, 15138.81935132228, 33633.59550121273, 21710.40704640028, 23380.134940210464, 13339.87183495086, 47677.64879186438, 22663.276017315082, 23795.9712689203, 16953.54087803113, 13830.062073880916, 17837.276775959064, 17923.91077610789, 16360.137529364896, 22907.335126385493, 4.862328534283731, 1.8947461656222817, 6.71331532631643, 1.926894389587455, 1.939133597390045, 1.9272767522728298, 1.9392350232743518, 1.9417744408282784, 1.9447131086914087, 5.7154691230752235, 1.9347266139770056, 1.947153195010551, 1.9524961997311527, 1.9419141872203614, 3.8718107682767045, 1.9523127342637416, 1.9488156126130096, 1.931976739584612, 1.9486398980429196, 1.9525076907897625, 1.9182497904210025, 3.840673076118163, 2.9190086519729963, 3.862560369133906, 1.95666888370946, 5.704939823424611, 2.9048730595966963, 1.9234079591376458, 7.362328923269552, 1.945123744447207, 3.8746715817275788, 7.8919917305097815, 8276.767872924956, 10053.986144939247, 23380.134940210464, 47677.64879186438, 446.69006425628197, 1143.4618788172852, 1809.534081033019, 6635.372307457193, 642.4287041367478, 11412.724164106683, 22907.335126385493, 69664.61207680973, 39503.31686112242, 8372.020369263613, 16065.381634901649, 3979.1369093693497, 3886.9424291521427, 2805.992638394617, 34098.25578069946, 17923.91077610789, 10876.1763129927, 8122.547933401, 6208.238035829384, 17837.276775959064, 12456.297087727038, 49868.81862975231, 9117.93739741156, 10718.181119338517, 37823.25874193685, 9512.331406150157, 11899.23528331972, 14542.846116584462, 6981.719962854434, 34481.51302716477, 33633.59550121273, 16704.42715439217, 34901.78641613838, 16756.872497716635, 22776.602631935704, 32538.20739907811, 21909.300645293548, 19215.939203540005, 20387.256368680948, 21445.185150771755, 25294.672440573566, 22663.276017315082, 23795.9712689203, 19478.509837221412, 21710.40704640028, 16953.54087803113, 16360.137529364896, 1.9017262664421206, 3.8194550579450564, 6.577964531601682, 1.9388932247969823, 1.8958921025480726, 1.9057107399563051, 1.9189652253275093, 1.9251950281015169, 1.9151086925663798, 1.9236480627655839, 1.9246766063865746, 2.877647998494163, 1.9084188826790618, 1.9232165741066896, 1.911928423502874, 1.9248780353913784, 7.590833970543271, 3.8620800775819273, 1.9036642140309703, 1.9315476373541385, 1.9177423942882643, 1.9220891858413318, 1.90230681467141, 1.931493388223336, 1.9377874544343419, 1.919233222762638, 1.9258700623852814, 1.903305735575682, 1.9449559220718233, 2.8757314584178926, 2.89400106968539, 45.40289658166005, 7438.63633025641, 49868.81862975231, 3091.0112233727677, 12675.479916734026, 491.93321721303744, 1292.585228001524, 2496.5462244983387, 1836.5150152954961, 125.8960962610758, 25294.672440573566, 4956.193290941286, 6675.922780124105, 2953.963819180529, 6663.82381283538, 3822.60053427573, 7144.886967390397, 7566.626925814436, 22907.335126385493, 13999.374410581251, 11317.73928501068, 2869.978917194977, 5704.748179945437, 7751.437312530689, 1324.098086842948, 34098.25578069946, 19215.939203540005, 17837.276775959064, 39503.31686112242, 16756.872497716635, 6208.238035829384, 11236.310919727293, 21909.300645293548, 23795.9712689203, 69664.61207680973, 12662.628067400537, 32538.20739907811, 23380.134940210464, 16360.137529364896, 10704.159374916588, 20387.256368680948, 34901.78641613838, 21445.185150771755, 22776.602631935704, 33633.59550121273, 34481.51302716477, 16953.54087803113, 21012.397554575542, 16704.42715439217, 37823.25874193685, 47677.64879186438, 17923.91077610789, 22663.276017315082, 21710.40704640028, 1.868491266032967, 1.8666375235452772, 1.8730155382456686, 1.8978618529959015, 30.97754502751713, 3.8425993566447523, 1.9101792174401289, 1.916516750649598, 1.9388169942110265, 1.9218942830358816, 1.937632140654627, 1.9271457508197747, 1.9470225085687853, 1.9250520368900281, 1.9229546329875074, 1.9210865140517568, 1.9210047623456152, 1.887860223084809, 1.9453073971913737, 1.9473099878583702, 1.8825909632457383, 5.824948790015554, 1.8950856049092883, 1.894459133668096, 1.9348093501564094, 4.862313699208671, 1.9231163133467317, 4.776051298406129, 1.9337467496368368, 2.8783150072057735, 8653.734841986681, 5803.519575638312, 16953.54087803113, 12828.501768427754, 34481.51302716477, 8144.934301360821, 32538.20739907811, 7578.3939894377445, 7623.060790218262, 8563.77915614384, 768.618084842171, 7712.287355458868, 34098.25578069946, 21012.397554575542, 3692.3334608669893, 10245.487890265022, 21710.40704640028, 12535.036351776824, 25294.672440573566, 15115.753182302946, 6373.940344125829, 8875.56860381335, 9501.858987518028, 7668.158481317072, 69664.61207680973, 49868.81862975231, 47677.64879186438, 37823.25874193685, 20387.256368680948, 17837.276775959064, 9642.066437512247, 39503.31686112242, 21909.300645293548, 17923.91077610789, 16065.381634901649, 33633.59550121273, 34901.78641613838, 19215.939203540005, 22776.602631935704, 22663.276017315082, 13999.374410581251, 21445.185150771755, 13339.87183495086, 12662.628067400537, 23380.134940210464, 16756.872497716635, 23795.9712689203, 19478.509837221412, 22907.335126385493, 2.4764807488482896, 2.4707474106006466, 1.6929897987858817, 1.692525117451094, 1.7301844779420987, 1.73852179914017, 520.2779371408753, 2.637519933421821, 2.6676377231091895, 1.7912334737721052, 1.8012714422519793, 1.8135386456942504, 1.8125436929364298, 3.63447358218023, 2.743778700445134, 3.6122788724348034, 9.088639021935773, 4.576959466330446, 3.6196753194375724, 2.735007876476683, 2.683976651722411, 2.7492699566861627, 1.8310250487230793, 3.650710726973852, 2.751069702258423, 1.8446540426161107, 4.627916460244684, 3.675772589647945, 1.8500455390109682, 2.7803124658345535, 8.371640355862654, 1348.1761626786822, 768.618084842171, 1890.670435297674, 2848.461098051185, 7329.295900067303, 69664.61207680973, 23795.9712689203, 3781.256171580078, 32538.20739907811, 34481.51302716477, 16953.54087803113, 7630.255722360863, 21445.185150771755, 11705.483191276095, 49868.81862975231, 12068.790929827437, 39503.31686112242, 37823.25874193685, 47677.64879186438, 12662.628067400537, 8187.8158233672775, 17923.91077610789, 4647.223258300457, 13999.374410581251, 20387.256368680948, 6373.940344125829, 11412.724164106683, 33633.59550121273, 16360.137529364896, 10704.159374916588, 21012.397554575542, 22776.602631935704, 34901.78641613838, 19215.939203540005, 34098.25578069946, 25294.672440573566, 22663.276017315082, 19478.509837221412, 21909.300645293548, 21710.40704640028, 23380.134940210464, 22907.335126385493, 17837.276775959064], \"Category\": [\"Default\", \"Default\", \"Default\", \"Default\", \"Default\", \"Default\", \"Default\", \"Default\", \"Default\", \"Default\", \"Default\", \"Default\", \"Default\", \"Default\", \"Default\", \"Default\", \"Default\", \"Default\", \"Default\", \"Default\", \"Default\", \"Default\", \"Default\", \"Default\", \"Default\", \"Default\", \"Default\", \"Default\", \"Default\", \"Default\", \"Topic1\", \"Topic1\", \"Topic1\", \"Topic1\", \"Topic1\", \"Topic1\", \"Topic1\", \"Topic1\", \"Topic1\", \"Topic1\", \"Topic1\", \"Topic1\", \"Topic1\", \"Topic1\", \"Topic1\", \"Topic1\", \"Topic1\", \"Topic1\", \"Topic1\", \"Topic1\", \"Topic1\", \"Topic1\", \"Topic1\", \"Topic1\", \"Topic1\", \"Topic1\", \"Topic1\", \"Topic1\", \"Topic1\", \"Topic1\", \"Topic1\", \"Topic1\", \"Topic1\", \"Topic1\", \"Topic1\", \"Topic1\", \"Topic1\", \"Topic1\", \"Topic1\", \"Topic1\", \"Topic1\", \"Topic1\", \"Topic1\", \"Topic1\", \"Topic1\", \"Topic1\", \"Topic1\", \"Topic1\", \"Topic1\", \"Topic1\", \"Topic1\", \"Topic1\", \"Topic1\", \"Topic1\", \"Topic1\", \"Topic1\", \"Topic1\", \"Topic1\", \"Topic1\", \"Topic1\", \"Topic1\", \"Topic1\", \"Topic1\", \"Topic1\", \"Topic1\", \"Topic1\", \"Topic1\", \"Topic1\", \"Topic1\", \"Topic1\", \"Topic1\", \"Topic1\", \"Topic1\", \"Topic1\", \"Topic1\", \"Topic1\", \"Topic1\", \"Topic1\", \"Topic1\", \"Topic1\", \"Topic1\", \"Topic1\", \"Topic2\", \"Topic2\", \"Topic2\", \"Topic2\", \"Topic2\", \"Topic2\", \"Topic2\", \"Topic2\", \"Topic2\", \"Topic2\", \"Topic2\", \"Topic2\", \"Topic2\", \"Topic2\", \"Topic2\", \"Topic2\", \"Topic2\", \"Topic2\", \"Topic2\", \"Topic2\", \"Topic2\", \"Topic2\", \"Topic2\", \"Topic2\", \"Topic2\", \"Topic2\", \"Topic2\", \"Topic2\", \"Topic2\", \"Topic2\", \"Topic2\", \"Topic2\", \"Topic2\", \"Topic2\", \"Topic2\", \"Topic2\", \"Topic2\", \"Topic2\", \"Topic2\", \"Topic2\", \"Topic2\", \"Topic2\", \"Topic2\", \"Topic2\", \"Topic2\", \"Topic2\", \"Topic2\", \"Topic2\", \"Topic2\", \"Topic2\", \"Topic2\", \"Topic2\", \"Topic2\", \"Topic2\", \"Topic2\", \"Topic2\", \"Topic2\", \"Topic2\", \"Topic2\", \"Topic2\", \"Topic2\", \"Topic2\", \"Topic2\", \"Topic2\", \"Topic2\", \"Topic2\", \"Topic2\", \"Topic2\", \"Topic2\", \"Topic2\", \"Topic2\", \"Topic2\", \"Topic2\", \"Topic2\", \"Topic2\", \"Topic2\", \"Topic2\", \"Topic2\", \"Topic2\", \"Topic2\", \"Topic2\", \"Topic2\", \"Topic2\", \"Topic2\", \"Topic2\", \"Topic2\", \"Topic2\", \"Topic2\", \"Topic2\", \"Topic3\", \"Topic3\", \"Topic3\", \"Topic3\", \"Topic3\", \"Topic3\", \"Topic3\", \"Topic3\", \"Topic3\", \"Topic3\", \"Topic3\", \"Topic3\", \"Topic3\", \"Topic3\", \"Topic3\", \"Topic3\", \"Topic3\", \"Topic3\", \"Topic3\", \"Topic3\", \"Topic3\", \"Topic3\", \"Topic3\", \"Topic3\", \"Topic3\", \"Topic3\", \"Topic3\", \"Topic3\", \"Topic3\", \"Topic3\", \"Topic3\", \"Topic3\", \"Topic3\", \"Topic3\", \"Topic3\", \"Topic3\", \"Topic3\", \"Topic3\", \"Topic3\", \"Topic3\", \"Topic3\", \"Topic3\", \"Topic3\", \"Topic3\", \"Topic3\", \"Topic3\", \"Topic3\", \"Topic3\", \"Topic3\", \"Topic3\", \"Topic3\", \"Topic3\", \"Topic3\", \"Topic3\", \"Topic3\", \"Topic3\", \"Topic3\", \"Topic3\", \"Topic3\", \"Topic3\", \"Topic3\", \"Topic3\", \"Topic3\", \"Topic3\", \"Topic3\", \"Topic3\", \"Topic3\", \"Topic3\", \"Topic3\", \"Topic3\", \"Topic3\", \"Topic3\", \"Topic3\", \"Topic3\", \"Topic3\", \"Topic3\", \"Topic3\", \"Topic3\", \"Topic3\", \"Topic3\", \"Topic3\", \"Topic3\", \"Topic3\", \"Topic3\", \"Topic3\", \"Topic3\", \"Topic3\", \"Topic4\", \"Topic4\", \"Topic4\", \"Topic4\", \"Topic4\", \"Topic4\", \"Topic4\", \"Topic4\", \"Topic4\", \"Topic4\", \"Topic4\", \"Topic4\", \"Topic4\", \"Topic4\", \"Topic4\", \"Topic4\", \"Topic4\", \"Topic4\", \"Topic4\", \"Topic4\", \"Topic4\", \"Topic4\", \"Topic4\", \"Topic4\", \"Topic4\", \"Topic4\", \"Topic4\", \"Topic4\", \"Topic4\", \"Topic4\", \"Topic4\", \"Topic4\", \"Topic4\", \"Topic4\", \"Topic4\", \"Topic4\", \"Topic4\", \"Topic4\", \"Topic4\", \"Topic4\", \"Topic4\", \"Topic4\", \"Topic4\", \"Topic4\", \"Topic4\", \"Topic4\", \"Topic4\", \"Topic4\", \"Topic4\", \"Topic4\", \"Topic4\", \"Topic4\", \"Topic4\", \"Topic4\", \"Topic4\", \"Topic4\", \"Topic4\", \"Topic4\", \"Topic4\", \"Topic4\", \"Topic4\", \"Topic4\", \"Topic4\", \"Topic4\", \"Topic4\", \"Topic4\", \"Topic4\", \"Topic4\", \"Topic4\", \"Topic4\", \"Topic4\", \"Topic4\", \"Topic4\", \"Topic4\", \"Topic4\", \"Topic4\", \"Topic4\", \"Topic4\", \"Topic4\", \"Topic4\", \"Topic4\", \"Topic4\", \"Topic4\", \"Topic5\", \"Topic5\", \"Topic5\", \"Topic5\", \"Topic5\", \"Topic5\", \"Topic5\", \"Topic5\", \"Topic5\", \"Topic5\", \"Topic5\", \"Topic5\", \"Topic5\", \"Topic5\", \"Topic5\", \"Topic5\", \"Topic5\", \"Topic5\", \"Topic5\", \"Topic5\", \"Topic5\", \"Topic5\", \"Topic5\", \"Topic5\", \"Topic5\", \"Topic5\", \"Topic5\", \"Topic5\", \"Topic5\", \"Topic5\", \"Topic5\", \"Topic5\", \"Topic5\", \"Topic5\", \"Topic5\", \"Topic5\", \"Topic5\", \"Topic5\", \"Topic5\", \"Topic5\", \"Topic5\", \"Topic5\", \"Topic5\", \"Topic5\", \"Topic5\", \"Topic5\", \"Topic5\", \"Topic5\", \"Topic5\", \"Topic5\", \"Topic5\", \"Topic5\", \"Topic5\", \"Topic5\", \"Topic5\", \"Topic5\", \"Topic5\", \"Topic5\", \"Topic5\", \"Topic5\", \"Topic5\", \"Topic5\", \"Topic5\", \"Topic5\", \"Topic5\", \"Topic5\", \"Topic5\", \"Topic5\", \"Topic5\", \"Topic5\", \"Topic5\", \"Topic5\", \"Topic5\", \"Topic5\", \"Topic5\", \"Topic5\", \"Topic5\", \"Topic5\", \"Topic5\", \"Topic5\", \"Topic5\", \"Topic5\", \"Topic5\", \"Topic5\", \"Topic5\", \"Topic6\", \"Topic6\", \"Topic6\", \"Topic6\", \"Topic6\", \"Topic6\", \"Topic6\", \"Topic6\", \"Topic6\", \"Topic6\", \"Topic6\", \"Topic6\", \"Topic6\", \"Topic6\", \"Topic6\", \"Topic6\", \"Topic6\", \"Topic6\", \"Topic6\", \"Topic6\", \"Topic6\", \"Topic6\", \"Topic6\", \"Topic6\", \"Topic6\", \"Topic6\", \"Topic6\", \"Topic6\", \"Topic6\", \"Topic6\", \"Topic6\", \"Topic6\", \"Topic6\", \"Topic6\", \"Topic6\", \"Topic6\", \"Topic6\", \"Topic6\", \"Topic6\", \"Topic6\", \"Topic6\", \"Topic6\", \"Topic6\", \"Topic6\", \"Topic6\", \"Topic6\", \"Topic6\", \"Topic6\", \"Topic6\", \"Topic6\", \"Topic6\", \"Topic6\", \"Topic6\", \"Topic6\", \"Topic6\", \"Topic6\", \"Topic6\", \"Topic6\", \"Topic6\", \"Topic6\", \"Topic6\", \"Topic6\", \"Topic6\", \"Topic6\", \"Topic6\", \"Topic6\", \"Topic6\", \"Topic6\", \"Topic6\", \"Topic6\", \"Topic6\", \"Topic6\", \"Topic6\", \"Topic6\", \"Topic6\", \"Topic6\", \"Topic6\", \"Topic6\", \"Topic6\", \"Topic7\", \"Topic7\", \"Topic7\", \"Topic7\", \"Topic7\", \"Topic7\", \"Topic7\", \"Topic7\", \"Topic7\", \"Topic7\", \"Topic7\", \"Topic7\", \"Topic7\", \"Topic7\", \"Topic7\", \"Topic7\", \"Topic7\", \"Topic7\", \"Topic7\", \"Topic7\", \"Topic7\", \"Topic7\", \"Topic7\", \"Topic7\", \"Topic7\", \"Topic7\", \"Topic7\", \"Topic7\", \"Topic7\", \"Topic7\", \"Topic7\", \"Topic7\", \"Topic7\", \"Topic7\", \"Topic7\", \"Topic7\", \"Topic7\", \"Topic7\", \"Topic7\", \"Topic7\", \"Topic7\", \"Topic7\", \"Topic7\", \"Topic7\", \"Topic7\", \"Topic7\", \"Topic7\", \"Topic7\", \"Topic7\", \"Topic7\", \"Topic7\", \"Topic7\", \"Topic7\", \"Topic7\", \"Topic7\", \"Topic7\", \"Topic7\", \"Topic7\", \"Topic7\", \"Topic7\", \"Topic7\", \"Topic7\", \"Topic7\", \"Topic7\", \"Topic7\", \"Topic7\", \"Topic7\", \"Topic7\", \"Topic7\", \"Topic7\", \"Topic7\", \"Topic7\", \"Topic7\", \"Topic7\"], \"logprob\": [30.0, 29.0, 28.0, 27.0, 26.0, 25.0, 24.0, 23.0, 22.0, 21.0, 20.0, 19.0, 18.0, 17.0, 16.0, 15.0, 14.0, 13.0, 12.0, 11.0, 10.0, 9.0, 8.0, 7.0, 6.0, 5.0, 4.0, 3.0, 2.0, 1.0, -13.3158, -13.0696, -13.8532, -13.8744, -10.9786, -13.9829, -13.5787, -13.0797, -14.0071, -13.6066, -13.6111, -14.0459, -14.052, -13.6322, -14.0744, -14.0897, -14.084, -14.0862, -13.7016, -14.0996, -11.8472, -14.1231, -13.7137, -14.123, -14.1317, -13.7336, -14.1491, -13.4584, -14.1615, -14.1698, -13.7698, -12.5705, -8.6575, -11.0381, -7.6798, -5.7581, -5.2018, -6.3714, -7.6852, -6.2279, -5.8641, -6.3178, -4.7456, -5.6551, -5.1439, -4.5496, -6.8442, -5.3018, -6.3709, -5.7049, -5.2521, -5.501, -6.6593, -7.3117, -7.8544, -5.6207, -6.7129, -7.7396, -4.6123, -5.6491, -5.4746, -6.3769, -5.7893, -6.3305, -5.022, -5.3858, -6.2085, -4.4088, -5.6608, -5.4943, -5.0493, -4.9273, -5.3758, -5.1161, -5.5226, -5.6565, -5.1663, -5.5117, -5.4971, -5.3184, -5.6619, -5.7078, -11.5422, -13.6075, -13.3457, -12.8084, -14.0702, -13.1616, -13.6975, -13.6771, -11.7883, -13.7119, -14.1189, -12.5232, -13.4601, -13.7469, -14.1467, -13.4601, -14.1618, -13.7433, -14.1704, -14.153, -14.1627, -14.1685, -14.1524, -13.488, -13.4639, -14.1795, -14.1819, -14.1555, -13.494, -13.7554, -11.1858, -12.3926, -13.264, -13.4766, -10.1696, -11.4026, -11.4025, -6.1778, -4.8082, -11.5828, -6.4128, -4.7997, -6.3795, -5.2289, -6.1987, -5.1898, -7.0246, -7.4486, -7.3481, -4.1873, -6.3221, -5.8317, -4.5849, -6.0384, -6.0156, -6.3376, -5.9642, -5.9693, -5.9364, -5.8217, -6.4195, -4.8293, -6.0202, -6.1278, -7.0452, -5.4997, -6.0554, -5.4157, -5.7438, -5.0162, -5.459, -5.0538, -6.0028, -4.7535, -5.453, -5.0031, -5.1389, -5.4389, -5.4443, -5.4898, -5.6217, -5.8139, -5.7502, -5.5717, -5.6714, -5.8071, -5.8058, -5.652, -5.782, -12.9492, -13.7399, -13.7513, -13.7826, -13.7921, -13.803, -13.8065, -13.8205, -13.8157, -13.8262, -13.8316, -13.8143, -13.8573, -13.8793, -13.8866, -12.4895, -12.6818, -13.921, -13.5201, -13.9096, -13.0081, -13.558, -13.5705, -13.5138, -13.9425, -13.9512, -13.2781, -13.5776, -13.9696, -13.5598, -11.2883, -10.9183, -5.3817, -6.5114, -6.5501, -6.2888, -6.6788, -5.8153, -6.0556, -7.0859, -4.8896, -6.134, -4.8611, -5.3186, -5.8503, -5.2791, -6.4094, -6.5331, -7.1213, -6.2417, -6.355, -6.0075, -5.4108, -6.6679, -6.6538, -6.2741, -6.3987, -4.9844, -6.42, -6.2829, -7.1443, -5.9517, -5.8726, -4.4259, -5.3058, -4.9705, -5.5415, -5.442, -5.0876, -5.5177, -4.7917, -5.5768, -5.009, -5.7736, -5.1765, -5.5057, -5.4799, -5.8723, -4.9963, -5.5321, -5.5868, -5.7778, -5.884, -5.7843, -5.8045, -5.826, -5.7955, -12.7024, -13.6888, -12.557, -13.806, -13.8201, -13.8268, -13.8878, -13.915, -13.9326, -12.8588, -13.9522, -13.9556, -13.9567, -13.9917, -13.3049, -13.9957, -13.9981, -14.0092, -14.0008, -14.0007, -14.028, -13.336, -13.6108, -13.3312, -14.0144, -12.9451, -13.6223, -14.0385, -12.6998, -14.0342, -13.3539, -12.6624, -5.9782, -5.8663, -5.1375, -4.5379, -8.9034, -8.0298, -7.6045, -6.3994, -8.5918, -5.9173, -5.2699, -4.2445, -4.7709, -6.2219, -5.6249, -6.9104, -6.9371, -7.2387, -4.9597, -5.5487, -6.0035, -6.2702, -6.5251, -5.5753, -5.9027, -4.6552, -6.1872, -6.0426, -4.9156, -6.1544, -5.9594, -5.7857, -6.4434, -5.0683, -5.0982, -5.6952, -5.0844, -5.7014, -5.4487, -5.161, -5.5314, -5.6343, -5.6384, -5.6122, -5.5334, -5.6006, -5.5881, -5.7029, -5.6582, -5.8169, -5.8296, -13.6316, -13.0461, -12.5363, -13.8724, -13.9496, -13.9464, -13.9474, -13.9853, -13.9984, -13.9971, -13.9972, -13.5978, -14.0372, -14.0295, -14.0402, -14.0365, -12.6658, -13.3459, -14.0625, -14.0544, -14.0637, -14.0629, -14.0747, -14.06, -14.0577, -14.0703, -14.0681, -14.0838, -14.063, -13.6747, -13.6734, -11.0398, -6.2008, -4.4158, -7.0552, -5.7494, -8.813, -7.9068, -7.2938, -7.5933, -10.1149, -5.1318, -6.6749, -6.403, -7.1684, -6.412, -6.9307, -6.3522, -6.3022, -5.2851, -5.7503, -5.946, -7.2091, -6.5793, -6.299, -7.9316, -4.9718, -5.4961, -5.566, -4.8554, -5.6295, -6.5299, -5.9974, -5.4097, -5.3418, -4.3999, -5.9088, -5.0986, -5.3943, -5.7071, -6.0685, -5.5308, -5.0866, -5.503, -5.4687, -5.1857, -5.1727, -5.7145, -5.5825, -5.7465, -5.1724, -5.0299, -5.7125, -5.5816, -5.6883, -13.3216, -13.3392, -13.3521, -13.4664, -10.9095, -13.0342, -13.7676, -13.7807, -13.7783, -13.7978, -13.7927, -13.8094, -13.8027, -13.821, -13.8229, -13.8366, -13.8512, -13.8701, -13.8513, -13.8589, -13.904, -12.7799, -13.904, -13.9046, -13.8872, -12.972, -13.9017, -12.9935, -13.8979, -13.5007, -5.9484, -6.4492, -5.4713, -5.7387, -4.8448, -6.1778, -4.9177, -6.2682, -6.2835, -6.1778, -8.3841, -6.2861, -4.9518, -5.3904, -6.9586, -6.0437, -5.3775, -5.8725, -5.2443, -5.7134, -6.491, -6.2003, -6.1403, -6.336, -4.3803, -4.6758, -4.7304, -4.9435, -5.4811, -5.6006, -6.1423, -4.9632, -5.4618, -5.6314, -5.7382, -5.1739, -5.1777, -5.6279, -5.5066, -5.5174, -5.8639, -5.5906, -5.9004, -5.9326, -5.6264, -5.7961, -5.6409, -5.7389, -5.7312, -12.6079, -12.6179, -13.1255, -13.1263, -13.2524, -13.2773, -7.7147, -13.0299, -13.04, -13.4491, -13.5287, -13.5234, -13.5399, -12.8468, -13.1577, -12.8906, -11.9705, -12.6585, -12.9196, -13.2013, -13.2573, -13.2357, -13.6518, -12.971, -13.3017, -13.712, -12.7988, -13.0502, -13.7411, -13.3618, -12.2787, -7.4424, -7.9864, -7.3013, -7.0449, -6.2013, -4.2011, -5.1945, -6.841, -4.9703, -4.923, -5.5493, -6.2633, -5.3694, -5.8954, -4.6549, -5.8757, -4.8567, -4.899, -4.7134, -5.8604, -6.2314, -5.579, -6.7143, -5.7914, -5.4835, -6.4567, -5.9871, -5.1578, -5.7235, -6.0571, -5.5404, -5.5034, -5.1893, -5.6403, -5.2281, -5.4577, -5.541, -5.6751, -5.6065, -5.6444, -5.6273, -5.6404, -5.8263], \"loglift\": [30.0, 29.0, 28.0, 27.0, 26.0, 25.0, 24.0, 23.0, 22.0, 21.0, 20.0, 19.0, 18.0, 17.0, 16.0, 15.0, 14.0, 13.0, 12.0, 11.0, 10.0, 9.0, 8.0, 7.0, 6.0, 5.0, 4.0, 3.0, 2.0, 1.0, 1.0253, 0.9813, 0.9006, 0.8819, 0.8753, 0.7882, 0.7862, 0.7723, 0.7682, 0.7627, 0.7454, 0.7354, 0.7306, 0.728, 0.6918, 0.6858, 0.6801, 0.6783, 0.6671, 0.6624, 0.6588, 0.6511, 0.6478, 0.6414, 0.6358, 0.6297, 0.6263, 0.6183, 0.6135, 0.6104, 0.6089, 0.5897, 0.48, 0.5345, 0.3819, 0.2732, 0.2324, 0.2929, 0.3592, 0.2807, 0.2577, 0.2763, 0.187, 0.2334, 0.1911, 0.1515, 0.2923, 0.186, 0.2479, 0.2049, 0.1616, 0.1785, 0.2647, 0.2959, 0.3335, 0.15, 0.2362, 0.3237, 0.0439, 0.1398, 0.1216, 0.1968, 0.1373, 0.1904, 0.028, 0.0591, 0.1629, -0.0869, 0.086, 0.0564, -0.013, -0.0381, 0.0203, -0.091, -0.0021, 0.0278, -0.1533, -0.033, -0.0572, -0.2352, -0.0521, -0.2077, 0.797, 0.7593, 0.7192, 0.7028, 0.7024, 0.6981, 0.6761, 0.6695, 0.6667, 0.6573, 0.6559, 0.6483, 0.6296, 0.6292, 0.6228, 0.6211, 0.6185, 0.6137, 0.6113, 0.6105, 0.6089, 0.6082, 0.607, 0.6039, 0.6027, 0.5991, 0.5981, 0.5973, 0.5955, 0.5943, 0.5803, 0.5888, 0.5933, 0.5901, 0.5114, 0.5285, 0.5236, 0.3567, 0.2419, 0.5204, 0.303, 0.2133, 0.2823, 0.2159, 0.2611, 0.2063, 0.2965, 0.3124, 0.3043, 0.1346, 0.2465, 0.2053, 0.1162, 0.2003, 0.1966, 0.2082, 0.1823, 0.1797, 0.1691, 0.1549, 0.1974, 0.0599, 0.1588, 0.1605, 0.2377, 0.0965, 0.1489, 0.0844, 0.1045, 0.009, 0.0614, -0.0175, 0.1281, -0.0973, 0.0257, -0.0704, -0.0557, -0.0048, -0.0044, -0.002, -0.0118, 0.036, -0.0034, -0.158, -0.1207, -0.0363, -0.0559, -0.317, -0.0977, 1.1008, 1.0323, 1.028, 1.0006, 0.9977, 0.9862, 0.9842, 0.9663, 0.9637, 0.9578, 0.9515, 0.9498, 0.9213, 0.9079, 0.9052, 0.8891, 0.8689, 0.8639, 0.8563, 0.8549, 0.841, 0.8391, 0.838, 0.8246, 0.824, 0.8134, 0.811, 0.8052, 0.803, 0.8022, 0.7682, 0.6604, 0.3682, 0.428, 0.399, 0.3296, 0.3583, 0.2902, 0.2998, 0.3718, 0.1936, 0.2841, 0.152, 0.1815, 0.2205, 0.1608, 0.2647, 0.2741, 0.3284, 0.237, 0.2442, 0.1874, 0.1097, 0.2473, 0.2419, 0.1968, 0.2082, 0.0408, 0.1988, 0.1801, 0.2861, 0.1374, 0.1213, -0.104, 0.0293, -0.0379, 0.0548, 0.0367, -0.0513, 0.033, -0.1355, 0.0331, -0.1198, 0.0747, -0.1264, -0.0179, -0.0662, 0.1025, -0.2952, -0.0873, -0.1908, -0.0427, 0.0547, -0.1, -0.125, -0.0552, -0.3614, 1.1894, 1.1455, 1.0123, 1.0114, 0.991, 0.9904, 0.9232, 0.8948, 0.8756, 0.8714, 0.8612, 0.8514, 0.8475, 0.818, 0.8147, 0.8087, 0.808, 0.8056, 0.8054, 0.8035, 0.794, 0.7917, 0.7913, 0.7908, 0.7877, 0.787, 0.7847, 0.7808, 0.7772, 0.7739, 0.765, 0.7451, 0.474, 0.3913, 0.2762, 0.1633, 0.4681, 0.4018, 0.368, 0.2737, 0.4162, 0.2136, 0.1642, 0.0774, 0.1183, 0.2188, 0.1641, 0.2741, 0.2709, 0.2951, 0.0767, 0.1308, 0.1755, 0.2008, 0.2146, 0.109, 0.1406, 0.001, 0.1681, 0.151, 0.017, 0.1586, 0.1297, 0.1028, 0.1789, -0.0431, -0.0481, 0.0547, -0.0713, 0.0454, -0.0089, -0.0778, -0.0527, -0.0244, -0.0877, -0.1121, -0.1984, -0.1558, -0.1921, -0.1066, -0.1704, -0.0818, -0.0589, 1.199, 1.0872, 1.0533, 0.9388, 0.8841, 0.8821, 0.8741, 0.833, 0.8252, 0.822, 0.8214, 0.8186, 0.7899, 0.7899, 0.785, 0.782, 0.7806, 0.7763, 0.7671, 0.7606, 0.7585, 0.7571, 0.7556, 0.7551, 0.7542, 0.7512, 0.7499, 0.7459, 0.7451, 0.7424, 0.7373, 0.618, 0.3581, 0.2404, 0.3819, 0.2766, 0.462, 0.4022, 0.3568, 0.3644, 0.523, 0.2032, 0.29, 0.2641, 0.3141, 0.2569, 0.2939, 0.247, 0.2396, 0.149, 0.1763, 0.1932, 0.3021, 0.245, 0.2187, 0.3533, 0.0646, 0.1137, 0.1183, 0.0338, 0.1173, 0.2099, 0.1491, 0.069, 0.0543, -0.078, 0.1182, -0.0154, 0.0194, 0.0636, 0.1264, 0.0199, -0.0735, -0.0029, -0.0289, -0.1356, -0.1476, 0.0207, -0.062, 0.0034, -0.2397, -0.3288, -0.033, -0.1367, -0.2005, 1.5267, 1.51, 1.4937, 1.3662, 1.1306, 1.093, 1.0586, 1.0421, 1.0329, 1.0222, 1.0192, 1.0079, 1.0043, 0.9974, 0.9966, 0.9839, 0.9693, 0.9678, 0.9567, 0.948, 0.9367, 0.9313, 0.9301, 0.9298, 0.9262, 0.9198, 0.9177, 0.9163, 0.916, 0.9154, 0.4592, 0.3579, 0.2638, 0.2752, 0.1804, 0.2904, 0.1655, 0.272, 0.2509, 0.2403, 0.4446, 0.2367, 0.0845, 0.1301, 0.3008, 0.195, 0.1103, 0.1645, 0.0907, 0.1365, 0.2224, 0.182, 0.1738, 0.1925, -0.0584, -0.0196, -0.0293, -0.0108, 0.0696, 0.0837, 0.1571, -0.074, 0.0169, 0.0481, 0.0508, -0.1238, -0.1647, -0.018, -0.0668, -0.0726, 0.0627, -0.0905, 0.0745, 0.0943, -0.2127, -0.0493, -0.2449, -0.1426, -0.297, 1.9586, 1.9509, 1.8213, 1.8208, 1.6727, 1.643, 1.5043, 1.4736, 1.4521, 1.4414, 1.3562, 1.3546, 1.3387, 1.3361, 1.3063, 1.2984, 1.2958, 1.2938, 1.2674, 1.2659, 1.2287, 1.2263, 1.2166, 1.2075, 1.1596, 1.1491, 1.1425, 1.1214, 1.117, 1.089, 1.0698, 0.8244, 0.8424, 0.6274, 0.4739, 0.3724, 0.1208, 0.2016, 0.3945, 0.1129, 0.1021, 0.1858, 0.2702, 0.1307, 0.2101, 0.0013, 0.1993, 0.0325, 0.0337, -0.0123, 0.1665, 0.2316, 0.1004, 0.315, 0.1352, 0.0672, 0.2567, 0.1438, -0.1077, 0.0473, 0.1379, -0.02, -0.0635, -0.1763, -0.0304, -0.1917, -0.1227, -0.0961, -0.0788, -0.1279, -0.1566, -0.2136, -0.2062, -0.142]}, \"token.table\": {\"Topic\": [6, 6, 1, 1, 2, 3, 4, 5, 6, 7, 1, 2, 3, 4, 5, 6, 7, 2, 1, 2, 3, 4, 5, 6, 7, 1, 2, 3, 4, 5, 6, 7, 1, 2, 3, 4, 5, 6, 7, 4, 1, 1, 2, 3, 4, 5, 6, 7, 3, 5, 6, 1, 2, 3, 4, 5, 6, 7, 2, 4, 3, 1, 2, 7, 5, 7, 1, 2, 3, 4, 5, 6, 7, 1, 2, 1, 2, 3, 4, 5, 6, 7, 5, 7, 1, 2, 3, 4, 5, 6, 7, 6, 1, 5, 1, 2, 3, 4, 5, 6, 7, 1, 2, 3, 4, 5, 6, 7, 1, 2, 3, 4, 5, 6, 7, 2, 2, 4, 7, 4, 1, 2, 3, 4, 5, 6, 7, 5, 6, 6, 1, 2, 3, 4, 5, 6, 7, 1, 2, 3, 7, 1, 3, 4, 1, 2, 3, 4, 5, 6, 7, 1, 4, 1, 3, 4, 5, 6, 1, 2, 3, 4, 5, 6, 7, 1, 2, 3, 4, 5, 6, 7, 2, 1, 2, 3, 4, 5, 6, 7, 1, 7, 5, 1, 2, 3, 4, 5, 6, 7, 2, 1, 2, 3, 6, 7, 1, 2, 3, 4, 5, 6, 7, 1, 2, 3, 4, 5, 6, 1, 2, 3, 4, 5, 6, 7, 2, 5, 2, 3, 4, 1, 2, 3, 4, 5, 6, 7, 1, 2, 3, 4, 5, 6, 7, 3, 1, 2, 3, 4, 5, 6, 7, 2, 4, 1, 2, 4, 5, 3, 1, 2, 3, 4, 5, 6, 7, 3, 5, 1, 2, 3, 4, 5, 6, 7, 1, 1, 2, 3, 4, 5, 6, 7, 4, 7, 1, 2, 3, 4, 5, 6, 7, 1, 1, 2, 1, 2, 3, 4, 5, 6, 7, 1, 2, 3, 4, 5, 6, 7, 3, 1, 2, 3, 4, 5, 6, 7, 2, 5, 1, 2, 3, 4, 5, 6, 7, 1, 2, 3, 4, 5, 6, 7, 1, 2, 3, 4, 5, 6, 7, 1, 2, 3, 4, 5, 6, 7, 4, 1, 2, 3, 4, 5, 6, 7, 1, 2, 3, 1, 2, 3, 4, 5, 6, 7, 1, 2, 3, 4, 5, 6, 7, 1, 7, 3, 3, 1, 2, 1, 2, 3, 4, 5, 6, 7, 1, 2, 3, 4, 5, 6, 7, 1, 2, 4, 1, 1, 5, 6, 6, 3, 1, 2, 3, 4, 5, 6, 7, 1, 2, 3, 4, 5, 6, 7, 1, 2, 3, 4, 5, 6, 7, 6, 1, 2, 4, 1, 2, 3, 4, 5, 6, 7, 5, 1, 2, 3, 4, 5, 6, 7, 1, 2, 3, 4, 5, 6, 7, 1, 2, 3, 4, 5, 6, 7, 1, 2, 3, 4, 5, 6, 7, 6, 1, 2, 3, 4, 5, 6, 7, 1, 2, 3, 4, 5, 6, 7, 1, 2, 3, 4, 5, 6, 7, 1, 2, 3, 4, 5, 6, 7, 2, 1, 2, 3, 4, 5, 6, 7, 1, 2, 3, 4, 5, 6, 7, 5, 7, 1, 2, 3, 4, 5, 6, 7, 1, 2, 3, 4, 5, 6, 7, 1, 2, 3, 5, 6, 4, 1, 2, 3, 4, 5, 6, 7, 1, 2, 3, 4, 5, 6, 7, 1, 2, 3, 3, 2, 3, 4, 1, 2, 3, 4, 5, 6, 7, 1, 2, 3, 4, 5, 6, 7, 1, 2, 3, 4, 5, 6, 7, 1, 2, 3, 4, 5, 6, 7, 1, 2, 3, 4, 5, 6, 7, 1, 1, 2, 3, 4, 5, 6, 7, 1, 2, 3, 4, 5, 6, 7, 1, 2, 3, 4, 5, 6, 7, 1, 2, 3, 4, 5, 6, 7, 1, 2, 3, 4, 5, 6, 7, 1, 2, 3, 4, 5, 6, 7, 1, 2, 3, 4, 5, 6, 7, 1, 2, 3, 4, 5, 6, 7, 1, 2, 3, 4, 5, 6, 7, 1, 2, 3, 4, 5, 6, 7, 1, 6, 1, 2, 3, 4, 6, 3, 1, 2, 3, 4, 5, 6, 7, 7, 1, 2, 3, 4, 5, 6, 7, 1, 2, 3, 5, 6, 6, 3, 2, 1, 2, 3, 4, 5, 6, 7, 1, 2, 3, 4, 5, 1, 2, 3, 4, 5, 6, 7, 1, 2, 1, 2, 3, 4, 5, 6, 7, 2, 4, 7, 1, 2, 3, 4, 5, 6, 7, 1, 2, 3, 4, 5, 6, 7, 1, 2, 3, 4, 5, 6, 7, 5, 1, 2, 3, 4, 5, 6, 7, 1, 2, 3, 4, 5, 6, 7, 6, 1, 2, 3, 4, 5, 6, 7, 1, 2, 3, 4, 5, 6, 7, 1, 2, 4, 6, 1, 2, 3, 4, 5, 6, 7, 1, 3, 1, 2, 3, 4, 5, 6, 7, 1, 2, 3, 4, 5, 6, 7, 5, 2, 1, 2, 3, 4, 5, 6, 7, 1, 2, 3, 4, 5, 6, 7, 6, 4, 1, 2, 3, 4, 5, 6, 7, 1, 2, 3, 4, 5, 6, 7, 6, 1, 2, 3, 4, 5, 6, 7, 1, 2, 3, 4, 5, 6, 7, 1, 2, 3, 4, 5, 6, 7, 1, 2, 3, 4, 5, 6, 7, 1, 2, 3, 4, 5, 6, 7, 6, 7, 1, 2, 3, 4, 5, 6, 7, 1, 1, 6, 4, 1, 2, 3, 4, 5, 6, 7, 6, 1, 3, 2, 3, 4, 1, 2, 3, 4, 5, 6, 7, 1, 2, 3, 4, 5, 6, 7, 4, 7, 6, 4, 1, 2, 3, 4, 5, 6, 2, 1, 2, 3, 4, 5, 6, 7, 1, 2, 3, 4, 5, 6, 7, 7, 1, 2, 3, 4, 5, 6, 7, 1, 2, 1, 3, 1, 2, 3, 4, 5, 6, 7, 3, 5, 1, 2, 3, 4, 5, 6, 7, 1, 2, 4, 2, 3, 1, 1, 2, 3, 4, 5, 6, 7, 1, 2, 3, 4, 5, 6, 7, 7, 1, 2, 3, 4, 5, 6, 7, 2, 1, 2, 3, 4, 5, 6, 7, 1, 3, 7, 7, 1, 2, 6, 3, 1, 7, 1, 2, 3, 4, 5, 6, 7, 1, 2, 3, 4, 5, 6, 7, 1, 2, 7, 1, 2, 3, 4, 5, 6, 7, 1, 2, 3, 4, 5, 6, 7, 4, 1, 2, 3, 4, 5, 6, 7, 1, 7, 1, 2, 3, 4, 5, 6, 7, 1, 2, 3, 4, 5, 6, 7, 1, 2, 3, 4, 5, 6, 7, 1, 2, 3, 4, 5, 6, 7, 1, 2, 3, 4, 5, 6, 7, 4, 7, 2, 5, 1, 2, 3, 4, 5, 6, 7, 1, 2, 3, 4, 5, 6, 7, 2, 3, 1, 2, 4, 5, 6, 1, 2, 3, 4, 5, 6, 7, 1, 1, 2, 3, 4, 5, 6, 7, 1, 3, 4, 5, 6, 1, 1, 2, 3, 4, 5, 6, 7, 1, 2, 3, 4, 5, 6, 7, 5, 1, 2, 3, 4, 5, 6, 7, 4, 6, 1, 2, 4, 1, 3, 1, 2, 3, 4, 5, 6, 7, 1, 2, 3, 4, 5, 6, 1, 2, 3, 4, 5, 6, 7, 3, 3, 2, 1, 2, 3, 4, 5, 6, 7, 1, 2, 3, 4, 5, 6, 7, 5, 3, 7, 1, 2, 3, 4, 5, 6, 7, 1, 2, 3, 4, 5, 7, 1, 2, 3, 4, 5, 6, 7, 2, 1, 2, 3, 4, 5, 6, 7, 1, 2, 4, 1, 2, 3, 4, 5, 6, 7, 6, 6, 1, 2, 1, 2, 3, 4, 5, 6, 7, 1, 2, 3, 4, 5, 6, 7, 1, 2, 3, 4, 5, 6, 7, 3, 1, 2, 3, 4, 5, 6, 7, 1, 2, 3, 4, 5, 6, 7, 6, 1, 2, 3, 4, 5, 6, 7, 1, 2, 3, 4, 5, 6, 7, 1, 2, 3, 4, 5, 6, 7, 1, 2, 3, 4, 5, 6, 7, 1, 2, 3, 4, 5, 6, 7, 1, 2, 3, 4, 5, 6, 7, 1, 2, 3, 4, 5, 6, 7, 1, 2, 3, 4, 5, 6, 7, 1, 2, 3, 4, 5, 6, 7, 1, 2, 3, 4, 5, 6, 7, 1, 2, 3, 4, 5, 6, 7, 2, 3, 5, 4, 1, 2, 3, 4, 5, 6, 7, 1, 2, 3, 4, 5, 6, 7, 1, 2, 3, 4, 5, 6, 7, 1, 2, 3, 4, 5, 6, 7, 1, 2, 3, 4, 5, 6, 7, 1, 2, 3, 4, 5, 6, 7, 1, 2, 3, 4, 5, 6, 7, 1, 2, 3, 4, 5, 6, 7, 1, 1, 2, 3, 4, 5, 6, 7, 1, 3, 4, 3, 3, 2, 5, 7, 1, 2, 3, 4, 5, 6, 7, 6, 3, 1, 1, 2, 3, 4, 5, 6, 7, 1, 2, 3, 4, 5, 6, 7, 1, 2, 3, 4, 5, 6, 7, 1, 2, 3, 4, 5, 6, 7, 1, 2, 3, 4, 5, 6, 7, 1, 2, 3, 4, 5, 6, 7, 1, 1, 7, 1, 5, 3, 2, 3, 4, 1, 2, 3, 4, 5, 6, 7, 1, 2, 3, 4, 5, 6, 7, 1, 2, 3, 1, 2, 3, 4, 5, 6, 7, 1, 2, 3, 4, 5, 6, 7, 1, 2, 3, 4, 7, 1, 2, 3, 4, 5, 6, 7, 1, 2, 3, 4, 5, 6, 7, 2, 1, 2, 3, 4, 5, 6, 7, 4], \"Freq\": [0.5160938338182969, 0.5135289225829879, 0.4976136194239257, 0.21842361071069222, 0.1749447058695768, 0.1677411003337707, 0.1579647785351767, 0.09956411936989151, 0.11705858995684919, 0.06431790656969735, 0.2084295104005084, 0.20835310662103607, 0.1855847803382826, 0.10444396653867118, 0.1177382241668561, 0.102533872051863, 0.07288920561660008, 0.4961931414067797, 0.2730639824036234, 0.18755184054564658, 0.1873123107365206, 0.1168905468534809, 0.07688906872944132, 0.09078179765874847, 0.06754740617352789, 0.2436968167584516, 0.15565799422071427, 0.14505762902288785, 0.13730262500974116, 0.11565556344786404, 0.11889146440299, 0.08374288506282872, 0.16714131973486362, 0.19168571124320677, 0.23754181830513568, 0.12727164962618914, 0.11996819654321873, 0.10260752937878088, 0.053818068209757305, 0.5121618750682174, 0.32952888947198017, 0.18507028534493805, 0.22404235967495045, 0.20935723021726463, 0.10110146818945243, 0.11428043052327304, 0.10656132401346383, 0.05968187228315907, 0.2618174542778938, 0.2618174542778938, 0.5194664771844434, 0.14297504477559556, 0.10325975456015235, 0.1906333930341274, 0.1906333930341274, 0.19857645107721605, 0.07943058043088642, 0.08737363847397506, 0.4957244938749722, 0.5149558134859662, 0.5034636860091246, 0.218485657860052, 0.218485657860052, 0.218485657860052, 0.5195678051480137, 0.5551634121006124, 0.21628507455519996, 0.15329566205472567, 0.21885607098379076, 0.10155435892933609, 0.11408796651871618, 0.10669635178651767, 0.08934212589352986, 0.3240872420479345, 0.3240872420479345, 0.18364502412312336, 0.17181145405319942, 0.1858919045161469, 0.12702363821893034, 0.15563391522342998, 0.11414152396559543, 0.06186410682124792, 0.5194278945266783, 0.5908331815518214, 0.17970292204765173, 0.2688093460812303, 0.1341066582445162, 0.1342556656425657, 0.10102701587753554, 0.1099674597605033, 0.07197057325789037, 0.5351911556552903, 0.3346569018458341, 0.5221635742564198, 0.19551776931707313, 0.39103553863414625, 0.14663832698780482, 0.09775888465853656, 0.09775888465853656, 0.04887944232926828, 0.04887944232926828, 0.2819953015136748, 0.18698830078911052, 0.16278269550896676, 0.09258644019654988, 0.10650466323263254, 0.11134578428866129, 0.058093452672345024, 0.17368819954265982, 0.34737639908531964, 0.14474016628554986, 0.08684409977132991, 0.08684409977132991, 0.11579213302843988, 0.05789606651421994, 0.5000404953165692, 0.3329484050793374, 0.5135702740608354, 0.4037988183292195, 0.5277751807306469, 0.19781142960360423, 0.27484955228898356, 0.16049608892787362, 0.11595842425038869, 0.09710013380136354, 0.0878716086880108, 0.06580339646042818, 0.5198456096809743, 0.5235110877921292, 0.5203199826477293, 0.19787336407090375, 0.19266617027956418, 0.16863296816568923, 0.09773502192975814, 0.17063573500851215, 0.08331510066143316, 0.0893234011899019, 0.49102284839043486, 0.5013522044917896, 0.2506761022458948, 0.5517108381425774, 0.33601890420892755, 0.33601890420892755, 0.5199105032550385, 0.06563608702371078, 0.2953623916066985, 0.3609984786304093, 0.06563608702371078, 0.16409021755927697, 0.03281804351185539, 0.03281804351185539, 0.49546826108347003, 0.5110726747512826, 0.17528668679272963, 0.17528668679272963, 0.35057337358545926, 0.17528668679272963, 0.17528668679272963, 0.229340803442114, 0.19341995471021664, 0.12434139945656783, 0.17407795923919497, 0.10057837644931265, 0.0922889498188748, 0.08510478007249532, 0.17852834567599218, 0.2432292964768129, 0.1746124696990512, 0.11792126521470073, 0.13874660563752333, 0.09006514746964311, 0.05686919884693869, 0.49727421375411024, 0.2063735597220616, 0.197436122096303, 0.15843639427481107, 0.10670758862269326, 0.1083325772819221, 0.15301976541071496, 0.06933284946043014, 0.36373292392332096, 0.36373292392332096, 0.5195134349365017, 0.3295062456537546, 0.17538235655764356, 0.1257792658140676, 0.10629233730766276, 0.11515003208330132, 0.0832623308910025, 0.06554694133972537, 0.4864771932165748, 0.21607995921930032, 0.21607995921930032, 0.21607995921930032, 0.21607995921930032, 0.21607995921930032, 0.11945090298817013, 0.11945090298817013, 0.11945090298817013, 0.11945090298817013, 0.11945090298817013, 0.11945090298817013, 0.23890180597634025, 0.19869022079808002, 0.39738044159616004, 0.19869022079808002, 0.19869022079808002, 0.19869022079808002, 0.19869022079808002, 0.213750513191943, 0.21017808121659018, 0.16049481430010948, 0.10618061704520845, 0.11484707239282359, 0.12986451791884374, 0.06470071244250085, 0.49169658140459493, 0.5274561767813702, 0.25050761562809243, 0.25050761562809243, 0.25050761562809243, 0.3957684102971909, 0.19788420514859545, 0.09894210257429772, 0.09894210257429772, 0.09894210257429772, 0.09894210257429772, 0.09894210257429772, 0.19285491950486308, 0.23044454261598812, 0.16832089975867423, 0.1491317914571908, 0.08639479810622216, 0.08543096161619332, 0.08744625609534454, 0.3339001205142813, 0.1993859483232223, 0.18326025182240233, 0.1490496620496348, 0.1583935235734744, 0.10187823209863814, 0.13382821021241223, 0.07429876985891805, 0.494664158943005, 0.5131784487243289, 0.19914779831631135, 0.3982955966326227, 0.19914779831631135, 0.19914779831631135, 0.34086750735565535, 0.23345939337383584, 0.19203351605336572, 0.12287336493359781, 0.1267350992600823, 0.09513909113430001, 0.10812856114156606, 0.12146909790578526, 0.5033323989513291, 0.5230321322217096, 0.4823620942716136, 0.2411810471358068, 0.05359578825240151, 0.026797894126200754, 0.08039368237860225, 0.026797894126200754, 0.08039368237860225, 0.3313303084878599, 0.18785580141009048, 0.18622227270217664, 0.15464071768250925, 0.11979210524701422, 0.1720650239002568, 0.10509034687578975, 0.07514232056403619, 0.5188668409042468, 0.35967180390274395, 0.1942806227352966, 0.17873049384047543, 0.21040668232992596, 0.09618042686796797, 0.13726348345428563, 0.11883370106042351, 0.06412028457864531, 0.4869903940092616, 0.2512223394318208, 0.2512223394318208, 0.21862517540669282, 0.17171544288832763, 0.1372862814069587, 0.12416016359218678, 0.1235146168144111, 0.12071724744404988, 0.10371784896262395, 0.18216256766509703, 0.13638838399540598, 0.21836153944469966, 0.1282144226258183, 0.1203907738863558, 0.1440952618581601, 0.07041283865516251, 0.49955263034342096, 0.24818209345092707, 0.17900764519385173, 0.1903320617724262, 0.07231253959812609, 0.093460546461729, 0.10669510559572566, 0.10983319693677641, 0.34750601898609124, 0.34750601898609124, 0.2069701615022859, 0.2351933653435067, 0.14460036535934115, 0.05191675768323333, 0.16167366151020313, 0.10627255767373266, 0.09338047690675526, 0.2221774976510272, 0.2020066692314604, 0.1503263810322153, 0.12609751612587175, 0.1343926201209007, 0.10783635193537636, 0.057170572857825425, 0.19799573454938338, 0.20110765179180984, 0.1364057057930264, 0.13770233797737078, 0.11047306210613926, 0.14353718280692038, 0.0728707287601529, 0.2612053275389857, 0.1662864516846548, 0.2005428880832103, 0.12460778739974562, 0.0959180219159554, 0.0857838261480494, 0.06565816976389804, 0.5176045754127488, 0.16811908550510515, 0.2744319964512708, 0.1572676197428486, 0.09152975469033789, 0.12203967292045052, 0.10615564332642281, 0.08052102130833849, 0.24452060993036667, 0.48904121986073334, 0.24452060993036667, 0.24681086559500187, 0.14765955197778824, 0.16924512503799502, 0.09879550746786955, 0.14647353147997466, 0.12405774407129838, 0.06697062410987237, 0.2638084409092232, 0.18157453915114735, 0.14258507569879672, 0.11384228638314403, 0.12921229758819094, 0.09760391296312272, 0.07146621029239324, 0.4921847841418508, 0.5752013006075479, 0.5014866659383634, 0.49916499495292255, 0.48223781344088845, 0.24111890672044423, 0.23386759322083622, 0.17093620970600523, 0.1307201269377307, 0.11457654841973773, 0.1425777996544866, 0.12064824830482358, 0.08671816071169676, 0.2679373967174087, 0.17711788243634508, 0.16696513324160608, 0.12246753716153909, 0.11556684044323993, 0.08138063026407973, 0.06861037541757209, 0.2603710287704878, 0.2603710287704878, 0.2603710287704878, 0.5000164141939333, 0.33153492298594517, 0.33153492298594517, 0.5205387642282198, 0.5200330693430856, 0.49201704033894683, 0.19726782109443697, 0.20799385949267682, 0.1705211891737197, 0.11428936233698986, 0.12807346274664277, 0.11520221666875495, 0.06663836621885191, 0.1739241661473128, 0.2238954753164717, 0.13520765634057708, 0.12650394483363647, 0.15456591124394492, 0.09318973872086389, 0.09288961073786593, 0.13582658563914146, 0.13582658563914146, 0.13582658563914146, 0.2716531712782829, 0.13582658563914146, 0.13582658563914146, 0.13582658563914146, 0.5278551446310571, 0.2580863897512923, 0.2580863897512923, 0.2580863897512923, 0.1655008972821566, 0.3310017945643132, 0.0827504486410783, 0.0827504486410783, 0.0827504486410783, 0.0827504486410783, 0.0827504486410783, 0.5199622411035469, 0.16113364622995635, 0.19174381438655305, 0.19948855572737872, 0.11146895572688378, 0.11770777514032668, 0.1336582543303605, 0.08479262444181758, 0.15783525635807852, 0.17506617954127487, 0.21624808594911413, 0.08649923437964566, 0.10803788835864109, 0.16197067792204564, 0.09459776827574794, 0.21126421690900213, 0.22174879343054069, 0.14966732984496303, 0.0984239620959433, 0.11768937145427041, 0.10183144946544333, 0.09921030533505869, 0.19848361025043804, 0.1722943909484486, 0.1574892241808825, 0.11100925839266698, 0.12203940255814452, 0.14746182039408473, 0.091190389731702, 0.34742548939102585, 0.17112036533471633, 0.24890234957776922, 0.1356996463563415, 0.12453095118298005, 0.12461072757707549, 0.13354568371576464, 0.061587376241678794, 0.2157229948192656, 0.17967106185151657, 0.1699100623133097, 0.11036306010535417, 0.12193891885418243, 0.1214484163648253, 0.0809819609928621, 0.1958354665431836, 0.1791348717307825, 0.16336727104197926, 0.1401357173643934, 0.12707379963402385, 0.11793045722276514, 0.07659881754738147, 0.17975513292957984, 0.18290621892515813, 0.1839088371964785, 0.14409056870689826, 0.12604343982313168, 0.10685046148642753, 0.07648545098358218, 0.4982182105600712, 0.14927272331920488, 0.3400100920048556, 0.10780807795275908, 0.09951514887946993, 0.06634343258631328, 0.18244443961236154, 0.06634343258631328, 0.2687654695231359, 0.1299265197228424, 0.16293036235340363, 0.1421811110793377, 0.10973429532861716, 0.11544382084698429, 0.07102092717968876, 0.2762678725989658, 0.2762678725989658, 0.214945860451093, 0.24260597532856865, 0.1614993804136481, 0.11260343540443311, 0.102431651223684, 0.09484742617663423, 0.07120248926524377, 0.16127309378851631, 0.16874672496408172, 0.25213671492302187, 0.09479711122690837, 0.13236194160935547, 0.10915435006417873, 0.08161991941735887, 0.20566340673633365, 0.20566340673633365, 0.20566340673633365, 0.20566340673633365, 0.20566340673633365, 0.5141061091124536, 0.2039434701401664, 0.16487441779822623, 0.2142009819519499, 0.12158168412202226, 0.1101174062147348, 0.11072078926248678, 0.07481949792124447, 0.21677186821868236, 0.2593932624708215, 0.11442622724380039, 0.10926822411774532, 0.10899675026900559, 0.12990023662196556, 0.06135308981518123, 0.24497342516212106, 0.24497342516212106, 0.24497342516212106, 0.5053128129095434, 0.34258206097610805, 0.34258206097610805, 0.34258206097610805, 0.2427247061539521, 0.16418616803998157, 0.16587880894761023, 0.10663637718060658, 0.16350911167693008, 0.09072555264889702, 0.06567446721599263, 0.18903293101843482, 0.21393154931549035, 0.22834653885589093, 0.12088934410017756, 0.09468027220854015, 0.09697356599905842, 0.056021891168374964, 0.16570402153481084, 0.2632271084190015, 0.17556590672534697, 0.12369969572326804, 0.11188978382842847, 0.09557506017988722, 0.06428488124201331, 0.173158374291233, 0.210763475778723, 0.13642781004763813, 0.18015467224239395, 0.11019169273078465, 0.12855697485258208, 0.06121760707265814, 0.10008236849315748, 0.4003294739726299, 0.10008236849315748, 0.10008236849315748, 0.10008236849315748, 0.10008236849315748, 0.10008236849315748, 0.5012156251479479, 0.20548726791904026, 0.17428070728268666, 0.15999973885588079, 0.13540473767638175, 0.06796683121646506, 0.14439645853770397, 0.11239651076652782, 0.18502267650367923, 0.21211735416454044, 0.15163076489105823, 0.12304463708372756, 0.12586182069372537, 0.10978730244844379, 0.09246990908110435, 0.206344090885164, 0.16999331839762216, 0.16037105509209637, 0.16179657558180388, 0.13934462786891041, 0.09016417097400085, 0.07163240460780304, 0.18314590817102314, 0.23668548690244565, 0.1666259820547357, 0.12179690982099202, 0.11173477300470784, 0.1139874902023834, 0.0660797044651498, 0.220054949390434, 0.110027474695217, 0.220054949390434, 0.110027474695217, 0.110027474695217, 0.110027474695217, 0.33008242408565097, 0.2731990239152088, 0.1465326640026352, 0.1411553185346486, 0.12263335081158361, 0.14040846499742823, 0.11053432350861372, 0.0654243698605038, 0.1768402009703228, 0.24005843706599375, 0.21972608545684552, 0.08568633892426752, 0.08150026653414877, 0.10277234867985426, 0.09346047336305949, 0.18339780595371877, 0.2477188033584557, 0.14367300179024697, 0.10258174244670486, 0.10160570303236895, 0.13771916136279785, 0.0832561620428537, 0.1373037482252191, 0.2768437138482431, 0.15385175696897516, 0.1305950960318045, 0.09794632202385337, 0.1283588786339996, 0.07468966108668271, 0.11839429984097506, 0.18604818546438937, 0.12620051741290747, 0.14961917012870474, 0.06635284936142558, 0.17694093163046823, 0.1756398953684795, 0.32851311615678713, 0.5297002329791005, 0.14895769845339532, 0.14895769845339532, 0.14895769845339532, 0.29791539690679064, 0.14895769845339532, 0.5048633866189083, 0.19028426324713957, 0.16769143429675873, 0.2218703542068953, 0.14257610502667517, 0.10177740420365736, 0.1094545790897091, 0.06646239972781935, 0.5906710133263322, 0.24580113689918195, 0.18893136756819986, 0.15826240781741455, 0.12254364521111201, 0.0940691024080122, 0.11207389688239563, 0.07831160239812594, 0.17167532901131818, 0.17167532901131818, 0.17167532901131818, 0.17167532901131818, 0.34335065802263637, 0.5269087412350026, 0.5019355419538475, 0.3274754024977664, 0.16381459508005716, 0.2040836695835127, 0.1348208614375692, 0.14931772825881318, 0.1473848126826473, 0.12274013908653252, 0.07763877564266229, 0.12671072577712966, 0.12671072577712966, 0.2534214515542593, 0.2534214515542593, 0.12671072577712966, 0.1951551027398538, 0.19437029669666403, 0.15434518849398624, 0.1072568259026006, 0.16036203482510772, 0.11588969237768797, 0.07298696201664773, 0.2449378037453392, 0.4898756074906784, 0.19644362007656935, 0.24701467528119742, 0.18191334506002832, 0.11068650674365074, 0.09188262142812706, 0.09929021261303034, 0.07293628243597063, 0.34424912190098833, 0.34424912190098833, 0.404735828401373, 0.28444935937676236, 0.1665570947675982, 0.13845486890146022, 0.12680272646915913, 0.09938592074609769, 0.10555470203378652, 0.07882331645380161, 0.2368561995915219, 0.1954751293661128, 0.15556103947365763, 0.11356872744285103, 0.12738279224483398, 0.09168627080962138, 0.07940031052113213, 0.15417518544020747, 0.19822523842312387, 0.15417518544020747, 0.11012513245729104, 0.22025026491458208, 0.08810010596583284, 0.08810010596583284, 0.5247386075092006, 0.18689546402188545, 0.23192550016909394, 0.148123985656055, 0.1301665182604038, 0.11057263896778677, 0.10685482597380302, 0.08545228090032904, 0.1823932494963951, 0.17247927457288442, 0.15671247108007227, 0.14990407866272157, 0.1301955742967064, 0.1344956116129279, 0.07381730726180234, 0.5205609166626762, 0.1692910664297258, 0.19852699803840884, 0.16501545587825833, 0.08585888215514421, 0.12572606162153016, 0.17934452907777096, 0.07638320471675683, 0.1893056748512151, 0.14643709944942382, 0.1967557691518113, 0.1279950627381119, 0.1317811762351362, 0.1122399452827527, 0.09550776627977434, 0.20937798560365578, 0.20937798560365578, 0.20937798560365578, 0.20937798560365578, 0.22489552897000337, 0.23526806909021317, 0.1755788154893695, 0.11956709884023659, 0.0991049060576409, 0.09146694469639549, 0.05412580026364022, 0.32893802607056405, 0.32893802607056405, 0.20961719924867644, 0.1838285093170393, 0.14873346606224622, 0.1343254371221794, 0.1345496865998458, 0.12316902560827551, 0.06570509695625804, 0.2455504398699845, 0.20229929317369574, 0.16144331115068386, 0.10161025517786267, 0.09783326473154139, 0.12648311909266133, 0.06476156789667946, 0.5239939769387462, 0.3337994145455972, 0.2042169598556844, 0.23637266900423137, 0.20238352029896897, 0.10464708854483275, 0.10831396765826354, 0.07940203618698226, 0.064452452109149, 0.23964788972897016, 0.1730956647747889, 0.15384855601554626, 0.15881003294015103, 0.12189835547520346, 0.0915734663411967, 0.061163034501593314, 0.5199893490892057, 0.5122130191795943, 0.17823776302914615, 0.19832929658488696, 0.13149013544895716, 0.1781382999917415, 0.11328839960390483, 0.11547658642680729, 0.08504089698098212, 0.20794061051333143, 0.21624561972999126, 0.16599505763425193, 0.14118515668321743, 0.11132917418282001, 0.09440377565266513, 0.06297089266809178, 0.5189021118795074, 0.17227997860279964, 0.20841675460241127, 0.18858354730960117, 0.13715167077061904, 0.12412562360796833, 0.11395690291970552, 0.05554978822265881, 0.16539560186372787, 0.19711530633074417, 0.15633282915886607, 0.13367589739671157, 0.16992698821615876, 0.12385789363311128, 0.05286617411169384, 0.1227342050621655, 0.3682026151864965, 0.1472810460745986, 0.0736405230372993, 0.0981873640497324, 0.0981873640497324, 0.0981873640497324, 0.19119034835052504, 0.18138571510178014, 0.14152214044569902, 0.12746023223368336, 0.14874660705003734, 0.11726857398827749, 0.09236996586975434, 0.24668336347344974, 0.17731175653653, 0.16721663463153047, 0.12191801069884033, 0.0988804248130722, 0.10418683504518733, 0.08386716659538061, 0.37258148253944817, 0.37258148253944817, 0.343866935872717, 0.14159226771229522, 0.18204720134437957, 0.10113733408021088, 0.0809098672641687, 0.10113733408021088, 0.060682400448126526, 0.4936789316430674, 0.6445901742428974, 0.516846789022991, 0.5149928740299221, 0.2572101891159475, 0.20176943212727586, 0.11450480754431946, 0.14196326120248834, 0.13877650902912375, 0.08416518068831412, 0.061595990638595034, 0.5338984005101393, 0.4930796186735169, 0.3447909388421687, 0.25827708528355786, 0.25827708528355786, 0.25827708528355786, 0.21724346649322027, 0.16424445655163755, 0.18208570742306143, 0.11559331446947746, 0.12406416047145602, 0.12204015301965583, 0.0746633859997403, 0.20589452371843978, 0.22505057501081946, 0.17709439143058614, 0.11790879847206127, 0.10767021933303074, 0.09340226388767206, 0.07299116095889507, 0.513132178092098, 0.37486349489558063, 0.5157784375657051, 0.5142146651507362, 0.19368868626194372, 0.0645628954206479, 0.19368868626194372, 0.1291257908412958, 0.0645628954206479, 0.35509592481356345, 0.48972437079052483, 0.22968523722522918, 0.16991059557030275, 0.12519728094653887, 0.12817816858812311, 0.10762573274351586, 0.14151371856363165, 0.0978986257025567, 0.2210405638442957, 0.2495662068374071, 0.14077073123577294, 0.10720334669039071, 0.08491354193298274, 0.11755218461347298, 0.0789430585158199, 0.5779730501278173, 0.16280906964028696, 0.1842747684772416, 0.2384343778504811, 0.13506878191253016, 0.11459380763728108, 0.11327284155500694, 0.05151767720869121, 0.4948751176591673, 0.24743755882958365, 0.3273291929800843, 0.5045257774881141, 0.196262000663296, 0.21522243385003775, 0.14581054092874823, 0.1356088659297403, 0.12366050215919011, 0.10520635557289541, 0.07822127976906805, 0.3455423740077301, 0.3455423740077301, 0.1823616930396903, 0.27282231170392846, 0.13223383428944369, 0.11206745433244791, 0.12416728230664537, 0.10803417834104875, 0.06827760071154282, 0.2485295535726293, 0.4970591071452586, 0.2485295535726293, 0.2409133221514837, 0.4818266443029674, 0.5005355235105372, 0.2739447359912732, 0.16689910386022946, 0.1561561730370423, 0.09438432080371598, 0.1254620849707932, 0.1116497453409811, 0.07174743085485727, 0.17685327389128844, 0.17685327389128844, 0.14026294136205636, 0.1179021825941923, 0.18905005140103248, 0.13009896010393632, 0.06911507255521618, 0.5582745156577104, 0.23723904778479946, 0.22769579195047146, 0.12236341656586686, 0.14184843781881343, 0.08605709601812679, 0.11000961945285767, 0.07479395671475508, 0.33067929350002306, 0.21725062289495803, 0.21218378023684095, 0.1316599576855343, 0.1246443293896799, 0.09564639910014837, 0.1491990284251703, 0.06945472012895859, 0.27514300967903166, 0.27514300967903166, 0.27514300967903166, 0.3656296600096922, 0.26024050575836544, 0.26024050575836544, 0.26024050575836544, 0.4922180960659, 0.2739192652574038, 0.2739192652574038, 0.08139883951500523, 0.2441965185450157, 0.32559535806002093, 0.10174854939375653, 0.12209825927250785, 0.08139883951500523, 0.04069941975750262, 0.1890370237510676, 0.2375834967766336, 0.13626112315130456, 0.14361664936729943, 0.12541172198271217, 0.09405879148703412, 0.07401498254844817, 0.2720516505336303, 0.2720516505336303, 0.2720516505336303, 0.16330365657254856, 0.2027473896911328, 0.2048928647143194, 0.12914109274180824, 0.10397302035442707, 0.12097178399967468, 0.07492658927128554, 0.20111853927850917, 0.20459154388143477, 0.16270500351887765, 0.09261345607801574, 0.12913262569059694, 0.13481572413174792, 0.07503794793593775, 0.5168688913336492, 0.15661472725335432, 0.2325695091401742, 0.16239535667128926, 0.12744271367912435, 0.17099908417705295, 0.09692636768211885, 0.05310113069963515, 0.33008836472190406, 0.3791440539759777, 0.1984311952593194, 0.20000882843717618, 0.159866828689487, 0.11446605168227524, 0.1526798331014728, 0.10815551897084812, 0.06661117862061959, 0.1791434522084437, 0.23108378646510563, 0.1668625488809466, 0.11830227976029299, 0.1010639475666503, 0.13587861846753652, 0.06760130272016743, 0.2921535877543289, 0.14488917766678103, 0.15914057219138242, 0.11935542914353682, 0.11519877240719474, 0.10391641840855197, 0.0653188915710898, 0.1861577244288285, 0.2045443885958136, 0.17122218492410088, 0.11539516832875972, 0.10315672624915766, 0.1356959016361565, 0.0838710296071307, 0.23996029528417706, 0.21532897839713427, 0.13942885712982142, 0.09997416854152662, 0.11502044808791023, 0.11724952653922632, 0.07300231928060194, 0.5156672543545155, 0.5514081557480043, 0.49919185712050773, 0.34773761544138, 0.2176863927794161, 0.4353727855588322, 0.08707455711176644, 0.08707455711176644, 0.08707455711176644, 0.04353727855588322, 0.04353727855588322, 0.18621726765161672, 0.20422300854413944, 0.17650364427538734, 0.08457959866619233, 0.13456922140727517, 0.1244607352921747, 0.08947589662819412, 0.32142491525822414, 0.32142491525822414, 0.14056764940396374, 0.42170294821189125, 0.14056764940396374, 0.14056764940396374, 0.5136047455019298, 0.13753094960020928, 0.3438273740005232, 0.13753094960020928, 0.10314821220015696, 0.1719136870002616, 0.06876547480010464, 0.03438273740005232, 0.48819533293741557, 0.2162970612128096, 0.25155233496006274, 0.15064018094258097, 0.10311836639215341, 0.10426559682698268, 0.10536870301431851, 0.06878970184226238, 0.3952490591570184, 0.1976245295785092, 0.1976245295785092, 0.1976245295785092, 0.5276806479926097, 0.49755404388164415, 0.2302537533661651, 0.2232716997523862, 0.17362724501323754, 0.10827316964308634, 0.09636260759605171, 0.0982107982585226, 0.06997455202632843, 0.4115142081316628, 0.1028785520329157, 0.05143927601645785, 0.1028785520329157, 0.15431782804937355, 0.1028785520329157, 0.1028785520329157, 0.52583803339419, 0.12799692399162027, 0.2189699443493008, 0.12535235944633888, 0.16396300180744747, 0.06981650399542924, 0.15232691780820926, 0.1417486596270836, 0.512164889303085, 0.5357226496233263, 0.2588956299534104, 0.2588956299534104, 0.2588956299534104, 0.4922188297394924, 0.5058304180027828, 0.20386905222311177, 0.18882628720470743, 0.17351961402808544, 0.1031880898630896, 0.12179361501743183, 0.1487122471556291, 0.06003910599450865, 0.12310544652139445, 0.12310544652139445, 0.36931633956418336, 0.12310544652139445, 0.12310544652139445, 0.12310544652139445, 0.24111246875382542, 0.15415056579742478, 0.15495763682254218, 0.11823590517970016, 0.15980006297324664, 0.10693691082805645, 0.06476744976567193, 0.5015079424170946, 0.49959506946957843, 0.500788818162696, 0.23447933485851868, 0.17764906336241368, 0.1515058935613577, 0.1419823102766873, 0.11727079025045108, 0.11920040516433854, 0.0579506930590074, 0.1935372484585545, 0.2003024655329326, 0.1699110288295726, 0.11755865670015452, 0.13395129807268602, 0.11126180080784875, 0.07348066545401424, 0.5157581589386945, 0.3634949704033578, 0.3634949704033578, 0.29845954620275006, 0.20118831758201572, 0.09304204476765893, 0.09666705949886642, 0.12566717734852634, 0.10270875071754557, 0.08156283145216854, 0.15202271085467647, 0.15202271085467647, 0.15202271085467647, 0.15202271085467647, 0.30404542170935295, 0.15202271085467647, 0.1362087342810478, 0.207956544931147, 0.1982406955722794, 0.12667972817908146, 0.13564820451034387, 0.10827566737430341, 0.08688211445910456, 0.4998824084818119, 0.26572337585157474, 0.15842691067535578, 0.14874311417930713, 0.11330041900376911, 0.1384782898934956, 0.11659290981242565, 0.058490130836133795, 0.2505921607506706, 0.2505921607506706, 0.2505921607506706, 0.1803906878725563, 0.21571418705543335, 0.16056135992216847, 0.13864473429279248, 0.13021526289687863, 0.11038593494649084, 0.06406398260894522, 0.5140575733397177, 0.5311828323428895, 0.32508266792737206, 0.32508266792737206, 0.19358989854994987, 0.1950036084435141, 0.16938011662266267, 0.12802910223590935, 0.14499362095867993, 0.09321649610689052, 0.07572183617403334, 0.16893199367726952, 0.16221390279366643, 0.209800379885855, 0.11882623250372976, 0.15297652782871216, 0.1324023744976777, 0.05472444865601689, 0.12832150930206884, 0.21065496324732688, 0.16763387920385872, 0.12016233819037661, 0.06749859737854488, 0.13351370910041846, 0.17282607900220834, 0.49224716042503824, 0.17891161022947852, 0.22913241310091106, 0.22856172215919024, 0.0857463139935539, 0.1091446426041077, 0.10885929713324728, 0.05977987614525637, 0.2700032973466993, 0.19892288384065535, 0.1332118540886651, 0.10623709284806208, 0.10265750367869296, 0.12745894292360757, 0.06149222823094808, 0.5171307981191451, 0.2012419651061471, 0.19918907417676351, 0.15616634569953852, 0.13006530388308984, 0.12751385372799878, 0.12329076381612394, 0.06252519230636923, 0.21301888217705234, 0.18390249161684524, 0.14353658652201268, 0.12059640002003132, 0.15201884079678374, 0.11109146260574884, 0.07581892059789465, 0.199560519476447, 0.2263888542140091, 0.15145453994702535, 0.11365698460247975, 0.1518510178002898, 0.09224718052619868, 0.06489020865095065, 0.25744616768862005, 0.18435180971506152, 0.15141465311173646, 0.13353644702224896, 0.1020432993723056, 0.1051376042724092, 0.06614936253110376, 0.2105558156170192, 0.2122188594903679, 0.17360731912653266, 0.0949381132916024, 0.12617441560841294, 0.10954397687492584, 0.07288470540589126, 0.15654009744522882, 0.24673836852933456, 0.18144204372977646, 0.13296878951176389, 0.10616593129709812, 0.09476045971638927, 0.08135903060905639, 0.1727471409167963, 0.257041090898668, 0.1538919152629566, 0.10259461017530438, 0.0962171073806233, 0.13420484141850628, 0.08318481906105761, 0.20967130914521837, 0.2581942213013438, 0.14485516423078615, 0.11482566589887029, 0.10438967192411538, 0.1001082384985749, 0.06799748780702132, 0.1748434030531359, 0.17871161993484241, 0.1516341017628966, 0.12378294021460948, 0.17871161993484241, 0.12378294021460948, 0.06885426049437653, 0.17682856302839767, 0.12493322387875923, 0.08457018231792933, 0.08649223191606409, 0.10186862870114215, 0.08457018231792933, 0.34020277886985206, 0.18084696547625123, 0.23196292351783923, 0.13070156360000984, 0.09996728503070058, 0.17502362848417158, 0.11258451518020648, 0.06890948773960914, 0.25892782643339346, 0.25892782643339346, 0.25892782643339346, 0.521308541251308, 0.13173783063633926, 0.13173783063633926, 0.13173783063633926, 0.13173783063633926, 0.2634756612726785, 0.13173783063633926, 0.13173783063633926, 0.1587724822119533, 0.2179230148007202, 0.17433841184057616, 0.18212137665488762, 0.09183898480887495, 0.11207469332608469, 0.062263718514491494, 0.18804985094050852, 0.18133378483549037, 0.12536656729367235, 0.19252722834385397, 0.1208891898903269, 0.1208891898903269, 0.07163803845352706, 0.22173670072238438, 0.1999571370405786, 0.1559831608449327, 0.10817183295296862, 0.11729850725772532, 0.13254420183498936, 0.0641978567573227, 0.18430177479706047, 0.16411106600165773, 0.20018349086173703, 0.14724443731281517, 0.09910683280670253, 0.12348342025481072, 0.08162463372775625, 0.2080604293915271, 0.24915982344220647, 0.1358213104006091, 0.09942859542321816, 0.12619783265254614, 0.08867047182713032, 0.09266274425536604, 0.15384868653089467, 0.23805520095880436, 0.178669607957879, 0.12451487029900409, 0.10882230427285283, 0.10841204110877044, 0.08769375132260997, 0.14622774601975774, 0.14622774601975774, 0.43868323805927323, 0.14622774601975774, 0.14622774601975774, 0.14622774601975774, 0.14622774601975774, 0.49760460932226275, 0.20487317832927304, 0.2016129431553508, 0.191962647040541, 0.11189127116901099, 0.10158892801941674, 0.1373211055256044, 0.05072925930622992, 0.32910075757945545, 0.32910075757945545, 0.5189698020834957, 0.49616788508278786, 0.4959963924165268, 0.276833554471935, 0.276833554471935, 0.276833554471935, 0.22848557534577926, 0.18232191262143052, 0.11577748390707676, 0.1098842503677982, 0.1307561191527431, 0.15150521223895305, 0.08127751256255018, 0.5217799425238797, 0.5023801320024278, 0.4973790923295666, 0.21894092752633204, 0.28964743437875445, 0.08159452182227593, 0.09287607950188322, 0.12658957163745382, 0.1456108026088847, 0.04473268800867539, 0.2034513191032358, 0.2155394208698374, 0.1834155283798528, 0.08195161906333849, 0.11236223728719058, 0.12901907043014554, 0.07424188486574218, 0.2214047970869213, 0.19074488193981073, 0.13771830738210314, 0.1585771021133341, 0.11811606655034394, 0.09926775805826778, 0.07438799084872724, 0.1656315846670213, 0.22056232980715393, 0.1971071814153995, 0.10771648665000541, 0.11918759302052546, 0.10347310990318702, 0.08631308086110823, 0.25817322437490675, 0.1360374297667778, 0.24506596836818073, 0.1199512519403413, 0.08877187022737179, 0.07824634646439482, 0.07367866634083878, 0.19252212767902752, 0.20182992495792235, 0.19304898412877627, 0.11942079527638652, 0.11612794246545674, 0.10598595580779303, 0.07108171601193741, 0.4920078985539123, 0.36446088011316874, 0.36446088011316874, 0.49701437149949457, 0.5211141852918831, 0.4932055182499452, 0.20566277925259732, 0.20566277925259732, 0.41132555850519464, 0.21469293676309184, 0.1756578573516206, 0.2352947842302572, 0.11602093047298397, 0.09672025231953431, 0.10669588372468806, 0.05486597272834569, 0.22050447149618946, 0.16709426498351673, 0.15226247942312904, 0.11668197257347557, 0.15762716781731181, 0.11636640266793541, 0.06942537921883604, 0.19706943497945073, 0.19706943497945073, 0.39413886995890146, 0.20099138468080555, 0.17828680233723307, 0.20831144128337808, 0.14056990052058807, 0.11004898655053982, 0.08994984808245927, 0.07183580970999161, 0.1748907613845676, 0.25090406249093355, 0.19133691096430905, 0.11217190871896825, 0.11108313923459512, 0.09609823291019655, 0.06349245203607501, 0.17496376560983803, 0.17496376560983803, 0.17496376560983803, 0.34992753121967607, 0.17496376560983803, 0.20162843930025523, 0.34564875308615184, 0.11521625102871728, 0.08641218827153796, 0.11521625102871728, 0.05760812551435864, 0.11521625102871728, 0.17059799449238489, 0.17059799449238489, 0.14933365523554373, 0.19355381528102025, 0.12082010941387032, 0.13012325783873835, 0.06500121886466223, 0.3314803465569925, 0.25021028209953117, 0.20026656773322946, 0.14364964258662022, 0.10431282114480735, 0.11667582216937711, 0.1159031346053415, 0.06905017049518224, 0.5156942261976889], \"Term\": [\"_______________________\", \"____________________________________________\", \"aaaarrrggghhh\", \"able\", \"able\", \"able\", \"able\", \"able\", \"able\", \"able\", \"actually\", \"actually\", \"actually\", \"actually\", \"actually\", \"actually\", \"actually\", \"aloofish\", \"already\", \"already\", \"already\", \"already\", \"already\", \"already\", \"already\", \"also\", \"also\", \"also\", \"also\", \"also\", \"also\", \"also\", \"always\", \"always\", \"always\", \"always\", \"always\", \"always\", \"always\", \"amongfirstslugs\", \"andor\", \"answer\", \"answer\", \"answer\", \"answer\", \"answer\", \"answer\", \"answer\", \"anythin\", \"anythin\", \"anythng\", \"ap\", \"ap\", \"ap\", \"ap\", \"ap\", \"ap\", \"ap\", \"apropriate\", \"asphyxiated\", \"astralis\", \"athena_\", \"athena_\", \"athena_\", \"avera\", \"avoidants\", \"awesome\", \"awesome\", \"awesome\", \"awesome\", \"awesome\", \"awesome\", \"awesome\", \"babyz\", \"babyz\", \"bad\", \"bad\", \"bad\", \"bad\", \"bad\", \"bad\", \"bad\", \"barbikyuchikin\", \"beautician\", \"believe\", \"believe\", \"believe\", \"believe\", \"believe\", \"believe\", \"believe\", \"benforado\", \"beuty\", \"blackchimchar\", \"bob_toeback\", \"bob_toeback\", \"bob_toeback\", \"bob_toeback\", \"bob_toeback\", \"bob_toeback\", \"bob_toeback\", \"boyfriend\", \"boyfriend\", \"boyfriend\", \"boyfriend\", \"boyfriend\", \"boyfriend\", \"boyfriend\", \"br\", \"br\", \"br\", \"br\", \"br\", \"br\", \"br\", \"brainstroming\", \"brill\", \"bulging\", \"bwh\", \"caesarian\", \"called\", \"called\", \"called\", \"called\", \"called\", \"called\", \"called\", \"carin\", \"cassy\", \"cassycook\", \"cause\", \"cause\", \"cause\", \"cause\", \"cause\", \"cause\", \"cause\", \"cdab\", \"cellspacing\", \"cellspacing\", \"chav\", \"chii\", \"chii\", \"chindraj\", \"chung\", \"chung\", \"chung\", \"chung\", \"chung\", \"chung\", \"chung\", \"coachinfj\", \"coarsely\", \"coefficient\", \"coefficient\", \"coefficient\", \"coefficient\", \"coefficient\", \"cognitive\", \"cognitive\", \"cognitive\", \"cognitive\", \"cognitive\", \"cognitive\", \"cognitive\", \"come\", \"come\", \"come\", \"come\", \"come\", \"come\", \"come\", \"comine\", \"completely\", \"completely\", \"completely\", \"completely\", \"completely\", \"completely\", \"completely\", \"completionist\", \"completionist\", \"composin\", \"confusing\", \"confusing\", \"confusing\", \"confusing\", \"confusing\", \"confusing\", \"confusing\", \"congroo\", \"consequentialism\", \"consequentialism\", \"consequentialism\", \"consequentialism\", \"consequentialism\", \"contending\", \"contending\", \"contending\", \"contending\", \"contending\", \"contending\", \"contending\", \"coolizmo\", \"coolizmo\", \"coolizmo\", \"coolizmo\", \"coolizmo\", \"coolizmo\", \"could\", \"could\", \"could\", \"could\", \"could\", \"could\", \"could\", \"coupy\", \"ctk\", \"darkwings\", \"darkwings\", \"darkwings\", \"davidh\", \"davidh\", \"davidh\", \"davidh\", \"davidh\", \"davidh\", \"davidh\", \"day\", \"day\", \"day\", \"day\", \"day\", \"day\", \"day\", \"dearlybeloved\", \"definitely\", \"definitely\", \"definitely\", \"definitely\", \"definitely\", \"definitely\", \"definitely\", \"disaffected\", \"disporting\", \"djl\", \"djl\", \"djl\", \"djl\", \"doha\", \"dont\", \"dont\", \"dont\", \"dont\", \"dont\", \"dont\", \"dont\", \"dov\", \"drano\", \"dreamingangel\", \"dreamingangel\", \"dreamingangel\", \"dreamingangel\", \"dreamingangel\", \"dreamingangel\", \"dreamingangel\", \"drugmoney\", \"due\", \"due\", \"due\", \"due\", \"due\", \"due\", \"due\", \"dumbos\", \"eilis\", \"either\", \"either\", \"either\", \"either\", \"either\", \"either\", \"either\", \"elaphant\", \"elsword\", \"elsword\", \"end\", \"end\", \"end\", \"end\", \"end\", \"end\", \"end\", \"enfp\", \"enfp\", \"enfp\", \"enfp\", \"enfp\", \"enfp\", \"enfp\", \"enfpoisonivy\", \"entp\", \"entp\", \"entp\", \"entp\", \"entp\", \"entp\", \"entp\", \"epigenetical\", \"epigenetical\", \"esfp\", \"esfp\", \"esfp\", \"esfp\", \"esfp\", \"esfp\", \"esfp\", \"even\", \"even\", \"even\", \"even\", \"even\", \"even\", \"even\", \"ever\", \"ever\", \"ever\", \"ever\", \"ever\", \"ever\", \"ever\", \"every\", \"every\", \"every\", \"every\", \"every\", \"every\", \"every\", \"evidentally\", \"experience\", \"experience\", \"experience\", \"experience\", \"experience\", \"experience\", \"experience\", \"exsist\", \"exsist\", \"exsist\", \"feel\", \"feel\", \"feel\", \"feel\", \"feel\", \"feel\", \"feel\", \"feeling\", \"feeling\", \"feeling\", \"feeling\", \"feeling\", \"feeling\", \"feeling\", \"feltbeats\", \"femboys\", \"fiatrix\", \"fiftyshoes\", \"fightstar\", \"fightstar\", \"find\", \"find\", \"find\", \"find\", \"find\", \"find\", \"find\", \"first\", \"first\", \"first\", \"first\", \"first\", \"first\", \"first\", \"fluidly\", \"fluidly\", \"fluidly\", \"fonda\", \"foto\", \"foto\", \"franc\", \"freeked\", \"friederich\", \"friend\", \"friend\", \"friend\", \"friend\", \"friend\", \"friend\", \"friend\", \"function\", \"function\", \"function\", \"function\", \"function\", \"function\", \"function\", \"fw\", \"fw\", \"fw\", \"fw\", \"fw\", \"fw\", \"fw\", \"gainesborough\", \"gamera\", \"gamera\", \"gamera\", \"garbanzo\", \"garbanzo\", \"garbanzo\", \"garbanzo\", \"garbanzo\", \"garbanzo\", \"garbanzo\", \"geocachers\", \"get\", \"get\", \"get\", \"get\", \"get\", \"get\", \"get\", \"girl\", \"girl\", \"girl\", \"girl\", \"girl\", \"girl\", \"girl\", \"give\", \"give\", \"give\", \"give\", \"give\", \"give\", \"give\", \"go\", \"go\", \"go\", \"go\", \"go\", \"go\", \"go\", \"gob\", \"going\", \"going\", \"going\", \"going\", \"going\", \"going\", \"going\", \"good\", \"good\", \"good\", \"good\", \"good\", \"good\", \"good\", \"got\", \"got\", \"got\", \"got\", \"got\", \"got\", \"got\", \"great\", \"great\", \"great\", \"great\", \"great\", \"great\", \"great\", \"grsh\", \"gt\", \"gt\", \"gt\", \"gt\", \"gt\", \"gt\", \"gt\", \"guess\", \"guess\", \"guess\", \"guess\", \"guess\", \"guess\", \"guess\", \"guppy\", \"guppy\", \"guy\", \"guy\", \"guy\", \"guy\", \"guy\", \"guy\", \"guy\", \"haha\", \"haha\", \"haha\", \"haha\", \"haha\", \"haha\", \"haha\", \"haku\", \"haku\", \"haku\", \"haku\", \"haku\", \"handier\", \"happy\", \"happy\", \"happy\", \"happy\", \"happy\", \"happy\", \"happy\", \"hard\", \"hard\", \"hard\", \"hard\", \"hard\", \"hard\", \"hard\", \"harlan\", \"harlan\", \"harlan\", \"hatable\", \"hinnt\", \"hinnt\", \"hinnt\", \"home\", \"home\", \"home\", \"home\", \"home\", \"home\", \"home\", \"hour\", \"hour\", \"hour\", \"hour\", \"hour\", \"hour\", \"hour\", \"idea\", \"idea\", \"idea\", \"idea\", \"idea\", \"idea\", \"idea\", \"ideal\", \"ideal\", \"ideal\", \"ideal\", \"ideal\", \"ideal\", \"ideal\", \"idealismics\", \"idealismics\", \"idealismics\", \"idealismics\", \"idealismics\", \"idealismics\", \"idealismics\", \"ilike\", \"im\", \"im\", \"im\", \"im\", \"im\", \"im\", \"im\", \"infj\", \"infj\", \"infj\", \"infj\", \"infj\", \"infj\", \"infj\", \"infjs\", \"infjs\", \"infjs\", \"infjs\", \"infjs\", \"infjs\", \"infjs\", \"infp\", \"infp\", \"infp\", \"infp\", \"infp\", \"infp\", \"infp\", \"inquirer\", \"inquirer\", \"inquirer\", \"inquirer\", \"inquirer\", \"inquirer\", \"inquirer\", \"interesting\", \"interesting\", \"interesting\", \"interesting\", \"interesting\", \"interesting\", \"interesting\", \"intj\", \"intj\", \"intj\", \"intj\", \"intj\", \"intj\", \"intj\", \"intp\", \"intp\", \"intp\", \"intp\", \"intp\", \"intp\", \"intp\", \"introvert\", \"introvert\", \"introvert\", \"introvert\", \"introvert\", \"introvert\", \"introvert\", \"iphone\", \"iphone\", \"iphone\", \"iphone\", \"iphone\", \"iphone\", \"iphone\", \"jordin\", \"katsa\", \"kerik\", \"kerik\", \"kerik\", \"kerik\", \"kerik\", \"killin\", \"kind\", \"kind\", \"kind\", \"kind\", \"kind\", \"kind\", \"kind\", \"kmb\", \"know\", \"know\", \"know\", \"know\", \"know\", \"know\", \"know\", \"lacy\", \"lacy\", \"lacy\", \"lacy\", \"lacy\", \"ladykaizoku\", \"lagsalot\", \"lanister\", \"last\", \"last\", \"last\", \"last\", \"last\", \"last\", \"last\", \"latoslapise\", \"latoslapise\", \"latoslapise\", \"latoslapise\", \"latoslapise\", \"laughing\", \"laughing\", \"laughing\", \"laughing\", \"laughing\", \"laughing\", \"laughing\", \"leeroy\", \"leeroy\", \"let\", \"let\", \"let\", \"let\", \"let\", \"let\", \"let\", \"lfabl\", \"lfabl\", \"lgls\", \"lie\", \"lie\", \"lie\", \"lie\", \"lie\", \"lie\", \"lie\", \"life\", \"life\", \"life\", \"life\", \"life\", \"life\", \"life\", \"lii\", \"lii\", \"lii\", \"lii\", \"lii\", \"lii\", \"lii\", \"liis\", \"like\", \"like\", \"like\", \"like\", \"like\", \"like\", \"like\", \"little\", \"little\", \"little\", \"little\", \"little\", \"little\", \"little\", \"lmmfao\", \"lol\", \"lol\", \"lol\", \"lol\", \"lol\", \"lol\", \"lol\", \"long\", \"long\", \"long\", \"long\", \"long\", \"long\", \"long\", \"longi\", \"longi\", \"longi\", \"longi\", \"look\", \"look\", \"look\", \"look\", \"look\", \"look\", \"look\", \"loststalker\", \"loststalker\", \"lot\", \"lot\", \"lot\", \"lot\", \"lot\", \"lot\", \"lot\", \"love\", \"love\", \"love\", \"love\", \"love\", \"love\", \"love\", \"lowen\", \"madara\", \"made\", \"made\", \"made\", \"made\", \"made\", \"made\", \"made\", \"make\", \"make\", \"make\", \"make\", \"make\", \"make\", \"make\", \"malouf\", \"manky\", \"many\", \"many\", \"many\", \"many\", \"many\", \"many\", \"many\", \"maybe\", \"maybe\", \"maybe\", \"maybe\", \"maybe\", \"maybe\", \"maybe\", \"meaaaaaaaaaaaaaaaannnnnnnn\", \"mean\", \"mean\", \"mean\", \"mean\", \"mean\", \"mean\", \"mean\", \"mental\", \"mental\", \"mental\", \"mental\", \"mental\", \"mental\", \"mental\", \"mew\", \"mew\", \"mew\", \"mew\", \"mew\", \"mew\", \"mew\", \"might\", \"might\", \"might\", \"might\", \"might\", \"might\", \"might\", \"mind\", \"mind\", \"mind\", \"mind\", \"mind\", \"mind\", \"mind\", \"misperception\", \"misperception\", \"moi\", \"moi\", \"moi\", \"moi\", \"moi\", \"moi\", \"moi\", \"moooly\", \"morethanyouknow\", \"morroco\", \"moustachioed\", \"much\", \"much\", \"much\", \"much\", \"much\", \"much\", \"much\", \"muertos\", \"mybrotherinlaw\", \"nadesico\", \"narwhale\", \"narwhale\", \"narwhale\", \"need\", \"need\", \"need\", \"need\", \"need\", \"need\", \"need\", \"never\", \"never\", \"never\", \"never\", \"never\", \"never\", \"never\", \"newclassic\", \"ninjaing\", \"nostalgie\", \"nubile\", \"nucky\", \"nucky\", \"nucky\", \"nucky\", \"nucky\", \"nucky\", \"nyappy\", \"often\", \"often\", \"often\", \"often\", \"often\", \"often\", \"often\", \"oh\", \"oh\", \"oh\", \"oh\", \"oh\", \"oh\", \"oh\", \"ohp\", \"ok\", \"ok\", \"ok\", \"ok\", \"ok\", \"ok\", \"ok\", \"oldhams\", \"oldhams\", \"omedetou\", \"omnidexterity\", \"one\", \"one\", \"one\", \"one\", \"one\", \"one\", \"one\", \"ood\", \"ood\", \"opinion\", \"opinion\", \"opinion\", \"opinion\", \"opinion\", \"opinion\", \"opinion\", \"orgonite\", \"orgonite\", \"orgonite\", \"otou\", \"otou\", \"overwieght\", \"parent\", \"parent\", \"parent\", \"parent\", \"parent\", \"parent\", \"parent\", \"passive\", \"passive\", \"passive\", \"passive\", \"passive\", \"passive\", \"passive\", \"pensioner\", \"people\", \"people\", \"people\", \"people\", \"people\", \"people\", \"people\", \"permafred\", \"person\", \"person\", \"person\", \"person\", \"person\", \"person\", \"person\", \"personology\", \"personology\", \"personology\", \"pertained\", \"pizzazz\", \"pizzazz\", \"pizzazz\", \"polylife\", \"poopy\", \"poopy\", \"posh\", \"posh\", \"posh\", \"posh\", \"posh\", \"posh\", \"posh\", \"post\", \"post\", \"post\", \"post\", \"post\", \"post\", \"post\", \"pref\", \"pref\", \"pref\", \"pretty\", \"pretty\", \"pretty\", \"pretty\", \"pretty\", \"pretty\", \"pretty\", \"probably\", \"probably\", \"probably\", \"probably\", \"probably\", \"probably\", \"probably\", \"probity\", \"problem\", \"problem\", \"problem\", \"problem\", \"problem\", \"problem\", \"problem\", \"profiel\", \"pulpy\", \"put\", \"put\", \"put\", \"put\", \"put\", \"put\", \"put\", \"question\", \"question\", \"question\", \"question\", \"question\", \"question\", \"question\", \"reality\", \"reality\", \"reality\", \"reality\", \"reality\", \"reality\", \"reality\", \"really\", \"really\", \"really\", \"really\", \"really\", \"really\", \"really\", \"relationship\", \"relationship\", \"relationship\", \"relationship\", \"relationship\", \"relationship\", \"relationship\", \"reppears\", \"retypes\", \"rgsh\", \"rhibecka\", \"rhubarb\", \"rhubarb\", \"rhubarb\", \"rhubarb\", \"rhubarb\", \"rhubarb\", \"rhubarb\", \"right\", \"right\", \"right\", \"right\", \"right\", \"right\", \"right\", \"robort\", \"robort\", \"robothood\", \"robothood\", \"robothood\", \"robothood\", \"rokubou\", \"salutation\", \"salutation\", \"salutation\", \"salutation\", \"salutation\", \"salutation\", \"salutation\", \"samexd\", \"say\", \"say\", \"say\", \"say\", \"say\", \"say\", \"say\", \"schiele\", \"schiele\", \"schiele\", \"schiele\", \"schuester\", \"scruffster\", \"see\", \"see\", \"see\", \"see\", \"see\", \"see\", \"see\", \"selfkill\", \"selfkill\", \"selfkill\", \"selfkill\", \"selfkill\", \"selfkill\", \"selfkill\", \"sematary\", \"sent\", \"sent\", \"sent\", \"sent\", \"sent\", \"sent\", \"sent\", \"sexay\", \"sfie\", \"sidonia\", \"sidonia\", \"sidonia\", \"silico\", \"silverapples\", \"since\", \"since\", \"since\", \"since\", \"since\", \"since\", \"since\", \"sinsandsecrets\", \"sinsandsecrets\", \"sinsandsecrets\", \"sinsandsecrets\", \"sinsandsecrets\", \"sinsandsecrets\", \"situation\", \"situation\", \"situation\", \"situation\", \"situation\", \"situation\", \"situation\", \"skele\", \"sls\", \"socializiing\", \"someone\", \"someone\", \"someone\", \"someone\", \"someone\", \"someone\", \"someone\", \"something\", \"something\", \"something\", \"something\", \"something\", \"something\", \"something\", \"sorryy\", \"sosa\", \"sosa\", \"sp\", \"sp\", \"sp\", \"sp\", \"sp\", \"sp\", \"sp\", \"ss\", \"ss\", \"ss\", \"ss\", \"ss\", \"ss\", \"still\", \"still\", \"still\", \"still\", \"still\", \"still\", \"still\", \"stish\", \"stuff\", \"stuff\", \"stuff\", \"stuff\", \"stuff\", \"stuff\", \"stuff\", \"sunyard\", \"sunyard\", \"sunyard\", \"sure\", \"sure\", \"sure\", \"sure\", \"sure\", \"sure\", \"sure\", \"suscribe\", \"symphonyinblue\", \"syntactical\", \"syntactical\", \"take\", \"take\", \"take\", \"take\", \"take\", \"take\", \"take\", \"talk\", \"talk\", \"talk\", \"talk\", \"talk\", \"talk\", \"talk\", \"tapatalk\", \"tapatalk\", \"tapatalk\", \"tapatalk\", \"tapatalk\", \"tapatalk\", \"tapatalk\", \"tarry\", \"thank\", \"thank\", \"thank\", \"thank\", \"thank\", \"thank\", \"thank\", \"thanks\", \"thanks\", \"thanks\", \"thanks\", \"thanks\", \"thanks\", \"thanks\", \"thattttttt\", \"thing\", \"thing\", \"thing\", \"thing\", \"thing\", \"thing\", \"thing\", \"think\", \"think\", \"think\", \"think\", \"think\", \"think\", \"think\", \"thinking\", \"thinking\", \"thinking\", \"thinking\", \"thinking\", \"thinking\", \"thinking\", \"though\", \"though\", \"though\", \"though\", \"though\", \"though\", \"though\", \"thought\", \"thought\", \"thought\", \"thought\", \"thought\", \"thought\", \"thought\", \"thread\", \"thread\", \"thread\", \"thread\", \"thread\", \"thread\", \"thread\", \"ti\", \"ti\", \"ti\", \"ti\", \"ti\", \"ti\", \"ti\", \"time\", \"time\", \"time\", \"time\", \"time\", \"time\", \"time\", \"tired\", \"tired\", \"tired\", \"tired\", \"tired\", \"tired\", \"tired\", \"tmlt\", \"tmlt\", \"tmlt\", \"tmlt\", \"tmlt\", \"tmlt\", \"tmlt\", \"totally\", \"totally\", \"totally\", \"totally\", \"totally\", \"totally\", \"totally\", \"tou\", \"tou\", \"tou\", \"transferal\", \"trayvon\", \"trayvon\", \"trayvon\", \"trayvon\", \"trayvon\", \"trayvon\", \"trayvon\", \"tree\", \"tree\", \"tree\", \"tree\", \"tree\", \"tree\", \"tree\", \"troll\", \"troll\", \"troll\", \"troll\", \"troll\", \"troll\", \"troll\", \"try\", \"try\", \"try\", \"try\", \"try\", \"try\", \"try\", \"two\", \"two\", \"two\", \"two\", \"two\", \"two\", \"two\", \"type\", \"type\", \"type\", \"type\", \"type\", \"type\", \"type\", \"u\", \"u\", \"u\", \"u\", \"u\", \"u\", \"u\", \"uae\", \"uae\", \"uae\", \"uae\", \"uae\", \"uae\", \"uae\", \"underbutt\", \"understand\", \"understand\", \"understand\", \"understand\", \"understand\", \"understand\", \"understand\", \"unfettered\", \"unfettered\", \"uniballer\", \"universe_inside_my_head\", \"unshackled\", \"urinate\", \"urinate\", \"urinate\", \"usually\", \"usually\", \"usually\", \"usually\", \"usually\", \"usually\", \"usually\", \"uuuummmm\", \"vanilla_dream\", \"vantablack\", \"w\", \"w\", \"w\", \"w\", \"w\", \"w\", \"w\", \"want\", \"want\", \"want\", \"want\", \"want\", \"want\", \"want\", \"wanted\", \"wanted\", \"wanted\", \"wanted\", \"wanted\", \"wanted\", \"wanted\", \"way\", \"way\", \"way\", \"way\", \"way\", \"way\", \"way\", \"welcome\", \"welcome\", \"welcome\", \"welcome\", \"welcome\", \"welcome\", \"welcome\", \"well\", \"well\", \"well\", \"well\", \"well\", \"well\", \"well\", \"wembley\", \"wesboro\", \"wesboro\", \"whaaaaale\", \"whap\", \"wincest\", \"windsor\", \"windsor\", \"windsor\", \"woman\", \"woman\", \"woman\", \"woman\", \"woman\", \"woman\", \"woman\", \"work\", \"work\", \"work\", \"work\", \"work\", \"work\", \"work\", \"workentp\", \"workentp\", \"workentp\", \"world\", \"world\", \"world\", \"world\", \"world\", \"world\", \"world\", \"would\", \"would\", \"would\", \"would\", \"would\", \"would\", \"would\", \"wwf\", \"wwf\", \"wwf\", \"wwf\", \"wwf\", \"xoxo\", \"xoxo\", \"xoxo\", \"xoxo\", \"xoxo\", \"xoxo\", \"xoxo\", \"yeah\", \"yeah\", \"yeah\", \"yeah\", \"yeah\", \"yeah\", \"yeah\", \"yeahp\", \"year\", \"year\", \"year\", \"year\", \"year\", \"year\", \"year\", \"zenith\"]}, \"R\": 30, \"lambda.step\": 0.01, \"plot.opts\": {\"xlab\": \"PC1\", \"ylab\": \"PC2\"}, \"topic.order\": [5, 2, 6, 7, 1, 4, 3]};\n",
       "\n",
       "function LDAvis_load_lib(url, callback){\n",
       "  var s = document.createElement('script');\n",
       "  s.src = url;\n",
       "  s.async = true;\n",
       "  s.onreadystatechange = s.onload = callback;\n",
       "  s.onerror = function(){console.warn(\"failed to load library \" + url);};\n",
       "  document.getElementsByTagName(\"head\")[0].appendChild(s);\n",
       "}\n",
       "\n",
       "if(typeof(LDAvis) !== \"undefined\"){\n",
       "   // already loaded: just create the visualization\n",
       "   !function(LDAvis){\n",
       "       new LDAvis(\"#\" + \"ldavis_el1410424729349291047947719013\", ldavis_el1410424729349291047947719013_data);\n",
       "   }(LDAvis);\n",
       "}else if(typeof define === \"function\" && define.amd){\n",
       "   // require.js is available: use it to load d3/LDAvis\n",
       "   require.config({paths: {d3: \"https://d3js.org/d3.v5\"}});\n",
       "   require([\"d3\"], function(d3){\n",
       "      window.d3 = d3;\n",
       "      LDAvis_load_lib(\"https://cdn.jsdelivr.net/gh/bmabey/pyLDAvis@3.4.0/pyLDAvis/js/ldavis.v3.0.0.js\", function(){\n",
       "        new LDAvis(\"#\" + \"ldavis_el1410424729349291047947719013\", ldavis_el1410424729349291047947719013_data);\n",
       "      });\n",
       "    });\n",
       "}else{\n",
       "    // require.js not available: dynamically load d3 & LDAvis\n",
       "    LDAvis_load_lib(\"https://d3js.org/d3.v5.js\", function(){\n",
       "         LDAvis_load_lib(\"https://cdn.jsdelivr.net/gh/bmabey/pyLDAvis@3.4.0/pyLDAvis/js/ldavis.v3.0.0.js\", function(){\n",
       "                 new LDAvis(\"#\" + \"ldavis_el1410424729349291047947719013\", ldavis_el1410424729349291047947719013_data);\n",
       "            })\n",
       "         });\n",
       "}\n",
       "</script>"
      ],
      "text/plain": [
       "PreparedData(topic_coordinates=              x         y  topics  cluster       Freq\n",
       "topic                                                \n",
       "4     -0.002841  0.000321       1        1  20.387810\n",
       "1     -0.000687 -0.002086       2        1  20.271492\n",
       "5      0.003002 -0.002514       3        1  16.436982\n",
       "6     -0.001871 -0.000718       4        1  12.047569\n",
       "0     -0.000015  0.000311       5        1  11.954485\n",
       "3      0.001073  0.002220       6        1  11.328727\n",
       "2      0.001339  0.002467       7        1   7.572935, topic_info=       Term          Freq         Total Category  logprob  loglift\n",
       "118    like  69664.000000  69664.000000  Default  30.0000  30.0000\n",
       "213   think  49868.000000  49868.000000  Default  29.0000  29.0000\n",
       "81      get  32538.000000  32538.000000  Default  28.0000  28.0000\n",
       "153  people  47677.000000  47677.000000  Default  27.0000  27.0000\n",
       "170  really  34481.000000  34481.000000  Default  26.0000  26.0000\n",
       "..      ...           ...           ...      ...      ...      ...\n",
       "78   friend   1460.036608  21909.300645   Topic7  -5.6065  -0.1279\n",
       "430    love   1405.731296  21710.407046   Topic7  -5.6444  -0.1566\n",
       "433    make   1430.081830  23380.134940   Topic7  -5.6273  -0.2136\n",
       "137    much   1411.458052  22907.335126   Topic7  -5.6404  -0.2062\n",
       "934     lot   1172.045705  17837.276776   Topic7  -5.8263  -0.1420\n",
       "\n",
       "[609 rows x 6 columns], token_table=       Topic      Freq                                          Term\n",
       "term                                                                \n",
       "61477      6  0.516094                       _______________________\n",
       "61479      6  0.513529  ____________________________________________\n",
       "52095      1  0.497614                                 aaaarrrggghhh\n",
       "253        1  0.218424                                          able\n",
       "253        2  0.174945                                          able\n",
       "...      ...       ...                                           ...\n",
       "249        4  0.104313                                          year\n",
       "249        5  0.116676                                          year\n",
       "249        6  0.115903                                          year\n",
       "249        7  0.069050                                          year\n",
       "37128      4  0.515694                                        zenith\n",
       "\n",
       "[1536 rows x 3 columns], R=30, lambda_step=0.01, plot_opts={'xlab': 'PC1', 'ylab': 'PC2'}, topic_order=[5, 2, 6, 7, 1, 4, 3])"
      ]
     },
     "execution_count": 137,
     "metadata": {},
     "output_type": "execute_result"
    }
   ],
   "source": [
    "\n",
    "# Visualize the topics\n",
    "pyLDAvis.enable_notebook()\n",
    "LDAvis_data_filepath = os.path.join('./results/ldavis_prepared_'+str(7))\n",
    "LDAvis_prepared = pyLDAvis.gensim.prepare(lda_model, corpus, id2word)\n",
    "LDAvis_prepared"
   ]
  },
  {
   "cell_type": "code",
   "execution_count": null,
   "metadata": {},
   "outputs": [],
   "source": [
    "# Doing Agglomerative Clustering \n",
    "\n",
    "\n",
    "pca = PCA(n_components=2)  # Reduce to 2 dimensions\n",
    "svd = TruncatedSVD(n_components=2)  # Reduce to 2 dimensions\n",
    "X_reduced_pca = pca.fit_transform(X)\n",
    "X_reduced_svd = svd.fit_transform(X)\n",
    "clustering = AgglomerativeClustering(n_clusters=3) "
   ]
  },
  {
   "cell_type": "code",
   "execution_count": null,
   "metadata": {},
   "outputs": [
    {
     "ename": "NameError",
     "evalue": "name 'plt' is not defined",
     "output_type": "error",
     "traceback": [
      "\u001b[1;31m---------------------------------------------------------------------------\u001b[0m",
      "\u001b[1;31mNameError\u001b[0m                                 Traceback (most recent call last)",
      "Cell \u001b[1;32mIn[141], line 14\u001b[0m\n\u001b[0;32m     12\u001b[0m linkage_matrix \u001b[38;5;241m=\u001b[39m np\u001b[38;5;241m.\u001b[39mcolumn_stack([children, distance, no_of_observations])\u001b[38;5;241m.\u001b[39mastype(\u001b[38;5;28mfloat\u001b[39m)\n\u001b[0;32m     13\u001b[0m dendrogram(linkage_matrix, labels\u001b[38;5;241m=\u001b[39mclustering\u001b[38;5;241m.\u001b[39mlabels_)\n\u001b[1;32m---> 14\u001b[0m \u001b[43mplt\u001b[49m\u001b[38;5;241m.\u001b[39mshow()\n",
      "\u001b[1;31mNameError\u001b[0m: name 'plt' is not defined"
     ]
    },
    {
     "name": "stdout",
     "output_type": "stream",
     "text": [
      "Error in callback <function _draw_all_if_interactive at 0x0000023FC64B6020> (for post_execute), with arguments args (),kwargs {}:\n"
     ]
    },
    {
     "ename": "KeyboardInterrupt",
     "evalue": "",
     "output_type": "error",
     "traceback": [
      "\u001b[1;31m---------------------------------------------------------------------------\u001b[0m",
      "\u001b[1;31mKeyboardInterrupt\u001b[0m                         Traceback (most recent call last)",
      "File \u001b[1;32mc:\\Users\\iWOW\\Desktop\\MBTI_NLP\\.venv\\Lib\\site-packages\\matplotlib\\pyplot.py:268\u001b[0m, in \u001b[0;36m_draw_all_if_interactive\u001b[1;34m()\u001b[0m\n\u001b[0;32m    266\u001b[0m \u001b[38;5;28;01mdef\u001b[39;00m \u001b[38;5;21m_draw_all_if_interactive\u001b[39m() \u001b[38;5;241m-\u001b[39m\u001b[38;5;241m>\u001b[39m \u001b[38;5;28;01mNone\u001b[39;00m:\n\u001b[0;32m    267\u001b[0m     \u001b[38;5;28;01mif\u001b[39;00m matplotlib\u001b[38;5;241m.\u001b[39mis_interactive():\n\u001b[1;32m--> 268\u001b[0m         \u001b[43mdraw_all\u001b[49m\u001b[43m(\u001b[49m\u001b[43m)\u001b[49m\n",
      "File \u001b[1;32mc:\\Users\\iWOW\\Desktop\\MBTI_NLP\\.venv\\Lib\\site-packages\\matplotlib\\_pylab_helpers.py:131\u001b[0m, in \u001b[0;36mGcf.draw_all\u001b[1;34m(cls, force)\u001b[0m\n\u001b[0;32m    129\u001b[0m \u001b[38;5;28;01mfor\u001b[39;00m manager \u001b[38;5;129;01min\u001b[39;00m \u001b[38;5;28mcls\u001b[39m\u001b[38;5;241m.\u001b[39mget_all_fig_managers():\n\u001b[0;32m    130\u001b[0m     \u001b[38;5;28;01mif\u001b[39;00m force \u001b[38;5;129;01mor\u001b[39;00m manager\u001b[38;5;241m.\u001b[39mcanvas\u001b[38;5;241m.\u001b[39mfigure\u001b[38;5;241m.\u001b[39mstale:\n\u001b[1;32m--> 131\u001b[0m         \u001b[43mmanager\u001b[49m\u001b[38;5;241;43m.\u001b[39;49m\u001b[43mcanvas\u001b[49m\u001b[38;5;241;43m.\u001b[39;49m\u001b[43mdraw_idle\u001b[49m\u001b[43m(\u001b[49m\u001b[43m)\u001b[49m\n",
      "File \u001b[1;32mc:\\Users\\iWOW\\Desktop\\MBTI_NLP\\.venv\\Lib\\site-packages\\matplotlib\\backend_bases.py:1905\u001b[0m, in \u001b[0;36mFigureCanvasBase.draw_idle\u001b[1;34m(self, *args, **kwargs)\u001b[0m\n\u001b[0;32m   1903\u001b[0m \u001b[38;5;28;01mif\u001b[39;00m \u001b[38;5;129;01mnot\u001b[39;00m \u001b[38;5;28mself\u001b[39m\u001b[38;5;241m.\u001b[39m_is_idle_drawing:\n\u001b[0;32m   1904\u001b[0m     \u001b[38;5;28;01mwith\u001b[39;00m \u001b[38;5;28mself\u001b[39m\u001b[38;5;241m.\u001b[39m_idle_draw_cntx():\n\u001b[1;32m-> 1905\u001b[0m         \u001b[38;5;28;43mself\u001b[39;49m\u001b[38;5;241;43m.\u001b[39;49m\u001b[43mdraw\u001b[49m\u001b[43m(\u001b[49m\u001b[38;5;241;43m*\u001b[39;49m\u001b[43margs\u001b[49m\u001b[43m,\u001b[49m\u001b[43m \u001b[49m\u001b[38;5;241;43m*\u001b[39;49m\u001b[38;5;241;43m*\u001b[39;49m\u001b[43mkwargs\u001b[49m\u001b[43m)\u001b[49m\n",
      "File \u001b[1;32mc:\\Users\\iWOW\\Desktop\\MBTI_NLP\\.venv\\Lib\\site-packages\\matplotlib\\backends\\backend_agg.py:387\u001b[0m, in \u001b[0;36mFigureCanvasAgg.draw\u001b[1;34m(self)\u001b[0m\n\u001b[0;32m    384\u001b[0m \u001b[38;5;66;03m# Acquire a lock on the shared font cache.\u001b[39;00m\n\u001b[0;32m    385\u001b[0m \u001b[38;5;28;01mwith\u001b[39;00m (\u001b[38;5;28mself\u001b[39m\u001b[38;5;241m.\u001b[39mtoolbar\u001b[38;5;241m.\u001b[39m_wait_cursor_for_draw_cm() \u001b[38;5;28;01mif\u001b[39;00m \u001b[38;5;28mself\u001b[39m\u001b[38;5;241m.\u001b[39mtoolbar\n\u001b[0;32m    386\u001b[0m       \u001b[38;5;28;01melse\u001b[39;00m nullcontext()):\n\u001b[1;32m--> 387\u001b[0m     \u001b[38;5;28;43mself\u001b[39;49m\u001b[38;5;241;43m.\u001b[39;49m\u001b[43mfigure\u001b[49m\u001b[38;5;241;43m.\u001b[39;49m\u001b[43mdraw\u001b[49m\u001b[43m(\u001b[49m\u001b[38;5;28;43mself\u001b[39;49m\u001b[38;5;241;43m.\u001b[39;49m\u001b[43mrenderer\u001b[49m\u001b[43m)\u001b[49m\n\u001b[0;32m    388\u001b[0m     \u001b[38;5;66;03m# A GUI class may be need to update a window using this draw, so\u001b[39;00m\n\u001b[0;32m    389\u001b[0m     \u001b[38;5;66;03m# don't forget to call the superclass.\u001b[39;00m\n\u001b[0;32m    390\u001b[0m     \u001b[38;5;28msuper\u001b[39m()\u001b[38;5;241m.\u001b[39mdraw()\n",
      "File \u001b[1;32mc:\\Users\\iWOW\\Desktop\\MBTI_NLP\\.venv\\Lib\\site-packages\\matplotlib\\artist.py:95\u001b[0m, in \u001b[0;36m_finalize_rasterization.<locals>.draw_wrapper\u001b[1;34m(artist, renderer, *args, **kwargs)\u001b[0m\n\u001b[0;32m     93\u001b[0m \u001b[38;5;129m@wraps\u001b[39m(draw)\n\u001b[0;32m     94\u001b[0m \u001b[38;5;28;01mdef\u001b[39;00m \u001b[38;5;21mdraw_wrapper\u001b[39m(artist, renderer, \u001b[38;5;241m*\u001b[39margs, \u001b[38;5;241m*\u001b[39m\u001b[38;5;241m*\u001b[39mkwargs):\n\u001b[1;32m---> 95\u001b[0m     result \u001b[38;5;241m=\u001b[39m \u001b[43mdraw\u001b[49m\u001b[43m(\u001b[49m\u001b[43martist\u001b[49m\u001b[43m,\u001b[49m\u001b[43m \u001b[49m\u001b[43mrenderer\u001b[49m\u001b[43m,\u001b[49m\u001b[43m \u001b[49m\u001b[38;5;241;43m*\u001b[39;49m\u001b[43margs\u001b[49m\u001b[43m,\u001b[49m\u001b[43m \u001b[49m\u001b[38;5;241;43m*\u001b[39;49m\u001b[38;5;241;43m*\u001b[39;49m\u001b[43mkwargs\u001b[49m\u001b[43m)\u001b[49m\n\u001b[0;32m     96\u001b[0m     \u001b[38;5;28;01mif\u001b[39;00m renderer\u001b[38;5;241m.\u001b[39m_rasterizing:\n\u001b[0;32m     97\u001b[0m         renderer\u001b[38;5;241m.\u001b[39mstop_rasterizing()\n",
      "File \u001b[1;32mc:\\Users\\iWOW\\Desktop\\MBTI_NLP\\.venv\\Lib\\site-packages\\matplotlib\\artist.py:72\u001b[0m, in \u001b[0;36mallow_rasterization.<locals>.draw_wrapper\u001b[1;34m(artist, renderer)\u001b[0m\n\u001b[0;32m     69\u001b[0m     \u001b[38;5;28;01mif\u001b[39;00m artist\u001b[38;5;241m.\u001b[39mget_agg_filter() \u001b[38;5;129;01mis\u001b[39;00m \u001b[38;5;129;01mnot\u001b[39;00m \u001b[38;5;28;01mNone\u001b[39;00m:\n\u001b[0;32m     70\u001b[0m         renderer\u001b[38;5;241m.\u001b[39mstart_filter()\n\u001b[1;32m---> 72\u001b[0m     \u001b[38;5;28;01mreturn\u001b[39;00m \u001b[43mdraw\u001b[49m\u001b[43m(\u001b[49m\u001b[43martist\u001b[49m\u001b[43m,\u001b[49m\u001b[43m \u001b[49m\u001b[43mrenderer\u001b[49m\u001b[43m)\u001b[49m\n\u001b[0;32m     73\u001b[0m \u001b[38;5;28;01mfinally\u001b[39;00m:\n\u001b[0;32m     74\u001b[0m     \u001b[38;5;28;01mif\u001b[39;00m artist\u001b[38;5;241m.\u001b[39mget_agg_filter() \u001b[38;5;129;01mis\u001b[39;00m \u001b[38;5;129;01mnot\u001b[39;00m \u001b[38;5;28;01mNone\u001b[39;00m:\n",
      "File \u001b[1;32mc:\\Users\\iWOW\\Desktop\\MBTI_NLP\\.venv\\Lib\\site-packages\\matplotlib\\figure.py:3162\u001b[0m, in \u001b[0;36mFigure.draw\u001b[1;34m(self, renderer)\u001b[0m\n\u001b[0;32m   3159\u001b[0m             \u001b[38;5;66;03m# ValueError can occur when resizing a window.\u001b[39;00m\n\u001b[0;32m   3161\u001b[0m     \u001b[38;5;28mself\u001b[39m\u001b[38;5;241m.\u001b[39mpatch\u001b[38;5;241m.\u001b[39mdraw(renderer)\n\u001b[1;32m-> 3162\u001b[0m     \u001b[43mmimage\u001b[49m\u001b[38;5;241;43m.\u001b[39;49m\u001b[43m_draw_list_compositing_images\u001b[49m\u001b[43m(\u001b[49m\n\u001b[0;32m   3163\u001b[0m \u001b[43m        \u001b[49m\u001b[43mrenderer\u001b[49m\u001b[43m,\u001b[49m\u001b[43m \u001b[49m\u001b[38;5;28;43mself\u001b[39;49m\u001b[43m,\u001b[49m\u001b[43m \u001b[49m\u001b[43martists\u001b[49m\u001b[43m,\u001b[49m\u001b[43m \u001b[49m\u001b[38;5;28;43mself\u001b[39;49m\u001b[38;5;241;43m.\u001b[39;49m\u001b[43msuppressComposite\u001b[49m\u001b[43m)\u001b[49m\n\u001b[0;32m   3165\u001b[0m     renderer\u001b[38;5;241m.\u001b[39mclose_group(\u001b[38;5;124m'\u001b[39m\u001b[38;5;124mfigure\u001b[39m\u001b[38;5;124m'\u001b[39m)\n\u001b[0;32m   3166\u001b[0m \u001b[38;5;28;01mfinally\u001b[39;00m:\n",
      "File \u001b[1;32mc:\\Users\\iWOW\\Desktop\\MBTI_NLP\\.venv\\Lib\\site-packages\\matplotlib\\image.py:132\u001b[0m, in \u001b[0;36m_draw_list_compositing_images\u001b[1;34m(renderer, parent, artists, suppress_composite)\u001b[0m\n\u001b[0;32m    130\u001b[0m \u001b[38;5;28;01mif\u001b[39;00m not_composite \u001b[38;5;129;01mor\u001b[39;00m \u001b[38;5;129;01mnot\u001b[39;00m has_images:\n\u001b[0;32m    131\u001b[0m     \u001b[38;5;28;01mfor\u001b[39;00m a \u001b[38;5;129;01min\u001b[39;00m artists:\n\u001b[1;32m--> 132\u001b[0m         \u001b[43ma\u001b[49m\u001b[38;5;241;43m.\u001b[39;49m\u001b[43mdraw\u001b[49m\u001b[43m(\u001b[49m\u001b[43mrenderer\u001b[49m\u001b[43m)\u001b[49m\n\u001b[0;32m    133\u001b[0m \u001b[38;5;28;01melse\u001b[39;00m:\n\u001b[0;32m    134\u001b[0m     \u001b[38;5;66;03m# Composite any adjacent images together\u001b[39;00m\n\u001b[0;32m    135\u001b[0m     image_group \u001b[38;5;241m=\u001b[39m []\n",
      "File \u001b[1;32mc:\\Users\\iWOW\\Desktop\\MBTI_NLP\\.venv\\Lib\\site-packages\\matplotlib\\artist.py:72\u001b[0m, in \u001b[0;36mallow_rasterization.<locals>.draw_wrapper\u001b[1;34m(artist, renderer)\u001b[0m\n\u001b[0;32m     69\u001b[0m     \u001b[38;5;28;01mif\u001b[39;00m artist\u001b[38;5;241m.\u001b[39mget_agg_filter() \u001b[38;5;129;01mis\u001b[39;00m \u001b[38;5;129;01mnot\u001b[39;00m \u001b[38;5;28;01mNone\u001b[39;00m:\n\u001b[0;32m     70\u001b[0m         renderer\u001b[38;5;241m.\u001b[39mstart_filter()\n\u001b[1;32m---> 72\u001b[0m     \u001b[38;5;28;01mreturn\u001b[39;00m \u001b[43mdraw\u001b[49m\u001b[43m(\u001b[49m\u001b[43martist\u001b[49m\u001b[43m,\u001b[49m\u001b[43m \u001b[49m\u001b[43mrenderer\u001b[49m\u001b[43m)\u001b[49m\n\u001b[0;32m     73\u001b[0m \u001b[38;5;28;01mfinally\u001b[39;00m:\n\u001b[0;32m     74\u001b[0m     \u001b[38;5;28;01mif\u001b[39;00m artist\u001b[38;5;241m.\u001b[39mget_agg_filter() \u001b[38;5;129;01mis\u001b[39;00m \u001b[38;5;129;01mnot\u001b[39;00m \u001b[38;5;28;01mNone\u001b[39;00m:\n",
      "File \u001b[1;32mc:\\Users\\iWOW\\Desktop\\MBTI_NLP\\.venv\\Lib\\site-packages\\matplotlib\\axes\\_base.py:3137\u001b[0m, in \u001b[0;36m_AxesBase.draw\u001b[1;34m(self, renderer)\u001b[0m\n\u001b[0;32m   3134\u001b[0m \u001b[38;5;28;01mif\u001b[39;00m artists_rasterized:\n\u001b[0;32m   3135\u001b[0m     _draw_rasterized(\u001b[38;5;28mself\u001b[39m\u001b[38;5;241m.\u001b[39mfigure, artists_rasterized, renderer)\n\u001b[1;32m-> 3137\u001b[0m \u001b[43mmimage\u001b[49m\u001b[38;5;241;43m.\u001b[39;49m\u001b[43m_draw_list_compositing_images\u001b[49m\u001b[43m(\u001b[49m\n\u001b[0;32m   3138\u001b[0m \u001b[43m    \u001b[49m\u001b[43mrenderer\u001b[49m\u001b[43m,\u001b[49m\u001b[43m \u001b[49m\u001b[38;5;28;43mself\u001b[39;49m\u001b[43m,\u001b[49m\u001b[43m \u001b[49m\u001b[43martists\u001b[49m\u001b[43m,\u001b[49m\u001b[43m \u001b[49m\u001b[38;5;28;43mself\u001b[39;49m\u001b[38;5;241;43m.\u001b[39;49m\u001b[43mfigure\u001b[49m\u001b[38;5;241;43m.\u001b[39;49m\u001b[43msuppressComposite\u001b[49m\u001b[43m)\u001b[49m\n\u001b[0;32m   3140\u001b[0m renderer\u001b[38;5;241m.\u001b[39mclose_group(\u001b[38;5;124m'\u001b[39m\u001b[38;5;124maxes\u001b[39m\u001b[38;5;124m'\u001b[39m)\n\u001b[0;32m   3141\u001b[0m \u001b[38;5;28mself\u001b[39m\u001b[38;5;241m.\u001b[39mstale \u001b[38;5;241m=\u001b[39m \u001b[38;5;28;01mFalse\u001b[39;00m\n",
      "File \u001b[1;32mc:\\Users\\iWOW\\Desktop\\MBTI_NLP\\.venv\\Lib\\site-packages\\matplotlib\\image.py:132\u001b[0m, in \u001b[0;36m_draw_list_compositing_images\u001b[1;34m(renderer, parent, artists, suppress_composite)\u001b[0m\n\u001b[0;32m    130\u001b[0m \u001b[38;5;28;01mif\u001b[39;00m not_composite \u001b[38;5;129;01mor\u001b[39;00m \u001b[38;5;129;01mnot\u001b[39;00m has_images:\n\u001b[0;32m    131\u001b[0m     \u001b[38;5;28;01mfor\u001b[39;00m a \u001b[38;5;129;01min\u001b[39;00m artists:\n\u001b[1;32m--> 132\u001b[0m         \u001b[43ma\u001b[49m\u001b[38;5;241;43m.\u001b[39;49m\u001b[43mdraw\u001b[49m\u001b[43m(\u001b[49m\u001b[43mrenderer\u001b[49m\u001b[43m)\u001b[49m\n\u001b[0;32m    133\u001b[0m \u001b[38;5;28;01melse\u001b[39;00m:\n\u001b[0;32m    134\u001b[0m     \u001b[38;5;66;03m# Composite any adjacent images together\u001b[39;00m\n\u001b[0;32m    135\u001b[0m     image_group \u001b[38;5;241m=\u001b[39m []\n",
      "File \u001b[1;32mc:\\Users\\iWOW\\Desktop\\MBTI_NLP\\.venv\\Lib\\site-packages\\matplotlib\\artist.py:72\u001b[0m, in \u001b[0;36mallow_rasterization.<locals>.draw_wrapper\u001b[1;34m(artist, renderer)\u001b[0m\n\u001b[0;32m     69\u001b[0m     \u001b[38;5;28;01mif\u001b[39;00m artist\u001b[38;5;241m.\u001b[39mget_agg_filter() \u001b[38;5;129;01mis\u001b[39;00m \u001b[38;5;129;01mnot\u001b[39;00m \u001b[38;5;28;01mNone\u001b[39;00m:\n\u001b[0;32m     70\u001b[0m         renderer\u001b[38;5;241m.\u001b[39mstart_filter()\n\u001b[1;32m---> 72\u001b[0m     \u001b[38;5;28;01mreturn\u001b[39;00m \u001b[43mdraw\u001b[49m\u001b[43m(\u001b[49m\u001b[43martist\u001b[49m\u001b[43m,\u001b[49m\u001b[43m \u001b[49m\u001b[43mrenderer\u001b[49m\u001b[43m)\u001b[49m\n\u001b[0;32m     73\u001b[0m \u001b[38;5;28;01mfinally\u001b[39;00m:\n\u001b[0;32m     74\u001b[0m     \u001b[38;5;28;01mif\u001b[39;00m artist\u001b[38;5;241m.\u001b[39mget_agg_filter() \u001b[38;5;129;01mis\u001b[39;00m \u001b[38;5;129;01mnot\u001b[39;00m \u001b[38;5;28;01mNone\u001b[39;00m:\n",
      "File \u001b[1;32mc:\\Users\\iWOW\\Desktop\\MBTI_NLP\\.venv\\Lib\\site-packages\\matplotlib\\axis.py:1427\u001b[0m, in \u001b[0;36mAxis.draw\u001b[1;34m(self, renderer)\u001b[0m\n\u001b[0;32m   1424\u001b[0m tlb1, tlb2 \u001b[38;5;241m=\u001b[39m \u001b[38;5;28mself\u001b[39m\u001b[38;5;241m.\u001b[39m_get_ticklabel_bboxes(ticks_to_draw, renderer)\n\u001b[0;32m   1426\u001b[0m \u001b[38;5;28;01mfor\u001b[39;00m tick \u001b[38;5;129;01min\u001b[39;00m ticks_to_draw:\n\u001b[1;32m-> 1427\u001b[0m     \u001b[43mtick\u001b[49m\u001b[38;5;241;43m.\u001b[39;49m\u001b[43mdraw\u001b[49m\u001b[43m(\u001b[49m\u001b[43mrenderer\u001b[49m\u001b[43m)\u001b[49m\n\u001b[0;32m   1429\u001b[0m \u001b[38;5;66;03m# Shift label away from axes to avoid overlapping ticklabels.\u001b[39;00m\n\u001b[0;32m   1430\u001b[0m \u001b[38;5;28mself\u001b[39m\u001b[38;5;241m.\u001b[39m_update_label_position(renderer)\n",
      "File \u001b[1;32mc:\\Users\\iWOW\\Desktop\\MBTI_NLP\\.venv\\Lib\\site-packages\\matplotlib\\artist.py:72\u001b[0m, in \u001b[0;36mallow_rasterization.<locals>.draw_wrapper\u001b[1;34m(artist, renderer)\u001b[0m\n\u001b[0;32m     69\u001b[0m     \u001b[38;5;28;01mif\u001b[39;00m artist\u001b[38;5;241m.\u001b[39mget_agg_filter() \u001b[38;5;129;01mis\u001b[39;00m \u001b[38;5;129;01mnot\u001b[39;00m \u001b[38;5;28;01mNone\u001b[39;00m:\n\u001b[0;32m     70\u001b[0m         renderer\u001b[38;5;241m.\u001b[39mstart_filter()\n\u001b[1;32m---> 72\u001b[0m     \u001b[38;5;28;01mreturn\u001b[39;00m \u001b[43mdraw\u001b[49m\u001b[43m(\u001b[49m\u001b[43martist\u001b[49m\u001b[43m,\u001b[49m\u001b[43m \u001b[49m\u001b[43mrenderer\u001b[49m\u001b[43m)\u001b[49m\n\u001b[0;32m     73\u001b[0m \u001b[38;5;28;01mfinally\u001b[39;00m:\n\u001b[0;32m     74\u001b[0m     \u001b[38;5;28;01mif\u001b[39;00m artist\u001b[38;5;241m.\u001b[39mget_agg_filter() \u001b[38;5;129;01mis\u001b[39;00m \u001b[38;5;129;01mnot\u001b[39;00m \u001b[38;5;28;01mNone\u001b[39;00m:\n",
      "File \u001b[1;32mc:\\Users\\iWOW\\Desktop\\MBTI_NLP\\.venv\\Lib\\site-packages\\matplotlib\\axis.py:277\u001b[0m, in \u001b[0;36mTick.draw\u001b[1;34m(self, renderer)\u001b[0m\n\u001b[0;32m    274\u001b[0m renderer\u001b[38;5;241m.\u001b[39mopen_group(\u001b[38;5;28mself\u001b[39m\u001b[38;5;241m.\u001b[39m\u001b[38;5;18m__name__\u001b[39m, gid\u001b[38;5;241m=\u001b[39m\u001b[38;5;28mself\u001b[39m\u001b[38;5;241m.\u001b[39mget_gid())\n\u001b[0;32m    275\u001b[0m \u001b[38;5;28;01mfor\u001b[39;00m artist \u001b[38;5;129;01min\u001b[39;00m [\u001b[38;5;28mself\u001b[39m\u001b[38;5;241m.\u001b[39mgridline, \u001b[38;5;28mself\u001b[39m\u001b[38;5;241m.\u001b[39mtick1line, \u001b[38;5;28mself\u001b[39m\u001b[38;5;241m.\u001b[39mtick2line,\n\u001b[0;32m    276\u001b[0m                \u001b[38;5;28mself\u001b[39m\u001b[38;5;241m.\u001b[39mlabel1, \u001b[38;5;28mself\u001b[39m\u001b[38;5;241m.\u001b[39mlabel2]:\n\u001b[1;32m--> 277\u001b[0m     \u001b[43martist\u001b[49m\u001b[38;5;241;43m.\u001b[39;49m\u001b[43mdraw\u001b[49m\u001b[43m(\u001b[49m\u001b[43mrenderer\u001b[49m\u001b[43m)\u001b[49m\n\u001b[0;32m    278\u001b[0m renderer\u001b[38;5;241m.\u001b[39mclose_group(\u001b[38;5;28mself\u001b[39m\u001b[38;5;241m.\u001b[39m\u001b[38;5;18m__name__\u001b[39m)\n\u001b[0;32m    279\u001b[0m \u001b[38;5;28mself\u001b[39m\u001b[38;5;241m.\u001b[39mstale \u001b[38;5;241m=\u001b[39m \u001b[38;5;28;01mFalse\u001b[39;00m\n",
      "File \u001b[1;32mc:\\Users\\iWOW\\Desktop\\MBTI_NLP\\.venv\\Lib\\site-packages\\matplotlib\\artist.py:72\u001b[0m, in \u001b[0;36mallow_rasterization.<locals>.draw_wrapper\u001b[1;34m(artist, renderer)\u001b[0m\n\u001b[0;32m     69\u001b[0m     \u001b[38;5;28;01mif\u001b[39;00m artist\u001b[38;5;241m.\u001b[39mget_agg_filter() \u001b[38;5;129;01mis\u001b[39;00m \u001b[38;5;129;01mnot\u001b[39;00m \u001b[38;5;28;01mNone\u001b[39;00m:\n\u001b[0;32m     70\u001b[0m         renderer\u001b[38;5;241m.\u001b[39mstart_filter()\n\u001b[1;32m---> 72\u001b[0m     \u001b[38;5;28;01mreturn\u001b[39;00m \u001b[43mdraw\u001b[49m\u001b[43m(\u001b[49m\u001b[43martist\u001b[49m\u001b[43m,\u001b[49m\u001b[43m \u001b[49m\u001b[43mrenderer\u001b[49m\u001b[43m)\u001b[49m\n\u001b[0;32m     73\u001b[0m \u001b[38;5;28;01mfinally\u001b[39;00m:\n\u001b[0;32m     74\u001b[0m     \u001b[38;5;28;01mif\u001b[39;00m artist\u001b[38;5;241m.\u001b[39mget_agg_filter() \u001b[38;5;129;01mis\u001b[39;00m \u001b[38;5;129;01mnot\u001b[39;00m \u001b[38;5;28;01mNone\u001b[39;00m:\n",
      "File \u001b[1;32mc:\\Users\\iWOW\\Desktop\\MBTI_NLP\\.venv\\Lib\\site-packages\\matplotlib\\text.py:758\u001b[0m, in \u001b[0;36mText.draw\u001b[1;34m(self, renderer)\u001b[0m\n\u001b[0;32m    756\u001b[0m posx \u001b[38;5;241m=\u001b[39m \u001b[38;5;28mfloat\u001b[39m(\u001b[38;5;28mself\u001b[39m\u001b[38;5;241m.\u001b[39mconvert_xunits(\u001b[38;5;28mself\u001b[39m\u001b[38;5;241m.\u001b[39m_x))\n\u001b[0;32m    757\u001b[0m posy \u001b[38;5;241m=\u001b[39m \u001b[38;5;28mfloat\u001b[39m(\u001b[38;5;28mself\u001b[39m\u001b[38;5;241m.\u001b[39mconvert_yunits(\u001b[38;5;28mself\u001b[39m\u001b[38;5;241m.\u001b[39m_y))\n\u001b[1;32m--> 758\u001b[0m posx, posy \u001b[38;5;241m=\u001b[39m \u001b[43mtrans\u001b[49m\u001b[38;5;241;43m.\u001b[39;49m\u001b[43mtransform\u001b[49m\u001b[43m(\u001b[49m\u001b[43m(\u001b[49m\u001b[43mposx\u001b[49m\u001b[43m,\u001b[49m\u001b[43m \u001b[49m\u001b[43mposy\u001b[49m\u001b[43m)\u001b[49m\u001b[43m)\u001b[49m\n\u001b[0;32m    759\u001b[0m \u001b[38;5;28;01mif\u001b[39;00m \u001b[38;5;129;01mnot\u001b[39;00m np\u001b[38;5;241m.\u001b[39misfinite(posx) \u001b[38;5;129;01mor\u001b[39;00m \u001b[38;5;129;01mnot\u001b[39;00m np\u001b[38;5;241m.\u001b[39misfinite(posy):\n\u001b[0;32m    760\u001b[0m     _log\u001b[38;5;241m.\u001b[39mwarning(\u001b[38;5;124m\"\u001b[39m\u001b[38;5;124mposx and posy should be finite values\u001b[39m\u001b[38;5;124m\"\u001b[39m)\n",
      "File \u001b[1;32mc:\\Users\\iWOW\\Desktop\\MBTI_NLP\\.venv\\Lib\\site-packages\\matplotlib\\transforms.py:1505\u001b[0m, in \u001b[0;36mTransform.transform\u001b[1;34m(self, values)\u001b[0m\n\u001b[0;32m   1502\u001b[0m values \u001b[38;5;241m=\u001b[39m values\u001b[38;5;241m.\u001b[39mreshape((\u001b[38;5;241m-\u001b[39m\u001b[38;5;241m1\u001b[39m, \u001b[38;5;28mself\u001b[39m\u001b[38;5;241m.\u001b[39minput_dims))\n\u001b[0;32m   1504\u001b[0m \u001b[38;5;66;03m# Transform the values\u001b[39;00m\n\u001b[1;32m-> 1505\u001b[0m res \u001b[38;5;241m=\u001b[39m \u001b[38;5;28;43mself\u001b[39;49m\u001b[38;5;241;43m.\u001b[39;49m\u001b[43mtransform_affine\u001b[49m\u001b[43m(\u001b[49m\u001b[38;5;28;43mself\u001b[39;49m\u001b[38;5;241;43m.\u001b[39;49m\u001b[43mtransform_non_affine\u001b[49m\u001b[43m(\u001b[49m\u001b[43mvalues\u001b[49m\u001b[43m)\u001b[49m\u001b[43m)\u001b[49m\n\u001b[0;32m   1507\u001b[0m \u001b[38;5;66;03m# Convert the result back to the shape of the input values.\u001b[39;00m\n\u001b[0;32m   1508\u001b[0m \u001b[38;5;28;01mif\u001b[39;00m ndim \u001b[38;5;241m==\u001b[39m \u001b[38;5;241m0\u001b[39m:\n",
      "File \u001b[1;32mc:\\Users\\iWOW\\Desktop\\MBTI_NLP\\.venv\\Lib\\site-packages\\matplotlib\\_api\\deprecation.py:300\u001b[0m, in \u001b[0;36mrename_parameter.<locals>.wrapper\u001b[1;34m(*args, **kwargs)\u001b[0m\n\u001b[0;32m    295\u001b[0m     warn_deprecated(\n\u001b[0;32m    296\u001b[0m         since, message\u001b[38;5;241m=\u001b[39m\u001b[38;5;124mf\u001b[39m\u001b[38;5;124m\"\u001b[39m\u001b[38;5;124mThe \u001b[39m\u001b[38;5;132;01m{\u001b[39;00mold\u001b[38;5;132;01m!r}\u001b[39;00m\u001b[38;5;124m parameter of \u001b[39m\u001b[38;5;132;01m{\u001b[39;00mfunc\u001b[38;5;241m.\u001b[39m\u001b[38;5;18m__name__\u001b[39m\u001b[38;5;132;01m}\u001b[39;00m\u001b[38;5;124m() \u001b[39m\u001b[38;5;124m\"\u001b[39m\n\u001b[0;32m    297\u001b[0m         \u001b[38;5;124mf\u001b[39m\u001b[38;5;124m\"\u001b[39m\u001b[38;5;124mhas been renamed \u001b[39m\u001b[38;5;132;01m{\u001b[39;00mnew\u001b[38;5;132;01m!r}\u001b[39;00m\u001b[38;5;124m since Matplotlib \u001b[39m\u001b[38;5;132;01m{\u001b[39;00msince\u001b[38;5;132;01m}\u001b[39;00m\u001b[38;5;124m; support \u001b[39m\u001b[38;5;124m\"\u001b[39m\n\u001b[0;32m    298\u001b[0m         \u001b[38;5;124mf\u001b[39m\u001b[38;5;124m\"\u001b[39m\u001b[38;5;124mfor the old name will be dropped %(removal)s.\u001b[39m\u001b[38;5;124m\"\u001b[39m)\n\u001b[0;32m    299\u001b[0m     kwargs[new] \u001b[38;5;241m=\u001b[39m kwargs\u001b[38;5;241m.\u001b[39mpop(old)\n\u001b[1;32m--> 300\u001b[0m \u001b[38;5;28;01mreturn\u001b[39;00m \u001b[43mfunc\u001b[49m\u001b[43m(\u001b[49m\u001b[38;5;241;43m*\u001b[39;49m\u001b[43margs\u001b[49m\u001b[43m,\u001b[49m\u001b[43m \u001b[49m\u001b[38;5;241;43m*\u001b[39;49m\u001b[38;5;241;43m*\u001b[39;49m\u001b[43mkwargs\u001b[49m\u001b[43m)\u001b[49m\n",
      "File \u001b[1;32mc:\\Users\\iWOW\\Desktop\\MBTI_NLP\\.venv\\Lib\\site-packages\\matplotlib\\transforms.py:2428\u001b[0m, in \u001b[0;36mCompositeGenericTransform.transform_affine\u001b[1;34m(self, values)\u001b[0m\n\u001b[0;32m   2425\u001b[0m \u001b[38;5;129m@_api\u001b[39m\u001b[38;5;241m.\u001b[39mrename_parameter(\u001b[38;5;124m\"\u001b[39m\u001b[38;5;124m3.8\u001b[39m\u001b[38;5;124m\"\u001b[39m, \u001b[38;5;124m\"\u001b[39m\u001b[38;5;124mpoints\u001b[39m\u001b[38;5;124m\"\u001b[39m, \u001b[38;5;124m\"\u001b[39m\u001b[38;5;124mvalues\u001b[39m\u001b[38;5;124m\"\u001b[39m)\n\u001b[0;32m   2426\u001b[0m \u001b[38;5;28;01mdef\u001b[39;00m \u001b[38;5;21mtransform_affine\u001b[39m(\u001b[38;5;28mself\u001b[39m, values):\n\u001b[0;32m   2427\u001b[0m     \u001b[38;5;66;03m# docstring inherited\u001b[39;00m\n\u001b[1;32m-> 2428\u001b[0m     \u001b[38;5;28;01mreturn\u001b[39;00m \u001b[38;5;28;43mself\u001b[39;49m\u001b[38;5;241;43m.\u001b[39;49m\u001b[43mget_affine\u001b[49m\u001b[43m(\u001b[49m\u001b[43m)\u001b[49m\u001b[38;5;241m.\u001b[39mtransform(values)\n",
      "File \u001b[1;32mc:\\Users\\iWOW\\Desktop\\MBTI_NLP\\.venv\\Lib\\site-packages\\matplotlib\\transforms.py:2455\u001b[0m, in \u001b[0;36mCompositeGenericTransform.get_affine\u001b[1;34m(self)\u001b[0m\n\u001b[0;32m   2453\u001b[0m     \u001b[38;5;28;01mreturn\u001b[39;00m \u001b[38;5;28mself\u001b[39m\u001b[38;5;241m.\u001b[39m_b\u001b[38;5;241m.\u001b[39mget_affine()\n\u001b[0;32m   2454\u001b[0m \u001b[38;5;28;01melse\u001b[39;00m:\n\u001b[1;32m-> 2455\u001b[0m     \u001b[38;5;28;01mreturn\u001b[39;00m \u001b[43mAffine2D\u001b[49m\u001b[43m(\u001b[49m\u001b[43mnp\u001b[49m\u001b[38;5;241;43m.\u001b[39;49m\u001b[43mdot\u001b[49m\u001b[43m(\u001b[49m\u001b[38;5;28;43mself\u001b[39;49m\u001b[38;5;241;43m.\u001b[39;49m\u001b[43m_b\u001b[49m\u001b[38;5;241;43m.\u001b[39;49m\u001b[43mget_affine\u001b[49m\u001b[43m(\u001b[49m\u001b[43m)\u001b[49m\u001b[38;5;241;43m.\u001b[39;49m\u001b[43mget_matrix\u001b[49m\u001b[43m(\u001b[49m\u001b[43m)\u001b[49m\u001b[43m,\u001b[49m\n\u001b[0;32m   2456\u001b[0m \u001b[43m                           \u001b[49m\u001b[38;5;28;43mself\u001b[39;49m\u001b[38;5;241;43m.\u001b[39;49m\u001b[43m_a\u001b[49m\u001b[38;5;241;43m.\u001b[39;49m\u001b[43mget_affine\u001b[49m\u001b[43m(\u001b[49m\u001b[43m)\u001b[49m\u001b[38;5;241;43m.\u001b[39;49m\u001b[43mget_matrix\u001b[49m\u001b[43m(\u001b[49m\u001b[43m)\u001b[49m\u001b[43m)\u001b[49m\u001b[43m)\u001b[49m\n",
      "File \u001b[1;32mc:\\Users\\iWOW\\Desktop\\MBTI_NLP\\.venv\\Lib\\site-packages\\matplotlib\\transforms.py:1913\u001b[0m, in \u001b[0;36mAffine2D.__init__\u001b[1;34m(self, matrix, **kwargs)\u001b[0m\n\u001b[0;32m   1910\u001b[0m \u001b[38;5;28;01mif\u001b[39;00m matrix \u001b[38;5;129;01mis\u001b[39;00m \u001b[38;5;28;01mNone\u001b[39;00m:\n\u001b[0;32m   1911\u001b[0m     \u001b[38;5;66;03m# A bit faster than np.identity(3).\u001b[39;00m\n\u001b[0;32m   1912\u001b[0m     matrix \u001b[38;5;241m=\u001b[39m IdentityTransform\u001b[38;5;241m.\u001b[39m_mtx\n\u001b[1;32m-> 1913\u001b[0m \u001b[38;5;28mself\u001b[39m\u001b[38;5;241m.\u001b[39m_mtx \u001b[38;5;241m=\u001b[39m \u001b[43mmatrix\u001b[49m\u001b[38;5;241;43m.\u001b[39;49m\u001b[43mcopy\u001b[49m\u001b[43m(\u001b[49m\u001b[43m)\u001b[49m\n\u001b[0;32m   1914\u001b[0m \u001b[38;5;28mself\u001b[39m\u001b[38;5;241m.\u001b[39m_invalid \u001b[38;5;241m=\u001b[39m \u001b[38;5;241m0\u001b[39m\n",
      "\u001b[1;31mKeyboardInterrupt\u001b[0m: "
     ]
    }
   ],
   "source": [
    "# Step 4: Perform agglomerative clustering\n",
    "clustering = AgglomerativeClustering().fit(X_reduced_pca)\n",
    "\n",
    "# Step 5: Visualize the clusters\n",
    "# This step is optional and can be complex with large datasets or high number of clusters\n",
    "# Here's a simple example with a dendrogram\n",
    "children = clustering.children_\n",
    "distance = np.arange(children.shape[0])\n",
    "no_of_observations = np.arange(2, children.shape[0]+2)\n",
    "linkage_matrix = np.column_stack([children, distance, no_of_observations]).astype(float)\n",
    "dendrogram(linkage_matrix, labels=clustering.labels_)\n",
    "mplt.show()"
   ]
  }
 ],
 "metadata": {
  "kernelspec": {
   "display_name": ".venv",
   "language": "python",
   "name": "python3"
  },
  "language_info": {
   "codemirror_mode": {
    "name": "ipython",
    "version": 3
   },
   "file_extension": ".py",
   "mimetype": "text/x-python",
   "name": "python",
   "nbconvert_exporter": "python",
   "pygments_lexer": "ipython3",
   "version": "3.12.4"
  }
 },
 "nbformat": 4,
 "nbformat_minor": 2
}
